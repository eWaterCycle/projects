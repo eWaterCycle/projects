{
 "cells": [
  {
   "cell_type": "markdown",
   "id": "fe4432d3-b93e-4212-b894-b504c1221bfa",
   "metadata": {},
   "source": [
    "# Calibrate the HBV model with your region!\n",
    "\n",
    "\n",
    "After that you can manually calibrate the the model to fit your region and maybe even calibrate it for the research you want to do already!\n",
    "\n"
   ]
  },
  {
   "cell_type": "markdown",
   "id": "118d451f-7c86-49a8-ba74-31bd77f6beaa",
   "metadata": {},
   "source": [
    "## Importing modules\n",
    "\n",
    "Starting with all the libraries and utility functions. We have some general Python packages that we use.\n",
    "And then the eWaterCycle packages, this is where we import our 'interface', models & our way of loading generalised forcings for all supported models.\n",
    "Also I import some utility functions just for this notebook that I made to make it easier.\n"
   ]
  },
  {
   "cell_type": "code",
   "execution_count": 1,
   "id": "9f4dd2f8-6ec2-4425-82a2-4fc3054511a1",
   "metadata": {},
   "outputs": [
    {
     "data": {
      "text/html": [
       "<pre style=\"white-space:pre;overflow-x:auto;line-height:normal;font-family:Menlo,'DejaVu Sans Mono',consolas,'Courier New',monospace\"><span style=\"color: #008000; text-decoration-color: #008000\">'geopandas'</span> is already installed.\n",
       "</pre>\n"
      ],
      "text/plain": [
       "\u001b[32m'geopandas'\u001b[0m is already installed.\n"
      ]
     },
     "metadata": {},
     "output_type": "display_data"
    },
    {
     "data": {
      "text/html": [
       "<pre style=\"white-space:pre;overflow-x:auto;line-height:normal;font-family:Menlo,'DejaVu Sans Mono',consolas,'Courier New',monospace\"><span style=\"color: #008000; text-decoration-color: #008000\">'folium'</span> is already installed.\n",
       "</pre>\n"
      ],
      "text/plain": [
       "\u001b[32m'folium'\u001b[0m is already installed.\n"
      ]
     },
     "metadata": {},
     "output_type": "display_data"
    }
   ],
   "source": [
    "# General python\n",
    "import warnings\n",
    "warnings.filterwarnings(\"ignore\", category=UserWarning)\n",
    "\n",
    "import importlib\n",
    "import subprocess\n",
    "import sys\n",
    "import numpy as np\n",
    "from pathlib import Path\n",
    "import pandas as pd\n",
    "import matplotlib.pyplot as plt\n",
    "import xarray as xr\n",
    "import os\n",
    "from IPython.display import display\n",
    "\n",
    "# Niceties\n",
    "from rich import print\n",
    "\n",
    "# General eWaterCycle\n",
    "import ewatercycle\n",
    "import ewatercycle.models\n",
    "import ewatercycle.forcing\n",
    "\n",
    "# Check and install geopandas and folium\n",
    "def install_if_missing(package_name):\n",
    "    try:\n",
    "        importlib.import_module(package_name)\n",
    "        print(f\"'{package_name}' is already installed.\")\n",
    "    except ImportError:\n",
    "        print(f\"'{package_name}' not found. Installing...\")\n",
    "        subprocess.check_call([sys.executable, \"-m\", \"pip\", \"install\", package_name])\n",
    "        print(f\"PLEASE RESTART KERNEL\")\n",
    "\n",
    "install_if_missing(\"geopandas\")\n",
    "install_if_missing(\"folium\")\n",
    "\n",
    "import geopandas as gpd\n",
    "import folium\n",
    "import json\n",
    "\n",
    "# Utility functions\n",
    "from util_functions import *"
   ]
  },
  {
   "cell_type": "markdown",
   "id": "d4c8b337-37ad-4053-99c2-f582f26766a5",
   "metadata": {},
   "source": [
    "## Calibration the HBV model\n",
    "\n",
    "There are several ways to calibrate the model:\n",
    "1. This simple interactive way, as you will see it quite hard to calibrate it properly.\n",
    "2. Use a calibration algorithm, but this will take longer (and is less fun :) )\n",
    "\n",
    "We are going to use a 'local' HBV model for this calibration, meaning that this is run in the cell itself, so it will not start up a container and work in the normal ways eWaterCyle works."
   ]
  },
  {
   "cell_type": "code",
   "execution_count": 2,
   "id": "e7f09c0e-25a7-4854-b0b1-f7c0d4fc3cbe",
   "metadata": {},
   "outputs": [],
   "source": [
    "with open(\"settings.json\", \"r\") as json_file:\n",
    "    settings = json.load(json_file)"
   ]
  },
  {
   "cell_type": "code",
   "execution_count": 3,
   "id": "7aebde6facbe5d05",
   "metadata": {},
   "outputs": [
    {
     "data": {
      "text/html": [
       "<pre style=\"white-space:pre;overflow-x:auto;line-height:normal;font-family:Menlo,'DejaVu Sans Mono',consolas,'Courier New',monospace\"><span style=\"color: #800080; text-decoration-color: #800080; font-weight: bold\">CaravanForcing</span><span style=\"font-weight: bold\">(</span>\n",
       "    <span style=\"color: #808000; text-decoration-color: #808000\">start_time</span>=<span style=\"color: #008000; text-decoration-color: #008000\">'1997-08-01T00:00:00Z'</span>,\n",
       "    <span style=\"color: #808000; text-decoration-color: #808000\">end_time</span>=<span style=\"color: #008000; text-decoration-color: #008000\">'2010-07-31T00:00:00Z'</span>,\n",
       "    <span style=\"color: #808000; text-decoration-color: #808000\">directory</span>=<span style=\"color: #800080; text-decoration-color: #800080; font-weight: bold\">PosixPath</span><span style=\"font-weight: bold\">(</span><span style=\"color: #008000; text-decoration-color: #008000\">'/home/mmelotto/ewatercycleClimateImpact/HBV/data/camelsgb_28093/caravan'</span><span style=\"font-weight: bold\">)</span>,\n",
       "    <span style=\"color: #808000; text-decoration-color: #808000\">shape</span>=<span style=\"color: #800080; text-decoration-color: #800080; font-weight: bold\">PosixPath</span><span style=\"font-weight: bold\">(</span><span style=\"color: #008000; text-decoration-color: #008000\">'/home/mmelotto/ewatercycleClimateImpact/HBV/data/camelsgb_28093/caravan/camelsgb_28093.shp'</span><span style=\"font-weight: bold\">)</span>,\n",
       "    <span style=\"color: #808000; text-decoration-color: #808000\">filenames</span>=<span style=\"font-weight: bold\">{</span>\n",
       "        <span style=\"color: #008000; text-decoration-color: #008000\">'evspsblpot'</span>: <span style=\"color: #008000; text-decoration-color: #008000\">'camelsgb_28093_1997-08-01_2010-07-31_evspsblpot.nc'</span>,\n",
       "        <span style=\"color: #008000; text-decoration-color: #008000\">'pr'</span>: <span style=\"color: #008000; text-decoration-color: #008000\">'camelsgb_28093_1997-08-01_2010-07-31_pr.nc'</span>,\n",
       "        <span style=\"color: #008000; text-decoration-color: #008000\">'Q'</span>: <span style=\"color: #008000; text-decoration-color: #008000\">'camelsgb_28093_1997-08-01_2010-07-31_Q.nc'</span>,\n",
       "        <span style=\"color: #008000; text-decoration-color: #008000\">'tasmax'</span>: <span style=\"color: #008000; text-decoration-color: #008000\">'camelsgb_28093_1997-08-01_2010-07-31_tasmax.nc'</span>,\n",
       "        <span style=\"color: #008000; text-decoration-color: #008000\">'tas'</span>: <span style=\"color: #008000; text-decoration-color: #008000\">'camelsgb_28093_1997-08-01_2010-07-31_tas.nc'</span>,\n",
       "        <span style=\"color: #008000; text-decoration-color: #008000\">'tasmin'</span>: <span style=\"color: #008000; text-decoration-color: #008000\">'camelsgb_28093_1997-08-01_2010-07-31_tasmin.nc'</span>\n",
       "    <span style=\"font-weight: bold\">}</span>\n",
       "<span style=\"font-weight: bold\">)</span>\n",
       "</pre>\n"
      ],
      "text/plain": [
       "\u001b[1;35mCaravanForcing\u001b[0m\u001b[1m(\u001b[0m\n",
       "    \u001b[33mstart_time\u001b[0m=\u001b[32m'1997-08-01T00:00:00Z'\u001b[0m,\n",
       "    \u001b[33mend_time\u001b[0m=\u001b[32m'2010-07-31T00:00:00Z'\u001b[0m,\n",
       "    \u001b[33mdirectory\u001b[0m=\u001b[1;35mPosixPath\u001b[0m\u001b[1m(\u001b[0m\u001b[32m'/home/mmelotto/ewatercycleClimateImpact/HBV/data/camelsgb_28093/caravan'\u001b[0m\u001b[1m)\u001b[0m,\n",
       "    \u001b[33mshape\u001b[0m=\u001b[1;35mPosixPath\u001b[0m\u001b[1m(\u001b[0m\u001b[32m'/home/mmelotto/ewatercycleClimateImpact/HBV/data/camelsgb_28093/caravan/camelsgb_28093.shp'\u001b[0m\u001b[1m)\u001b[0m,\n",
       "    \u001b[33mfilenames\u001b[0m=\u001b[1m{\u001b[0m\n",
       "        \u001b[32m'evspsblpot'\u001b[0m: \u001b[32m'camelsgb_28093_1997-08-01_2010-07-31_evspsblpot.nc'\u001b[0m,\n",
       "        \u001b[32m'pr'\u001b[0m: \u001b[32m'camelsgb_28093_1997-08-01_2010-07-31_pr.nc'\u001b[0m,\n",
       "        \u001b[32m'Q'\u001b[0m: \u001b[32m'camelsgb_28093_1997-08-01_2010-07-31_Q.nc'\u001b[0m,\n",
       "        \u001b[32m'tasmax'\u001b[0m: \u001b[32m'camelsgb_28093_1997-08-01_2010-07-31_tasmax.nc'\u001b[0m,\n",
       "        \u001b[32m'tas'\u001b[0m: \u001b[32m'camelsgb_28093_1997-08-01_2010-07-31_tas.nc'\u001b[0m,\n",
       "        \u001b[32m'tasmin'\u001b[0m: \u001b[32m'camelsgb_28093_1997-08-01_2010-07-31_tasmin.nc'\u001b[0m\n",
       "    \u001b[1m}\u001b[0m\n",
       "\u001b[1m)\u001b[0m\n"
      ]
     },
     "metadata": {},
     "output_type": "display_data"
    }
   ],
   "source": [
    "# Load the caravan forcing object\n",
    "caravan_data_object = ewatercycle.forcing.sources['CaravanForcing'].load(directory=settings['path_caravan'])\n",
    "print(caravan_data_object)"
   ]
  },
  {
   "cell_type": "code",
   "execution_count": 4,
   "id": "f68ecb4e30d8f475",
   "metadata": {},
   "outputs": [
    {
     "data": {
      "text/html": [
       "<pre style=\"white-space:pre;overflow-x:auto;line-height:normal;font-family:Menlo,'DejaVu Sans Mono',consolas,'Courier New',monospace\"><span style=\"color: #800080; text-decoration-color: #800080; font-weight: bold\">LumpedMakkinkForcing</span><span style=\"font-weight: bold\">(</span>\n",
       "    <span style=\"color: #808000; text-decoration-color: #808000\">start_time</span>=<span style=\"color: #008000; text-decoration-color: #008000\">'1997-08-01T00:00:00Z'</span>,\n",
       "    <span style=\"color: #808000; text-decoration-color: #808000\">end_time</span>=<span style=\"color: #008000; text-decoration-color: #008000\">'2010-07-31T00:00:00Z'</span>,\n",
       "    <span style=\"color: #808000; text-decoration-color: #808000\">directory</span>=<span style=\"color: #800080; text-decoration-color: #800080; font-weight: bold\">PosixPath</span><span style=\"font-weight: bold\">(</span><span style=\"color: #008000; text-decoration-color: #008000\">'/home/mmelotto/ewatercycleClimateImpact/HBV/data/camelsgb_28093/ERA5/work/diagnostic/scrip</span>\n",
       "<span style=\"color: #008000; text-decoration-color: #008000\">t'</span><span style=\"font-weight: bold\">)</span>,\n",
       "    <span style=\"color: #808000; text-decoration-color: #808000\">shape</span>=<span style=\"color: #800080; text-decoration-color: #800080; font-weight: bold\">PosixPath</span><span style=\"font-weight: bold\">(</span><span style=\"color: #008000; text-decoration-color: #008000\">'/home/mmelotto/ewatercycleClimateImpact/HBV/data/camelsgb_28093/ERA5/work/diagnostic/script/ca</span>\n",
       "<span style=\"color: #008000; text-decoration-color: #008000\">melsgb_28093.shp'</span><span style=\"font-weight: bold\">)</span>,\n",
       "    <span style=\"color: #808000; text-decoration-color: #808000\">filenames</span>=<span style=\"font-weight: bold\">{</span>\n",
       "        <span style=\"color: #008000; text-decoration-color: #008000\">'pr'</span>: <span style=\"color: #008000; text-decoration-color: #008000\">'OBS6_ERA5_reanaly_1_day_pr_1997-2010.nc'</span>,\n",
       "        <span style=\"color: #008000; text-decoration-color: #008000\">'tas'</span>: <span style=\"color: #008000; text-decoration-color: #008000\">'OBS6_ERA5_reanaly_1_day_tas_1997-2010.nc'</span>,\n",
       "        <span style=\"color: #008000; text-decoration-color: #008000\">'rsds'</span>: <span style=\"color: #008000; text-decoration-color: #008000\">'OBS6_ERA5_reanaly_1_day_rsds_1997-2010.nc'</span>,\n",
       "        <span style=\"color: #008000; text-decoration-color: #008000\">'evspsblpot'</span>: <span style=\"color: #008000; text-decoration-color: #008000\">'Derived_Makkink_evspsblpot.nc'</span>\n",
       "    <span style=\"font-weight: bold\">}</span>\n",
       "<span style=\"font-weight: bold\">)</span>\n",
       "</pre>\n"
      ],
      "text/plain": [
       "\u001b[1;35mLumpedMakkinkForcing\u001b[0m\u001b[1m(\u001b[0m\n",
       "    \u001b[33mstart_time\u001b[0m=\u001b[32m'1997-08-01T00:00:00Z'\u001b[0m,\n",
       "    \u001b[33mend_time\u001b[0m=\u001b[32m'2010-07-31T00:00:00Z'\u001b[0m,\n",
       "    \u001b[33mdirectory\u001b[0m=\u001b[1;35mPosixPath\u001b[0m\u001b[1m(\u001b[0m\u001b[32m'/home/mmelotto/ewatercycleClimateImpact/HBV/data/camelsgb_28093/ERA5/work/diagnostic/scrip\u001b[0m\n",
       "\u001b[32mt'\u001b[0m\u001b[1m)\u001b[0m,\n",
       "    \u001b[33mshape\u001b[0m=\u001b[1;35mPosixPath\u001b[0m\u001b[1m(\u001b[0m\u001b[32m'/home/mmelotto/ewatercycleClimateImpact/HBV/data/camelsgb_28093/ERA5/work/diagnostic/script/ca\u001b[0m\n",
       "\u001b[32mmelsgb_28093.shp'\u001b[0m\u001b[1m)\u001b[0m,\n",
       "    \u001b[33mfilenames\u001b[0m=\u001b[1m{\u001b[0m\n",
       "        \u001b[32m'pr'\u001b[0m: \u001b[32m'OBS6_ERA5_reanaly_1_day_pr_1997-2010.nc'\u001b[0m,\n",
       "        \u001b[32m'tas'\u001b[0m: \u001b[32m'OBS6_ERA5_reanaly_1_day_tas_1997-2010.nc'\u001b[0m,\n",
       "        \u001b[32m'rsds'\u001b[0m: \u001b[32m'OBS6_ERA5_reanaly_1_day_rsds_1997-2010.nc'\u001b[0m,\n",
       "        \u001b[32m'evspsblpot'\u001b[0m: \u001b[32m'Derived_Makkink_evspsblpot.nc'\u001b[0m\n",
       "    \u001b[1m}\u001b[0m\n",
       "\u001b[1m)\u001b[0m\n"
      ]
     },
     "metadata": {},
     "output_type": "display_data"
    }
   ],
   "source": [
    "# Load the ERA5 forcing object\n",
    "load_location = Path(settings['path_ERA5']) / \"work\" / \"diagnostic\" / \"script\"\n",
    "ERA5_forcing_object = ewatercycle.forcing.sources[\"LumpedMakkinkForcing\"].load(directory=load_location)\n",
    "print(ERA5_forcing_object)"
   ]
  },
  {
   "cell_type": "code",
   "execution_count": 5,
   "id": "286bd176-3520-4db9-9790-b2689598e073",
   "metadata": {},
   "outputs": [
    {
     "data": {
      "application/vnd.jupyter.widget-view+json": {
       "model_id": "3d29763c78d34147bf32289a4aa19304",
       "version_major": 2,
       "version_minor": 0
      },
      "text/plain": [
       "VBox(children=(HTML(value=''), HBox(children=(Label(value='I_max', layout=Layout(width='150px')), FloatSlider(…"
      ]
     },
     "metadata": {},
     "output_type": "display_data"
    },
    {
     "data": {
      "application/vnd.jupyter.widget-view+json": {
       "model_id": "28d7539b5a244527a8f9e161e5ae8f86",
       "version_major": 2,
       "version_minor": 0
      },
      "text/plain": [
       "Output()"
      ]
     },
     "metadata": {},
     "output_type": "display_data"
    }
   ],
   "source": [
    "# Parameters for the interactive calibrating\n",
    "params = {\n",
    "        'I_max': {'min': 0, 'max': 10},\n",
    "        'Ce': {'min': 0.1, 'max': 1},\n",
    "        'Su_max': {'min': 40, 'max': 800},\n",
    "        'beta': {'min': 0.5, 'max': 5},\n",
    "        'P_max': {'min': 0.001, 'max': 0.3},\n",
    "        'T_lag': {'min': 1, 'max': 10},\n",
    "        'Kf': {'min': 0.01, 'max': 0.2},\n",
    "        'Ks': {'min': 0.0001, 'max': 0.01},\n",
    "        'Fm': {'min': 0.0001, 'max': 10},\n",
    "    }\n",
    "\n",
    "# Rewrite the forcing for the interactive calibration plot, this is used for the observed streamflow\n",
    "calibrate_forcing = Caravan_ERA5_to_local(caravan_data_object, ERA5_forcing_object)\n",
    "\n",
    "local_model = ewatercycle.models.HBVLocal(forcing=caravan_data_object)\n",
    "\n",
    "# The interactive calibration plot\n",
    "interactive_plot_local(local_model, calibrate_forcing, params)"
   ]
  },
  {
   "cell_type": "code",
   "execution_count": 6,
   "id": "0466e8e1-5727-465c-b346-d490fafcbfcf",
   "metadata": {},
   "outputs": [],
   "source": [
    "# Add your parameters here, dont add the FM below, keep it at 0.001\n",
    "parameters_found = [\n",
    "    10.0,   # Imax - Interception capacity [mm]\n",
    "    0.87,   # Ce - Soil runoff coefficient [-]\n",
    "    592.0,  # Sumax - Max soil moisture storage [mm]\n",
    "    1.4,    # Beta - Shape parameter for runoff generation [-]\n",
    "    0.3,    # Pmax - Percolation threshold [mm/day]\n",
    "    1.0,    # Tlag - Routing lag time [days]\n",
    "    0.09,   # Kf - Fast runoff recession coefficient [1/day]\n",
    "    0.01,   # Ks - Slow runoff recession coefficient [1/day]\n",
    "    1.0   # FM - Snowmelt factor \n",
    "]"
   ]
  },
  {
   "cell_type": "code",
   "execution_count": 7,
   "id": "451f63f9-bebc-4351-9577-fd80ca3b2500",
   "metadata": {},
   "outputs": [],
   "source": [
    "# Still we have to kill the container\n",
    "local_model.finalize()"
   ]
  }
 ],
 "metadata": {
  "kernelspec": {
   "display_name": "Python 3 (ipykernel)",
   "language": "python",
   "name": "python3"
  },
  "language_info": {
   "codemirror_mode": {
    "name": "ipython",
    "version": 3
   },
   "file_extension": ".py",
   "mimetype": "text/x-python",
   "name": "python",
   "nbconvert_exporter": "python",
   "pygments_lexer": "ipython3",
   "version": "3.12.7"
  }
 },
 "nbformat": 4,
 "nbformat_minor": 5
}
