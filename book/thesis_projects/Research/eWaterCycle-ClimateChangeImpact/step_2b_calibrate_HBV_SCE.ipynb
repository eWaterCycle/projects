{
 "cells": [
  {
   "cell_type": "markdown",
   "id": "2b385ad9-fde2-45d0-b5fb-ce02fc2bdb7d",
   "metadata": {},
   "source": [
    "# Calibrating HBV hydrological model using SCE run locally outside container forced with ERA5 forcing data\n",
    "In this notebook we will demonstrate how to calibrate the HBV model with SCE and works as an example for calibration methods that use a function that needs to be passed to an optimization algorithm. \n",
    "\n",
    "Instead of an ensemble of models, we will need to construct a function that does the entire model run.\n",
    "\n",
    "We will use an extention to eWaterCycle: eWaterCycle-DA with DA for Data Assimilation. This package, developed by former MSc student David Haasnoot, adds functionality to deal with ensembles of models in eWaterCycle.\n",
    "\n",
    "This assumes you have already seen [the standard notebook explaining how to run HBV on eWaterCycle.](example_model_run_HBV_camels_catchment_camels_forcing.ipynb)\n",
    "\n",
    "Only cells which differ from that notebook are shown here, other cells are collapsed for easier viewing (but can be opened and are, of course, run!)."
   ]
  },
  {
   "cell_type": "code",
   "execution_count": 1,
   "id": "ec7e710a-5aa4-40f9-a1cb-151e3cddbe04",
   "metadata": {
    "ExecuteTime": {
     "end_time": "2024-03-07T14:21:32.492461800Z",
     "start_time": "2024-03-07T14:21:31.890843300Z"
    }
   },
   "outputs": [],
   "source": [
    "# General python\n",
    "import warnings\n",
    "warnings.filterwarnings(\"ignore\", category=UserWarning)\n",
    "\n",
    "import numpy as np\n",
    "from pathlib import Path\n",
    "import pandas as pd\n",
    "import matplotlib.pyplot as plt\n",
    "import xarray as xr\n",
    "import json\n",
    "\n",
    "# Niceties\n",
    "from rich import print\n",
    "from tqdm import tqdm"
   ]
  },
  {
   "cell_type": "code",
   "execution_count": 2,
   "id": "4569a0f2-4bea-48cc-b5a4-ca5384e368c6",
   "metadata": {
    "ExecuteTime": {
     "end_time": "2024-03-07T14:21:34.475126400Z",
     "start_time": "2024-03-07T14:21:32.537461400Z"
    }
   },
   "outputs": [],
   "source": [
    "# General eWaterCycle\n",
    "import ewatercycle\n",
    "import ewatercycle.models\n",
    "import ewatercycle.forcing"
   ]
  },
  {
   "cell_type": "code",
   "execution_count": 3,
   "id": "4b18ba50-bbd9-46a3-b5db-40b790a96841",
   "metadata": {},
   "outputs": [
    {
     "name": "stdout",
     "output_type": "stream",
     "text": [
      "Defaulting to user installation because normal site-packages is not writeable\n",
      "Requirement already satisfied: sceua in /home/rhut/.local/lib/python3.12/site-packages (0.1.0)\n",
      "Collecting numpy>=2 (from sceua)\n",
      "  Using cached numpy-2.2.6-cp312-cp312-manylinux_2_17_x86_64.manylinux2014_x86_64.whl.metadata (62 kB)\n",
      "Requirement already satisfied: scipy>=1.15 in /home/rhut/.local/lib/python3.12/site-packages (from sceua) (1.15.3)\n",
      "Using cached numpy-2.2.6-cp312-cp312-manylinux_2_17_x86_64.manylinux2014_x86_64.whl (16.5 MB)\n",
      "Installing collected packages: numpy\n",
      "  Attempting uninstall: numpy\n",
      "    Found existing installation: numpy 1.26.4\n",
      "    Uninstalling numpy-1.26.4:\n",
      "      Successfully uninstalled numpy-1.26.4\n",
      "\u001b[33m  WARNING: The scripts f2py and numpy-config are installed in '/home/rhut/.local/bin' which is not on PATH.\n",
      "  Consider adding this directory to PATH or, if you prefer to suppress this warning, use --no-warn-script-location.\u001b[0m\u001b[33m\n",
      "\u001b[31mERROR: pip's dependency resolver does not currently take into account all the packages that are installed. This behaviour is the source of the following dependency conflicts.\n",
      "esmvalcore 2.11.1 requires numpy!=1.24.3,<2.0.0, but you have numpy 2.2.6 which is incompatible.\n",
      "numba 0.60.0 requires numpy<2.1,>=1.22, but you have numpy 2.2.6 which is incompatible.\u001b[0m\u001b[31m\n",
      "\u001b[0mSuccessfully installed numpy-2.2.6\n"
     ]
    }
   ],
   "source": [
    "# We need the sceua package. If that is not available on your machine,\n",
    "# uncomment the line below to install it\n",
    "\n",
    "!pip install sceua"
   ]
  },
  {
   "cell_type": "code",
   "execution_count": 4,
   "id": "f7abc79c-00fe-4ce4-97d0-a4ab4d9c3d7f",
   "metadata": {},
   "outputs": [],
   "source": [
    "# Sceua package\n",
    "import sceua"
   ]
  },
  {
   "cell_type": "code",
   "execution_count": 5,
   "id": "f2252bda-7d61-477c-8bd3-c235bcac7b07",
   "metadata": {},
   "outputs": [],
   "source": [
    "# # We make use of the hydrobm package to calculate metrics\n",
    "# !pip install hydrobm"
   ]
  },
  {
   "cell_type": "code",
   "execution_count": 6,
   "id": "4e19a487-3f73-403c-9a11-9b9b3816b829",
   "metadata": {},
   "outputs": [],
   "source": [
    "from hydrobm.metrics import calculate_metric"
   ]
  },
  {
   "cell_type": "code",
   "execution_count": 7,
   "id": "ddfa0169-18b2-4cd1-829e-b83fcfbd865a",
   "metadata": {},
   "outputs": [],
   "source": [
    "# Load settings\n",
    "# Read from the JSON file\n",
    "with open(\"settings.json\", \"r\") as json_file:\n",
    "    settings = json.load(json_file)"
   ]
  },
  {
   "cell_type": "code",
   "execution_count": 8,
   "id": "936bbfd8-715f-497a-9270-a5e4da3aa288",
   "metadata": {},
   "outputs": [
    {
     "data": {
      "text/html": [
       "<pre style=\"white-space:pre;overflow-x:auto;line-height:normal;font-family:Menlo,'DejaVu Sans Mono',consolas,'Courier New',monospace\"><span style=\"font-weight: bold\">{</span>\n",
       "    <span style=\"color: #008000; text-decoration-color: #008000\">'caravan_id'</span>: <span style=\"color: #008000; text-decoration-color: #008000\">'hysets_01371500'</span>,\n",
       "    <span style=\"color: #008000; text-decoration-color: #008000\">'calibration_start_date'</span>: <span style=\"color: #008000; text-decoration-color: #008000\">'1997-08-01T00:00:00Z'</span>,\n",
       "    <span style=\"color: #008000; text-decoration-color: #008000\">'calibration_end_date'</span>: <span style=\"color: #008000; text-decoration-color: #008000\">'2007-07-31T00:00:00Z'</span>,\n",
       "    <span style=\"color: #008000; text-decoration-color: #008000\">'validation_start_date'</span>: <span style=\"color: #008000; text-decoration-color: #008000\">'2007-08-01T00:00:00Z'</span>,\n",
       "    <span style=\"color: #008000; text-decoration-color: #008000\">'validation_end_date'</span>: <span style=\"color: #008000; text-decoration-color: #008000\">'2010-07-31T00:00:00Z'</span>,\n",
       "    <span style=\"color: #008000; text-decoration-color: #008000\">'future_start_date'</span>: <span style=\"color: #008000; text-decoration-color: #008000\">'2027-08-01T00:00:00Z'</span>,\n",
       "    <span style=\"color: #008000; text-decoration-color: #008000\">'future_end_date'</span>: <span style=\"color: #008000; text-decoration-color: #008000\">'2047-08-31T00:00:00Z'</span>,\n",
       "    <span style=\"color: #008000; text-decoration-color: #008000\">'CMIP_info'</span>: <span style=\"font-weight: bold\">{</span>\n",
       "        <span style=\"color: #008000; text-decoration-color: #008000\">'dataset'</span>: <span style=\"font-weight: bold\">[</span><span style=\"color: #008000; text-decoration-color: #008000\">'MPI-ESM1-2-HR'</span><span style=\"font-weight: bold\">]</span>,\n",
       "        <span style=\"color: #008000; text-decoration-color: #008000\">'ensembles'</span>: <span style=\"font-weight: bold\">[</span><span style=\"color: #008000; text-decoration-color: #008000\">'r1i1p1f1'</span><span style=\"font-weight: bold\">]</span>,\n",
       "        <span style=\"color: #008000; text-decoration-color: #008000\">'experiments'</span>: <span style=\"font-weight: bold\">[</span><span style=\"color: #008000; text-decoration-color: #008000\">'historical'</span>, <span style=\"color: #008000; text-decoration-color: #008000\">'ssp126'</span>, <span style=\"color: #008000; text-decoration-color: #008000\">'ssp245'</span>, <span style=\"color: #008000; text-decoration-color: #008000\">'ssp370'</span>, <span style=\"color: #008000; text-decoration-color: #008000\">'ssp585'</span><span style=\"font-weight: bold\">]</span>,\n",
       "        <span style=\"color: #008000; text-decoration-color: #008000\">'project'</span>: <span style=\"color: #008000; text-decoration-color: #008000\">'CMIP6'</span>,\n",
       "        <span style=\"color: #008000; text-decoration-color: #008000\">'frequency'</span>: <span style=\"color: #008000; text-decoration-color: #008000\">'day'</span>,\n",
       "        <span style=\"color: #008000; text-decoration-color: #008000\">'grid'</span>: <span style=\"color: #008000; text-decoration-color: #008000\">'gn'</span>,\n",
       "        <span style=\"color: #008000; text-decoration-color: #008000\">'variables'</span>: <span style=\"font-weight: bold\">[</span><span style=\"color: #008000; text-decoration-color: #008000\">'pr'</span>, <span style=\"color: #008000; text-decoration-color: #008000\">'tas'</span>, <span style=\"color: #008000; text-decoration-color: #008000\">'rsds'</span><span style=\"font-weight: bold\">]</span>\n",
       "    <span style=\"font-weight: bold\">}</span>,\n",
       "    <span style=\"color: #008000; text-decoration-color: #008000\">'base_path'</span>: <span style=\"color: #008000; text-decoration-color: #008000\">'/home/rhut/ewatercycleClimateImpact/HBV'</span>,\n",
       "    <span style=\"color: #008000; text-decoration-color: #008000\">'path_caravan'</span>: <span style=\"color: #008000; text-decoration-color: #008000\">'/home/rhut/ewatercycleClimateImpact/HBV/data/hysets_01371500/caravan'</span>,\n",
       "    <span style=\"color: #008000; text-decoration-color: #008000\">'path_ERA5'</span>: <span style=\"color: #008000; text-decoration-color: #008000\">'/home/rhut/ewatercycleClimateImpact/HBV/data/hysets_01371500/ERA5'</span>,\n",
       "    <span style=\"color: #008000; text-decoration-color: #008000\">'path_CMIP6'</span>: <span style=\"color: #008000; text-decoration-color: #008000\">'/home/rhut/ewatercycleClimateImpact/HBV/data/hysets_01371500/CMIP6'</span>,\n",
       "    <span style=\"color: #008000; text-decoration-color: #008000\">'path_shape'</span>: <span style=\"color: #008000; text-decoration-color: #008000\">'/home/rhut/ewatercycleClimateImpact/HBV/data/hysets_01371500/caravan/hysets_01371500.shp'</span>\n",
       "<span style=\"font-weight: bold\">}</span>\n",
       "</pre>\n"
      ],
      "text/plain": [
       "\u001b[1m{\u001b[0m\n",
       "    \u001b[32m'caravan_id'\u001b[0m: \u001b[32m'hysets_01371500'\u001b[0m,\n",
       "    \u001b[32m'calibration_start_date'\u001b[0m: \u001b[32m'1997-08-01T00:00:00Z'\u001b[0m,\n",
       "    \u001b[32m'calibration_end_date'\u001b[0m: \u001b[32m'2007-07-31T00:00:00Z'\u001b[0m,\n",
       "    \u001b[32m'validation_start_date'\u001b[0m: \u001b[32m'2007-08-01T00:00:00Z'\u001b[0m,\n",
       "    \u001b[32m'validation_end_date'\u001b[0m: \u001b[32m'2010-07-31T00:00:00Z'\u001b[0m,\n",
       "    \u001b[32m'future_start_date'\u001b[0m: \u001b[32m'2027-08-01T00:00:00Z'\u001b[0m,\n",
       "    \u001b[32m'future_end_date'\u001b[0m: \u001b[32m'2047-08-31T00:00:00Z'\u001b[0m,\n",
       "    \u001b[32m'CMIP_info'\u001b[0m: \u001b[1m{\u001b[0m\n",
       "        \u001b[32m'dataset'\u001b[0m: \u001b[1m[\u001b[0m\u001b[32m'MPI-ESM1-2-HR'\u001b[0m\u001b[1m]\u001b[0m,\n",
       "        \u001b[32m'ensembles'\u001b[0m: \u001b[1m[\u001b[0m\u001b[32m'r1i1p1f1'\u001b[0m\u001b[1m]\u001b[0m,\n",
       "        \u001b[32m'experiments'\u001b[0m: \u001b[1m[\u001b[0m\u001b[32m'historical'\u001b[0m, \u001b[32m'ssp126'\u001b[0m, \u001b[32m'ssp245'\u001b[0m, \u001b[32m'ssp370'\u001b[0m, \u001b[32m'ssp585'\u001b[0m\u001b[1m]\u001b[0m,\n",
       "        \u001b[32m'project'\u001b[0m: \u001b[32m'CMIP6'\u001b[0m,\n",
       "        \u001b[32m'frequency'\u001b[0m: \u001b[32m'day'\u001b[0m,\n",
       "        \u001b[32m'grid'\u001b[0m: \u001b[32m'gn'\u001b[0m,\n",
       "        \u001b[32m'variables'\u001b[0m: \u001b[1m[\u001b[0m\u001b[32m'pr'\u001b[0m, \u001b[32m'tas'\u001b[0m, \u001b[32m'rsds'\u001b[0m\u001b[1m]\u001b[0m\n",
       "    \u001b[1m}\u001b[0m,\n",
       "    \u001b[32m'base_path'\u001b[0m: \u001b[32m'/home/rhut/ewatercycleClimateImpact/HBV'\u001b[0m,\n",
       "    \u001b[32m'path_caravan'\u001b[0m: \u001b[32m'/home/rhut/ewatercycleClimateImpact/HBV/data/hysets_01371500/caravan'\u001b[0m,\n",
       "    \u001b[32m'path_ERA5'\u001b[0m: \u001b[32m'/home/rhut/ewatercycleClimateImpact/HBV/data/hysets_01371500/ERA5'\u001b[0m,\n",
       "    \u001b[32m'path_CMIP6'\u001b[0m: \u001b[32m'/home/rhut/ewatercycleClimateImpact/HBV/data/hysets_01371500/CMIP6'\u001b[0m,\n",
       "    \u001b[32m'path_shape'\u001b[0m: \u001b[32m'/home/rhut/ewatercycleClimateImpact/HBV/data/hysets_01371500/caravan/hysets_01371500.shp'\u001b[0m\n",
       "\u001b[1m}\u001b[0m\n"
      ]
     },
     "metadata": {},
     "output_type": "display_data"
    }
   ],
   "source": [
    "print(settings)"
   ]
  },
  {
   "cell_type": "markdown",
   "id": "053d5f12-5639-4e7f-808a-603417ad8fc2",
   "metadata": {},
   "source": [
    "# Pre-generated observations of discharge from caravan\n",
    "Here we re-load the disharge data we generated in [this](step_0a_select_caravan_region_time_and_scenarios.ipynb) notebook."
   ]
  },
  {
   "cell_type": "code",
   "execution_count": 9,
   "id": "9d69fffc-bf01-48af-9ed3-6e059fdb1402",
   "metadata": {
    "scrolled": true
   },
   "outputs": [
    {
     "data": {
      "text/html": [
       "<pre style=\"white-space:pre;overflow-x:auto;line-height:normal;font-family:Menlo,'DejaVu Sans Mono',consolas,'Courier New',monospace\"><span style=\"color: #800080; text-decoration-color: #800080; font-weight: bold\">CaravanForcing</span><span style=\"font-weight: bold\">(</span>\n",
       "    <span style=\"color: #808000; text-decoration-color: #808000\">start_time</span>=<span style=\"color: #008000; text-decoration-color: #008000\">'1997-08-01T00:00:00Z'</span>,\n",
       "    <span style=\"color: #808000; text-decoration-color: #808000\">end_time</span>=<span style=\"color: #008000; text-decoration-color: #008000\">'2010-07-31T00:00:00Z'</span>,\n",
       "    <span style=\"color: #808000; text-decoration-color: #808000\">directory</span>=<span style=\"color: #800080; text-decoration-color: #800080; font-weight: bold\">PosixPath</span><span style=\"font-weight: bold\">(</span><span style=\"color: #008000; text-decoration-color: #008000\">'/home/rhut/ewatercycleClimateImpact/HBV/data/hysets_01371500/caravan'</span><span style=\"font-weight: bold\">)</span>,\n",
       "    <span style=\"color: #808000; text-decoration-color: #808000\">shape</span>=<span style=\"color: #800080; text-decoration-color: #800080; font-weight: bold\">PosixPath</span><span style=\"font-weight: bold\">(</span><span style=\"color: #008000; text-decoration-color: #008000\">'/home/rhut/ewatercycleClimateImpact/HBV/data/hysets_01371500/caravan/hysets_01371500.shp'</span><span style=\"font-weight: bold\">)</span>,\n",
       "    <span style=\"color: #808000; text-decoration-color: #808000\">filenames</span>=<span style=\"font-weight: bold\">{</span>\n",
       "        <span style=\"color: #008000; text-decoration-color: #008000\">'tas'</span>: <span style=\"color: #008000; text-decoration-color: #008000\">'hysets_01371500_1997-08-01_2010-07-31_tas.nc'</span>,\n",
       "        <span style=\"color: #008000; text-decoration-color: #008000\">'Q'</span>: <span style=\"color: #008000; text-decoration-color: #008000\">'hysets_01371500_1997-08-01_2010-07-31_Q.nc'</span>,\n",
       "        <span style=\"color: #008000; text-decoration-color: #008000\">'pr'</span>: <span style=\"color: #008000; text-decoration-color: #008000\">'hysets_01371500_1997-08-01_2010-07-31_pr.nc'</span>,\n",
       "        <span style=\"color: #008000; text-decoration-color: #008000\">'tasmin'</span>: <span style=\"color: #008000; text-decoration-color: #008000\">'hysets_01371500_1997-08-01_2010-07-31_tasmin.nc'</span>,\n",
       "        <span style=\"color: #008000; text-decoration-color: #008000\">'evspsblpot'</span>: <span style=\"color: #008000; text-decoration-color: #008000\">'hysets_01371500_1997-08-01_2010-07-31_evspsblpot.nc'</span>,\n",
       "        <span style=\"color: #008000; text-decoration-color: #008000\">'tasmax'</span>: <span style=\"color: #008000; text-decoration-color: #008000\">'hysets_01371500_1997-08-01_2010-07-31_tasmax.nc'</span>\n",
       "    <span style=\"font-weight: bold\">}</span>\n",
       "<span style=\"font-weight: bold\">)</span>\n",
       "</pre>\n"
      ],
      "text/plain": [
       "\u001b[1;35mCaravanForcing\u001b[0m\u001b[1m(\u001b[0m\n",
       "    \u001b[33mstart_time\u001b[0m=\u001b[32m'1997-08-01T00:00:00Z'\u001b[0m,\n",
       "    \u001b[33mend_time\u001b[0m=\u001b[32m'2010-07-31T00:00:00Z'\u001b[0m,\n",
       "    \u001b[33mdirectory\u001b[0m=\u001b[1;35mPosixPath\u001b[0m\u001b[1m(\u001b[0m\u001b[32m'/home/rhut/ewatercycleClimateImpact/HBV/data/hysets_01371500/caravan'\u001b[0m\u001b[1m)\u001b[0m,\n",
       "    \u001b[33mshape\u001b[0m=\u001b[1;35mPosixPath\u001b[0m\u001b[1m(\u001b[0m\u001b[32m'/home/rhut/ewatercycleClimateImpact/HBV/data/hysets_01371500/caravan/hysets_01371500.shp'\u001b[0m\u001b[1m)\u001b[0m,\n",
       "    \u001b[33mfilenames\u001b[0m=\u001b[1m{\u001b[0m\n",
       "        \u001b[32m'tas'\u001b[0m: \u001b[32m'hysets_01371500_1997-08-01_2010-07-31_tas.nc'\u001b[0m,\n",
       "        \u001b[32m'Q'\u001b[0m: \u001b[32m'hysets_01371500_1997-08-01_2010-07-31_Q.nc'\u001b[0m,\n",
       "        \u001b[32m'pr'\u001b[0m: \u001b[32m'hysets_01371500_1997-08-01_2010-07-31_pr.nc'\u001b[0m,\n",
       "        \u001b[32m'tasmin'\u001b[0m: \u001b[32m'hysets_01371500_1997-08-01_2010-07-31_tasmin.nc'\u001b[0m,\n",
       "        \u001b[32m'evspsblpot'\u001b[0m: \u001b[32m'hysets_01371500_1997-08-01_2010-07-31_evspsblpot.nc'\u001b[0m,\n",
       "        \u001b[32m'tasmax'\u001b[0m: \u001b[32m'hysets_01371500_1997-08-01_2010-07-31_tasmax.nc'\u001b[0m\n",
       "    \u001b[1m}\u001b[0m\n",
       "\u001b[1m)\u001b[0m\n"
      ]
     },
     "metadata": {},
     "output_type": "display_data"
    }
   ],
   "source": [
    "# Load the caravan forcing object\n",
    "caravan_data_object = ewatercycle.forcing.sources['CaravanForcing'].load(directory=settings['path_caravan'])\n",
    "print(caravan_data_object)"
   ]
  },
  {
   "cell_type": "markdown",
   "id": "9bb0dbb9-95e7-4519-9e41-3bb28f84bad8",
   "metadata": {},
   "source": [
    "## Pre-generated ERA5 forcing data for HBV model\n",
    "Here we load the ERA5 data we generated in [this](step_1a_generate_historical_forcing) notebook"
   ]
  },
  {
   "cell_type": "code",
   "execution_count": 10,
   "id": "358be704-8697-4aa3-870b-7f879fc255e8",
   "metadata": {},
   "outputs": [],
   "source": [
    "load_location = Path(settings['path_ERA5']) / \"work\" / \"diagnostic\" / \"script\" \n",
    "ERA5_forcing_object = ewatercycle.forcing.sources[\"LumpedMakkinkForcing\"].load(directory=load_location)"
   ]
  },
  {
   "cell_type": "code",
   "execution_count": 11,
   "id": "914e80f3-1bc1-4d1f-86e4-4b8bbc761639",
   "metadata": {},
   "outputs": [
    {
     "data": {
      "text/html": [
       "<pre style=\"white-space:pre;overflow-x:auto;line-height:normal;font-family:Menlo,'DejaVu Sans Mono',consolas,'Courier New',monospace\"><span style=\"color: #800080; text-decoration-color: #800080; font-weight: bold\">LumpedMakkinkForcing</span><span style=\"font-weight: bold\">(</span>\n",
       "    <span style=\"color: #808000; text-decoration-color: #808000\">start_time</span>=<span style=\"color: #008000; text-decoration-color: #008000\">'1997-08-01T00:00:00Z'</span>,\n",
       "    <span style=\"color: #808000; text-decoration-color: #808000\">end_time</span>=<span style=\"color: #008000; text-decoration-color: #008000\">'2010-07-31T00:00:00Z'</span>,\n",
       "    <span style=\"color: #808000; text-decoration-color: #808000\">directory</span>=<span style=\"color: #800080; text-decoration-color: #800080; font-weight: bold\">PosixPath</span><span style=\"font-weight: bold\">(</span><span style=\"color: #008000; text-decoration-color: #008000\">'/home/rhut/ewatercycleClimateImpact/HBV/data/hysets_01371500/ERA5/work/diagnostic/script'</span><span style=\"font-weight: bold\">)</span>\n",
       ",\n",
       "    <span style=\"color: #808000; text-decoration-color: #808000\">shape</span>=<span style=\"color: #800080; text-decoration-color: #800080; font-weight: bold\">PosixPath</span><span style=\"font-weight: bold\">(</span><span style=\"color: #008000; text-decoration-color: #008000\">'/home/rhut/ewatercycleClimateImpact/HBV/data/hysets_01371500/ERA5/work/diagnostic/script/hyset</span>\n",
       "<span style=\"color: #008000; text-decoration-color: #008000\">s_01371500.shp'</span><span style=\"font-weight: bold\">)</span>,\n",
       "    <span style=\"color: #808000; text-decoration-color: #808000\">filenames</span>=<span style=\"font-weight: bold\">{</span>\n",
       "        <span style=\"color: #008000; text-decoration-color: #008000\">'pr'</span>: <span style=\"color: #008000; text-decoration-color: #008000\">'OBS6_ERA5_reanaly_1_day_pr_1997-2010.nc'</span>,\n",
       "        <span style=\"color: #008000; text-decoration-color: #008000\">'tas'</span>: <span style=\"color: #008000; text-decoration-color: #008000\">'OBS6_ERA5_reanaly_1_day_tas_1997-2010.nc'</span>,\n",
       "        <span style=\"color: #008000; text-decoration-color: #008000\">'rsds'</span>: <span style=\"color: #008000; text-decoration-color: #008000\">'OBS6_ERA5_reanaly_1_day_rsds_1997-2010.nc'</span>,\n",
       "        <span style=\"color: #008000; text-decoration-color: #008000\">'evspsblpot'</span>: <span style=\"color: #008000; text-decoration-color: #008000\">'Derived_Makkink_evspsblpot.nc'</span>\n",
       "    <span style=\"font-weight: bold\">}</span>\n",
       "<span style=\"font-weight: bold\">)</span>\n",
       "</pre>\n"
      ],
      "text/plain": [
       "\u001b[1;35mLumpedMakkinkForcing\u001b[0m\u001b[1m(\u001b[0m\n",
       "    \u001b[33mstart_time\u001b[0m=\u001b[32m'1997-08-01T00:00:00Z'\u001b[0m,\n",
       "    \u001b[33mend_time\u001b[0m=\u001b[32m'2010-07-31T00:00:00Z'\u001b[0m,\n",
       "    \u001b[33mdirectory\u001b[0m=\u001b[1;35mPosixPath\u001b[0m\u001b[1m(\u001b[0m\u001b[32m'/home/rhut/ewatercycleClimateImpact/HBV/data/hysets_01371500/ERA5/work/diagnostic/script'\u001b[0m\u001b[1m)\u001b[0m\n",
       ",\n",
       "    \u001b[33mshape\u001b[0m=\u001b[1;35mPosixPath\u001b[0m\u001b[1m(\u001b[0m\u001b[32m'/home/rhut/ewatercycleClimateImpact/HBV/data/hysets_01371500/ERA5/work/diagnostic/script/hyset\u001b[0m\n",
       "\u001b[32ms_01371500.shp'\u001b[0m\u001b[1m)\u001b[0m,\n",
       "    \u001b[33mfilenames\u001b[0m=\u001b[1m{\u001b[0m\n",
       "        \u001b[32m'pr'\u001b[0m: \u001b[32m'OBS6_ERA5_reanaly_1_day_pr_1997-2010.nc'\u001b[0m,\n",
       "        \u001b[32m'tas'\u001b[0m: \u001b[32m'OBS6_ERA5_reanaly_1_day_tas_1997-2010.nc'\u001b[0m,\n",
       "        \u001b[32m'rsds'\u001b[0m: \u001b[32m'OBS6_ERA5_reanaly_1_day_rsds_1997-2010.nc'\u001b[0m,\n",
       "        \u001b[32m'evspsblpot'\u001b[0m: \u001b[32m'Derived_Makkink_evspsblpot.nc'\u001b[0m\n",
       "    \u001b[1m}\u001b[0m\n",
       "\u001b[1m)\u001b[0m\n"
      ]
     },
     "metadata": {},
     "output_type": "display_data"
    }
   ],
   "source": [
    "print(ERA5_forcing_object)"
   ]
  },
  {
   "cell_type": "markdown",
   "id": "381c7e5e-f4b9-4db8-98e7-cfe37ea27821",
   "metadata": {},
   "source": [
    "## Calibration basics and objective function\n",
    "In model calibration, we are looking for a set of parameters such that when the model is run with that set of parameters, we get the best model output. What \"best\" means differs per application or research question. In general, we like some model outputs to be as close as possible to observations. For this purpose we create an objective function that takes the model output of interest and observations as inputs and calculates some score that shows goodness of fit. Here we use a RMS difference function:"
   ]
  },
  {
   "cell_type": "code",
   "execution_count": 12,
   "id": "8dbba424-5001-44e7-8b84-1065cb7e07ca",
   "metadata": {},
   "outputs": [],
   "source": [
    "def calibrationObjective(model_output, observation, start_calibration, end_calibration, metric = 'rmse'):\n",
    "    '''A function that takes in two dataFrames, interpolates the model output to the\n",
    "    observations and calculates the average absolute difference between the two. '''\n",
    "\n",
    "    # Combine the two in one dataFrame and interpolate, to make sure times match\n",
    "    hydro_data = pd.concat([model_output.reindex(observation.index, method = 'ffill'), observation], axis=1,\n",
    "                           keys=['model','observation'])\n",
    "\n",
    "    # Only select the calibration period\n",
    "    hydro_data = hydro_data[hydro_data.index > pd.to_datetime(pd.Timestamp(start_calibration).date())]\n",
    "    hydro_data = hydro_data[hydro_data.index < pd.to_datetime(pd.Timestamp(end_calibration).date())]\n",
    "\n",
    "    obs = hydro_data['observation'].to_numpy()\n",
    "    sim = hydro_data['model'].to_numpy()\n",
    "\n",
    "    metric  = calculate_metric(obs,sim,'kge')\n",
    "\n",
    "    return metric\n",
    "\n",
    "    # match metric:\n",
    "    #     case 'rmse':\n",
    "    #         # Calculate mean absolute difference\n",
    "    #         squareDiff = (sim - obs)**2\n",
    "    #         rmse = np.sqrt(np.mean(squareDiff))\n",
    "    #         return rmse\n",
    "    #     case 'nse':\n",
    "    #         # Calculate Nash Shutcliff Efficiency\n",
    "    #         nse = 1 - np.sum((obs - sim) ** 2) / np.sum((obs - np.mean(obs)) ** 2)\n",
    "    #         return nse\n",
    "    #     case 'kge':\n",
    "    #         # Calculate Kling Gupta Efficiency\n",
    "    #         if (np.std(obs) == 0) or (np.std(sim) == 0):\n",
    "    #             r = 0\n",
    "    #         else:\n",
    "    #             r = np.corrcoef(obs, sim)[0, 1]\n",
    "    #         alpha = np.std(sim) / np.std(obs)\n",
    "    #         beta = np.mean(sim) / np.mean(obs)\n",
    "    #         kge = 1 - np.sqrt((r - 1) ** 2 + (alpha - 1) ** 2 + (beta - 1) ** 2)\n",
    "    #         return kge\n"
   ]
  },
  {
   "cell_type": "markdown",
   "id": "a4c0dfb3-3a54-4007-80c6-36d74d88881b",
   "metadata": {},
   "source": [
    "## Create a function that runs the entire model and evaluates it\n"
   ]
  },
  {
   "cell_type": "code",
   "execution_count": 13,
   "id": "c4837d8e-c8e0-4336-ae9b-1de3bead0fbf",
   "metadata": {},
   "outputs": [],
   "source": [
    "# Create an array with parameter values.\n",
    "\n",
    "# First set minimum and maximum values on the parameters\n",
    "p_min_initial = np.array([0,   0.2,  40,    .5,   .001,   1,     .01,  .0001,   0.01])\n",
    "p_max_initial = np.array([8,    1,  800,   4,    .3,     10,    .1,   .01,   10.0])\n",
    "\n",
    "p_initial = (p_min_initial + p_min_initial)/2"
   ]
  },
  {
   "cell_type": "code",
   "execution_count": 14,
   "id": "ed960ab6-b63a-4664-8306-b57c2ecf27ec",
   "metadata": {
    "ExecuteTime": {
     "end_time": "2024-03-07T14:21:34.528887900Z",
     "start_time": "2024-03-07T14:21:34.501125300Z"
    },
    "scrolled": true
   },
   "outputs": [
    {
     "data": {
      "text/html": [
       "<pre style=\"white-space:pre;overflow-x:auto;line-height:normal;font-family:Menlo,'DejaVu Sans Mono',consolas,'Courier New',monospace\"><span style=\"font-weight: bold\">[</span>\n",
       "    <span style=\"font-weight: bold\">(</span><span style=\"color: #008000; text-decoration-color: #008000\">'Imax'</span>, <span style=\"color: #008080; text-decoration-color: #008080; font-weight: bold\">0.0</span><span style=\"font-weight: bold\">)</span>,\n",
       "    <span style=\"font-weight: bold\">(</span><span style=\"color: #008000; text-decoration-color: #008000\">'Ce'</span>, <span style=\"color: #008080; text-decoration-color: #008080; font-weight: bold\">0.2</span><span style=\"font-weight: bold\">)</span>,\n",
       "    <span style=\"font-weight: bold\">(</span><span style=\"color: #008000; text-decoration-color: #008000\">'Sumax'</span>, <span style=\"color: #008080; text-decoration-color: #008080; font-weight: bold\">40.0</span><span style=\"font-weight: bold\">)</span>,\n",
       "    <span style=\"font-weight: bold\">(</span><span style=\"color: #008000; text-decoration-color: #008000\">'Beta'</span>, <span style=\"color: #008080; text-decoration-color: #008080; font-weight: bold\">0.5</span><span style=\"font-weight: bold\">)</span>,\n",
       "    <span style=\"font-weight: bold\">(</span><span style=\"color: #008000; text-decoration-color: #008000\">'Pmax'</span>, <span style=\"color: #008080; text-decoration-color: #008080; font-weight: bold\">0.001</span><span style=\"font-weight: bold\">)</span>,\n",
       "    <span style=\"font-weight: bold\">(</span><span style=\"color: #008000; text-decoration-color: #008000\">'Tlag'</span>, <span style=\"color: #008080; text-decoration-color: #008080; font-weight: bold\">1.0</span><span style=\"font-weight: bold\">)</span>,\n",
       "    <span style=\"font-weight: bold\">(</span><span style=\"color: #008000; text-decoration-color: #008000\">'Kf'</span>, <span style=\"color: #008080; text-decoration-color: #008080; font-weight: bold\">0.01</span><span style=\"font-weight: bold\">)</span>,\n",
       "    <span style=\"font-weight: bold\">(</span><span style=\"color: #008000; text-decoration-color: #008000\">'Ks'</span>, <span style=\"color: #008080; text-decoration-color: #008080; font-weight: bold\">0.0</span><span style=\"font-weight: bold\">)</span>,\n",
       "    <span style=\"font-weight: bold\">(</span><span style=\"color: #008000; text-decoration-color: #008000\">'FM'</span>, <span style=\"color: #008080; text-decoration-color: #008080; font-weight: bold\">0.01</span><span style=\"font-weight: bold\">)</span>\n",
       "<span style=\"font-weight: bold\">]</span>\n",
       "</pre>\n"
      ],
      "text/plain": [
       "\u001b[1m[\u001b[0m\n",
       "    \u001b[1m(\u001b[0m\u001b[32m'Imax'\u001b[0m, \u001b[1;36m0.0\u001b[0m\u001b[1m)\u001b[0m,\n",
       "    \u001b[1m(\u001b[0m\u001b[32m'Ce'\u001b[0m, \u001b[1;36m0.2\u001b[0m\u001b[1m)\u001b[0m,\n",
       "    \u001b[1m(\u001b[0m\u001b[32m'Sumax'\u001b[0m, \u001b[1;36m40.0\u001b[0m\u001b[1m)\u001b[0m,\n",
       "    \u001b[1m(\u001b[0m\u001b[32m'Beta'\u001b[0m, \u001b[1;36m0.5\u001b[0m\u001b[1m)\u001b[0m,\n",
       "    \u001b[1m(\u001b[0m\u001b[32m'Pmax'\u001b[0m, \u001b[1;36m0.001\u001b[0m\u001b[1m)\u001b[0m,\n",
       "    \u001b[1m(\u001b[0m\u001b[32m'Tlag'\u001b[0m, \u001b[1;36m1.0\u001b[0m\u001b[1m)\u001b[0m,\n",
       "    \u001b[1m(\u001b[0m\u001b[32m'Kf'\u001b[0m, \u001b[1;36m0.01\u001b[0m\u001b[1m)\u001b[0m,\n",
       "    \u001b[1m(\u001b[0m\u001b[32m'Ks'\u001b[0m, \u001b[1;36m0.0\u001b[0m\u001b[1m)\u001b[0m,\n",
       "    \u001b[1m(\u001b[0m\u001b[32m'FM'\u001b[0m, \u001b[1;36m0.01\u001b[0m\u001b[1m)\u001b[0m\n",
       "\u001b[1m]\u001b[0m\n"
      ]
     },
     "metadata": {},
     "output_type": "display_data"
    }
   ],
   "source": [
    "# Print parameter names and values for first ensemble member\n",
    "param_names = [\"Imax\", \"Ce\", \"Sumax\", \"Beta\", \"Pmax\", \"Tlag\", \"Kf\", \"Ks\", \"FM\"]\n",
    "print(list(zip(param_names, np.round(p_initial, decimals=3))))"
   ]
  },
  {
   "cell_type": "code",
   "execution_count": 15,
   "id": "f70032e1-602a-4163-a338-2a3ff6264c00",
   "metadata": {
    "ExecuteTime": {
     "end_time": "2024-03-07T14:21:34.494347400Z",
     "start_time": "2024-03-07T14:21:34.484123900Z"
    }
   },
   "outputs": [],
   "source": [
    "# Set initial state values\n",
    "#               Si,  Su, Sf, Ss, Sp\n",
    "s_0 = np.array([0,  100,  0,  5,  0])"
   ]
  },
  {
   "cell_type": "code",
   "execution_count": 16,
   "id": "38ae0eaf-1fd1-4087-8bd1-907f77c6281e",
   "metadata": {},
   "outputs": [],
   "source": [
    "# Create a dataframe for the observations\n",
    "ds_observation = xr.open_mfdataset([caravan_data_object['Q']]).to_pandas()\n",
    "ds_observation = ds_observation['Q']"
   ]
  },
  {
   "cell_type": "code",
   "execution_count": 17,
   "id": "8ab27111-beb0-43ac-aa76-ec9a3e1bcec9",
   "metadata": {},
   "outputs": [],
   "source": [
    "def runModel(params, forcing_object, observations, initial_state, start_calibration, end_calibration):\n",
    "    # Create model object, notice the forcing object.\n",
    "    model = ewatercycle.models.HBVLocal(forcing=forcing_object)\n",
    "\n",
    "    # Create config file in model.setup()\n",
    "    config_file, _ = model.setup(parameters=params, initial_storage=initial_state,\n",
    "                                start_time = start_calibration, end_time = end_calibration)\n",
    "    # Initialize model\n",
    "    model.initialize(config_file)\n",
    "    # Run model, capture calculated discharge and timestamps\n",
    "    Q_m = []\n",
    "    time = []\n",
    "    while model.time < model.end_time:\n",
    "        model.update()\n",
    "        Q_m.append(model.get_value(\"Q\")[0])\n",
    "        time.append(pd.Timestamp(model.time_as_datetime))\n",
    "    # Finalize model (shuts down container, frees memory)\n",
    "    model.finalize()\n",
    "\n",
    "    # Make a pandas series\n",
    "    model_output = pd.Series(data=Q_m, name=\"modelled discharge\", index=time)\n",
    "\n",
    "    return model_output"
   ]
  },
  {
   "cell_type": "code",
   "execution_count": 18,
   "id": "ebbd898f-b3cc-4d03-8050-21067d31c1e8",
   "metadata": {
    "ExecuteTime": {
     "end_time": "2024-03-07T14:21:34.948731400Z",
     "start_time": "2024-03-07T14:21:34.568127600Z"
    }
   },
   "outputs": [],
   "source": [
    "def runModelReturnObjective(params, forcing_object, observations, initial_state, start_calibration, end_calibration):\n",
    "\n",
    "    model_output = runModel(params, forcing_object, observations, initial_state, start_calibration, end_calibration)\n",
    "\n",
    "    kge = calibrationObjective(model_output, observations, start_calibration, end_calibration, metric = 'kge')\n",
    "\n",
    "    # kge is best if high, so we do one minus kge to make sure that sce optimizes correctly\n",
    "    # since sce always minimizes\n",
    "\n",
    "    score = 1 - kge\n",
    "\n",
    "    return score"
   ]
  },
  {
   "cell_type": "markdown",
   "id": "bf328278-f80e-415f-8a02-39d88ff2e72d",
   "metadata": {},
   "source": [
    "## Find best parameter set\n",
    "By calculating the objective function for each model output, we can search the combination of parameters with the lowest objective function."
   ]
  },
  {
   "cell_type": "code",
   "execution_count": 19,
   "id": "9579d730-77bc-46f1-87c7-60bc99419fd8",
   "metadata": {},
   "outputs": [
    {
     "data": {
      "text/html": [
       "<pre style=\"white-space:pre;overflow-x:auto;line-height:normal;font-family:Menlo,'DejaVu Sans Mono',consolas,'Courier New',monospace\"><span style=\"font-weight: bold\">[</span>\n",
       "    <span style=\"font-weight: bold\">(</span><span style=\"color: #008080; text-decoration-color: #008080; font-weight: bold\">0.0</span>, <span style=\"color: #008080; text-decoration-color: #008080; font-weight: bold\">8.0</span><span style=\"font-weight: bold\">)</span>,\n",
       "    <span style=\"font-weight: bold\">(</span><span style=\"color: #008080; text-decoration-color: #008080; font-weight: bold\">0.2</span>, <span style=\"color: #008080; text-decoration-color: #008080; font-weight: bold\">1.0</span><span style=\"font-weight: bold\">)</span>,\n",
       "    <span style=\"font-weight: bold\">(</span><span style=\"color: #008080; text-decoration-color: #008080; font-weight: bold\">40.0</span>, <span style=\"color: #008080; text-decoration-color: #008080; font-weight: bold\">800.0</span><span style=\"font-weight: bold\">)</span>,\n",
       "    <span style=\"font-weight: bold\">(</span><span style=\"color: #008080; text-decoration-color: #008080; font-weight: bold\">0.5</span>, <span style=\"color: #008080; text-decoration-color: #008080; font-weight: bold\">4.0</span><span style=\"font-weight: bold\">)</span>,\n",
       "    <span style=\"font-weight: bold\">(</span><span style=\"color: #008080; text-decoration-color: #008080; font-weight: bold\">0.001</span>, <span style=\"color: #008080; text-decoration-color: #008080; font-weight: bold\">0.3</span><span style=\"font-weight: bold\">)</span>,\n",
       "    <span style=\"font-weight: bold\">(</span><span style=\"color: #008080; text-decoration-color: #008080; font-weight: bold\">1.0</span>, <span style=\"color: #008080; text-decoration-color: #008080; font-weight: bold\">10.0</span><span style=\"font-weight: bold\">)</span>,\n",
       "    <span style=\"font-weight: bold\">(</span><span style=\"color: #008080; text-decoration-color: #008080; font-weight: bold\">0.01</span>, <span style=\"color: #008080; text-decoration-color: #008080; font-weight: bold\">0.1</span><span style=\"font-weight: bold\">)</span>,\n",
       "    <span style=\"font-weight: bold\">(</span><span style=\"color: #008080; text-decoration-color: #008080; font-weight: bold\">0.0001</span>, <span style=\"color: #008080; text-decoration-color: #008080; font-weight: bold\">0.01</span><span style=\"font-weight: bold\">)</span>,\n",
       "    <span style=\"font-weight: bold\">(</span><span style=\"color: #008080; text-decoration-color: #008080; font-weight: bold\">0.01</span>, <span style=\"color: #008080; text-decoration-color: #008080; font-weight: bold\">10.0</span><span style=\"font-weight: bold\">)</span>\n",
       "<span style=\"font-weight: bold\">]</span>\n",
       "</pre>\n"
      ],
      "text/plain": [
       "\u001b[1m[\u001b[0m\n",
       "    \u001b[1m(\u001b[0m\u001b[1;36m0.0\u001b[0m, \u001b[1;36m8.0\u001b[0m\u001b[1m)\u001b[0m,\n",
       "    \u001b[1m(\u001b[0m\u001b[1;36m0.2\u001b[0m, \u001b[1;36m1.0\u001b[0m\u001b[1m)\u001b[0m,\n",
       "    \u001b[1m(\u001b[0m\u001b[1;36m40.0\u001b[0m, \u001b[1;36m800.0\u001b[0m\u001b[1m)\u001b[0m,\n",
       "    \u001b[1m(\u001b[0m\u001b[1;36m0.5\u001b[0m, \u001b[1;36m4.0\u001b[0m\u001b[1m)\u001b[0m,\n",
       "    \u001b[1m(\u001b[0m\u001b[1;36m0.001\u001b[0m, \u001b[1;36m0.3\u001b[0m\u001b[1m)\u001b[0m,\n",
       "    \u001b[1m(\u001b[0m\u001b[1;36m1.0\u001b[0m, \u001b[1;36m10.0\u001b[0m\u001b[1m)\u001b[0m,\n",
       "    \u001b[1m(\u001b[0m\u001b[1;36m0.01\u001b[0m, \u001b[1;36m0.1\u001b[0m\u001b[1m)\u001b[0m,\n",
       "    \u001b[1m(\u001b[0m\u001b[1;36m0.0001\u001b[0m, \u001b[1;36m0.01\u001b[0m\u001b[1m)\u001b[0m,\n",
       "    \u001b[1m(\u001b[0m\u001b[1;36m0.01\u001b[0m, \u001b[1;36m10.0\u001b[0m\u001b[1m)\u001b[0m\n",
       "\u001b[1m]\u001b[0m\n"
      ]
     },
     "metadata": {},
     "output_type": "display_data"
    }
   ],
   "source": [
    "# Define parameter bounds as a sequence of (min, max) pairs\n",
    "bounds = [(p_min_initial[n], p_max_initial[n]) for n in range(len(p_min_initial))]\n",
    "\n",
    "print(bounds)\n",
    "\n"
   ]
  },
  {
   "cell_type": "code",
   "execution_count": 20,
   "id": "892f0ae9-1885-4285-accc-131adf8e691d",
   "metadata": {},
   "outputs": [],
   "source": [
    "# Run optimization\n",
    "result = sceua.minimize(runModelReturnObjective, bounds, args=(ERA5_forcing_object, ds_observation, s_0, settings['calibration_start_date'],\n",
    "                                                              settings['calibration_end_date']), seed=42, max_workers=1)\n"
   ]
  },
  {
   "cell_type": "code",
   "execution_count": 21,
   "id": "3d9e413b-d6db-4ac0-9bac-881051afebb7",
   "metadata": {},
   "outputs": [],
   "source": [
    "# Access the optimization results\n",
    "best_params = result.x\n",
    "best_function_value = result.fun\n",
    "num_iterations = result.nit\n",
    "num_function_evaluations = result.nfev"
   ]
  },
  {
   "cell_type": "code",
   "execution_count": 22,
   "id": "8852d97f-a588-4a99-a9cf-072b0e372623",
   "metadata": {},
   "outputs": [
    {
     "data": {
      "text/html": [
       "<pre style=\"white-space:pre;overflow-x:auto;line-height:normal;font-family:Menlo,'DejaVu Sans Mono',consolas,'Courier New',monospace\"><span style=\"color: #008080; text-decoration-color: #008080; font-weight: bold\">0.42566593523416385</span>\n",
       "</pre>\n"
      ],
      "text/plain": [
       "\u001b[1;36m0.42566593523416385\u001b[0m\n"
      ]
     },
     "metadata": {},
     "output_type": "display_data"
    }
   ],
   "source": [
    "print(best_function_value)"
   ]
  },
  {
   "cell_type": "code",
   "execution_count": 23,
   "id": "74804556-c729-4cf6-9af6-de92f857ccd7",
   "metadata": {},
   "outputs": [],
   "source": [
    "model_output = runModel(best_params, ERA5_forcing_object, ds_observation, s_0, \n",
    "                                              settings['calibration_start_date'], settings['calibration_end_date'])"
   ]
  },
  {
   "cell_type": "code",
   "execution_count": 24,
   "id": "5ea4fa71-815b-422b-9e3b-b339cdd103e7",
   "metadata": {},
   "outputs": [],
   "source": [
    "# Create a dataframe for the observations\n",
    "ds_observation = xr.open_mfdataset([caravan_data_object['Q']]).to_pandas()"
   ]
  },
  {
   "cell_type": "code",
   "execution_count": 25,
   "id": "6bada5cc-00a9-44eb-9b86-3484763927d4",
   "metadata": {},
   "outputs": [
    {
     "data": {
      "text/plain": [
       "<Axes: xlabel='time'>"
      ]
     },
     "execution_count": 25,
     "metadata": {},
     "output_type": "execute_result"
    },
    {
     "data": {
      "image/png": "[encoded data removed]",
      "text/plain": [
       "<Figure size 640x480 with 1 Axes>"
      ]
     },
     "metadata": {},
     "output_type": "display_data"
    }
   ],
   "source": [
    "# Make a plot of the model output of the minimum value\n",
    "ax = model_output.plot(lw=2.5)\n",
    "plt.legend()\n",
    "ds_observation[\"Q\"].plot()"
   ]
  },
  {
   "cell_type": "code",
   "execution_count": 26,
   "id": "d59a77a3-bb6f-4b9d-9e8e-181b2aae567c",
   "metadata": {},
   "outputs": [],
   "source": [
    "df_best = model_output"
   ]
  },
  {
   "cell_type": "code",
   "execution_count": 27,
   "id": "9c8847ee-92af-4d96-8492-99f605ed0c50",
   "metadata": {},
   "outputs": [],
   "source": [
    "df_best.index = df_best.index.tz_localize(\"UTC\")\n",
    "df_select = df_best.tz_convert(\"UTC\")[settings['validation_start_date']:settings['validation_end_date']]"
   ]
  },
  {
   "cell_type": "code",
   "execution_count": 28,
   "id": "69debda5-5a0b-4e6d-815f-f8fa38239e32",
   "metadata": {},
   "outputs": [
    {
     "data": {
      "text/plain": [
       "(13726.0, 14821.0)"
      ]
     },
     "execution_count": 28,
     "metadata": {},
     "output_type": "execute_result"
    },
    {
     "data": {
      "image/png": "[encoded data removed]",
      "text/plain": [
       "<Figure size 640x480 with 1 Axes>"
      ]
     },
     "metadata": {},
     "output_type": "display_data"
    }
   ],
   "source": [
    "# Make a plot of the model output of the minimum value\n",
    "ax = df_select.plot(lw=2.5)\n",
    "ds_observation[\"Q\"].plot(label = 'observed discharge')\n",
    "plt.legend()\n",
    "plt.xlim(settings['validation_start_date'],settings['validation_end_date'])"
   ]
  },
  {
   "cell_type": "markdown",
   "id": "9b88262e-c750-4f8e-a602-50c404969690",
   "metadata": {},
   "source": [
    "## Save results\n",
    "We want to save these results to file to be able to load them in other studies."
   ]
  },
  {
   "cell_type": "code",
   "execution_count": 34,
   "id": "ccde9dca-258d-409c-a602-d4abda553b32",
   "metadata": {
    "ExecuteTime": {
     "start_time": "2024-03-07T14:21:34.997729900Z"
    }
   },
   "outputs": [],
   "source": [
    "# Save to csv file\n",
    "np.savetxt(Path(settings[\"base_path\"]) / \"data\" / (settings[\"caravan_id\"] + settings['caravan_id'] + \"_params_SCE.csv\"), best_params, delimiter=\",\")"
   ]
  },
  {
   "cell_type": "code",
   "execution_count": 35,
   "id": "a9e64974-6afc-40ff-9084-2e6b18141a8a",
   "metadata": {},
   "outputs": [],
   "source": [
    "# Remove all temporary directories made by the optimization algo.\n",
    "\n",
    "!rm -rf hbvlocal*"
   ]
  },
  {
   "cell_type": "code",
   "execution_count": 36,
   "id": "9815a3f9-a171-474f-9b4d-07cfac39f21a",
   "metadata": {},
   "outputs": [
    {
     "name": "stdout",
     "output_type": "stream",
     "text": [
      "Defaulting to user installation because normal site-packages is not writeable\n",
      "Requirement already satisfied: esmvaltool in /opt/conda/envs/ewatercycle2/lib/python3.12/site-packages (2.11.0)\n",
      "Requirement already satisfied: aiohttp in /opt/conda/envs/ewatercycle2/lib/python3.12/site-packages (from esmvaltool) (3.11.9)\n",
      "Requirement already satisfied: cartopy in /opt/conda/envs/ewatercycle2/lib/python3.12/site-packages (from esmvaltool) (0.24.0)\n",
      "Requirement already satisfied: cdo in /opt/conda/envs/ewatercycle2/lib/python3.12/site-packages (from esmvaltool) (1.6.0)\n",
      "Requirement already satisfied: cdsapi in /opt/conda/envs/ewatercycle2/lib/python3.12/site-packages (from esmvaltool) (0.7.5)\n",
      "Requirement already satisfied: cf-units in /opt/conda/envs/ewatercycle2/lib/python3.12/site-packages (from esmvaltool) (3.3.0)\n",
      "Requirement already satisfied: cftime in /opt/conda/envs/ewatercycle2/lib/python3.12/site-packages (from esmvaltool) (1.6.4)\n",
      "Requirement already satisfied: cmocean in /opt/conda/envs/ewatercycle2/lib/python3.12/site-packages (from esmvaltool) (4.0.3)\n",
      "Requirement already satisfied: dask in /opt/conda/envs/ewatercycle2/lib/python3.12/site-packages (from esmvaltool) (2024.11.2)\n",
      "Requirement already satisfied: distributed in /opt/conda/envs/ewatercycle2/lib/python3.12/site-packages (from esmvaltool) (2024.11.2)\n",
      "Requirement already satisfied: ecmwf-api-client in /opt/conda/envs/ewatercycle2/lib/python3.12/site-packages (from esmvaltool) (1.6.3)\n",
      "Requirement already satisfied: eofs in /opt/conda/envs/ewatercycle2/lib/python3.12/site-packages (from esmvaltool) (0.0.0)\n",
      "Requirement already satisfied: ESMPy in /opt/conda/envs/ewatercycle2/lib/python3.12/site-packages (from esmvaltool) (8.4.2)\n",
      "Requirement already satisfied: esmvalcore in /opt/conda/envs/ewatercycle2/lib/python3.12/site-packages (from esmvaltool) (2.11.1)\n",
      "Requirement already satisfied: esmf-regrid>=0.7.0 in /opt/conda/envs/ewatercycle2/lib/python3.12/site-packages (from esmvaltool) (0.11.0)\n",
      "Requirement already satisfied: fiona in /opt/conda/envs/ewatercycle2/lib/python3.12/site-packages (from esmvaltool) (1.10.1)\n",
      "Requirement already satisfied: fire in /opt/conda/envs/ewatercycle2/lib/python3.12/site-packages (from esmvaltool) (0.7.0)\n",
      "Requirement already satisfied: fsspec in /opt/conda/envs/ewatercycle2/lib/python3.12/site-packages (from esmvaltool) (2024.10.0)\n",
      "Requirement already satisfied: GDAL in /opt/conda/envs/ewatercycle2/lib/python3.12/site-packages (from esmvaltool) (3.9.2)\n",
      "Requirement already satisfied: jinja2 in /opt/conda/envs/ewatercycle2/lib/python3.12/site-packages (from esmvaltool) (3.1.4)\n",
      "Requirement already satisfied: joblib in /opt/conda/envs/ewatercycle2/lib/python3.12/site-packages (from esmvaltool) (1.4.2)\n",
      "Requirement already satisfied: lime in /opt/conda/envs/ewatercycle2/lib/python3.12/site-packages (from esmvaltool) (0.2.0.1)\n",
      "Requirement already satisfied: mapgenerator>=1.0.5 in /opt/conda/envs/ewatercycle2/lib/python3.12/site-packages (from esmvaltool) (1.0.7)\n",
      "Requirement already satisfied: matplotlib<3.9.0 in /opt/conda/envs/ewatercycle2/lib/python3.12/site-packages (from esmvaltool) (3.8.4)\n",
      "Requirement already satisfied: natsort in /opt/conda/envs/ewatercycle2/lib/python3.12/site-packages (from esmvaltool) (8.4.0)\n",
      "Requirement already satisfied: nc-time-axis in /opt/conda/envs/ewatercycle2/lib/python3.12/site-packages (from esmvaltool) (1.4.1)\n",
      "Requirement already satisfied: netCDF4 in /opt/conda/envs/ewatercycle2/lib/python3.12/site-packages (from esmvaltool) (1.7.1)\n",
      "Requirement already satisfied: numba in /opt/conda/envs/ewatercycle2/lib/python3.12/site-packages (from esmvaltool) (0.60.0)\n",
      "Requirement already satisfied: numpy!=1.24.3 in /home/rhut/.local/lib/python3.12/site-packages (from esmvaltool) (2.2.6)\n",
      "Requirement already satisfied: openpyxl in /opt/conda/envs/ewatercycle2/lib/python3.12/site-packages (from esmvaltool) (3.1.5)\n",
      "Requirement already satisfied: packaging in /opt/conda/envs/ewatercycle2/lib/python3.12/site-packages (from esmvaltool) (24.2)\n",
      "Requirement already satisfied: pandas!=2.2.0,!=2.2.1,!=2.2.2 in /opt/conda/envs/ewatercycle2/lib/python3.12/site-packages (from esmvaltool) (2.2.3)\n",
      "Requirement already satisfied: progressbar2 in /opt/conda/envs/ewatercycle2/lib/python3.12/site-packages (from esmvaltool) (4.5.0)\n",
      "Requirement already satisfied: psyplot in /opt/conda/envs/ewatercycle2/lib/python3.12/site-packages (from esmvaltool) (1.5.1)\n",
      "Requirement already satisfied: psy-maps in /opt/conda/envs/ewatercycle2/lib/python3.12/site-packages (from esmvaltool) (1.5.0)\n",
      "Requirement already satisfied: psy-reg in /opt/conda/envs/ewatercycle2/lib/python3.12/site-packages (from esmvaltool) (1.5.0)\n",
      "Requirement already satisfied: psy-simple in /opt/conda/envs/ewatercycle2/lib/python3.12/site-packages (from esmvaltool) (1.5.1)\n",
      "Requirement already satisfied: pyproj>=2.1 in /opt/conda/envs/ewatercycle2/lib/python3.12/site-packages (from esmvaltool) (3.7.0)\n",
      "Requirement already satisfied: pys2index in /opt/conda/envs/ewatercycle2/lib/python3.12/site-packages (from esmvaltool) (0.1.5)\n",
      "Requirement already satisfied: python-dateutil in /opt/conda/envs/ewatercycle2/lib/python3.12/site-packages (from esmvaltool) (2.9.0.post0)\n",
      "Requirement already satisfied: pyyaml in /opt/conda/envs/ewatercycle2/lib/python3.12/site-packages (from esmvaltool) (6.0.2)\n",
      "Requirement already satisfied: rasterio in /opt/conda/envs/ewatercycle2/lib/python3.12/site-packages (from esmvaltool) (1.4.1)\n",
      "Requirement already satisfied: requests in /opt/conda/envs/ewatercycle2/lib/python3.12/site-packages (from esmvaltool) (2.32.3)\n",
      "Requirement already satisfied: ruamel.yaml in /opt/conda/envs/ewatercycle2/lib/python3.12/site-packages (from esmvaltool) (0.18.6)\n",
      "Requirement already satisfied: scikit-image in /opt/conda/envs/ewatercycle2/lib/python3.12/site-packages (from esmvaltool) (0.24.0)\n",
      "Requirement already satisfied: scikit-learn>=1.4.0 in /opt/conda/envs/ewatercycle2/lib/python3.12/site-packages (from esmvaltool) (1.5.2)\n",
      "Requirement already satisfied: scipy in /home/rhut/.local/lib/python3.12/site-packages (from esmvaltool) (1.15.3)\n",
      "Requirement already satisfied: scitools-iris>=3.6.1 in /opt/conda/envs/ewatercycle2/lib/python3.12/site-packages (from esmvaltool) (3.11.0)\n",
      "Requirement already satisfied: seaborn in /opt/conda/envs/ewatercycle2/lib/python3.12/site-packages (from esmvaltool) (0.13.2)\n",
      "Requirement already satisfied: seawater in /opt/conda/envs/ewatercycle2/lib/python3.12/site-packages (from esmvaltool) (3.3.5)\n",
      "Requirement already satisfied: shapely>=2 in /opt/conda/envs/ewatercycle2/lib/python3.12/site-packages (from esmvaltool) (2.0.6)\n",
      "Requirement already satisfied: xarray>=0.12.0 in /opt/conda/envs/ewatercycle2/lib/python3.12/site-packages (from esmvaltool) (2024.11.0)\n",
      "Requirement already satisfied: xesmf>=0.7.1 in /opt/conda/envs/ewatercycle2/lib/python3.12/site-packages (from esmvaltool) (0.8.7)\n",
      "Requirement already satisfied: xgboost>1.6.1 in /opt/conda/envs/ewatercycle2/lib/python3.12/site-packages (from esmvaltool) (2.1.2)\n",
      "Requirement already satisfied: xlsxwriter in /opt/conda/envs/ewatercycle2/lib/python3.12/site-packages (from esmvaltool) (3.2.0)\n",
      "Requirement already satisfied: zarr in /opt/conda/envs/ewatercycle2/lib/python3.12/site-packages (from esmvaltool) (2.18.3)\n",
      "Requirement already satisfied: ConfigArgParse in /opt/conda/envs/ewatercycle2/lib/python3.12/site-packages (from mapgenerator>=1.0.5->esmvaltool) (1.7)\n",
      "Requirement already satisfied: lxml in /opt/conda/envs/ewatercycle2/lib/python3.12/site-packages (from mapgenerator>=1.0.5->esmvaltool) (5.3.0)\n",
      "Requirement already satisfied: plotly in /opt/conda/envs/ewatercycle2/lib/python3.12/site-packages (from mapgenerator>=1.0.5->esmvaltool) (5.24.1)\n",
      "Requirement already satisfied: chart-studio in /opt/conda/envs/ewatercycle2/lib/python3.12/site-packages (from mapgenerator>=1.0.5->esmvaltool) (1.1.0)\n",
      "Requirement already satisfied: config in /opt/conda/envs/ewatercycle2/lib/python3.12/site-packages (from mapgenerator>=1.0.5->esmvaltool) (0.5.1)\n",
      "Requirement already satisfied: contourpy>=1.0.1 in /opt/conda/envs/ewatercycle2/lib/python3.12/site-packages (from matplotlib<3.9.0->esmvaltool) (1.3.1)\n",
      "Requirement already satisfied: cycler>=0.10 in /opt/conda/envs/ewatercycle2/lib/python3.12/site-packages (from matplotlib<3.9.0->esmvaltool) (0.12.1)\n",
      "Requirement already satisfied: fonttools>=4.22.0 in /opt/conda/envs/ewatercycle2/lib/python3.12/site-packages (from matplotlib<3.9.0->esmvaltool) (4.55.0)\n",
      "Requirement already satisfied: kiwisolver>=1.3.1 in /opt/conda/envs/ewatercycle2/lib/python3.12/site-packages (from matplotlib<3.9.0->esmvaltool) (1.4.7)\n",
      "Requirement already satisfied: pillow>=8 in /opt/conda/envs/ewatercycle2/lib/python3.12/site-packages (from matplotlib<3.9.0->esmvaltool) (11.0.0)\n",
      "Requirement already satisfied: pyparsing>=2.3.1 in /opt/conda/envs/ewatercycle2/lib/python3.12/site-packages (from matplotlib<3.9.0->esmvaltool) (3.2.0)\n",
      "Requirement already satisfied: pytz>=2020.1 in /opt/conda/envs/ewatercycle2/lib/python3.12/site-packages (from pandas!=2.2.0,!=2.2.1,!=2.2.2->esmvaltool) (2024.1)\n",
      "Requirement already satisfied: tzdata>=2022.7 in /opt/conda/envs/ewatercycle2/lib/python3.12/site-packages (from pandas!=2.2.0,!=2.2.1,!=2.2.2->esmvaltool) (2024.2)\n",
      "Requirement already satisfied: certifi in /opt/conda/envs/ewatercycle2/lib/python3.12/site-packages (from pyproj>=2.1->esmvaltool) (2025.1.31)\n",
      "Requirement already satisfied: six>=1.5 in /opt/conda/envs/ewatercycle2/lib/python3.12/site-packages (from python-dateutil->esmvaltool) (1.16.0)\n",
      "Requirement already satisfied: threadpoolctl>=3.1.0 in /opt/conda/envs/ewatercycle2/lib/python3.12/site-packages (from scikit-learn>=1.4.0->esmvaltool) (3.5.0)\n",
      "Requirement already satisfied: xxhash in /opt/conda/envs/ewatercycle2/lib/python3.12/site-packages (from scitools-iris>=3.6.1->esmvaltool) (3.5.0)\n",
      "Requirement already satisfied: pyshp>=2.3 in /opt/conda/envs/ewatercycle2/lib/python3.12/site-packages (from cartopy->esmvaltool) (2.3.1)\n",
      "Requirement already satisfied: click>=8.1 in /opt/conda/envs/ewatercycle2/lib/python3.12/site-packages (from dask->esmvaltool) (8.1.7)\n",
      "Requirement already satisfied: cloudpickle>=3.0.0 in /opt/conda/envs/ewatercycle2/lib/python3.12/site-packages (from dask->esmvaltool) (3.1.0)\n",
      "Requirement already satisfied: partd>=1.4.0 in /opt/conda/envs/ewatercycle2/lib/python3.12/site-packages (from dask->esmvaltool) (1.4.2)\n",
      "Requirement already satisfied: toolz>=0.10.0 in /opt/conda/envs/ewatercycle2/lib/python3.12/site-packages (from dask->esmvaltool) (1.0.0)\n",
      "Requirement already satisfied: cf-xarray>=0.5.1 in /opt/conda/envs/ewatercycle2/lib/python3.12/site-packages (from xesmf>=0.7.1->esmvaltool) (0.10.0)\n",
      "Requirement already satisfied: sparse>=0.8.0 in /opt/conda/envs/ewatercycle2/lib/python3.12/site-packages (from xesmf>=0.7.1->esmvaltool) (0.15.4)\n",
      "Requirement already satisfied: llvmlite<0.44,>=0.43.0dev0 in /opt/conda/envs/ewatercycle2/lib/python3.12/site-packages (from numba->esmvaltool) (0.43.0)\n",
      "Collecting numpy!=1.24.3 (from esmvaltool)\n",
      "  Using cached numpy-2.0.2-cp312-cp312-manylinux_2_17_x86_64.manylinux2014_x86_64.whl.metadata (60 kB)\n",
      "Requirement already satisfied: aiohappyeyeballs>=2.3.0 in /opt/conda/envs/ewatercycle2/lib/python3.12/site-packages (from aiohttp->esmvaltool) (2.4.4)\n",
      "Requirement already satisfied: aiosignal>=1.1.2 in /opt/conda/envs/ewatercycle2/lib/python3.12/site-packages (from aiohttp->esmvaltool) (1.3.1)\n",
      "Requirement already satisfied: attrs>=17.3.0 in /opt/conda/envs/ewatercycle2/lib/python3.12/site-packages (from aiohttp->esmvaltool) (24.2.0)\n",
      "Requirement already satisfied: frozenlist>=1.1.1 in /opt/conda/envs/ewatercycle2/lib/python3.12/site-packages (from aiohttp->esmvaltool) (1.5.0)\n",
      "Requirement already satisfied: multidict<7.0,>=4.5 in /opt/conda/envs/ewatercycle2/lib/python3.12/site-packages (from aiohttp->esmvaltool) (6.1.0)\n",
      "Requirement already satisfied: propcache>=0.2.0 in /opt/conda/envs/ewatercycle2/lib/python3.12/site-packages (from aiohttp->esmvaltool) (0.2.0)\n",
      "Requirement already satisfied: yarl<2.0,>=1.17.0 in /opt/conda/envs/ewatercycle2/lib/python3.12/site-packages (from aiohttp->esmvaltool) (1.18.0)\n",
      "Requirement already satisfied: datapi in /opt/conda/envs/ewatercycle2/lib/python3.12/site-packages (from cdsapi->esmvaltool) (0.1.1)\n",
      "Requirement already satisfied: tqdm in /opt/conda/envs/ewatercycle2/lib/python3.12/site-packages (from cdsapi->esmvaltool) (4.67.1)\n",
      "Requirement already satisfied: charset-normalizer<4,>=2 in /opt/conda/envs/ewatercycle2/lib/python3.12/site-packages (from requests->esmvaltool) (3.4.0)\n",
      "Requirement already satisfied: idna<4,>=2.5 in /opt/conda/envs/ewatercycle2/lib/python3.12/site-packages (from requests->esmvaltool) (3.10)\n",
      "Requirement already satisfied: urllib3<3,>=1.21.1 in /opt/conda/envs/ewatercycle2/lib/python3.12/site-packages (from requests->esmvaltool) (2.2.3)\n",
      "Requirement already satisfied: locket>=1.0.0 in /opt/conda/envs/ewatercycle2/lib/python3.12/site-packages (from distributed->esmvaltool) (1.0.0)\n",
      "Requirement already satisfied: msgpack>=1.0.2 in /opt/conda/envs/ewatercycle2/lib/python3.12/site-packages (from distributed->esmvaltool) (1.1.0)\n",
      "Requirement already satisfied: psutil>=5.8.0 in /opt/conda/envs/ewatercycle2/lib/python3.12/site-packages (from distributed->esmvaltool) (6.1.0)\n",
      "Requirement already satisfied: sortedcontainers>=2.0.5 in /opt/conda/envs/ewatercycle2/lib/python3.12/site-packages (from distributed->esmvaltool) (2.4.0)\n",
      "Requirement already satisfied: tblib>=1.6.0 in /opt/conda/envs/ewatercycle2/lib/python3.12/site-packages (from distributed->esmvaltool) (3.0.0)\n",
      "Requirement already satisfied: tornado>=6.2.0 in /opt/conda/envs/ewatercycle2/lib/python3.12/site-packages (from distributed->esmvaltool) (6.4.2)\n",
      "Requirement already satisfied: zict>=3.0.0 in /opt/conda/envs/ewatercycle2/lib/python3.12/site-packages (from distributed->esmvaltool) (3.0.0)\n",
      "Requirement already satisfied: MarkupSafe>=2.0 in /opt/conda/envs/ewatercycle2/lib/python3.12/site-packages (from jinja2->esmvaltool) (3.0.2)\n",
      "Requirement already satisfied: dask-jobqueue in /opt/conda/envs/ewatercycle2/lib/python3.12/site-packages (from esmvalcore->esmvaltool) (0.9.0)\n",
      "Requirement already satisfied: esgf-pyclient>=0.3.1 in /opt/conda/envs/ewatercycle2/lib/python3.12/site-packages (from esmvalcore->esmvaltool) (0.3.1)\n",
      "Requirement already satisfied: filelock in /opt/conda/envs/ewatercycle2/lib/python3.12/site-packages (from esmvalcore->esmvaltool) (3.16.1)\n",
      "Requirement already satisfied: geopy in /opt/conda/envs/ewatercycle2/lib/python3.12/site-packages (from esmvalcore->esmvaltool) (2.4.1)\n",
      "Requirement already satisfied: humanfriendly in /opt/conda/envs/ewatercycle2/lib/python3.12/site-packages (from esmvalcore->esmvaltool) (10.0)\n",
      "Requirement already satisfied: isodate>=0.7.0 in /opt/conda/envs/ewatercycle2/lib/python3.12/site-packages (from esmvalcore->esmvaltool) (0.7.2)\n",
      "Requirement already satisfied: nested-lookup in /opt/conda/envs/ewatercycle2/lib/python3.12/site-packages (from esmvalcore->esmvaltool) (0.2.25)\n",
      "  Using cached numpy-1.26.4-cp312-cp312-manylinux_2_17_x86_64.manylinux2014_x86_64.whl.metadata (61 kB)\n",
      "Requirement already satisfied: prov in /opt/conda/envs/ewatercycle2/lib/python3.12/site-packages (from esmvalcore->esmvaltool) (2.0.0)\n",
      "Requirement already satisfied: py-cordex in /opt/conda/envs/ewatercycle2/lib/python3.12/site-packages (from esmvalcore->esmvaltool) (0.9.0)\n",
      "Requirement already satisfied: pybtex in /opt/conda/envs/ewatercycle2/lib/python3.12/site-packages (from esmvalcore->esmvaltool) (0.24.0)\n",
      "Requirement already satisfied: stratify>=0.3 in /opt/conda/envs/ewatercycle2/lib/python3.12/site-packages (from esmvalcore->esmvaltool) (0.3.0)\n",
      "Requirement already satisfied: yamale in /opt/conda/envs/ewatercycle2/lib/python3.12/site-packages (from esmvalcore->esmvaltool) (5.2.1)\n",
      "Requirement already satisfied: click-plugins>=1.0 in /opt/conda/envs/ewatercycle2/lib/python3.12/site-packages (from fiona->esmvaltool) (1.1.1)\n",
      "Requirement already satisfied: cligj>=0.5 in /opt/conda/envs/ewatercycle2/lib/python3.12/site-packages (from fiona->esmvaltool) (0.7.2)\n",
      "Requirement already satisfied: termcolor in /opt/conda/envs/ewatercycle2/lib/python3.12/site-packages (from fire->esmvaltool) (2.5.0)\n",
      "Requirement already satisfied: networkx>=2.8 in /opt/conda/envs/ewatercycle2/lib/python3.12/site-packages (from scikit-image->esmvaltool) (3.4.2)\n",
      "Requirement already satisfied: imageio>=2.33 in /opt/conda/envs/ewatercycle2/lib/python3.12/site-packages (from scikit-image->esmvaltool) (2.36.1)\n",
      "Requirement already satisfied: tifffile>=2022.8.12 in /opt/conda/envs/ewatercycle2/lib/python3.12/site-packages (from scikit-image->esmvaltool) (2024.9.20)\n",
      "Requirement already satisfied: lazy-loader>=0.4 in /opt/conda/envs/ewatercycle2/lib/python3.12/site-packages (from scikit-image->esmvaltool) (0.4)\n",
      "Requirement already satisfied: et-xmlfile in /opt/conda/envs/ewatercycle2/lib/python3.12/site-packages (from openpyxl->esmvaltool) (2.0.0)\n",
      "Requirement already satisfied: python-utils>=3.8.1 in /opt/conda/envs/ewatercycle2/lib/python3.12/site-packages (from progressbar2->esmvaltool) (3.9.1)\n",
      "Requirement already satisfied: docrep>=0.3 in /opt/conda/envs/ewatercycle2/lib/python3.12/site-packages (from psyplot->esmvaltool) (0.3.2)\n",
      "Requirement already satisfied: funcargparse in /opt/conda/envs/ewatercycle2/lib/python3.12/site-packages (from psyplot->esmvaltool) (0.2.5)\n",
      "Requirement already satisfied: statsmodels in /opt/conda/envs/ewatercycle2/lib/python3.12/site-packages (from psy-reg->esmvaltool) (0.14.4)\n",
      "Requirement already satisfied: affine in /opt/conda/envs/ewatercycle2/lib/python3.12/site-packages (from rasterio->esmvaltool) (2.4.0)\n",
      "Requirement already satisfied: ruamel.yaml.clib>=0.2.7 in /opt/conda/envs/ewatercycle2/lib/python3.12/site-packages (from ruamel.yaml->esmvaltool) (0.2.8)\n",
      "Requirement already satisfied: asciitree in /opt/conda/envs/ewatercycle2/lib/python3.12/site-packages (from zarr->esmvaltool) (0.3.3)\n",
      "Requirement already satisfied: numcodecs>=0.10.0 in /opt/conda/envs/ewatercycle2/lib/python3.12/site-packages (from zarr->esmvaltool) (0.14.1)\n",
      "Requirement already satisfied: fasteners in /opt/conda/envs/ewatercycle2/lib/python3.12/site-packages (from zarr->esmvaltool) (0.17.3)\n",
      "Requirement already satisfied: defusedxml in /opt/conda/envs/ewatercycle2/lib/python3.12/site-packages (from esgf-pyclient>=0.3.1->esmvalcore->esmvaltool) (0.7.1)\n",
      "Requirement already satisfied: requests-cache in /opt/conda/envs/ewatercycle2/lib/python3.12/site-packages (from esgf-pyclient>=0.3.1->esmvalcore->esmvaltool) (1.2.1)\n",
      "Requirement already satisfied: webob in /opt/conda/envs/ewatercycle2/lib/python3.12/site-packages (from esgf-pyclient>=0.3.1->esmvalcore->esmvaltool) (1.8.9)\n",
      "Requirement already satisfied: myproxyclient in /opt/conda/envs/ewatercycle2/lib/python3.12/site-packages (from esgf-pyclient>=0.3.1->esmvalcore->esmvaltool) (2.1.1)\n",
      "Requirement already satisfied: typing_extensions>3.10.0.2 in /opt/conda/envs/ewatercycle2/lib/python3.12/site-packages (from python-utils>=3.8.1->progressbar2->esmvaltool) (4.12.2)\n",
      "Requirement already satisfied: Cython in /opt/conda/envs/ewatercycle2/lib/python3.12/site-packages (from stratify>=0.3->esmvalcore->esmvaltool) (3.0.11)\n",
      "Requirement already satisfied: retrying>=1.3.3 in /opt/conda/envs/ewatercycle2/lib/python3.12/site-packages (from chart-studio->mapgenerator>=1.0.5->esmvaltool) (1.3.3)\n",
      "Requirement already satisfied: multiurl>=0.3.2 in /opt/conda/envs/ewatercycle2/lib/python3.12/site-packages (from datapi->cdsapi->esmvaltool) (0.3.3)\n",
      "Requirement already satisfied: geographiclib<3,>=1.52 in /opt/conda/envs/ewatercycle2/lib/python3.12/site-packages (from geopy->esmvalcore->esmvaltool) (2.0)\n",
      "Requirement already satisfied: tenacity>=6.2.0 in /opt/conda/envs/ewatercycle2/lib/python3.12/site-packages (from plotly->mapgenerator>=1.0.5->esmvaltool) (9.0.0)\n",
      "Requirement already satisfied: rdflib>=4.2.1 in /opt/conda/envs/ewatercycle2/lib/python3.12/site-packages (from prov->esmvalcore->esmvaltool) (7.1.1)\n",
      "Requirement already satisfied: pooch in /opt/conda/envs/ewatercycle2/lib/python3.12/site-packages (from py-cordex->esmvalcore->esmvaltool) (1.8.2)\n",
      "Requirement already satisfied: latexcodec>=1.0.4 in /opt/conda/envs/ewatercycle2/lib/python3.12/site-packages (from pybtex->esmvalcore->esmvaltool) (2.0.1)\n",
      "Requirement already satisfied: patsy>=0.5.6 in /opt/conda/envs/ewatercycle2/lib/python3.12/site-packages (from statsmodels->psy-reg->esmvaltool) (1.0.1)\n",
      "Requirement already satisfied: pyOpenSSL in /opt/conda/envs/ewatercycle2/lib/python3.12/site-packages (from myproxyclient->esgf-pyclient>=0.3.1->esmvalcore->esmvaltool) (24.2.1)\n",
      "Requirement already satisfied: platformdirs>=2.5.0 in /opt/conda/envs/ewatercycle2/lib/python3.12/site-packages (from pooch->py-cordex->esmvalcore->esmvaltool) (4.3.6)\n",
      "Requirement already satisfied: cattrs>=22.2 in /opt/conda/envs/ewatercycle2/lib/python3.12/site-packages (from requests-cache->esgf-pyclient>=0.3.1->esmvalcore->esmvaltool) (24.1.2)\n",
      "Requirement already satisfied: url-normalize>=1.4 in /opt/conda/envs/ewatercycle2/lib/python3.12/site-packages (from requests-cache->esgf-pyclient>=0.3.1->esmvalcore->esmvaltool) (1.4.3)\n",
      "Requirement already satisfied: cryptography<44,>=41.0.5 in /opt/conda/envs/ewatercycle2/lib/python3.12/site-packages (from pyOpenSSL->myproxyclient->esgf-pyclient>=0.3.1->esmvalcore->esmvaltool) (43.0.3)\n",
      "Requirement already satisfied: cffi>=1.12 in /opt/conda/envs/ewatercycle2/lib/python3.12/site-packages (from cryptography<44,>=41.0.5->pyOpenSSL->myproxyclient->esgf-pyclient>=0.3.1->esmvalcore->esmvaltool) (1.17.1)\n",
      "Requirement already satisfied: pycparser in /opt/conda/envs/ewatercycle2/lib/python3.12/site-packages (from cffi>=1.12->cryptography<44,>=41.0.5->pyOpenSSL->myproxyclient->esgf-pyclient>=0.3.1->esmvalcore->esmvaltool) (2.22)\n",
      "Using cached numpy-1.26.4-cp312-cp312-manylinux_2_17_x86_64.manylinux2014_x86_64.whl (18.0 MB)\n",
      "Installing collected packages: numpy\n",
      "  Attempting uninstall: numpy\n",
      "    Found existing installation: numpy 2.2.6\n",
      "    Uninstalling numpy-2.2.6:\n",
      "      Successfully uninstalled numpy-2.2.6\n",
      "\u001b[33m  WARNING: The script f2py is installed in '/home/rhut/.local/bin' which is not on PATH.\n",
      "  Consider adding this directory to PATH or, if you prefer to suppress this warning, use --no-warn-script-location.\u001b[0m\u001b[33m\n",
      "\u001b[31mERROR: pip's dependency resolver does not currently take into account all the packages that are installed. This behaviour is the source of the following dependency conflicts.\n",
      "sceua 0.1.0 requires numpy>=2, but you have numpy 1.26.4 which is incompatible.\u001b[0m\u001b[31m\n",
      "\u001b[0mSuccessfully installed numpy-1.26.4\n"
     ]
    }
   ],
   "source": [
    "# Re-install correct numpy for ESMVAlTool\n",
    "!pip install esmvaltool"
   ]
  }
 ],
 "metadata": {
  "kernelspec": {
   "display_name": "Python 3 (ipykernel)",
   "language": "python",
   "name": "python3"
  },
  "language_info": {
   "codemirror_mode": {
    "name": "ipython",
    "version": 3
   },
   "file_extension": ".py",
   "mimetype": "text/x-python",
   "name": "python",
   "nbconvert_exporter": "python",
   "pygments_lexer": "ipython3",
   "version": "3.12.7"
  }
 },
 "nbformat": 4,
 "nbformat_minor": 5
}
