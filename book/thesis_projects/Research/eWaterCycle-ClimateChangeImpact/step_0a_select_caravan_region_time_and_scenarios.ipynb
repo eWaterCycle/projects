{
 "cells": [
  {
   "cell_type": "markdown",
   "id": "02231a9f-7298-40f9-b82a-36d709952d91",
   "metadata": {},
   "source": [
    "# Climate Change impact using eWaterCycle and HBV for Caravan catchments\n",
    "the notebooks in this repo, when run in succesion, will analyse the impact of climate change for one region on earth, for four climate scenarios."
   ]
  },
  {
   "cell_type": "code",
   "execution_count": 1,
   "id": "91c3a6ab66d701a2",
   "metadata": {},
   "outputs": [],
   "source": [
    "# General python\n",
    "import warnings\n",
    "warnings.filterwarnings(\"ignore\", category=UserWarning)\n",
    "\n",
    "import numpy as np\n",
    "from pathlib import Path\n",
    "import pandas as pd\n",
    "import matplotlib.pyplot as plt\n",
    "import xarray as xr\n",
    "import json\n",
    "\n",
    "# Niceties\n",
    "from rich import print"
   ]
  },
  {
   "cell_type": "code",
   "execution_count": 2,
   "id": "2a9e3d1f45312de3",
   "metadata": {
    "jupyter": {
     "source_hidden": true
    }
   },
   "outputs": [],
   "source": [
    "# General eWaterCycle\n",
    "import ewatercycle\n",
    "import ewatercycle.models\n",
    "import ewatercycle.forcing"
   ]
  },
  {
   "cell_type": "markdown",
   "id": "28ecd862-3e33-4001-9218-d025f6acc2ae",
   "metadata": {},
   "source": [
    "## Choose region and time period: \n",
    "In eWaterCycle we provide access to the Caravan dataset, which contains data for all the catchments in the different Camels datasets. In this notebook we select a region and load the caravan data from that region using eWatercycle.\n",
    "\n",
    "However, there is a known problem with the caravan evaporation data and (the current version) shouldn't be used. It would be better to generate forcing from (for example) ERA5. So we are using the caravan data for two purposes in this set of notebooks:\n",
    "\n",
    "- caravan has observed discharge data for the region which is used to calibrate HBV in step 2\n",
    "- Caravan provides a shapefile of the region which is used to cut out the region from both ERA5 and CMIP climate output when generating forcing in step 1a and 1b\n",
    "\n",
    "Using the interactive maps at [eWaterCycle caravan map](https://www.ewatercycle.org/caravan-map/) one can easily retrieve the identifier of the catchment you want to run for this analyses.\n",
    "\n",
    "In the cells below we will identify the settings for all the notebooks, which we will save in a json file to be read by each notebook. This means that it is relatively easy to:\n",
    "\n",
    "- change the region if you want to run just one catchment\n",
    "- automate this to run for many catchments (which we will, of course, do in our own research)\n",
    "\n",
    "First up: selecting the region. As \"posterchild\" for this study, we use the Rhine at Lobith."
   ]
  },
  {
   "cell_type": "code",
   "execution_count": 3,
   "id": "380da3dc-f854-441e-9fa2-7337472fa270",
   "metadata": {},
   "outputs": [],
   "source": [
    "settings = dict()"
   ]
  },
  {
   "cell_type": "code",
   "execution_count": 4,
   "id": "a5898939-54a6-40de-8a27-bbc793536248",
   "metadata": {},
   "outputs": [],
   "source": [
    "settings[\"caravan_id\"] = \"hysets_01371500\""
   ]
  },
  {
   "cell_type": "markdown",
   "id": "bf2c3ab21ba52514",
   "metadata": {},
   "source": [
    "We have to specify start and end dates of the experiment that we want to do. There should be a calibration and validation period for which observational data is available and a future period for which future climate simulations are available."
   ]
  },
  {
   "cell_type": "code",
   "execution_count": 5,
   "id": "5fce68bed177ec55",
   "metadata": {},
   "outputs": [],
   "source": [
    "settings[\"calibration_start_date\"] = \"1997-08-01T00:00:00Z\"\n",
    "settings[\"calibration_end_date\"] = \"2007-07-31T00:00:00Z\"\n",
    "\n",
    "settings[\"validation_start_date\"] = \"2007-08-01T00:00:00Z\"\n",
    "settings[\"validation_end_date\"] = \"2010-07-31T00:00:00Z\"\n",
    "\n",
    "settings[\"future_start_date\"] = \"2027-08-01T00:00:00Z\"\n",
    "settings[\"future_end_date\"] = \"2047-08-31T00:00:00Z\""
   ]
  },
  {
   "cell_type": "markdown",
   "id": "75aee629-1280-41b6-9f41-3fd83c5c4d80",
   "metadata": {},
   "source": [
    "## Selecting climate change scenarios and climate model\n",
    "A lot of different climate models exits and many of (the teams behind) them collaborate in CMIP: the Climate Model Intercomparison Project. Standardized output from these models is made available on ESGF nodes. In eWaterCycle, leveraging the work done on ESMValTool, we made a way to generate forcing for hydrological models from those climate output dataset stored at ESGF nodes. \n",
    "\n",
    "CMIP, ESGF have a particular set of jargon to deal with, see [ref needed]. Below we specify which datasets we will use for the climate change impact analyses\n",
    "\n"
   ]
  },
  {
   "cell_type": "code",
   "execution_count": 6,
   "id": "81ddac61-97cb-4fda-b89a-f7be09796d07",
   "metadata": {},
   "outputs": [],
   "source": [
    "settings[\"CMIP_info\"] = {\"dataset\" : [\"MPI-ESM1-2-HR\"],\n",
    "                         \"ensembles\" : [\"r1i1p1f1\"],\n",
    "                         \"experiments\" : [\"historical\",\"ssp126\",\"ssp245\",\"ssp370\",\"ssp585\"],\n",
    "                         \"project\" : \"CMIP6\",\n",
    "                         \"frequency\" : \"day\",\n",
    "                         \"grid\" : \"gn\",\n",
    "                         \"variables\" : [\"pr\", \"tas\", \"rsds\"],\n",
    "                        }\n",
    "\n",
    "\n"
   ]
  },
  {
   "cell_type": "markdown",
   "id": "111bc65b-8299-43ba-95fd-e92df6b92707",
   "metadata": {},
   "source": [
    "## Set up paths\n",
    "\n",
    "Since forcing files are often re-used between experiments it is a best practice to save those intermediate files for re-use between experiments. These logical save-points in workflows are called 'rustpunten' in Dutch. It is important to store data in 'rustpunten' in standard formats. Working with clearly defined 'rustpunten' is a key element in the design of good workflows in general and was instrumental in designing eWaterCycle in particular. \n",
    "\n",
    "Here we set up some paths to store the forcing files we generate in your own home directory. \n",
    "\n",
    "To speed up this workshop, we have already created the forcing files in a central location, which we also create pointers to here. If you want to run for a different region, you will have to generate the forcing yourself. "
   ]
  },
  {
   "cell_type": "code",
   "execution_count": 7,
   "id": "f8142f7594839d3",
   "metadata": {},
   "outputs": [],
   "source": [
    "# We will create a directory to store all data generated during this study\n",
    "# normally we would not convert these back into strings and load as path objects\n",
    "# all the time, but here this is done such that the settings can be written\n",
    "# as json later on, which is impassable with PosixPath objects\n",
    "settings[\"base_path\"] = str(Path.home() / \"ewatercycleClimateImpact\" / \"HBV\")\n",
    "\n",
    "settings[\"path_caravan\"] =  str(Path(settings[\"base_path\"]) / \"data\" / settings[\"caravan_id\"] / \"caravan\")\n",
    "Path(settings[\"path_caravan\"]).mkdir(exist_ok=True, parents=True)\n",
    "\n",
    "settings[\"path_ERA5\"] =  str(Path(settings[\"base_path\"]) / \"data\" / settings[\"caravan_id\"] / \"ERA5\")\n",
    "Path(settings[\"path_ERA5\"]).mkdir(exist_ok=True, parents=True)\n",
    "\n",
    "settings[\"path_CMIP6\"] =  str(Path(settings[\"base_path\"]) / \"data\" / settings[\"caravan_id\"] / \"CMIP6\")\n",
    "Path(settings[\"path_CMIP6\"]).mkdir(exist_ok=True, parents=True)"
   ]
  },
  {
   "cell_type": "markdown",
   "id": "1171ca7e-d26a-4cbe-abb0-d741315a708c",
   "metadata": {},
   "source": [
    "## Generate caravan data: observation of discharge\n",
    "There are three options for creating forcing data objects:\n",
    "\n",
    "- generate from climate data such as Caravan, ERA5 or CMIP. Note that if the directory you specify as destination already contains data this trying this will throw an error!\n",
    "- load forcing data you generated previously by providing the location where it was stored\n",
    "- load forcing data someone else (such as your teacher or a workshop leader) generated previously by providing the location where it was stored\n"
   ]
  },
  {
   "cell_type": "code",
   "execution_count": 8,
   "id": "badbb1659f1d59d6",
   "metadata": {},
   "outputs": [],
   "source": [
    "# Option one: generate forcing data\n",
    "caravan_forcing_object = ewatercycle.forcing.sources['CaravanForcing'].generate(\n",
    "    start_time=settings[\"calibration_start_date\"],\n",
    "    end_time=settings[\"validation_end_date\"],\n",
    "    directory=settings[\"path_caravan\"],\n",
    "    basin_id=settings[\"caravan_id\"],\n",
    ")\n",
    "\n",
    "# Note that this will throw an error when data is already present in `forcing_path_caravan`. In that case:\n",
    "# - delete that data and run again or\n",
    "# - load that data using the cell below (with the correct path!)"
   ]
  },
  {
   "cell_type": "code",
   "execution_count": 9,
   "id": "7523c949d50e254d",
   "metadata": {},
   "outputs": [],
   "source": [
    "# # Option two: load data that you or someone else generated previously\n",
    "# caravan_forcing_object = ewatercycle.forcing.sources['CaravanForcing'].load(directory=forcing_path_caravan)"
   ]
  },
  {
   "cell_type": "code",
   "execution_count": 10,
   "id": "b1f5b3890b09d6db",
   "metadata": {},
   "outputs": [
    {
     "data": {
      "text/html": [
       "<pre style=\"white-space:pre;overflow-x:auto;line-height:normal;font-family:Menlo,'DejaVu Sans Mono',consolas,'Courier New',monospace\"><span style=\"color: #800080; text-decoration-color: #800080; font-weight: bold\">CaravanForcing</span><span style=\"font-weight: bold\">(</span>\n",
       "    <span style=\"color: #808000; text-decoration-color: #808000\">start_time</span>=<span style=\"color: #008000; text-decoration-color: #008000\">'1997-08-01T00:00:00Z'</span>,\n",
       "    <span style=\"color: #808000; text-decoration-color: #808000\">end_time</span>=<span style=\"color: #008000; text-decoration-color: #008000\">'2010-07-31T00:00:00Z'</span>,\n",
       "    <span style=\"color: #808000; text-decoration-color: #808000\">directory</span>=<span style=\"color: #800080; text-decoration-color: #800080; font-weight: bold\">PosixPath</span><span style=\"font-weight: bold\">(</span><span style=\"color: #008000; text-decoration-color: #008000\">'/home/rhut/ewatercycleClimateImpact/HBV/data/hysets_01371500/caravan'</span><span style=\"font-weight: bold\">)</span>,\n",
       "    <span style=\"color: #808000; text-decoration-color: #808000\">shape</span>=<span style=\"color: #800080; text-decoration-color: #800080; font-weight: bold\">PosixPath</span><span style=\"font-weight: bold\">(</span><span style=\"color: #008000; text-decoration-color: #008000\">'/home/rhut/ewatercycleClimateImpact/HBV/data/hysets_01371500/caravan/hysets_01371500.shp'</span><span style=\"font-weight: bold\">)</span>,\n",
       "    <span style=\"color: #808000; text-decoration-color: #808000\">filenames</span>=<span style=\"font-weight: bold\">{</span>\n",
       "        <span style=\"color: #008000; text-decoration-color: #008000\">'tas'</span>: <span style=\"color: #008000; text-decoration-color: #008000\">'hysets_01371500_1997-08-01_2010-07-31_tas.nc'</span>,\n",
       "        <span style=\"color: #008000; text-decoration-color: #008000\">'Q'</span>: <span style=\"color: #008000; text-decoration-color: #008000\">'hysets_01371500_1997-08-01_2010-07-31_Q.nc'</span>,\n",
       "        <span style=\"color: #008000; text-decoration-color: #008000\">'pr'</span>: <span style=\"color: #008000; text-decoration-color: #008000\">'hysets_01371500_1997-08-01_2010-07-31_pr.nc'</span>,\n",
       "        <span style=\"color: #008000; text-decoration-color: #008000\">'tasmin'</span>: <span style=\"color: #008000; text-decoration-color: #008000\">'hysets_01371500_1997-08-01_2010-07-31_tasmin.nc'</span>,\n",
       "        <span style=\"color: #008000; text-decoration-color: #008000\">'evspsblpot'</span>: <span style=\"color: #008000; text-decoration-color: #008000\">'hysets_01371500_1997-08-01_2010-07-31_evspsblpot.nc'</span>,\n",
       "        <span style=\"color: #008000; text-decoration-color: #008000\">'tasmax'</span>: <span style=\"color: #008000; text-decoration-color: #008000\">'hysets_01371500_1997-08-01_2010-07-31_tasmax.nc'</span>\n",
       "    <span style=\"font-weight: bold\">}</span>\n",
       "<span style=\"font-weight: bold\">)</span>\n",
       "</pre>\n"
      ],
      "text/plain": [
       "\u001b[1;35mCaravanForcing\u001b[0m\u001b[1m(\u001b[0m\n",
       "    \u001b[33mstart_time\u001b[0m=\u001b[32m'1997-08-01T00:00:00Z'\u001b[0m,\n",
       "    \u001b[33mend_time\u001b[0m=\u001b[32m'2010-07-31T00:00:00Z'\u001b[0m,\n",
       "    \u001b[33mdirectory\u001b[0m=\u001b[1;35mPosixPath\u001b[0m\u001b[1m(\u001b[0m\u001b[32m'/home/rhut/ewatercycleClimateImpact/HBV/data/hysets_01371500/caravan'\u001b[0m\u001b[1m)\u001b[0m,\n",
       "    \u001b[33mshape\u001b[0m=\u001b[1;35mPosixPath\u001b[0m\u001b[1m(\u001b[0m\u001b[32m'/home/rhut/ewatercycleClimateImpact/HBV/data/hysets_01371500/caravan/hysets_01371500.shp'\u001b[0m\u001b[1m)\u001b[0m,\n",
       "    \u001b[33mfilenames\u001b[0m=\u001b[1m{\u001b[0m\n",
       "        \u001b[32m'tas'\u001b[0m: \u001b[32m'hysets_01371500_1997-08-01_2010-07-31_tas.nc'\u001b[0m,\n",
       "        \u001b[32m'Q'\u001b[0m: \u001b[32m'hysets_01371500_1997-08-01_2010-07-31_Q.nc'\u001b[0m,\n",
       "        \u001b[32m'pr'\u001b[0m: \u001b[32m'hysets_01371500_1997-08-01_2010-07-31_pr.nc'\u001b[0m,\n",
       "        \u001b[32m'tasmin'\u001b[0m: \u001b[32m'hysets_01371500_1997-08-01_2010-07-31_tasmin.nc'\u001b[0m,\n",
       "        \u001b[32m'evspsblpot'\u001b[0m: \u001b[32m'hysets_01371500_1997-08-01_2010-07-31_evspsblpot.nc'\u001b[0m,\n",
       "        \u001b[32m'tasmax'\u001b[0m: \u001b[32m'hysets_01371500_1997-08-01_2010-07-31_tasmax.nc'\u001b[0m\n",
       "    \u001b[1m}\u001b[0m\n",
       "\u001b[1m)\u001b[0m\n"
      ]
     },
     "metadata": {},
     "output_type": "display_data"
    }
   ],
   "source": [
    "print(caravan_forcing_object)"
   ]
  },
  {
   "cell_type": "code",
   "execution_count": 11,
   "id": "70ef9ea6-3af9-42f5-a8b3-edb502bd321b",
   "metadata": {},
   "outputs": [],
   "source": [
    "settings[\"path_shape\"] = str(caravan_forcing_object.shape)"
   ]
  },
  {
   "cell_type": "code",
   "execution_count": 12,
   "id": "e4ff2278ca2fb561",
   "metadata": {},
   "outputs": [
    {
     "data": {
      "text/plain": [
       "[<matplotlib.lines.Line2D at 0x7feaf57208c0>]"
      ]
     },
     "execution_count": 12,
     "metadata": {},
     "output_type": "execute_result"
    },
    {
     "data": {
      "image/png": "[encoded data removed]",
      "text/plain": [
       "<Figure size 640x480 with 1 Axes>"
      ]
     },
     "metadata": {},
     "output_type": "display_data"
    }
   ],
   "source": [
    "# Quick plot of the observed discharge data.\n",
    "ds_forcing = xr.open_mfdataset([caravan_forcing_object['Q'],caravan_forcing_object['pr'],caravan_forcing_object['evspsblpot']])\n",
    "plt.figure()\n",
    "ds_forcing[\"Q\"].plot()"
   ]
  },
  {
   "cell_type": "markdown",
   "id": "f5098826-8714-4f0e-9ced-b94b1e12cddd",
   "metadata": {},
   "source": [
    "## Save all settings to a file\n",
    "Below we create a dict with all the settings we just created and save that to a settings file which is loaded in all the other notebooks of this repo."
   ]
  },
  {
   "cell_type": "code",
   "execution_count": 13,
   "id": "84306d74-d2e3-4dcc-8375-e2d8eb3df7bb",
   "metadata": {},
   "outputs": [],
   "source": [
    "# Convert sets to lists for JSON serialization\n",
    "# serializable_settings = {key: list(value) for key, value in settings.items()}\n",
    "\n",
    "# Write to a JSON file\n",
    "with open(\"settings.json\", \"w\") as json_file:\n",
    "    json.dump(settings, json_file, indent=4)"
   ]
  }
 ],
 "metadata": {
  "kernelspec": {
   "display_name": "Python 3 (ipykernel)",
   "language": "python",
   "name": "python3"
  },
  "language_info": {
   "codemirror_mode": {
    "name": "ipython",
    "version": 3
   },
   "file_extension": ".py",
   "mimetype": "text/x-python",
   "name": "python",
   "nbconvert_exporter": "python",
   "pygments_lexer": "ipython3",
   "version": "3.12.7"
  }
 },
 "nbformat": 4,
 "nbformat_minor": 5
}
