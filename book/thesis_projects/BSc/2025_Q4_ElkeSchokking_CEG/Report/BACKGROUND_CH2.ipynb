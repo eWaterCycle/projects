{
 "cells": [
  {
   "cell_type": "markdown",
   "id": "f0133379-5865-495e-831b-200a8f465962",
   "metadata": {},
   "source": [
    "# Background"
   ]
  },
  {
   "cell_type": "markdown",
   "id": "737e6272-1907-4f28-b87e-bc77a640af8a",
   "metadata": {},
   "source": [
    "## Site Analysis\n",
    "The Iffezheim dam is located on the river Rhine in between Strasbourg and Karlsruhe. It is part of the Rhine river catchment which is called the Upper Rhine (see Figure 1). The Upper Rhine is heavily regulated by a sequence of 21 barrages between Basel and Iffezheim. This stabilizes the water levels and diverts flows into canals during low and intermediate conditions, leaving residual discharge in the main Rhine channel (Frings et al., 2019). Mean discharge nearby Iffezheim, at the Plittersdorf gauge, was approximately **1230 m³/s** for 1991–2010 (Frings et al., 2019). The river receives substantial inflow from tributaries, especially the Aare, which nearly doubles Rhine flow downstream of Lake Constance (Frings et al., 2019). Seasonal discharge is driven by snowmelt, with peak flows typically in May and June, and low flows occurring in late summer and autumn, particularly September to October (Uehlinger et al., 2009). Daily discharge values can fall considerably, as seen in Mainz, where flows as low as **~460 m³/s** have been recorded (Uehlinger et al., 2009). The regulation by the barrages flattens short-term flow variability and can lead to prolonged low-flow states. Although flood peaks are only minimally reduced due to limited storage capacity in the catchment(CHR, 2009). Low-flow conditions are artificially extended due to the barrages, which may hinder migratory fish species such as Atlantic salmon. Downstream of Iffezheim, the river transitions to an unregulated regime with steeper gradients and natural discharge fluctuations (CHR, 2009)."
   ]
  },
  {
   "cell_type": "markdown",
   "id": "837d4a2e-0d7e-43f7-a3ae-04480a211957",
   "metadata": {},
   "source": [
    "<figure>\n",
    "  <img src=\"RhineCatchment.png\" width=\"600\">\n",
    "  <figcaption><b>Figure 1:</b> The Rhine Catchment <i>(Frings et al., 2019)</i></figcaption>\n",
    "</figure>"
   ]
  },
  {
   "cell_type": "markdown",
   "id": "9efeb1bb-67e6-4856-b6a5-14674ab25675",
   "metadata": {},
   "source": [
    "## Fish Passages\n",
    "**Vertical fish passage**\n",
    "\n",
    "The vertical-slot fish ladder (VSF) is one of the most widely applied fish passage designs. It consists of a rectangular channel subdivided by evenly spaced baffles. This forms a series of pools. Each baffle contains a vertical slot that allows fish to pass upstream. Water flows downstream through the vertical slots (as seen in Figure 2).  These slots are engineered to maintain relatively uniform flow velocities. The intermediate pools serve as resting areas for the fish before they proceed to the next slot. The fish can rest because the mixing of water inside the pools dissipates the energy of the flow. These resting areas facilitates fish passage across the elevation gradient. \n",
    "VSFs are highly adaptable. Design parameters such as slope, slot dimensions, discharge capacity, and flow velocity must can be tailored to the fish species that need to cross. This is influenced by the size, age, and swimming behaviour of the fish (Hameed & Hilo, 2021)."
   ]
  },
  {
   "cell_type": "markdown",
   "id": "b7499596-d3cd-4c4c-9441-25a118db792a",
   "metadata": {},
   "source": [
    "<figure>\n",
    "  <img src=\"VertFishPassage.png\" width=\"600\">\n",
    "  <figcaption><b>Figure 2:</b> Design vertical fish passage <i>(Hameed & Hilo, 2021)</i></figcaption>\n",
    "</figure>"
   ]
  },
  {
   "cell_type": "markdown",
   "id": "c3445964-b81d-4851-b210-a23c66fcab7d",
   "metadata": {},
   "source": [
    "**Iffezheim fish passage**\n",
    "\n",
    "To mitigate the barrier effect of the Iffezheim Hydropower Plant on upstream fish migration, a vertical-slot fish pass was constructed in 2000 on the Rhine River in Germany (EnBW Kraftwerke AG, 2009). The structure spans a height difference of 11 m with a slope of 6.7% and consists of 37 pools (length: 4.5 m, width: 3.3 m, height: 1.5 m, slot width: 45 cm). The fish pass features three entrance points leading to a basin, which is supplied by approximately 1.2 m³/s of pass flow and an additional attraction flow of up to 11.8 m³/s. This additional attraction flow is made by a turbine (see Figure 3). The total attraction flow (11–13 m³/s) represents about 1.0–1.3% of the Rhine’s average discharge (~1,000 m³/s). Entrance positions are designed to accommodate a range of species: two are situated near turbine outlets to attract rheophilic species, while a third is placed near the bank to enable passage of less robust swimmers(Schmutz et al., 2015)."
   ]
  },
  {
   "cell_type": "markdown",
   "id": "00baabbe-01e6-4818-8aa2-cfc2118d9d94",
   "metadata": {},
   "source": [
    "<figure>\n",
    "  <img src=\"IffezheimFishPass.png\" width=\"600\">\n",
    "  <figcaption><b>Figure 3:</b> Design Iffezheim fish pass <i>(Schmutz et al., 2015)</i></figcaption>\n",
    "</figure>"
   ]
  },
  {
   "cell_type": "markdown",
   "id": "19ba21f3-d15d-4449-b2b7-aaf4d3dd9935",
   "metadata": {},
   "source": [
    "## Migration of Atlantic Salmon\n",
    "Atlantic salmon (Salmo salar) are anadromous long-distance migratory fish that spend their growth phase in the ocean before returning to freshwater rivers to spawn. They return to the river where they were born. This homing behaviour is guided by olfactory memory and typically occurs only once in a fish’s life cycle. Historically, the Rhine and its major tributaries—including the Main, Moselle, and Sarre—served as key migratory corridors in Europe, offering (unobstructed) passage from alpine headwaters to the North Sea. This connection enabled self-sustaining populations, completing their life cycle without anthropogenic disruption(ICPR, 2018).\n",
    "\n",
    "Juvenile salmon could migrate downstream without encountering barriers, while adults could return to upstream spawning habitats in the Alps, Black Forest, and Vosges. Adult Atlantic salmon migrate upstream in summer (June–July) and autumn (October–November)(ICPR, 2018, Van Rijssel et al., 2024). "
   ]
  },
  {
   "cell_type": "markdown",
   "id": "365dc6aa-91ac-4f16-a541-b21479182322",
   "metadata": {},
   "source": [
    "<figure>\n",
    "  <img src=\"SalmonLifeCycle.png\" width=\"600\">\n",
    "  <figcaption><b>Figure 4:</b> Life cycle of Atlantic salmon <i>(ICPR, 2018)</i></figcaption>\n",
    "</figure>"
   ]
  },
  {
   "cell_type": "markdown",
   "id": "77b760fe-33d3-42bc-8276-7567bf1c08ef",
   "metadata": {},
   "source": [
    "## Critical Discharge of Rhine for fish passage at Iffezheim\n",
    "In a telephone conversation with a representative of EnBW — the company responsible for both the construction and operation of the Iffezheim dam and its fish passage (Iffezheim Run-of-River Power Plant – the Project, n.d.) — it was confirmed that the fish passage at Iffezheim remains operational only when the discharge of the Rhine is above **500 m³/s**. When discharge falls below this threshold, the resulting hydraulic head difference becomes too great, rendering the entrance of the fishway inaccessible and undetectable to migrating Atlantic salmon.\n",
    "\n",
    "When low flow prevents salmon from crossing migration passages, they often respond by exhibiting prolonged holding behavior, seeking out cooler tributaries where they remain until hydraulic conditions improve (Gerlier & Roche, 1998). This holding behavior often results in salmon congregating below dams, where they become stationary and exposed in vulnerable areas. As a result, predation risk increases significantly, with predators such as pike, catfish, cormorants, herons, seals, and otters frequently targeting salmon delayed at these barriers (Van Rijssel et al., 2024). \n",
    "\n",
    "When critical low-flow conditions continue, salmon are also exposed to thermal and physiological stress, especially when water temperatures exceed their tolerance threshold of **20–23 °C**. This leads to lethargy or a halt in migratory activity (MAP, 2014). Prolonged delays also result in the depletion of energy reserves. Because salmon need to expend considerable effort searching for passage routes or holding their position (Rubenstein et al., 2022). Since salmon do not feed in freshwater, any energy lost during these periods diminishes their ability to reach spawning grounds and reproduce (Marine Institute, 2022).\n",
    "\n",
    "To assess the impact of consecutive low-flow events on upstream-migrating Atlantic salmon, these events are categorized into three levels of severity: **Caution** (1-3 consecutive days of critical low-flow), **Risk** (3-7 days consecutive days of critical low-flow) and **Critical** (>7 consecutive days of critical low-flow). These categories reflect the escalating biological and ecological consequences of low discharge over time. They also help determine when intervention is needed to avoid migration failure."
   ]
  },
  {
   "cell_type": "code",
   "execution_count": null,
   "id": "b326ab8c-fb6d-445f-a994-2b4708770fc6",
   "metadata": {},
   "outputs": [],
   "source": []
  }
 ],
 "metadata": {
  "kernelspec": {
   "display_name": "Python 3 (ipykernel)",
   "language": "python",
   "name": "python3"
  },
  "language_info": {
   "codemirror_mode": {
    "name": "ipython",
    "version": 3
   },
   "file_extension": ".py",
   "mimetype": "text/x-python",
   "name": "python",
   "nbconvert_exporter": "python",
   "pygments_lexer": "ipython3",
   "version": "3.12.7"
  }
 },
 "nbformat": 4,
 "nbformat_minor": 5
}
