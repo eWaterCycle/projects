{
 "cells": [
  {
   "cell_type": "markdown",
   "id": "b6a7e6ef-d83f-43bc-aaec-16d114f6dcc6",
   "metadata": {},
   "source": [
    "# Summary"
   ]
  },
  {
   "cell_type": "markdown",
   "id": "d5aff621-d284-44a5-a81f-28d564222af9",
   "metadata": {},
   "source": [
    "This thesis explores the impact of future climate change on crossing of Atlantic salmon at the Iffezheim fish passage. The central hypothesis is that critical low-flow conditions will occur more frequently under future climate scenarios. This would hinder the functionality of the fish passage.\n",
    "\n",
    "To test this, the HBV hydrological model was calibrated using log-NSE and Earth Mover’s Distance to best capture the magnitude and timing of these low-flow events. Historical and future discharge simulations were then conducted using the eWaterCycle platform.\n",
    "\n",
    "**The drought analysis showed that critical low-flow events are projected to increase in frequency, especially under high-emission scenarios such as SSP2-4.5 and SSP5-8.5. Even the low-emission SSP1-2.6 scenario indicates a rise in drought occurrences. Furthermore, drought events shift from being frequent and moderate to fewer but more severe. These conclusions are based on discharge simulations using the HBV model calibrated with observed data from 2013–2019, and driven by CMIP6 climate scenarios with ERA5 forcing. The historical comparison period spans 1990–2014, while the future projections cover 2026–2099. This ensures a consistent basis for evaluating changes in drought frequency and severity over time.**\n",
    "\n",
    "These trends pose serious risks for salmon migration. This is due to predation, thermal stress, and energy depletion, which happens when the salmon cannot cross the fish passage. The study concludes that adaptive fish passage design and management strategies will be essential to maintain the Atlanitc salmon population in the Rhine under climate change."
   ]
  }
 ],
 "metadata": {
  "kernelspec": {
   "display_name": "Python 3 (ipykernel)",
   "language": "python",
   "name": "python3"
  },
  "language_info": {
   "codemirror_mode": {
    "name": "ipython",
    "version": 3
   },
   "file_extension": ".py",
   "mimetype": "text/x-python",
   "name": "python",
   "nbconvert_exporter": "python",
   "pygments_lexer": "ipython3",
   "version": "3.12.7"
  }
 },
 "nbformat": 4,
 "nbformat_minor": 5
}
