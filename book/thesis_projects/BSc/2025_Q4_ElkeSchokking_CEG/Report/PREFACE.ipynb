{
 "cells": [
  {
   "cell_type": "markdown",
   "id": "5d1f9f45-562c-49f9-99c1-e622a7f09f47",
   "metadata": {},
   "source": [
    "## Preface"
   ]
  },
  {
   "cell_type": "markdown",
   "id": "00f4534a-8a71-414c-b52a-f7c17d76efbe",
   "metadata": {},
   "source": [
    "Presented before you is my bachelor thesis titled: \"Impact of Climate Change on the Crossing of Atlantic Salmon through the Iffezheim Fish Passage\". During my Civil Engineering and Geosciences Bachelor at Delft University of Technology, I developed an interest in hydrology and environmental changes. As climate change alters river discharge patterns, the Rhine River and the migration route of Atlantic salmon are becoming vulnerable. The Iffezheim fish passage stood out to me as a possible weak spot in salmon migration. Because the Atlantic salmon need to cross this dam via a fish passage, which relies on the Rhine discharge. Working on this project deepened my understanding of hydrological modeling and allowed me to explore the impacts of low-flow conditions. I hope this research contributes to the growing body of knowledge on climate adaptation in river management."
   ]
  }
 ],
 "metadata": {
  "kernelspec": {
   "display_name": "Python 3 (ipykernel)",
   "language": "python",
   "name": "python3"
  },
  "language_info": {
   "codemirror_mode": {
    "name": "ipython",
    "version": 3
   },
   "file_extension": ".py",
   "mimetype": "text/x-python",
   "name": "python",
   "nbconvert_exporter": "python",
   "pygments_lexer": "ipython3",
   "version": "3.12.7"
  }
 },
 "nbformat": 4,
 "nbformat_minor": 5
}
