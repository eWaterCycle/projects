{
 "cells": [
  {
   "cell_type": "markdown",
   "id": "a984983e-6f26-4f84-ba39-b1251bd1a9cd",
   "metadata": {},
   "source": [
    "# Bibliography"
   ]
  },
  {
   "cell_type": "markdown",
   "id": "ce1f700d-14f8-4515-8ffb-5f9681f26516",
   "metadata": {},
   "source": [
    "Centre de Recherche Public, & Görgen, K., & Lippmann, G. (2010). Assessment of climate change impacts on discharge in the Rhine River Basin: Results of the RheinBlick2050 Project (Report I-23). CHR.\n",
    "\n",
    "CHR. (2009). Erosion, transport and deposition of sediment: Case study Rhine (Report No. II-20). International Commission for the Hydrology of the Rhine Basin.\n",
    "\n",
    "ClimateData.ca. (2025, February). Understanding Shared Socio-economic Pathways (SSPs). https://climatedata.ca/resource/understanding-shared-socio-economic-pathways-ssps/\n",
    "\n",
    "Ehret, U., & Zehe, E. (2011). Series distance – An intuitive metric to quantify hydrograph similarity in terms of occurrence, amplitude and timing of hydrological events. Hydrology and Earth System Sciences, 15(3), 877–896. https://doi.org/10.5194/hess-15-877-2011\n",
    "\n",
    "EnBW Kraftwerke AG. (2009). Rheinkraftwerk Iffezheim – Ausbau zu einem der größten Laufwasserkraftwerke Europas. Energie Baden-Württemberg AG.\n",
    "\n",
    "EnBW Representative. (2025, April). Personal communication with the operator of the Iffezheim dam [Phone call].\n",
    "\n",
    "Fernandez-Palomino, C. A., Hattermann, F. F., Krysanova, V., Vega-Jácome, F., Menz, C., Gleixner, S., & Bronstert, A. (2024). High-resolution climate projection dataset based on CMIP6 for Peru and Ecuador: BASD-CMIP6-PE. Scientific Data, 11(1). https://www.nature.com/articles/s41597-023-02863-z\n",
    "\n",
    "Frings, R. M., Hillebrand, G., Gehres, N., Banhold, K., Schriever, S., & Hoffmann, T. (2019). From source to mouth: Basin-scale morphodynamics of the Rhine River. Earth-Science Reviews, 196, 102830. https://doi.org/10.1016/j.earscirev.2019.04.002\n",
    "\n",
    "Froehlich-Schmitt, B. (2004). Rhine & Salmon 2020: A programme for migratory fish in the Rhine system. ICPR.\n",
    "\n",
    "Gerlier, M., & Roche, P. (1998). A radio telemetry study of the migration of Atlantic salmon (Salmo salar L.) and sea trout (Salmo trutta trutta L.) in the upper Rhine. In Springer eBooks (pp. 283–293). https://doi.org/10.1007/978-94-011-5090-3_32\n",
    "\n",
    "Hameed, I. H., & Hilo, A. N. (2021). Design of vertical slot fish ladder: Review paper. IOP Conference Series: Earth and Environmental Science, 779(1), 012080. https://doi.org/10.1088/1755-1315/779/1/012080\n",
    "\n",
    "Hersbach, H., Bell, B., & Berrisford, P. (2019). Global reanalysis: Goodbye ERA-Interim, hello ERA5. ECMWF. https://www.ecmwf.int/en/newsletter/159/meteorology/global-reanalysis-goodbye-era-interim-hello-era5\n",
    "\n",
    "Hrachowitz, M. (n.d.). TU Delft course ENVVM1502 – “River Basin Hydrology”. Delft University of Technology.\n",
    "\n",
    "Hut, R. (2025). Meeting with R. Hut [In-person meeting].\n",
    "\n",
    "Hut, R. (2025). Personal communication via email [Email correspondence].\n",
    "\n",
    "Hut, R., Drost, N., Van De Giesen, N., Van Werkhoven, B., Abdollahi, B., Aerts, J., ... Weel, B. (2022). The eWaterCycle platform for open and FAIR hydrological collaboration. Geoscientific Model Development, 15(13), 5371–5390. https://doi.org/10.5194/gmd-15-5371-2022\n",
    "\n",
    "International Commission for the Protection of the Rhine (ICPR). (2018). Master Plan Migratory Fish Rhine 2018 (Report No. 247). https://www.iksr.org/fileadmin/user_upload/DKDM/Dokumente/Fachberichte/EN/rp_En_0247.pdf\n",
    "\n",
    "MAP. (2014). WE2 - Turning point analysis of Rhine River policies. https://www.pik-potsdam.de/~wrobel/mediation-platform/cases/we2_salmon_policy\n",
    "\n",
    "Marine Institute. (2022). Salmon life cycle. https://www.marine.ie/site-area/areas-activity/fisheries-ecosystems/salmon-life-cycle\n",
    "\n",
    "Marra, F., Nikolopoulos, E. I., Anagnostou, E. N., & Morin, E. (2018). Metastatistical extreme value analysis of hourly rainfall from short records: Estimation of high quantiles and impact of measurement errors. Advances in Water Resources, 117, 27–39. https://doi.org/10.1016/j.advwatres.2018.05.001\n",
    "\n",
    "Rubenstein, S. R., Peterson, E., Christman, P., & Zydlewski, J. D. (2022). Adult Atlantic salmon (Salmo salar) delayed below dams rapidly deplete energy stores. Canadian Journal of Fisheries and Aquatic Sciences, 80(1), 170–182. https://doi.org/10.1139/cjfas-2022-0008\n",
    "\n",
    "Santos, L., Thirel, G., & Perrin, C. (2018). Technical Note: Pitfalls in using log-transformed flows within the KGE criterion. Hydrology and Earth System Sciences, 22(8), 4583–4591. https://doi.org/10.5194/hess-22-4583-2018\n",
    "\n",
    "Schmutz, S., Mielach, C., Eckert, M., Filzwieser, M., Grigull, M., Radolf, M., ... So, P. (2015). Review of existing research on fish passage through large dams and its applicability to Mekong mainstream dams. https://doi.org/10.52107/mrc.ajg82u\n",
    "\n",
    "Uehlinger, U., Wantzen, K. M., Leuven, R. S. E. W., & Arndt, H. (2009). The Rhine River Basin. In Rivers of Europe (2nd ed.). Elsevier. https://doi.org/10.1016/B978-0-08-102612-0.00010-9\n",
    "\n",
    "Van Brenk. (2021). Return period of low water periods in the River Rhine. University of Twente.\n",
    "\n",
    "Van Rijssel, J. C., Breukelaar, A. W., De Leeuw, J. J., Van Puijenbroek, M. E. B., Schilder, K., Schrimpf, A., ... Winter, H. V. (2024). Reintroducing Atlantic salmon in the river Rhine for decades: Why did it not result in the return of a viable population? River Research and Applications, 40(7), 1164–1182. https://doi.org/10.1002/rra.4284\n",
    "\n",
    "Wang, J., Qin, S., Jin, S., & Wu, J. (2014). Estimation methods review and analysis of offshore extreme wind speeds and wind energy resources. Renewable and Sustainable Energy Reviews, 42, 26–42. https://doi.org/10.1016/j.rser.2014.09.042\n",
    "\n",
    "Wetterhall, F. (2017, November). HBV: 40 years and counting. HEPEX. https://hepex.org.au/the-hbv-model-40-years-and-counting/\n",
    "\n",
    "Yilmaz, K. K., Vrugt, J. A., Gupta, H. V., & Sorooshian, S. (2010). Model calibration in watershed hydrology. In Advances in data-based approaches for hydrologic modeling and forecasting. NASA Technical Report. https://ntrs.nasa.gov/api/citations/20090032232/downloads/20090032232.pdf\n",
    "\n"
   ]
  }
 ],
 "metadata": {
  "kernelspec": {
   "display_name": "Python 3 (ipykernel)",
   "language": "python",
   "name": "python3"
  },
  "language_info": {
   "codemirror_mode": {
    "name": "ipython",
    "version": 3
   },
   "file_extension": ".py",
   "mimetype": "text/x-python",
   "name": "python",
   "nbconvert_exporter": "python",
   "pygments_lexer": "ipython3",
   "version": "3.12.7"
  }
 },
 "nbformat": 4,
 "nbformat_minor": 5
}
