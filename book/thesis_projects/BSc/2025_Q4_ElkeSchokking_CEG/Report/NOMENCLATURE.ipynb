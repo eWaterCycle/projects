{
 "cells": [
  {
   "cell_type": "markdown",
   "id": "b6f8f2f3-8984-4d3a-b865-50d5973acd09",
   "metadata": {},
   "source": [
    "# Nomenclature"
   ]
  },
  {
   "cell_type": "markdown",
   "id": "a06fdcc1-d9b5-407c-846d-14712f3eabec",
   "metadata": {},
   "source": [
    "\n",
    "| **Term**                                       | **Description**                                                                                 |\n",
    "|------------------------------------------------|-------------------------------------------------------------------------------------------------|\n",
    "| Atlantic Salmon (*Salmo salar*)                | Anadromous fish species.                                                                        |\n",
    "| Anadromous                                     | Born in freshwater, migrate to sea, then return to freshwater to spawn.                         |\n",
    "| Spawning Grounds                               | Freshwater habitats where salmon reproduce.                                                     |\n",
    "| Migration Window                               | Seasonal migration period for salmon; timing overlap with low-flow matters.                     |\n",
    "| Holding Behavior                               | Temporary holding behavior in cooler waters during low flow.                                    |\n",
    "| Thermal Stress Threshold                       | Water temperatures >20–23 °C cause stress and disrupt migration.                                |\n",
    "| Predation Risk                                 | Greater risk of being preyed upon when delayed below dams.                                      |\n",
    "| Energy Depletion                               | Loss of vital energy due to prolonged delays and swimming effort.                               |\n",
    "| Critical Low Flow (CLF)                        | Iffezheim fishway becomes impassable to salmon.                                                 |\n",
    "| Hydraulic Head Difference                      | Vertical water level difference.                                                                |\n",
    "| HBV Model                                      | Conceptual hydrological model for rainfall-runoff simulation.                                   |\n",
    "| eWaterCycle                                    | Hydrological modeling platform for past and future flows.                                       |\n",
    "| RCP (Representative Concentration Pathways)    | Emission pathways used for climate scenario modeling.                                           |\n",
    "| Climate Scenario                               | Projection of future climate based on emissions and policy.                                     |"
   ]
  }
 ],
 "metadata": {
  "kernelspec": {
   "display_name": "Python 3 (ipykernel)",
   "language": "python",
   "name": "python3"
  },
  "language_info": {
   "codemirror_mode": {
    "name": "ipython",
    "version": 3
   },
   "file_extension": ".py",
   "mimetype": "text/x-python",
   "name": "python",
   "nbconvert_exporter": "python",
   "pygments_lexer": "ipython3",
   "version": "3.12.7"
  }
 },
 "nbformat": 4,
 "nbformat_minor": 5
}
