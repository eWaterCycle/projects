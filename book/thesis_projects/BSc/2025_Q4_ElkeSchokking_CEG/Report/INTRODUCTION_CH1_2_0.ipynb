{
 "cells": [
  {
   "cell_type": "markdown",
   "id": "42202631-d9bf-4e8e-9319-fa4b17f74919",
   "metadata": {},
   "source": [
    "# Introduction"
   ]
  },
  {
   "cell_type": "markdown",
   "id": "cf58a022-a8c3-476d-83b6-7fc45aee8b1d",
   "metadata": {},
   "source": [
    "## Context\n",
    "The Rhine is one of Europe's critical hydrological pathways. It stretches 1,230 kilometers through a total of six countries, draining a catchment area of over 185,000 km². It serves many purposes. From drinking water for more than 50 million inhabitants to the transportation of ships to the whole of Europe (Görgen et al., 2010). The Rhine is also one of Europe’s critical migratory fishways. It connects the alpine spawning grounds with the feeding areas in the ocean. Declines in the Rhine salmon population have been observed since the 19th century (ICPR, 2018). This decrease is strongly associated with anthropogenic impacts: deteriorated water quality, habitat loss and physical migration barriers like dams. In response, the ICPR launched the “Salmon 2000” programme to restore the ecological system of the Rhine and reintroduce migratory fish species (ICPR, 2018). \n",
    "\n",
    "Yet, the Rhine system is under mounting threat from climate change. Climate change is expected to substantially alter the hydrological regime of the Rhine throughout the 21st century (Nilson et al., 2024). Projections indicate a continued decrease in summer discharge while winter discharges are projected to increase. These seasonal shifts will intensify hydrological extremes. Severe low-flow events in the Rhine, such as the 2018 drought, are projected to occur with increasing frequency (Van Brenk, 2021). These low-flow events could cause serious harm to the migration of the salmon population in the Rhine.\n"
   ]
  },
  {
   "cell_type": "markdown",
   "id": "540ecfea-b0d7-4fdf-8fa1-b088f0721606",
   "metadata": {},
   "source": [
    "## Problem Analysis\n",
    "The Rhine Salmon 2020 initiative has restored access routes via fish passes(Froehlich-Schmitt, 2004), yet climate change introduces a new barrier: insufficient flow. The functionality of the fish passage at the Iffezheim dam, may depend on maintaining a minimum flow. Under low-flow conditions, the fishway may become impassable. This is particularly critical during the period when adult Atlantic salmon migrate upstream to spawn.\n",
    "\n",
    "Van Brenk (2021) projected that low-flow events will become increasingly frequent and severe, this raises the risk of passage failure. If unaddressed, this could undermine the long-term restoration efforts by the Rhine Salmon 2020 programme and thereby disrupting the recovery of migratory fish populations in the Rhine basin.\n",
    "\n",
    "However, the frequency, timing, and discharge of such low-flow conditions at the Iffezheim dam remain insufficiently quantified, certainly under future climate scenarios. This is a key knowledge gap. The hypothesis of this study is that climate change will increase the occurrence of critical low-flow events during the salmon migration period, thereby reducing the likelihood of passage of Atlantic salmon at the Iffezheim fishway. This hypothesis will be tested in this study by using hydrological models available at eWatercycle.\n"
   ]
  },
  {
   "cell_type": "markdown",
   "id": "6b724f37-4052-439a-b97a-bba4890d2ed3",
   "metadata": {},
   "source": [
    "## Research Objective\n",
    "This study aims to identify to what extent river discharge may impede the crossing of Atlantic salmon at the Iffezheim fish passage. This is achieved by answering the following research questions.\n",
    "\n",
    "The central research question is:\n",
    "\n",
    "“*What is the influence of future climate change on the discharge patterns of the Rhine on the occurrence of critical low flow for crossing of Atlantic salmon at the Iffezheim fish passage?*”\n",
    "\n",
    "To address this question, the following sub-questions will be considered:\n",
    "\n",
    "•\t“*What is the critical low flow for crossing of Atlantic salmon at the Iffezheim fish passage?*”\n",
    "\n",
    "•\t“*At what time of the year does critical low flow in the Rhine occur at the Iffezheim fish passage?*”\n",
    "\n",
    "•\t“*How many times from 1900 untill now does critical low flow in the Rhine occur at the Iffezheim fish passage?*”\n",
    "\n",
    "•\t“*How many times from now till 2100 will there be critical low flow at the Iffezheim fish passage, under different climate scenarios?*”\n"
   ]
  },
  {
   "cell_type": "markdown",
   "id": "93cda373-78e0-4f7c-b1ea-7cf991568842",
   "metadata": {},
   "source": [
    "## Methodology\n",
    "Initially, available datasets on river discharge at Iffezheim will be analyzed using the HBV and WFlow hydrological models, selecting the one that demonstrates the best 'fit' for the application. These models are accessible through the eWaterCycle platform, a hydrological modeling environment that allows researchers to switch between models, calibrate them, and apply them to both historical and future climate scenarios with minimal effort (Hut et al., 2022). \n",
    "\n",
    "The chosen model, such as the HBV model, is calibrated over the period of *2013–2019*. This calibration specifically targets the best fit for reproducing the critical low-flow threshold events and their seasonal timing. This critical low-flow threshold itself is derived from a literature study and interviews, and is then applied across model outputs to evaluate the discharge conditions of the fish passage.\n",
    "\n",
    "Following calibration, the best-fitting model is forced with historical and future CMIP6 climate models. Future scenarios considered include SSP1 through SSP5, representing a spectrum of emission pathways. It is noted that while the spatial resolution of CMIP6 (100 km) (Fernandez-Palomino et al., 2024) is coarser than ERA5 (25 km) (Global Reanalysis: Goodbye ERA-Interim, Hello ERA5, n.d.), statistical distributions are assumed to be representative at seasonal scales. \n",
    "\n",
    "The calibrated parameters are retained in all future simulations. By comparing these historical and future model outputs, the study aims to identify trends in critical low-flow discharge events and their alignment with migration windows. This directly addresses the research question by examining how future climate‐driven changes in Rhine discharge patterns will affect the frequency of critical low‐flow conditions that could hinder Atlantic salmon from passing through the Iffezheim fishway."
   ]
  },
  {
   "cell_type": "markdown",
   "id": "18a12691-8b65-490b-8ed4-975b29d2ccbd",
   "metadata": {},
   "source": [
    "## Reading Guide\n",
    "*Will be added for the final report.*"
   ]
  }
 ],
 "metadata": {
  "kernelspec": {
   "display_name": "Python 3 (ipykernel)",
   "language": "python",
   "name": "python3"
  },
  "language_info": {
   "codemirror_mode": {
    "name": "ipython",
    "version": 3
   },
   "file_extension": ".py",
   "mimetype": "text/x-python",
   "name": "python",
   "nbconvert_exporter": "python",
   "pygments_lexer": "ipython3",
   "version": "3.12.7"
  }
 },
 "nbformat": 4,
 "nbformat_minor": 5
}
