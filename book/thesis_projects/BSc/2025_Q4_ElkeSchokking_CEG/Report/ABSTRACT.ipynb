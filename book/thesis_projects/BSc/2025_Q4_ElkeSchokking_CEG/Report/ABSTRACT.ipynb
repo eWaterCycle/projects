{
 "cells": [
  {
   "cell_type": "markdown",
   "id": "f19d4245-1d27-4b72-aa15-228410bcc7b7",
   "metadata": {},
   "source": [
    "# Abstract"
   ]
  },
  {
   "cell_type": "markdown",
   "id": "bb31128b-f247-453e-a63f-1477085244d6",
   "metadata": {},
   "source": [
    "Climate change is expected to significantly alter hydrological systems worldwide, including that of the Rhine River. These changes form a threat to the migration success of Atlantic salmon. The salmon depend on sufficient discharge of the Rhine to cross structures such as the Iffezheim fish passage. They need to cross these structures to reach upstream spawning habitats.\n",
    "\n",
    "This study investigates how projected discharge changes under climate scenarios affect the functionality of this fish passage. The HBV hydrological model was calibrated to capture low-flow magnitude and timing. Using the eWaterCycle platform and ERA5 forcing data, the HBV model was then used in CMIP6 runs to simulate both historical and future discharge patterns. **These simulations are done over a period from 2026-2099.** Results reveal that discharges below the critical threshold of 500~m\\textsuperscript{3}/s are projected to occur as frequently as 3 times in 10 years. The frequency of critical low-flow events increases. Additionally, drought events shift from frequent, moderate severity to fewer but more extreme severity. These findings highlight the urgent need for adaptive fishway management, to make sure the Atlantic salmon will be able to cross the Iffezheim fish passage.\n"
   ]
  }
 ],
 "metadata": {
  "kernelspec": {
   "display_name": "Python 3 (ipykernel)",
   "language": "python",
   "name": "python3"
  },
  "language_info": {
   "codemirror_mode": {
    "name": "ipython",
    "version": 3
   },
   "file_extension": ".py",
   "mimetype": "text/x-python",
   "name": "python",
   "nbconvert_exporter": "python",
   "pygments_lexer": "ipython3",
   "version": "3.12.7"
  }
 },
 "nbformat": 4,
 "nbformat_minor": 5
}
