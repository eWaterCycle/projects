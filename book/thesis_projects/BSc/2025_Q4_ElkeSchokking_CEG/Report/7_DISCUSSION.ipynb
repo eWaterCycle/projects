{
 "cells": [
  {
   "cell_type": "markdown",
   "id": "122a2d70-cdb5-473f-9023-48ad97ede378",
   "metadata": {},
   "source": [
    "# Discussion"
   ]
  },
  {
   "cell_type": "markdown",
   "id": "23d863b7-6cb9-4a49-a601-6af9ec57cd86",
   "metadata": {},
   "source": [
    "## Key Findings\n",
    "This research aimed to investigate the impact of climate change on low-flow conditions in the Rhine River and their implications for the functionality of the Iffezheim fish passage. The findings indicate that climate change will lead to a shift in drought characteristics: while the total number of droughts decreases, their severity increases. And most importantly, critical low-flow events will become more dominant across all future climate scenarios."
   ]
  },
  {
   "cell_type": "markdown",
   "id": "0313644a-0519-4a80-b29a-37e99a21de0e",
   "metadata": {},
   "source": [
    "## MEV Return Periods\n",
    "The MEV analysis reveals clear differences in return periods and discharge magnitudes between climate scenarios. SSP3-7.0 has the shortest return periods and the highest discharges. This implies less severe low-flow conditions. SSP2-4.5 shows the lowest discharge levels among future scenarios. The historic scenario is has the most severe low-flow conditions and longest return periods."
   ]
  },
  {
   "cell_type": "markdown",
   "id": "3ba32899-d9f7-4222-b3d1-4d616482a6c9",
   "metadata": {},
   "source": [
    "## Drought Frequency\n",
    "The drought frequency analysis shows a shift from frequent, moderate droughts to fewer but more intense critical droughts in future scenarios. While caution-level droughts used to happen more than once a year historically, their numbers drop significantly under future conditions. When looking at longer time blocks, up to 2–3 critical droughts are expected per decade even as many as 5 in a 20-year span. Interestingly, these peaks occur under SSP2-4.5, suggesting that the mid-range emissions pathway brings the most serious ecological risks.\n",
    "\n",
    "As mentioned in Chapter 4, SSP2-4.5 follows a “middle-of-the-road” path. This has moderate global climate action and the emissions stabilize around mid-century. This scenario leads to relatively low rainfall, especially in spring and early summer when baseflow is essential for keeping the Rhine discharge stable. At the same time, rising temperatures increase evapotranspiration. This means more water is lost to the atmosphere. Together, these changes reduce effective runoff. This explains the more frequent critical droughts projected in this scenario."
   ]
  },
  {
   "cell_type": "markdown",
   "id": "cc7e3989-9e4f-4de8-af28-d3e92241b9a6",
   "metadata": {},
   "source": [
    "## Implications of Findings\n",
    "The shift toward more persistent and severe low-flow conditions has serious ecological consequences. Especially since the low-flow events particularly fall into the **critical** category, as defined in Chapter 2 (duration >7 days). During these extended low-flow periods, Atlantic salmon are unable to pass the Iffezheim fishway, often resorting to holding behavior in cooler tributaries or downstream of the dam (Gerlier & Roche, 1998). Delays of seven days or more increase exposure to predators like pike, catfish, cormorants, and seals (Van Rijssel et al., 2024), while water temperatures exceeding 20--23 degrees Celsius can cause thermal stress (MAP, 2014).\n",
    "\n",
    "Prolonged migration delays also cause energy depletion, as salmon use energy searching for a way upstream but are unable to feed in freshwater (Institute, 2022; Rubenstein et al., 2022). When low-flow conditions persist for more than 7 days, these combined factors can significantly reduce the crossing of Atlantic salmon and reproductive success."
   ]
  },
  {
   "cell_type": "markdown",
   "id": "a1340079-6358-4323-82db-cc08d6c5fb43",
   "metadata": {},
   "source": [
    "## Limitations\n",
    "Several limitations should be acknowledged. The discharge data used for calibration and analysis spans only a few decades. Even though MEV is used, this may limit the robustness of the extreme value extrapolation. The model is calibrated to both log-NSE and EMD criteria, but low-flow periods remain challenging to reproduce with high accuracy.\n",
    "\n",
    "Like all hydrological models, HBV simplifies complex physical processes and depends on the quality and representativeness of the input data. Biases in precipitation projections, limited representation of groundwater dynamics, and assumptions in threshold selection also contribute to uncertainty.\n",
    "\n",
    "Additionally, only one ensemble member from the MPI climate model was used due to time constraints. Using multiple ensemble members would allow for better uncertainty quantification and improve confidence in the projected discharge trends.\n",
    "\n",
    "**Another important limitation is the difference in spatial resolution between the ERA5 forcing data (25 km) used for the calibration and the CMIP6 model output (100 km) used for the historic simulation and future projections. This substantial difference causes scale-related uncertainty, particularly in the representation of local precipitation and discharge dynamics. As a result, the downscaled CMIP6 data may smooth out local extremes or over/underestimate key seasonal events.**\n",
    "\n",
    "**Finally, the HBV model does not explicitly account for changing glacier melt regimes. Glaciers are expected to shrink and shift their melt timing due to climate change. As a result, omitting glacier melt may reduce the accuracy of projected baseflows, particularly in summer and autumn when meltwater is most critical. This simplification could lead to either underestimation or overestimation of discharge depending on the basin response and glacier cover.**"
   ]
  },
  {
   "cell_type": "markdown",
   "id": "769c0b5b-eece-4dc0-8f94-8a930a171277",
   "metadata": {},
   "source": [
    "## Recommendations\n",
    "Future studies should incorporate multiple ensemble members from the climate model to capture a broader range of discharge outputs. Extending the observation period and improving low-flow calibration would also enhance model reliability. \n",
    "\n",
    "To better understand how low-flow conditions affect salmon, more detailed ecological modeling is needed. Collaboration with an expert on salmon migration would be ideal. Tracking salmon during droughts could also help to determine the drought categories. On the management side, adaptive flow strategies like seasonal water releases should be considered to keep the fish passage working properly in the future."
   ]
  }
 ],
 "metadata": {
  "kernelspec": {
   "display_name": "Python 3 (ipykernel)",
   "language": "python",
   "name": "python3"
  },
  "language_info": {
   "codemirror_mode": {
    "name": "ipython",
    "version": 3
   },
   "file_extension": ".py",
   "mimetype": "text/x-python",
   "name": "python",
   "nbconvert_exporter": "python",
   "pygments_lexer": "ipython3",
   "version": "3.12.7"
  }
 },
 "nbformat": 4,
 "nbformat_minor": 5
}
