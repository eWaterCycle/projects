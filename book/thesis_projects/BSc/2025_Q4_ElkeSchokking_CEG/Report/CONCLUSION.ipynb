{
 "cells": [
  {
   "cell_type": "markdown",
   "id": "73d11300-a789-44ac-a34f-7c395a790c6d",
   "metadata": {},
   "source": [
    "# Conclusion"
   ]
  },
  {
   "cell_type": "markdown",
   "id": "bb10b245-54ec-41c3-916f-f9a9b183da80",
   "metadata": {},
   "source": [
    "This research investigated the impact of climate change on low-flow conditions in the Rhine River and its implications for Atlantic salmon migration at the Iffezheim fish passage. Discharge was simulated for both historical and future scenarios using the HBV model combined with CMIP6 climate projections. A critical threshold of 500 m³/s was used to assess fish passage functionality.\n",
    "\n",
    "The MEV analysis showed that the SSP3-7.0 scenario resulted in the least severe low-flow conditions. While the SSP1-2.6 and SSP5-8.5 scenarios produced fewer but more extreme events. The SSP2-4.5 scenario shows the lowest discharges among future scenarios, and the historic scenario has the most severe low-flow conditions overall.\n",
    "\n",
    "Drought frequency analysis revealed a clear shift from frequent, moderate droughts in the observed and historical periods to fewer but more severe critical events under all future scenarios. While caution-level droughts occurred more than once per year in the observed period, future scenarios show a sharp decline in moderate droughts. Critical droughts however still occur regularly. Over longer time blocks, this pattern becomes more pronounced: in the 10-year section, up to 2–3 critical droughts are expected, and in the 20-year block, up to 5. Both maxima are observed under scenario SSP2-4.5.\n",
    "\n",
    "In conclusion, climate change is expected to reduce the frequency but increase the severity of low-flow conditions in the Rhine. This threatens the reliability of the Iffezheim fish passage for the crossing of Atlantic salmon."
   ]
  }
 ],
 "metadata": {
  "kernelspec": {
   "display_name": "Python 3 (ipykernel)",
   "language": "python",
   "name": "python3"
  },
  "language_info": {
   "codemirror_mode": {
    "name": "ipython",
    "version": 3
   },
   "file_extension": ".py",
   "mimetype": "text/x-python",
   "name": "python",
   "nbconvert_exporter": "python",
   "pygments_lexer": "ipython3",
   "version": "3.12.7"
  }
 },
 "nbformat": 4,
 "nbformat_minor": 5
}
