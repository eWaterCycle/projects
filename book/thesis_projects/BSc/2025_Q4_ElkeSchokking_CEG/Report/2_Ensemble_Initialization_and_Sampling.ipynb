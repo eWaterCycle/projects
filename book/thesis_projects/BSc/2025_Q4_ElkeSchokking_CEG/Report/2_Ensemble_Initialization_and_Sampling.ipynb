{
 "cells": [
  {
   "cell_type": "markdown",
   "id": "fedad001-b517-43cc-b5e6-4f97083df276",
   "metadata": {},
   "source": [
    "# Ensemble Algorithm"
   ]
  },
  {
   "cell_type": "code",
   "execution_count": 1,
   "id": "f0f122c5",
   "metadata": {},
   "outputs": [],
   "source": [
    "#some general python and eWaterCycle libraries need to be imported\n",
    "%matplotlib inline\n",
    "# General python\n",
    "import warnings\n",
    "warnings.filterwarnings(\"ignore\", category=UserWarning)\n",
    "\n",
    "import numpy as np\n",
    "from pathlib import Path\n",
    "import pandas as pd\n",
    "import geopandas as gpd\n",
    "import matplotlib.pyplot as plt\n",
    "from IPython.display import display\n",
    "import xarray as xr\n",
    "from scipy.stats import wasserstein_distance\n",
    "\n",
    "# Niceties\n",
    "from rich import print\n",
    "from tqdm import tqdm\n",
    "\n",
    "\n",
    "# General eWaterCycle\n",
    "import ewatercycle\n",
    "import ewatercycle.models\n",
    "import ewatercycle.forcing\n",
    "from ewatercycle.forcing import sources\n",
    "from ewatercycle.models import HBV\n",
    "\n",
    "# Optional: Data Assimilation\n",
    "# If not installed, uncomment below to install\n",
    "# !pip install ewatercycle-da\n",
    "from ewatercycle_DA import DA"
   ]
  },
  {
   "cell_type": "markdown",
   "id": "6a4b5b54-8161-4f90-846b-78d4365976dc",
   "metadata": {},
   "source": [
    "## Ensemble Initialization and Parameter Sampling"
   ]
  },
  {
   "cell_type": "markdown",
   "id": "cbb0070d-6ffd-465a-b54c-cfd8afc00d90",
   "metadata": {},
   "source": [
    "### Calibration Algorithm\n",
    "Model calibration using the ensemble method involves creating an ensemble of multiple models, this method is taken from eWatercycle and Hut, 2025. Instead of a single one. Each \"ensemble member\" is assigned its own unique set of parameters. These parameters are created by generating random values within predefined ranges. All models within this ensemble can then be run simultaneously with a single command, like ensemble.update(). After these runs, an objective function is applied to each model's output to quantify its \"goodness of fit\" by comparing it to the observed dicharge data. The best set of parameters is then identified as the combination that yields the lowest objective function score."
   ]
  },
  {
   "cell_type": "code",
   "execution_count": 2,
   "id": "30616e6f-be53-41da-9ade-6c2dda6cd5e0",
   "metadata": {},
   "outputs": [],
   "source": [
    "# Define HBV parameter bounds and names\n",
    "param_names = [\"Imax\", \"Ce\", \"Sumax\", \"Beta\", \"Pmax\", \"Tlag\", \"Kf\", \"Ks\", \"FM\"]\n",
    "p_min = np.array([0.0,  0.2,   40.0,  0.5,   0.001,   1.0,   0.01,  0.0001,  0.01])\n",
    "p_max = np.array([8.0,  1.0,  800.0,  4.0,   0.3,    10.0,   0.1,   0.01,   10.0])\n",
    "\n",
    "n_particles = 1000  # ensemble size\n",
    "# Sample random parameters for each particle within bounds\n",
    "parameters = np.zeros((len(param_names), n_particles))\n",
    "for j in range(len(param_names)):\n",
    "    parameters[j, :] = np.random.uniform(p_min[j], p_max[j], size=n_particles)"
   ]
  },
  {
   "cell_type": "code",
   "execution_count": 3,
   "id": "cd97535d-53ea-4a54-aa37-56c8d3ddfaa0",
   "metadata": {},
   "outputs": [
    {
     "ename": "NameError",
     "evalue": "name 'ERA5_forcing' is not defined",
     "output_type": "error",
     "traceback": [
      "\u001b[0;31m---------------------------------------------------------------------------\u001b[0m",
      "\u001b[0;31mNameError\u001b[0m                                 Traceback (most recent call last)",
      "Cell \u001b[0;32mIn[3], line 10\u001b[0m\n\u001b[1;32m      6\u001b[0m setup_kwargs_list \u001b[38;5;241m=\u001b[39m [{\u001b[38;5;124m'\u001b[39m\u001b[38;5;124mparameters\u001b[39m\u001b[38;5;124m'\u001b[39m: parameters[:, i]} \u001b[38;5;28;01mfor\u001b[39;00m i \u001b[38;5;129;01min\u001b[39;00m \u001b[38;5;28mrange\u001b[39m(n_particles)]\n\u001b[1;32m      8\u001b[0m \u001b[38;5;66;03m# Initialize all ensemble members with the HBVLocal model, forcing data, and parameters\u001b[39;00m\n\u001b[1;32m      9\u001b[0m ensemble\u001b[38;5;241m.\u001b[39minitialize(model_name\u001b[38;5;241m=\u001b[39m[\u001b[38;5;124m\"\u001b[39m\u001b[38;5;124mHBVLocal\u001b[39m\u001b[38;5;124m\"\u001b[39m] \u001b[38;5;241m*\u001b[39m n_particles,\n\u001b[0;32m---> 10\u001b[0m                     forcing\u001b[38;5;241m=\u001b[39m[\u001b[43mERA5_forcing\u001b[49m] \u001b[38;5;241m*\u001b[39m n_particles,\n\u001b[1;32m     11\u001b[0m                     setup_kwargs\u001b[38;5;241m=\u001b[39msetup_kwargs_list) \n\u001b[1;32m     13\u001b[0m ref_model \u001b[38;5;241m=\u001b[39m ensemble\u001b[38;5;241m.\u001b[39mensemble_list[\u001b[38;5;241m0\u001b[39m]\u001b[38;5;241m.\u001b[39mmodel\n\u001b[1;32m     15\u001b[0m \u001b[38;5;66;03m# Generate config file with first parameter set\u001b[39;00m\n",
      "\u001b[0;31mNameError\u001b[0m: name 'ERA5_forcing' is not defined"
     ]
    }
   ],
   "source": [
    "# Create ensemble and initialize each member with HBV model and unique parameters\n",
    "ensemble = DA.Ensemble(N=n_particles)\n",
    "ensemble.setup() \n",
    "\n",
    "# Prepare setup arguments for each particle (each gets its parameter set)\n",
    "setup_kwargs_list = [{'parameters': parameters[:, i]} for i in range(n_particles)]\n",
    "\n",
    "# Initialize all ensemble members with the HBVLocal model, forcing data, and parameters\n",
    "ensemble.initialize(model_name=[\"HBVLocal\"] * n_particles,\n",
    "                    forcing=[ERA5_forcing] * n_particles,\n",
    "                    setup_kwargs=setup_kwargs_list) \n",
    "\n",
    "ref_model = ensemble.ensemble_list[0].model\n",
    "\n",
    "# Generate config file with first parameter set\n",
    "config_file, _ = ref_model.setup(parameters=parameters[:, 0])\n",
    "\n",
    "# Initialize model\n",
    "ref_model.initialize(config_file)"
   ]
  },
  {
   "cell_type": "markdown",
   "id": "3ebd6bea-6539-4448-90d7-2b48b4d78a7c",
   "metadata": {},
   "source": [
    "## Running the Ensemble Simulation"
   ]
  },
  {
   "cell_type": "code",
   "execution_count": null,
   "id": "92a3452e-3658-45a4-84c6-7f80f66de40e",
   "metadata": {},
   "outputs": [],
   "source": [
    "# Determine number of time steps in the simulation period\n",
    "n_timesteps = int((ref_model.end_time - ref_model.start_time) / ref_model.time_step)\n",
    "\n",
    "time_index = []           # list to store timestamps for each time step\n",
    "ensemble_Q_outputs = []   # list to store discharge arrays for each time step\n",
    "\n",
    "for step in range(n_timesteps):\n",
    "    # Record current model time\n",
    "    current_time = pd.Timestamp(ref_model.time_as_datetime.date())\n",
    "    time_index.append(current_time)\n",
    "    \n",
    "    # Advance all models by one time step and collect their discharge values\n",
    "    ensemble.update()  # update all ensemble members by one step\n",
    "    Q_values = np.array(ensemble.get_value(\"Q\")).flatten()  # discharge of all particles\n",
    "    Q_values_m3s = Q_values * basin_area * 1000 / 86400 #convert to m3/s\n",
    "    ensemble_Q_outputs.append(Q_values_m3s)\n",
    "\n",
    "ensemble.finalize()\n",
    "\n",
    "# Convert collected outputs to a DataFrame\n",
    "Q_array = np.array(ensemble_Q_outputs)        # shape: (n_timesteps, n_particles)\n",
    "df_ensemble = pd.DataFrame(\n",
    "    data=Q_array, \n",
    "    index=pd.DatetimeIndex(time_index), \n",
    "    columns=[f\"particle_{i}\" for i in range(n_particles)]\n",
    ")"
   ]
  }
 ],
 "metadata": {
  "kernelspec": {
   "display_name": "Python 3 (ipykernel)",
   "language": "python",
   "name": "python3"
  },
  "language_info": {
   "codemirror_mode": {
    "name": "ipython",
    "version": 3
   },
   "file_extension": ".py",
   "mimetype": "text/x-python",
   "name": "python",
   "nbconvert_exporter": "python",
   "pygments_lexer": "ipython3",
   "version": "3.12.7"
  }
 },
 "nbformat": 4,
 "nbformat_minor": 5
}
