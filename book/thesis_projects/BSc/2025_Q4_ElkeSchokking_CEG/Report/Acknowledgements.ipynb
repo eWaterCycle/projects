{
 "cells": [
  {
   "cell_type": "markdown",
   "id": "098f4add-528a-4372-acdd-82d5a0e10ac3",
   "metadata": {},
   "source": [
    "## Acknowledgements"
   ]
  },
  {
   "cell_type": "markdown",
   "id": "a3c117a4-16d2-483f-b7bd-7f7dcd5ecc0e",
   "metadata": {},
   "source": [
    "I would like to express my sincere thanks to my supervisors, Dr. ir. Rolf Hut and ir. Vincent Hoogelander, for their continued support and insightful feedback throughout this research. Their guidance was invaluable in shaping both the methodology and direction of this work. Special thanks go to ir. Mark Melotto for his technical assistance with the eWaterCycle platform, and to the EnBW representative for providing crucial operational details about the Iffezheim fishway. I would also like to acknowledge that the BEP reports of Ischa Hollemans and Thirza van Esch were very helpful. Finally, I am grateful to my family and friends for their encouragement and support throughout the research process.\n",
    "\n",
    "Delft,\n",
    "\n",
    "June 19th, 2025\n",
    "\n",
    "Elke Schokking"
   ]
  }
 ],
 "metadata": {
  "kernelspec": {
   "display_name": "Python 3 (ipykernel)",
   "language": "python",
   "name": "python3"
  },
  "language_info": {
   "codemirror_mode": {
    "name": "ipython",
    "version": 3
   },
   "file_extension": ".py",
   "mimetype": "text/x-python",
   "name": "python",
   "nbconvert_exporter": "python",
   "pygments_lexer": "ipython3",
   "version": "3.12.7"
  }
 },
 "nbformat": 4,
 "nbformat_minor": 5
}
