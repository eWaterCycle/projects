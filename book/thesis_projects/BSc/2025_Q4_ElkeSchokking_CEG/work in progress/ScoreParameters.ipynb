{
 "cells": [
  {
   "cell_type": "code",
   "execution_count": 38,
   "id": "a715f324-0ef5-4938-bccf-3dabf2359f0c",
   "metadata": {},
   "outputs": [],
   "source": [
    "import numpy as np\n",
    "import pandas as pd\n",
    "from scipy.stats import wasserstein_distance"
   ]
  },
  {
   "cell_type": "code",
   "execution_count": 39,
   "id": "a095a9e4-3d1e-4fff-a574-4ee6cf4e985d",
   "metadata": {},
   "outputs": [],
   "source": [
    "from critical_days_module import droughts"
   ]
  },
  {
   "cell_type": "code",
   "execution_count": 40,
   "id": "3baf550b-4835-420c-b0ff-3d02003cb28d",
   "metadata": {},
   "outputs": [
    {
     "data": {
      "text/plain": [
       "<Axes: >"
      ]
     },
     "execution_count": 40,
     "metadata": {},
     "output_type": "execute_result"
    },
    {
     "data": {
      "image/png": "[encoded data removed]",
      "text/plain": [
       "<Figure size 640x480 with 1 Axes>"
      ]
     },
     "metadata": {},
     "output_type": "display_data"
    }
   ],
   "source": [
    "# name of the catchment\n",
    "basin_name = \"FR000119\"\n",
    "\n",
    "# defining dates for calibration\n",
    "experiment_start_date = \"2013-11-26T00:00:00Z\"\n",
    "experiment_end_date = \"2019-12-31T00:00:00Z\"\n",
    "\n",
    "#Define Catchment Area\n",
    "shapefile_path = Path.home() / \"BEP-Elke\" / \"book\" / \"thesis_projects\" / \"BSc\" / \"2025_Q4_ElkeSchokking_CEG\" / \"work in progress\" / \"ShapefilesFR000119\" / \"FR000119.shp\"\n",
    "\n",
    "#check\n",
    "catchment = gpd.read_file(shapefile_path)\n",
    "catchment = catchment.to_crs(epsg=3035)\n",
    "catchment[\"area_km2\"] = catchment.geometry.area / 1e6  \n",
    "basin_area = catchment[\"area_km2\"].sum()\n",
    "catchment.plot()"
   ]
  },
  {
   "cell_type": "code",
   "execution_count": 41,
   "id": "af537d88-f19e-4495-9895-b0c321f03d23",
   "metadata": {},
   "outputs": [],
   "source": [
    "# Location forcing files in home directory\n",
    "forcing_path = Path.home() / \"forcing\" / \"FR000119\"/\"ERA5\"\n",
    "forcing_path.mkdir(parents=True, exist_ok=True)"
   ]
  },
  {
   "cell_type": "code",
   "execution_count": 42,
   "id": "ada48dee-5578-4f93-adce-593b1c9b49d7",
   "metadata": {},
   "outputs": [],
   "source": [
    "forcing_dir = Path(\"/home/elke/BEP-Elke/book/thesis_projects/BSc/2025_Q4_ElkeSchokking_CEG/work in progress/esmvaltool_output/ewcrep5yvtlv4f_20250525_104347/work/diagnostic/script\")\n",
    "ERA5_forcing = sources[\"LumpedMakkinkForcing\"].load(directory=forcing_dir)"
   ]
  },
  {
   "cell_type": "code",
   "execution_count": 43,
   "id": "a4f723a2-b0ff-494c-a7fa-d525d7fbc8bb",
   "metadata": {},
   "outputs": [],
   "source": [
    "# Manually parse the file\n",
    "dates = []\n",
    "discharges = []\n",
    "\n",
    "with open(\"A3550050.csv\", \"r\", encoding=\"utf-8\") as f:\n",
    "    next(f)\n",
    "    for line in f:\n",
    "        parts = line.replace('\"\"', '\"').strip().split(',\"')\n",
    "        if len(parts) >= 2:\n",
    "            date_str = parts[0].strip('\"')\n",
    "            discharge_str = parts[1].strip('\"')\n",
    "            try:\n",
    "                dates.append(pd.to_datetime(date_str))\n",
    "                discharges.append(float(discharge_str))\n",
    "            except ValueError:\n",
    "                continue\n",
    "\n",
    "discharge_series = pd.Series(discharges, index=dates, name=\"Discharge (m³/s)\")\n",
    "Q_obs = discharge_series[experiment_start_date:experiment_end_date]"
   ]
  },
  {
   "cell_type": "code",
   "execution_count": 27,
   "id": "455ebefc-57d0-4bdb-9678-fd6ce61f6c74",
   "metadata": {},
   "outputs": [],
   "source": [
    "#Calibrated parameters, logNSE & EMD\n",
    "par_0 = [4.533, 0.4272, 442.0109, 1.0321, 0.0714, 8.5025, 0.0139, 0.0099, 1.085]\n",
    "param_names = ['Imax', 'Ce', 'Sumax', 'Beta', 'Pmax', 'Tlag', 'Kf', 'Ks', 'FM']\n",
    "\n",
    "# Initial storages for HBV (in mm)\n",
    "# [Si, Su, Sf, Ss, Sp]\n",
    "s_0 = np.array([0, 100, 0, 5, 0])"
   ]
  },
  {
   "cell_type": "code",
   "execution_count": 28,
   "id": "7a90b450-595c-4e3a-b549-9a0d6d4f22e4",
   "metadata": {},
   "outputs": [],
   "source": [
    "# Create HBV model instance with prepared ERA5 forcing\n",
    "model = HBV(forcing=ERA5_forcing)\n",
    "\n",
    "config_file, _ = model.setup(parameters=par_0, initial_storage=s_0)\n",
    "model.initialize(config_file)"
   ]
  },
  {
   "cell_type": "code",
   "execution_count": 29,
   "id": "e68a7fbb-76af-4384-8077-46c6d7f6c181",
   "metadata": {},
   "outputs": [],
   "source": [
    "# Run the model\n",
    "Q_m = []\n",
    "time = []\n",
    "while model.time < model.end_time:\n",
    "    model.update()\n",
    "    Q_m.append(model.get_value(\"Q\")[0])\n",
    "    time.append(pd.Timestamp(model.time_as_datetime))\n",
    "\n",
    "model.finalize()"
   ]
  },
  {
   "cell_type": "code",
   "execution_count": 44,
   "id": "6e026e9a-2842-420d-a078-aafdc35133eb",
   "metadata": {},
   "outputs": [],
   "source": [
    "def convert_to_m3s(Q_mmday, area_km2):\n",
    "    return Q_mmday * area_km2 * 1e3 / 86400\n",
    "\n",
    "simulated_discharge = pd.Series(data=Q_m, index=time, name=\"Simulated Discharge\")\n",
    "Q_sim_m3s = convert_to_m3s(simulated_discharge, basin_area)\n",
    "Q_sim_m3s.name = \"Simulated Discharge\""
   ]
  },
  {
   "cell_type": "code",
   "execution_count": 45,
   "id": "dc44e3d4-1c66-47b8-ae97-88a2d3252f03",
   "metadata": {},
   "outputs": [],
   "source": [
    "Q_sim_m3s.index = pd.to_datetime(Q_sim_m3s.index).tz_localize(None).normalize()\n",
    "Q_obs.index = pd.to_datetime(Q_obs.index).tz_localize(None).normalize()"
   ]
  },
  {
   "cell_type": "code",
   "execution_count": 46,
   "id": "5c91d274-117c-45fb-97f4-85fec005937c",
   "metadata": {},
   "outputs": [],
   "source": [
    "# Define the calibration objective function\n",
    "def calibration_objective(simulated_series: pd.Series, observed_series: pd.Series,\n",
    "                          w_lognse: float = 0.7, w_emd: float = 0.3) -> float:\n",
    "    sim = simulated_series.loc[observed_series.index]\n",
    "    obs = observed_series\n",
    "\n",
    "    # 1. log-NSE\n",
    "    sim_pos = sim[sim > 0]\n",
    "    obs_pos = obs[obs > 0]\n",
    "    common_index = sim_pos.index.intersection(obs_pos.index)\n",
    "    sim_log = np.log(sim_pos.loc[common_index])\n",
    "    obs_log = np.log(obs_pos.loc[common_index])\n",
    "\n",
    "    numerator = np.sum((sim_log - obs_log) ** 2)\n",
    "    denominator = np.sum((obs_log - np.mean(obs_log)) ** 2)\n",
    "    log_nse = 1 - (numerator / denominator) if denominator != 0 else np.inf\n",
    "    error_nse = 1 - log_nse\n",
    "\n",
    "    # 2. EMD from drought characteristics\n",
    "    obs_droughts = droughts(obs, basin_name=\"obs\", q_crit=500)\n",
    "    sim_droughts = droughts(sim, basin_name=\"sim\", q_crit=500)\n",
    "\n",
    "    obs_durations = pd.DataFrame(obs_droughts)[\"Duration (days)\"].values\n",
    "    sim_durations = pd.DataFrame(sim_droughts)[\"Duration (days)\"].values\n",
    "\n",
    "    emd_duration = wasserstein_distance(obs_durations, sim_durations)\n",
    "    error_emd = emd_duration\n",
    "\n",
    "    total_score = w_lognse * error_nse + w_emd * error_emd\n",
    "    return total_score\n"
   ]
  },
  {
   "cell_type": "code",
   "execution_count": 47,
   "id": "0dacb5c4-04e9-4d20-82dc-6bb919393c01",
   "metadata": {},
   "outputs": [
    {
     "data": {
      "text/html": [
       "<pre style=\"white-space:pre;overflow-x:auto;line-height:normal;font-family:Menlo,'DejaVu Sans Mono',consolas,'Courier New',monospace\">Objective function score for par_0: <span style=\"color: #008080; text-decoration-color: #008080; font-weight: bold\">1.8215</span>\n",
       "</pre>\n"
      ],
      "text/plain": [
       "Objective function score for par_0: \u001b[1;36m1.8215\u001b[0m\n"
      ]
     },
     "metadata": {},
     "output_type": "display_data"
    }
   ],
   "source": [
    "common_index = Q_sim_m3s.index.intersection(Q_obs.index)\n",
    "\n",
    "sim_aligned = Q_sim_m3s.loc[common_index]\n",
    "obs_aligned = Q_obs.loc[common_index]\n",
    "\n",
    "score = calibration_objective(sim_aligned, obs_aligned)\n",
    "print(f\"Objective function score for par_0: {score:.4f}\")"
   ]
  }
 ],
 "metadata": {
  "kernelspec": {
   "display_name": "Python 3 (ipykernel)",
   "language": "python",
   "name": "python3"
  },
  "language_info": {
   "codemirror_mode": {
    "name": "ipython",
    "version": 3
   },
   "file_extension": ".py",
   "mimetype": "text/x-python",
   "name": "python",
   "nbconvert_exporter": "python",
   "pygments_lexer": "ipython3",
   "version": "3.12.7"
  }
 },
 "nbformat": 4,
 "nbformat_minor": 5
}
