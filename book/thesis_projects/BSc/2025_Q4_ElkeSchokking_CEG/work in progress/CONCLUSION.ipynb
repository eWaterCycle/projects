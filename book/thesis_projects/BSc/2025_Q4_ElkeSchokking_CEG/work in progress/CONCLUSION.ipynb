{
 "cells": [
  {
   "cell_type": "markdown",
   "id": "032f8754-d1da-4d2a-bd9c-c4e3ec1866a2",
   "metadata": {},
   "source": [
    "# Conclusion\n",
    "\n",
    "nog herschrijven! na nieuwe analyse"
   ]
  },
  {
   "cell_type": "markdown",
   "id": "bb10b245-54ec-41c3-916f-f9a9b183da80",
   "metadata": {},
   "source": [
    "In this thesis, the impact of twenty-first-century climate change on critical low-flow events at the Iffezheim fish passage—and consequently on Atlantic salmon migration—has been explored using the HBV hydrological model. Four Shared Socioeconomic Pathways (SSP1-2.6, SSP2-4.5, SSP3-7.0 and SSP5-8.5) drove simulations over 2026–2099, covering a wide range of future emission and warming scenarios.\n",
    "\n",
    "First, the Iffezheim fishway’s operational threshold was established at 500 m³/s; below this flow, the attraction current (11–13 m³/s) is too weak for salmon to locate and use the passage. Observations show that low-flow conditions consistently occur in late summer and autumn (September–October), exactly when adult salmon migrate upstream—highlighting a critical overlap in timing.\n",
    "\n",
    "Second, historical records reveal just two critical events (≈5-year return period), while the longer simulated historical period shows nineteen events (≈2.5-year return period). This difference underlines the variability in extreme events and the value of extended simulations for reliable frequency estimates.\n",
    "\n",
    "Third, future projections indicate a clear rise in critical low-flow frequency under all scenarios.\n",
    "\n",
    "SSP1-2.6: ~10 events to 2100 (≈3.5-year return period)\n",
    "\n",
    "SSP2-4.5: ~20 events (≈4-year return period)\n",
    "\n",
    "SSP3-7.0: ~16 events (≈3.5-year return period)\n",
    "\n",
    "SSP5-8.5: ~16 events (≈3.8-year return period)\n",
    "\n",
    "Compared to the observed record, these projections represent a two- to ten-fold increase in event frequency, even under moderate warming pathways. This result makes it clear that climate change will intensify low-flow extremes in the Rhine, posing serious challenges for salmon passage at Iffezheim.\n",
    "\n",
    "Taken together, these findings demonstrate that even moderate warming pathways will intensify low-flow extremes in the Rhine, imperiling salmon passage at Iffezheim. To mitigate this emerging threat, adaptive measures—such as seasonal flow augmentation, fishway modifications to reduce minimum hydraulic thresholds, and dynamic operational protocols—should be considered. Ensuring resilient infrastructure and management strategies will be essential to sustain Atlantic salmon restoration efforts in the Rhine under a changing climate."
   ]
  }
 ],
 "metadata": {
  "kernelspec": {
   "display_name": "Python 3 (ipykernel)",
   "language": "python",
   "name": "python3"
  },
  "language_info": {
   "codemirror_mode": {
    "name": "ipython",
    "version": 3
   },
   "file_extension": ".py",
   "mimetype": "text/x-python",
   "name": "python",
   "nbconvert_exporter": "python",
   "pygments_lexer": "ipython3",
   "version": "3.12.7"
  }
 },
 "nbformat": 4,
 "nbformat_minor": 5
}
