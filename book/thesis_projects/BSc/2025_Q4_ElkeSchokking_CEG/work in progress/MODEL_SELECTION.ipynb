{
 "cells": [
  {
   "cell_type": "markdown",
   "id": "b7f456db-48a9-40d7-8df2-28bdff4745b7",
   "metadata": {},
   "source": [
    "# Model Selection"
   ]
  },
  {
   "cell_type": "markdown",
   "id": "d9615a29-06c8-4a89-87b7-7f3be7c0b084",
   "metadata": {},
   "source": [
    "In this chapter the model which best represents the low flow events is selected. This is done by calibrating the parameters for the HBV model and using the parameters for the Rhine catchment supplied by eWatercycle for the WFlow model. The HBV model calibrated using the logNSE & EMD method was found to be the best fit. The parameter set retuned the lowest score for the weighted error function and the observed and simulated discharge time series has the best fit arounf the low-flow events. The HBV method using the RMSE & EMD method and the WFlow model can be found in the appendix. **is deze verwijzing genoeg of moet het hier ook uitgelegd worden?**"
   ]
  },
  {
   "cell_type": "markdown",
   "id": "868854fd-4786-4e9a-8004-36a3a7852b09",
   "metadata": {},
   "source": [
    "## The HBV model"
   ]
  },
  {
   "cell_type": "markdown",
   "id": "054abe92-271e-4a6d-afca-d4b0033b662d",
   "metadata": {},
   "source": [
    "For the simulation of anticipated future discharge, the Hydrologiska Byråns Vattenbalansavdelning (HBV) model was selected. Developed by Sten Bergström (1992) (HBV, 2017), the HBV framework is classified as a semi-distributed conceptual rainfall–runoff model. In this approach, a catchment is represented by a network of interconnected storage reservoirs that emulate the hydrological processes governing water movement. Calibration to diverse catchments is achieved via adjustment of nine model parameters. The HBV model requires three meteorological forcing inputs—precipitation, air temperature and potential evapotranspiration—to drive its internal mass-balance computations.\n",
    "\n",
    "The nine calibration parameters are as follows **in tabel zetten en met bron?**:\n",
    "\n",
    "I<sub>max</sub>: Maximum soil moisture storage capacity\n",
    "\n",
    "C<sub>e</sub>: Evapotranspiration correction factor\n",
    "\n",
    "S<sub>u,max</sub>: Upper zone storage capacity\n",
    "\n",
    "β: Nonlinearity exponent governing soil moisture runoff\n",
    "\n",
    "P<sub>max</sub>: Threshold precipitation for snow accumulation\n",
    "\n",
    "T<sub>lag</sub>: Temperature threshold for snowmelt delay\n",
    "\n",
    "K<sub>f</sub>: Recession coefficient for the upper storage reservoir\n",
    "\n",
    "K<sub>s</sub>: Recession coefficient for the lower storage reservoir\n",
    "\n",
    "F<sub>M</sub>: Fractional melt coefficient for snowpack\n",
    "\n",
    "Each parameter modulates a specific hydrological process, enabling the HBV model to reproduce observed hydrographs across a range of climatic and physiographic conditions."
   ]
  },
  {
   "cell_type": "markdown",
   "id": "91116bc3-99fc-4fdc-96cc-e49d1c0e63b5",
   "metadata": {},
   "source": [
    "A schematic overview of the HBV model is presented in Figure ... *Aan het eind alle figuren goed aanpassen!!*"
   ]
  },
  {
   "cell_type": "markdown",
   "id": "11e85e7d-6536-4d37-b220-c89cae4e8a9c",
   "metadata": {},
   "source": [
    "<figure>\n",
    "  <img src=\"“River Basin Hydrology” by Markus Hrachowitz.png\" width=\"600\">\n",
    "  <figcaption><b>Figure ...:</b> HBV model <i>(Markus Hrachowitz, 2019)</i></figcaption>\n",
    "</figure>"
   ]
  },
  {
   "cell_type": "markdown",
   "id": "befd7420-1417-47ef-b820-9bde412b4448",
   "metadata": {},
   "source": [
    "## Calibration"
   ]
  },
  {
   "cell_type": "markdown",
   "id": "6aad5140-ae69-4fdc-94cf-58a843d79fe6",
   "metadata": {},
   "source": [
    "The HBV model uses simplified representations of hydrological processes, with parameters that often cannot be directly measured. To ensure the model accurately reflects observed discharge patterns an automated calibration approach is applied. This focuses on the accuracy during low-flow conditions (below 500 m³/s) and the correct timing of these low-flow events. The approach combines a multi-criteria objective function with a structured, step-by-step calibration procedure. This leads to the identification of optimized parameter sets that enhance the model’s performance."
   ]
  },
  {
   "cell_type": "markdown",
   "id": "96ace1f4-200d-478d-9ef0-37a3036e8dce",
   "metadata": {},
   "source": [
    "### Objective Functions\n",
    "To accurately represent both the size and timing of low-flow events, a multi-criteria approach is used. The use of multiple performance measures helps to achieve a better balance between the number of calibration parameters and the quantity of the available observational data. This makes the parameter estimation more reliable than when using a single measure (Yilmaz et al., 2010). Two specific objective functions are selected for their ability to reflect low-flow conditions and timing accuracy.\n",
    "\n",
    "    1. For Low-Flow Magnitude and General Fit\n",
    "To make sure the low-flow values are most accurate the model performance will be evaluated using the Nash–Sutcliffe Efficiency (NSE). It will be applied to log-transformed discharge values. The logarithmic transformation increases sensitivity to low-flow conditions(Yilmaz et al., 2010). NSE is based on squared differences. Which causes it to remain numerically stable under transformation and means it is less affected by unit conversions (Santos et al., 2018).\n"
   ]
  },
  {
   "cell_type": "markdown",
   "id": "c501e989-6117-47a0-8b7b-858f24795ee5",
   "metadata": {},
   "source": [
    "$$\n",
    "\\log\\text{-NSE} = 1 - \\frac{\\sum_t \\left(\\log Q_{\\text{sim},t} - \\log Q_{\\text{obs},t}\\right)^2}{\\sum_t \\left(\\log Q_{\\text{obs},t} - \\log \\overline{Q}_{\\text{obs}}\\right)^2}\n",
    "$$"
   ]
  },
  {
   "cell_type": "markdown",
   "id": "7760fc3e-e545-4bae-a90a-edb340d9b309",
   "metadata": {},
   "source": [
    "    2. For Timing of the low-flow events\n",
    "To improve the accuracy of the low-flow discharge timeline, the Earth Mover's Distance (EMD) will be used. It is also known as the Wasserstein Distance (WD). It compares the temporal distributions of droughts between observed and simulated data. By minimizing the EMD, the calibration process aligns the timing of low-flow periods (Ehret & Zehe, 2011)."
   ]
  },
  {
   "cell_type": "markdown",
   "id": "a1807a38-2419-444c-a93c-9c965ddadf6d",
   "metadata": {},
   "source": [
    "For discrete distributions $P$ and $Q$, the Earth Mover's Distance (EMD) is defined as:\n",
    "\n",
    "$$\n",
    "\\text{EMD}(P, Q) = \\min_{f_{ij} \\geq 0} \\sum_{i,j} f_{ij} \\, d_{ij}\n",
    "$$\n",
    "\n",
    "Subject to:\n",
    "\n",
    "$$\n",
    "\\sum_j f_{ij} = P_i, \\quad \\sum_i f_{ij} = Q_j\n",
    "$$\n",
    "\n",
    "Where:\n",
    "\n",
    "- $f_{ij}$ is the amount of \"mass\" (e.g., flow volume) moved from bin $i$ in $P$ to bin $j$ in $Q$,\n",
    "- $d_{ij}$ is the distance (in time) between bins $i$ and $j$."
   ]
  },
  {
   "cell_type": "markdown",
   "id": "328330c7-7f08-4d3a-af05-f0a7225fd1d7",
   "metadata": {},
   "source": [
    "### Multi-Criteria Integration\n",
    "The two objective functions will be combined using a multi-criteria framework. A weighted sum is used, where each criterion is given a weight to reflect its relative importance. This allows the calibration to balance overall low-flow accuracy with the timing and characteristics of drought events."
   ]
  },
  {
   "cell_type": "markdown",
   "id": "8e243593-851c-4ff8-ae65-e0a0d6c6f47c",
   "metadata": {},
   "source": [
    " To combine log-NSE and EMD into a single optimization objective while emphasizing low-flow quantity (not just timing), the following **weighted error function** $J$ is defined:\n",
    "\n",
    "$$\n",
    "J = w_{\\log \\text{NSE}} \\cdot (1 - \\log \\text{NSE}) + w_{\\text{EMD}} \\cdot \\text{EMD}\n",
    "$$\n",
    "\n",
    "Where:\n",
    "\n",
    "- $(1 - \\log \\text{NSE})$ transforms the log-NSE (normally a maximization metric) into a minimization objective.\n",
    "- $w_{\\log \\text{NSE}}$ and $w_{\\text{EMD}}$ are weights that control the emphasis between low-flow magnitude accuracy and timing.\n",
    "\n",
    "\n",
    "Weight setting:\n",
    "\n",
    "$w_{\\log \\text{NSE}} > w_{\\text{EMD}}$ because the low-flow magnitude accuracy is the most important.\n",
    "$$\n",
    "w_{\\log \\text{NSE}} = 0.7, \\quad w_{\\text{EMD}} = 0.3\n",
    "$$\n"
   ]
  },
  {
   "cell_type": "markdown",
   "id": "1c2a906a-2634-4a23-b3dc-49a1e4fac628",
   "metadata": {},
   "source": [
    "## Calibration Algorithm\n",
    "Model calibration using the ensemble method involves creating an ensemble of multiple models (eWaterCycle & Hut, 2025), instead of a single one. Each \"ensemble member\" is assigned its own unique set of parameters. These parameters are created by generating random values within predefined ranges. All models within this ensemble can then be run simultaneously with a single command, like ensemble.update(). After these runs, an objective function is applied to each model's output to quantify its \"goodness of fit\" by comparing it to the observed dicharge data. The best set of parameters is then identified as the combination that yields the lowest objective function score **de opzet komt van ewatercycle nb, overal opnieuw de bron?**. \n"
   ]
  },
  {
   "cell_type": "markdown",
   "id": "91295790-4e09-4680-9824-1d3d3a5a0cbe",
   "metadata": {},
   "source": [
    "# Bronnen\n",
    "*Dit in de uiteindelijke REF lijst zetten*\n",
    "\n",
    "HBV: The most famous hydrological model of all? An interview with its father: Sten Bergström. (2017, November 7). HEPEX. https://hepex.org.au/the-hbv-model-40-years-and-counting/\n",
    "\n",
    "Yilmaz, K. K., 1, Vrugt, J. A., 3, Gupta, H. V., 4, Sorooshian, S., 5, Earth System Science Interdisciplinary Center, NASA Goddard Space Flight Center, Center for NonLinear Studies, Department of Hydrology and Water Resources, Center for Hydrometeorology and Remote Sensing, University of Maryland, University of Arizona, University of California, & Los Alamos National Laboratory. (2010). MODEL CALIBRATION IN WATERSHED HYDROLOGY. In Advances in Data-Based Approaches for Hydrologic Modeling and Forecasting. https://ntrs.nasa.gov/api/citations/20090032232/downloads/20090032232.pdf\n",
    "\n",
    "Santos, L., Thirel, G., & Perrin, C. (2018). Technical note: Pitfalls in using log-transformed flows within the KGE criterion. Hydrology and Earth System Sciences, 22(8), 4583–4591. https://doi.org/10.5194/hess-22-4583-2018\n",
    "\n",
    "eWaterCycle, & Hut, R. (2025). ewatercycle-hbv/docs/example_model_calibrate_local_HBV_camels_catchment_camels_forcing.ipynb at main · eWaterCycle/ewatercycle-hbv. GitHub. https://github.com/eWaterCycle/ewatercycle-hbv/blob/main/docs/example_model_calibrate_local_HBV_camels_catchment_camels_forcing.ipynb\n",
    "\n",
    "Ehret, U., & Zehe, E. (2011). Series distance – an intuitive metric to quantify hydrograph similarity in terms of occurrence, amplitude and timing of hydrological events. Hydrology and Earth System Sciences, 15(3), 877–896. https://doi.org/10.5194/hess-15-877-2011"
   ]
  }
 ],
 "metadata": {
  "kernelspec": {
   "display_name": "Python 3 (ipykernel)",
   "language": "python",
   "name": "python3"
  },
  "language_info": {
   "codemirror_mode": {
    "name": "ipython",
    "version": 3
   },
   "file_extension": ".py",
   "mimetype": "text/x-python",
   "name": "python",
   "nbconvert_exporter": "python",
   "pygments_lexer": "ipython3",
   "version": "3.12.7"
  }
 },
 "nbformat": 4,
 "nbformat_minor": 5
}
