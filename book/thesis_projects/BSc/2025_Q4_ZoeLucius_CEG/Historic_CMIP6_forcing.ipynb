{
 "cells": [
  {
   "cell_type": "markdown",
   "id": "4b718588-758e-4731-ad91-7a6c2696ecb8",
   "metadata": {},
   "source": [
    "# CMIP6 Future Predictions"
   ]
  },
  {
   "cell_type": "markdown",
   "id": "4adbc07d-df6e-4997-a444-eedf5c19cd30",
   "metadata": {},
   "source": [
    "## General python imports"
   ]
  },
  {
   "cell_type": "code",
   "execution_count": 4,
   "id": "ce8b76af-1565-46da-aa2c-b4b2f93c29d9",
   "metadata": {},
   "outputs": [],
   "source": [
    "# general python\n",
    "import warnings\n",
    "warnings.filterwarnings(\"ignore\", category=UserWarning)\n",
    "\n",
    "import numpy as np\n",
    "from pathlib import Path\n",
    "import pandas as pd\n",
    "import matplotlib.pyplot as plt\n",
    "import xarray as xr\n",
    "import geopandas as gpd\n",
    "import pandas as pd\n",
    "import seaborn as sns\n",
    "\n",
    "#niceties\n",
    "from rich import print\n",
    "\n",
    "# Needed\n",
    "from ipywidgets import IntProgress\n",
    "from IPython.display import display\n",
    "from scipy.stats import qmc"
   ]
  },
  {
   "cell_type": "code",
   "execution_count": 5,
   "id": "177c7ee7-9fae-44f3-9ac4-5c79cb8b6e29",
   "metadata": {},
   "outputs": [],
   "source": [
    "# general eWaterCycle\n",
    "import ewatercycle\n",
    "import ewatercycle.models\n",
    "import ewatercycle.forcing"
   ]
  },
  {
   "cell_type": "markdown",
   "id": "db46ee9a-0538-4b40-b38b-70c3c42f174d",
   "metadata": {},
   "source": [
    "## Defining experiment dates and file paths"
   ]
  },
  {
   "cell_type": "code",
   "execution_count": 40,
   "id": "d221e1c2-a588-4aab-a0af-ab01cdc56a79",
   "metadata": {},
   "outputs": [],
   "source": [
    "# Defining the data period\n",
    "start_calibration = '1986-01-01T00:00:00Z'\n",
    "end_calibration = '2012-12-31T00:00:00Z'\n",
    "\n",
    "start_validation = '2013-01-01T00:00:00Z'\n",
    "end_validation = '2019-12-31T00:00:00Z'\n",
    "\n",
    "future_data_start = '2026-01-01T00:00:00Z'\n",
    "future_data_end = '2099-01-01T00:00:00Z' \n"
   ]
  },
  {
   "cell_type": "code",
   "execution_count": 41,
   "id": "29f140a0-dd9c-4e0c-a990-d1f1f00d3286",
   "metadata": {},
   "outputs": [],
   "source": [
    "# defining path for catchment shape file\n",
    "km_shp = Path.home() / \"BEP-Zoe/book/thesis_projects/BSc/2025_Q4_ZoeLucius_CEG\" /  \"km_ERA5\" / \"km.shp\"\n",
    "\n",
    "# defining destination path for CMIP data\n",
    "CMIP_folder = Path.home() / \"CMIP\"\n",
    "CMIP_folder.mkdir(exist_ok=True)\n",
    "\n",
    "# model HBV destination path\n",
    "HBV_model_path = Path.home() / \"HBV_model\" / \"CMIP\"\n",
    "HBV_model_path.mkdir(exist_ok=True)"
   ]
  },
  {
   "cell_type": "markdown",
   "id": "073aac27-c319-485c-8b65-39a5ca643c07",
   "metadata": {},
   "source": [
    "## Generating the forcings"
   ]
  },
  {
   "cell_type": "code",
   "execution_count": 51,
   "id": "fc970fd6-d765-4ece-87a3-501a76a2063d",
   "metadata": {},
   "outputs": [],
   "source": [
    "CMIP_dataset = {'dataset': 'MPI-ESM1-2-HR', 'project': 'CMIP6', 'grid' : 'gn', 'exp': 'historical', 'ensemble': 'r1i1p1f1'}\n",
    "\n",
    "CMIP_forcing = ewatercycle.forcing.sources[\"LumpedMakkinkForcing\"].generate(\n",
    "   dataset=CMIP_dataset,\n",
    "   start_time=start_calibration,\n",
    "   end_time=end_calibration,\n",
    "   shape=km_shp,\n",
    "   directory=CMIP_folder,\n",
    ")"
   ]
  },
  {
   "cell_type": "code",
   "execution_count": 53,
   "id": "d494bcd7-8400-4932-8460-f7532ee65131",
   "metadata": {},
   "outputs": [],
   "source": [
    "CMIP_historic = CMIP_folder / \"work\" / \"diagnostic\" / \"script\" \n",
    "HIST = ewatercycle.forcing.sources[\"LumpedMakkinkForcing\"].load(directory=CMIP_historic)"
   ]
  },
  {
   "cell_type": "code",
   "execution_count": null,
   "id": "c2a0f69a-327f-43ec-b31a-40bcd83725a6",
   "metadata": {},
   "outputs": [],
   "source": []
  }
 ],
 "metadata": {
  "kernelspec": {
   "display_name": "Python 3 (ipykernel)",
   "language": "python",
   "name": "python3"
  },
  "language_info": {
   "codemirror_mode": {
    "name": "ipython",
    "version": 3
   },
   "file_extension": ".py",
   "mimetype": "text/x-python",
   "name": "python",
   "nbconvert_exporter": "python",
   "pygments_lexer": "ipython3",
   "version": "3.12.7"
  }
 },
 "nbformat": 4,
 "nbformat_minor": 5
}
