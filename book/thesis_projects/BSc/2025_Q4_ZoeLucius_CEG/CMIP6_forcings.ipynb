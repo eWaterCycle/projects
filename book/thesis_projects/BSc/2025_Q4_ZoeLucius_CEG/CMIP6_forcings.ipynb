{
 "cells": [
  {
   "cell_type": "markdown",
   "id": "4b718588-758e-4731-ad91-7a6c2696ecb8",
   "metadata": {},
   "source": [
    "# CMIP6 Future Predictions"
   ]
  },
  {
   "cell_type": "markdown",
   "id": "4adbc07d-df6e-4997-a444-eedf5c19cd30",
   "metadata": {},
   "source": [
    "## General python imports"
   ]
  },
  {
   "cell_type": "code",
   "execution_count": 1,
   "id": "ce8b76af-1565-46da-aa2c-b4b2f93c29d9",
   "metadata": {},
   "outputs": [],
   "source": [
    "# general python\n",
    "import warnings\n",
    "warnings.filterwarnings(\"ignore\", category=UserWarning)\n",
    "\n",
    "import numpy as np\n",
    "from pathlib import Path\n",
    "import pandas as pd\n",
    "import matplotlib.pyplot as plt\n",
    "import xarray as xr\n",
    "import geopandas as gpd\n",
    "import pandas as pd\n",
    "import seaborn as sns\n",
    "\n",
    "#niceties\n",
    "from rich import print\n",
    "\n",
    "# Needed\n",
    "from ipywidgets import IntProgress\n",
    "from IPython.display import display\n",
    "from scipy.stats import qmc\n",
    "from sklearn.metrics import mean_squared_error\n",
    "from scipy.stats import wasserstein_distance\n",
    "from statsmodels.distributions.empirical_distribution import ECDF"
   ]
  },
  {
   "cell_type": "code",
   "execution_count": 2,
   "id": "177c7ee7-9fae-44f3-9ac4-5c79cb8b6e29",
   "metadata": {},
   "outputs": [],
   "source": [
    "# general eWaterCycle\n",
    "import ewatercycle\n",
    "import ewatercycle.models\n",
    "import ewatercycle.forcing"
   ]
  },
  {
   "cell_type": "markdown",
   "id": "db46ee9a-0538-4b40-b38b-70c3c42f174d",
   "metadata": {},
   "source": [
    "## Defining experiment dates and file paths"
   ]
  },
  {
   "cell_type": "code",
   "execution_count": 3,
   "id": "29f140a0-dd9c-4e0c-a990-d1f1f00d3286",
   "metadata": {},
   "outputs": [],
   "source": [
    "# Defining the data period\n",
    "start_calibration = '1986-01-01'\n",
    "end_calibration = '2019-12-31'\n",
    "future_data_start = '2026-01-01'\n",
    "future_data_end = '2099-01-01' \n",
    "\n",
    "# defining path for catchment shape file\n",
    "km_shp = Path.home() / \"BEP-Zoe/book/thesis_projects/BSc/2025_Q4_ZoeLucius_CEG\" /  \"km_ERA5\" / \"km.shp\"\n",
    "\n",
    "# defining destination path for CMIP data\n",
    "CMIP_folder = Path.home() / \"CMIP\"\n",
    "CMIP_folder.mkdir(exist_ok=True)\n",
    "\n",
    "# model HBV destination path\n",
    "HBV_model_path = Path.home() / \"HBV_model\" / \"CMIP\"\n",
    "HBV_model_path.mkdir(exist_ok=True)"
   ]
  },
  {
   "cell_type": "code",
   "execution_count": null,
   "id": "0b624b92-e268-47b5-9acb-3d41bf298a77",
   "metadata": {},
   "outputs": [],
   "source": []
  }
 ],
 "metadata": {
  "kernelspec": {
   "display_name": "Python 3 (ipykernel)",
   "language": "python",
   "name": "python3"
  },
  "language_info": {
   "codemirror_mode": {
    "name": "ipython",
    "version": 3
   },
   "file_extension": ".py",
   "mimetype": "text/x-python",
   "name": "python",
   "nbconvert_exporter": "python",
   "pygments_lexer": "ipython3",
   "version": "3.12.7"
  }
 },
 "nbformat": 4,
 "nbformat_minor": 5
}
