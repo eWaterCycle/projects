{
 "cells": [
  {
   "cell_type": "markdown",
   "id": "0d75417a-0c1a-451e-9724-ab582e659c1e",
   "metadata": {},
   "source": [
    "# Calibrating the HBV model"
   ]
  },
  {
   "cell_type": "markdown",
   "id": "71c07e75-ad65-486f-a11e-9491e3355a53",
   "metadata": {},
   "source": [
    "## Setting up the python kernel"
   ]
  },
  {
   "cell_type": "code",
   "execution_count": 2,
   "id": "5b058043-98b9-4fdc-981e-5768991118ad",
   "metadata": {},
   "outputs": [],
   "source": [
    "import warnings\n",
    "warnings.filterwarnings(\"ignore\", category=UserWarning)\n",
    "\n",
    "import numpy as np\n",
    "import pandas as pd\n",
    "import matplotlib.pyplot as plt\n",
    "import xarray as xr\n",
    "import ewatercycle\n",
    "import ewatercycle.models\n",
    "import ewatercycle.forcing\n",
    "\n",
    "from rich import print\n",
    "from tqdm import tqdm\n",
    "from pathlib import Path\n",
    "from ewatercycle_DA import DA\n",
    "from datetime import datetime"
   ]
  },
  {
   "cell_type": "markdown",
   "id": "570bfbad-432f-4b20-a54e-184226fa71de",
   "metadata": {},
   "source": [
    "## Loading in observed discharge data"
   ]
  },
  {
   "cell_type": "code",
   "execution_count": 5,
   "id": "9c4009de-b4ce-41fe-9e99-8c52cc031516",
   "metadata": {},
   "outputs": [],
   "source": [
    "# Loading in discharge data from Katima Mulilo\n",
    "katima = (pd.read_csv('Katima_Mulilo/1291100_Q_Day.txt', skiprows=35, delimiter=';', header=1)\n",
    "    .drop(columns=['hh:mm'])\n",
    "    .rename(columns={\"YYYY-MM-DD\": \"Date\", \" Value\": \"Discharge [m^3/s]\"}))\n",
    "\n",
    "# Removing invalid data\n",
    "km = katima[['Date', 'Discharge [m^3/s]']]\n",
    "km['Discharge [m^3/s]'] = km['Discharge [m^3/s]'].replace(-999.000, np.nan)\n",
    "\n",
    "# Fixing the date column for accesibility \n",
    "km['Date'] = pd.to_datetime(km['Date'])\n",
    "\n",
    "# Defining the calibration period\n",
    "start_calibration = '1986-01-01'\n",
    "end_calibration = '2019-12-31'\n",
    "\n",
    "# Reducing the dataframe to the calibration period\n",
    "km = km[(km['Date'] >= start_calibration) & (km['Date'] <= end_calibration)]\n",
    "\n",
    "# Defining the start and end of the dataset (in the format needed for the calibration)\n",
    "data_start = km['Date'].iloc[0].strftime('%Y-%m-%dT%H:%M:%SZ')\n",
    "data_end = km['Date'].iloc[-1].strftime('%Y-%m-%dT%H:%M:%SZ')"
   ]
  },
  {
   "cell_type": "markdown",
   "id": "fba3e786-e80b-4b4a-9922-61d1daaef478",
   "metadata": {},
   "source": [
    "## Generating the ERA5 forcings "
   ]
  },
  {
   "cell_type": "code",
   "execution_count": 7,
   "id": "7c8c6728-6f19-4e43-863f-366047c4e83a",
   "metadata": {},
   "outputs": [],
   "source": [
    "#Defining the location of the shape file to be used\n",
    "km_shp = Path.home() / \"BEP-Zoe/book/thesis_projects/BSc/2025_Q4_ZoeLucius_CEG\" /  \"km_ERA5\" / \"km.shp\"\n",
    "\n",
    "#Defining the forcings directory\n",
    "ERA5_folder = Path.home() / \"ERA5\"\n",
    "ERA5_folder.mkdir(exist_ok=True)\n",
    "\n",
    "# HBV model path \n",
    "HBV_model_path = Path.home() / \"HBV_model\"\n",
    "\n",
    "# OPTION 1: Generating ERA5 forcings\n",
    "# ERA5_forcing = ewatercycle.forcing.sources[\"LumpedMakkinkForcing\"].generate(\n",
    "#    dataset=\"ERA5\",\n",
    "#    start_time= data_start,\n",
    "#    end_time= data_end,\n",
    "#    shape=km_shp,\n",
    "#    directory=ERA5_folder)\n",
    "\n",
    "# OPTION 2: Generating ERA5 forcings (For when ERA5 forcing has already been made before and exists in the directory)\n",
    "load_location = ERA5_folder / \"work\" / \"diagnostic\" / \"script\" \n",
    "ERA5_forcing = ewatercycle.forcing.sources[\"LumpedMakkinkForcing\"].load(directory=load_location)"
   ]
  },
  {
   "cell_type": "markdown",
   "id": "0d7049c4-e1c4-4401-9fcf-fc224645638e",
   "metadata": {},
   "source": [
    "## Defining functions to determine the model of best fit"
   ]
  },
  {
   "cell_type": "code",
   "execution_count": 8,
   "id": "7c3c9686-37a2-47be-acd9-4606822ef0fd",
   "metadata": {},
   "outputs": [],
   "source": [
    "def calibrationObjective(modelOutput, observation, start, end):\n",
    "    # Making sure the date of the modelled output and onserved input are in the correct format\n",
    "    modelOutput.index = pd.to_datetime(modelOutput.index)\n",
    "    observation.index = pd.to_datetime(observation.index)\n",
    "\n",
    "    # Making sure the given dates are in the correct format\n",
    "    start = pd.to_datetime(start)\n",
    "    end = pd.to_datetime(end)\n",
    "\n",
    "    # Combine the model output and the observation into one data frame \n",
    "    hydro_data = pd.concat([modelOutput.reindex(observation.index, method='ffill'), observation], axis=1, keys=['model', 'observation'])\n",
    "    \n",
    "    # Making sure to only take the calibration period\n",
    "    hydro_data = hydro_data[(hydro_data.index > start) & (hydro_data.index < end)]\n",
    "\n",
    "    # Calculate the absolute square difference\n",
    "    squareDiff = (hydro_data['model'] - hydro_data['observation']) ** 2\n",
    "    rootMeanSquareDiff = np.sqrt(np.mean(squareDiff))\n",
    "    \n",
    "    return rootMeanSquareDiff\n"
   ]
  },
  {
   "cell_type": "markdown",
   "id": "e411db25-842c-46f0-9f01-9adbee908a64",
   "metadata": {},
   "source": [
    "## Start calibration"
   ]
  },
  {
   "cell_type": "code",
   "execution_count": 9,
   "id": "e1be6886-a9a8-418b-9b6e-ba17cc29b20a",
   "metadata": {},
   "outputs": [],
   "source": [
    "# Set the number of HBV model ensembles you will test against the observed discharge\n",
    "N = 100"
   ]
  },
  {
   "cell_type": "code",
   "execution_count": 12,
   "id": "fa7df33b-c039-4b64-9a9b-f6ab91f34d10",
   "metadata": {},
   "outputs": [],
   "source": [
    "# Define the initial state parameters (Si,  Su, Sf, Ss, Sp)\n",
    "s_0 = np.array([0,  100,  0,  5,  0])\n",
    "\n",
    "# Define parameters and their corresponding boundary values \n",
    "param_names = [\"Imax\", \"Ce\", \"Sumax\", \"Beta\", \"Pmax\", \"Tlag\", \"Kf\", \"Ks\", \"FM\"]\n",
    "parameters = np.zeros([len(param_names), N])\n",
    "\n",
    "param_mins = np.array([0,   0.2,  40,    .5,   .001,   1,     .01,  .0001,   0.01])\n",
    "param_maxs = np.array([8,    1,  800,   4,    .3,     10,    .1,   .01,   10.0])\n",
    "\n",
    "#Fill the parameters array with random values between each minimum and maximum\n",
    "for p in range(len(param_names)):\n",
    "    parameters[p,:] = np.random.uniform(param_mins[p],param_maxs[p],N)"
   ]
  },
  {
   "cell_type": "code",
   "execution_count": 15,
   "id": "5b9c1b5a-c622-4b7f-82b1-e0ce245bd88d",
   "metadata": {},
   "outputs": [
    {
     "data": {
      "text/html": [
       "<pre style=\"white-space:pre;overflow-x:auto;line-height:normal;font-family:Menlo,'DejaVu Sans Mono',consolas,'Courier New',monospace\"><span style=\"font-weight: bold\">[</span>\n",
       "    <span style=\"font-weight: bold\">(</span><span style=\"color: #008000; text-decoration-color: #008000\">'Imax'</span>, <span style=\"color: #008080; text-decoration-color: #008080; font-weight: bold\">0.47</span><span style=\"font-weight: bold\">)</span>,\n",
       "    <span style=\"font-weight: bold\">(</span><span style=\"color: #008000; text-decoration-color: #008000\">'Ce'</span>, <span style=\"color: #008080; text-decoration-color: #008080; font-weight: bold\">0.716</span><span style=\"font-weight: bold\">)</span>,\n",
       "    <span style=\"font-weight: bold\">(</span><span style=\"color: #008000; text-decoration-color: #008000\">'Sumax'</span>, <span style=\"color: #008080; text-decoration-color: #008080; font-weight: bold\">281.953</span><span style=\"font-weight: bold\">)</span>,\n",
       "    <span style=\"font-weight: bold\">(</span><span style=\"color: #008000; text-decoration-color: #008000\">'Beta'</span>, <span style=\"color: #008080; text-decoration-color: #008080; font-weight: bold\">3.041</span><span style=\"font-weight: bold\">)</span>,\n",
       "    <span style=\"font-weight: bold\">(</span><span style=\"color: #008000; text-decoration-color: #008000\">'Pmax'</span>, <span style=\"color: #008080; text-decoration-color: #008080; font-weight: bold\">0.073</span><span style=\"font-weight: bold\">)</span>,\n",
       "    <span style=\"font-weight: bold\">(</span><span style=\"color: #008000; text-decoration-color: #008000\">'Tlag'</span>, <span style=\"color: #008080; text-decoration-color: #008080; font-weight: bold\">4.314</span><span style=\"font-weight: bold\">)</span>,\n",
       "    <span style=\"font-weight: bold\">(</span><span style=\"color: #008000; text-decoration-color: #008000\">'Kf'</span>, <span style=\"color: #008080; text-decoration-color: #008080; font-weight: bold\">0.077</span><span style=\"font-weight: bold\">)</span>,\n",
       "    <span style=\"font-weight: bold\">(</span><span style=\"color: #008000; text-decoration-color: #008000\">'Ks'</span>, <span style=\"color: #008080; text-decoration-color: #008080; font-weight: bold\">0.004</span><span style=\"font-weight: bold\">)</span>,\n",
       "    <span style=\"font-weight: bold\">(</span><span style=\"color: #008000; text-decoration-color: #008000\">'FM'</span>, <span style=\"color: #008080; text-decoration-color: #008080; font-weight: bold\">1.074</span><span style=\"font-weight: bold\">)</span>\n",
       "<span style=\"font-weight: bold\">]</span>\n",
       "</pre>\n"
      ],
      "text/plain": [
       "\u001b[1m[\u001b[0m\n",
       "    \u001b[1m(\u001b[0m\u001b[32m'Imax'\u001b[0m, \u001b[1;36m0.47\u001b[0m\u001b[1m)\u001b[0m,\n",
       "    \u001b[1m(\u001b[0m\u001b[32m'Ce'\u001b[0m, \u001b[1;36m0.716\u001b[0m\u001b[1m)\u001b[0m,\n",
       "    \u001b[1m(\u001b[0m\u001b[32m'Sumax'\u001b[0m, \u001b[1;36m281.953\u001b[0m\u001b[1m)\u001b[0m,\n",
       "    \u001b[1m(\u001b[0m\u001b[32m'Beta'\u001b[0m, \u001b[1;36m3.041\u001b[0m\u001b[1m)\u001b[0m,\n",
       "    \u001b[1m(\u001b[0m\u001b[32m'Pmax'\u001b[0m, \u001b[1;36m0.073\u001b[0m\u001b[1m)\u001b[0m,\n",
       "    \u001b[1m(\u001b[0m\u001b[32m'Tlag'\u001b[0m, \u001b[1;36m4.314\u001b[0m\u001b[1m)\u001b[0m,\n",
       "    \u001b[1m(\u001b[0m\u001b[32m'Kf'\u001b[0m, \u001b[1;36m0.077\u001b[0m\u001b[1m)\u001b[0m,\n",
       "    \u001b[1m(\u001b[0m\u001b[32m'Ks'\u001b[0m, \u001b[1;36m0.004\u001b[0m\u001b[1m)\u001b[0m,\n",
       "    \u001b[1m(\u001b[0m\u001b[32m'FM'\u001b[0m, \u001b[1;36m1.074\u001b[0m\u001b[1m)\u001b[0m\n",
       "\u001b[1m]\u001b[0m\n"
      ]
     },
     "metadata": {},
     "output_type": "display_data"
    }
   ],
   "source": [
    "# Observe the randomly chosen variables for each parameter to confirm their boundaries are adhered to\n",
    "print(list(zip(param_names, np.round(parameters[:,0], decimals=3))))"
   ]
  },
  {
   "cell_type": "code",
   "execution_count": 16,
   "id": "345a99f6-bed0-4f39-a4b1-b2be45fe5d89",
   "metadata": {},
   "outputs": [],
   "source": [
    "# Generate N parameter sets and save them in a list of arrays\n",
    "setup_kwargs_lst = []\n",
    "\n",
    "for i in range(N):\n",
    "    setup_kwargs_lst.append({'parameters': parameters[:,i]})"
   ]
  },
  {
   "cell_type": "code",
   "execution_count": 17,
   "id": "8ca80351-5c41-4ed8-bb29-23b6b875695c",
   "metadata": {},
   "outputs": [],
   "source": [
    "# ensemble = []\n",
    "\n",
    "# for c in range(N): \n",
    "#     ensemble.append(ewatercycle.models.HBVLocal(forcing=ERA5_forcing))\n",
    "#     config_file, _ = ensemble[c].setup(\n",
    "#                             parameters = parameters[c],\n",
    "#                             initial_storage=s_0,\n",
    "#                             cfg_dir = HBV_model_path,\n",
    "#                                )\n",
    "#     ensemble[p].initialize(config_file)\n",
    "\n",
    "ensemble = DA.Ensemble(N=N)\n",
    "ensemble.setup()\n",
    "\n",
    "ensemble.initialize(model_name=[\"HBVLocal\"]*N,\n",
    "                    forcing=[ERA5_forcing]*N,\n",
    "                    setup_kwargs=setup_kwargs_lst) "
   ]
  },
  {
   "cell_type": "code",
   "execution_count": 18,
   "id": "e1bc5587-a3cc-46d2-9c25-cdb73c7f1d53",
   "metadata": {},
   "outputs": [],
   "source": [
    "ref_model = ensemble.ensemble_list[0].model"
   ]
  },
  {
   "cell_type": "code",
   "execution_count": 19,
   "id": "6f02aa35-d4cf-481b-b30d-e4f49121ebb9",
   "metadata": {},
   "outputs": [
    {
     "name": "stderr",
     "output_type": "stream",
     "text": [
      "100%|██████████| 12417/12417 [05:26<00:00, 37.99it/s]\n"
     ]
    }
   ],
   "source": [
    "timesteps = int((ref_model.end_time - ref_model.start_time) /  ref_model.time_step)\n",
    "\n",
    "time = []\n",
    "lst_Q = [] \n",
    "\n",
    "for t in tqdm(range(timesteps)):    \n",
    "    time.append(pd.Timestamp(ref_model.time_as_datetime.date()))\n",
    "    ensemble.update()\n",
    "    lst_Q.append(ensemble.get_value(\"Q\").flatten())"
   ]
  },
  {
   "cell_type": "code",
   "execution_count": 20,
   "id": "bdf6f089-bd2d-41e8-95c4-e6e2a7730c6b",
   "metadata": {},
   "outputs": [],
   "source": [
    "ensemble.finalize()"
   ]
  },
  {
   "cell_type": "code",
   "execution_count": 23,
   "id": "39fb93f5-7503-4f52-8d36-102917a2fbaf",
   "metadata": {},
   "outputs": [],
   "source": [
    "Q_m_arr = np.array(lst_Q).T\n",
    "df_ensemble = pd.DataFrame(data=Q_m_arr[:,:len(time)].T,index=time,columns=[f'particle {n}' for n in range(N)])"
   ]
  },
  {
   "cell_type": "code",
   "execution_count": 33,
   "id": "3b47b889-15d7-4f7f-9b12-618495c01928",
   "metadata": {},
   "outputs": [
    {
     "name": "stderr",
     "output_type": "stream",
     "text": [
      "100%|██████████| 100/100 [00:01<00:00, 76.00it/s]\n"
     ]
    }
   ],
   "source": [
    "objective_values = []\n",
    "\n",
    "data_start = pd.to_datetime(km['Date'].iloc[0])\n",
    "data_end = pd.to_datetime(km['Date'].iloc[-1])\n",
    "\n",
    "for i in tqdm(range(N)):\n",
    "    objective_values.append(calibrationObjective(df_ensemble.iloc[:,i],km['Discharge [m^3/s]'],data_start,data_end))\n"
   ]
  },
  {
   "cell_type": "code",
   "execution_count": 34,
   "id": "e1641176-f5ca-4641-ae98-6a0fb399d784",
   "metadata": {},
   "outputs": [
    {
     "data": {
      "text/html": [
       "<pre style=\"white-space:pre;overflow-x:auto;line-height:normal;font-family:Menlo,'DejaVu Sans Mono',consolas,'Courier New',monospace\"><span style=\"font-weight: bold\">[</span>\n",
       "    <span style=\"font-weight: bold\">(</span><span style=\"color: #008000; text-decoration-color: #008000\">'Imax'</span>, <span style=\"color: #008080; text-decoration-color: #008080; font-weight: bold\">0.47</span><span style=\"font-weight: bold\">)</span>,\n",
       "    <span style=\"font-weight: bold\">(</span><span style=\"color: #008000; text-decoration-color: #008000\">'Ce'</span>, <span style=\"color: #008080; text-decoration-color: #008080; font-weight: bold\">0.716</span><span style=\"font-weight: bold\">)</span>,\n",
       "    <span style=\"font-weight: bold\">(</span><span style=\"color: #008000; text-decoration-color: #008000\">'Sumax'</span>, <span style=\"color: #008080; text-decoration-color: #008080; font-weight: bold\">281.953</span><span style=\"font-weight: bold\">)</span>,\n",
       "    <span style=\"font-weight: bold\">(</span><span style=\"color: #008000; text-decoration-color: #008000\">'Beta'</span>, <span style=\"color: #008080; text-decoration-color: #008080; font-weight: bold\">3.041</span><span style=\"font-weight: bold\">)</span>,\n",
       "    <span style=\"font-weight: bold\">(</span><span style=\"color: #008000; text-decoration-color: #008000\">'Pmax'</span>, <span style=\"color: #008080; text-decoration-color: #008080; font-weight: bold\">0.073</span><span style=\"font-weight: bold\">)</span>,\n",
       "    <span style=\"font-weight: bold\">(</span><span style=\"color: #008000; text-decoration-color: #008000\">'Tlag'</span>, <span style=\"color: #008080; text-decoration-color: #008080; font-weight: bold\">4.314</span><span style=\"font-weight: bold\">)</span>,\n",
       "    <span style=\"font-weight: bold\">(</span><span style=\"color: #008000; text-decoration-color: #008000\">'Kf'</span>, <span style=\"color: #008080; text-decoration-color: #008080; font-weight: bold\">0.077</span><span style=\"font-weight: bold\">)</span>,\n",
       "    <span style=\"font-weight: bold\">(</span><span style=\"color: #008000; text-decoration-color: #008000\">'Ks'</span>, <span style=\"color: #008080; text-decoration-color: #008080; font-weight: bold\">0.004</span><span style=\"font-weight: bold\">)</span>,\n",
       "    <span style=\"font-weight: bold\">(</span><span style=\"color: #008000; text-decoration-color: #008000\">'FM'</span>, <span style=\"color: #008080; text-decoration-color: #008080; font-weight: bold\">1.074</span><span style=\"font-weight: bold\">)</span>\n",
       "<span style=\"font-weight: bold\">]</span>\n",
       "</pre>\n"
      ],
      "text/plain": [
       "\u001b[1m[\u001b[0m\n",
       "    \u001b[1m(\u001b[0m\u001b[32m'Imax'\u001b[0m, \u001b[1;36m0.47\u001b[0m\u001b[1m)\u001b[0m,\n",
       "    \u001b[1m(\u001b[0m\u001b[32m'Ce'\u001b[0m, \u001b[1;36m0.716\u001b[0m\u001b[1m)\u001b[0m,\n",
       "    \u001b[1m(\u001b[0m\u001b[32m'Sumax'\u001b[0m, \u001b[1;36m281.953\u001b[0m\u001b[1m)\u001b[0m,\n",
       "    \u001b[1m(\u001b[0m\u001b[32m'Beta'\u001b[0m, \u001b[1;36m3.041\u001b[0m\u001b[1m)\u001b[0m,\n",
       "    \u001b[1m(\u001b[0m\u001b[32m'Pmax'\u001b[0m, \u001b[1;36m0.073\u001b[0m\u001b[1m)\u001b[0m,\n",
       "    \u001b[1m(\u001b[0m\u001b[32m'Tlag'\u001b[0m, \u001b[1;36m4.314\u001b[0m\u001b[1m)\u001b[0m,\n",
       "    \u001b[1m(\u001b[0m\u001b[32m'Kf'\u001b[0m, \u001b[1;36m0.077\u001b[0m\u001b[1m)\u001b[0m,\n",
       "    \u001b[1m(\u001b[0m\u001b[32m'Ks'\u001b[0m, \u001b[1;36m0.004\u001b[0m\u001b[1m)\u001b[0m,\n",
       "    \u001b[1m(\u001b[0m\u001b[32m'FM'\u001b[0m, \u001b[1;36m1.074\u001b[0m\u001b[1m)\u001b[0m\n",
       "\u001b[1m]\u001b[0m\n"
      ]
     },
     "metadata": {},
     "output_type": "display_data"
    }
   ],
   "source": [
    "parameters_minimum_index = np.argmin(np.array(objective_values))\n",
    "\n",
    "parameters_minimum = parameters[:,parameters_minimum_index]\n",
    "\n",
    "print(list(zip(param_names, np.round(parameters_minimum, decimals=3))))"
   ]
  },
  {
   "cell_type": "code",
   "execution_count": null,
   "id": "1fe3cf5e-a25a-41cb-a2e5-deeee957d2d8",
   "metadata": {},
   "outputs": [],
   "source": []
  },
  {
   "cell_type": "code",
   "execution_count": null,
   "id": "7da7141c-cc1a-423c-ae99-ff1c0ed564ed",
   "metadata": {},
   "outputs": [],
   "source": []
  }
 ],
 "metadata": {
  "kernelspec": {
   "display_name": "Python 3 (ipykernel)",
   "language": "python",
   "name": "python3"
  },
  "language_info": {
   "codemirror_mode": {
    "name": "ipython",
    "version": 3
   },
   "file_extension": ".py",
   "mimetype": "text/x-python",
   "name": "python",
   "nbconvert_exporter": "python",
   "pygments_lexer": "ipython3",
   "version": "3.12.7"
  }
 },
 "nbformat": 4,
 "nbformat_minor": 5
}
