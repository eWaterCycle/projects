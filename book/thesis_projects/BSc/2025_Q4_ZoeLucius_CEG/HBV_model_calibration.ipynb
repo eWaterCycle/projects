{
 "cells": [
  {
   "cell_type": "markdown",
   "id": "0d75417a-0c1a-451e-9724-ab582e659c1e",
   "metadata": {},
   "source": [
    "# Calibrating the HBV model"
   ]
  },
  {
   "cell_type": "markdown",
   "id": "71c07e75-ad65-486f-a11e-9491e3355a53",
   "metadata": {},
   "source": [
    "## Setting up the python kernel"
   ]
  },
  {
   "cell_type": "code",
   "execution_count": 140,
   "id": "5b058043-98b9-4fdc-981e-5768991118ad",
   "metadata": {},
   "outputs": [],
   "source": [
    "import warnings\n",
    "warnings.filterwarnings(\"ignore\", category=UserWarning)\n",
    "\n",
    "import numpy as np\n",
    "import pandas as pd\n",
    "import matplotlib.pyplot as plt\n",
    "import xarray as xr\n",
    "import ewatercycle\n",
    "import ewatercycle.models\n",
    "import ewatercycle.forcing\n",
    "\n",
    "from rich import print\n",
    "from tqdm import tqdm\n",
    "from pathlib import Path\n",
    "from ewatercycle_DA import DA\n",
    "from datetime import datetime\n",
    "from scipy.stats import qmc\n",
    "from ipywidgets import IntProgress"
   ]
  },
  {
   "cell_type": "markdown",
   "id": "570bfbad-432f-4b20-a54e-184226fa71de",
   "metadata": {},
   "source": [
    "## Loading in observed discharge data"
   ]
  },
  {
   "cell_type": "code",
   "execution_count": 157,
   "id": "9c4009de-b4ce-41fe-9e99-8c52cc031516",
   "metadata": {},
   "outputs": [
    {
     "data": {
      "text/html": [
       "<pre style=\"white-space:pre;overflow-x:auto;line-height:normal;font-family:Menlo,'DejaVu Sans Mono',consolas,'Courier New',monospace\">                 Q\n",
       "Date              \n",
       "<span style=\"color: #008080; text-decoration-color: #008080; font-weight: bold\">1986</span>-<span style=\"color: #008080; text-decoration-color: #008080; font-weight: bold\">01</span>-<span style=\"color: #008080; text-decoration-color: #008080; font-weight: bold\">01</span>  <span style=\"color: #008080; text-decoration-color: #008080; font-weight: bold\">346.96</span>\n",
       "<span style=\"color: #008080; text-decoration-color: #008080; font-weight: bold\">1986</span>-<span style=\"color: #008080; text-decoration-color: #008080; font-weight: bold\">01</span>-<span style=\"color: #008080; text-decoration-color: #008080; font-weight: bold\">02</span>  <span style=\"color: #008080; text-decoration-color: #008080; font-weight: bold\">353.18</span>\n",
       "<span style=\"color: #008080; text-decoration-color: #008080; font-weight: bold\">1986</span>-<span style=\"color: #008080; text-decoration-color: #008080; font-weight: bold\">01</span>-<span style=\"color: #008080; text-decoration-color: #008080; font-weight: bold\">03</span>  <span style=\"color: #008080; text-decoration-color: #008080; font-weight: bold\">359.44</span>\n",
       "<span style=\"color: #008080; text-decoration-color: #008080; font-weight: bold\">1986</span>-<span style=\"color: #008080; text-decoration-color: #008080; font-weight: bold\">01</span>-<span style=\"color: #008080; text-decoration-color: #008080; font-weight: bold\">04</span>  <span style=\"color: #008080; text-decoration-color: #008080; font-weight: bold\">365.71</span>\n",
       "<span style=\"color: #008080; text-decoration-color: #008080; font-weight: bold\">1986</span>-<span style=\"color: #008080; text-decoration-color: #008080; font-weight: bold\">01</span>-<span style=\"color: #008080; text-decoration-color: #008080; font-weight: bold\">05</span>  <span style=\"color: #008080; text-decoration-color: #008080; font-weight: bold\">372.72</span>\n",
       "<span style=\"color: #808000; text-decoration-color: #808000\">...</span>            <span style=\"color: #808000; text-decoration-color: #808000\">...</span>\n",
       "<span style=\"color: #008080; text-decoration-color: #008080; font-weight: bold\">2019</span>-<span style=\"color: #008080; text-decoration-color: #008080; font-weight: bold\">12</span>-<span style=\"color: #008080; text-decoration-color: #008080; font-weight: bold\">27</span>  <span style=\"color: #008080; text-decoration-color: #008080; font-weight: bold\">403.33</span>\n",
       "<span style=\"color: #008080; text-decoration-color: #008080; font-weight: bold\">2019</span>-<span style=\"color: #008080; text-decoration-color: #008080; font-weight: bold\">12</span>-<span style=\"color: #008080; text-decoration-color: #008080; font-weight: bold\">28</span>  <span style=\"color: #008080; text-decoration-color: #008080; font-weight: bold\">406.55</span>\n",
       "<span style=\"color: #008080; text-decoration-color: #008080; font-weight: bold\">2019</span>-<span style=\"color: #008080; text-decoration-color: #008080; font-weight: bold\">12</span>-<span style=\"color: #008080; text-decoration-color: #008080; font-weight: bold\">29</span>  <span style=\"color: #008080; text-decoration-color: #008080; font-weight: bold\">409.77</span>\n",
       "<span style=\"color: #008080; text-decoration-color: #008080; font-weight: bold\">2019</span>-<span style=\"color: #008080; text-decoration-color: #008080; font-weight: bold\">12</span>-<span style=\"color: #008080; text-decoration-color: #008080; font-weight: bold\">30</span>  <span style=\"color: #008080; text-decoration-color: #008080; font-weight: bold\">413.00</span>\n",
       "<span style=\"color: #008080; text-decoration-color: #008080; font-weight: bold\">2019</span>-<span style=\"color: #008080; text-decoration-color: #008080; font-weight: bold\">12</span>-<span style=\"color: #008080; text-decoration-color: #008080; font-weight: bold\">31</span>  <span style=\"color: #008080; text-decoration-color: #008080; font-weight: bold\">416.23</span>\n",
       "\n",
       "<span style=\"font-weight: bold\">[</span><span style=\"color: #008080; text-decoration-color: #008080; font-weight: bold\">12418</span> rows x <span style=\"color: #008080; text-decoration-color: #008080; font-weight: bold\">1</span> columns<span style=\"font-weight: bold\">]</span>\n",
       "</pre>\n"
      ],
      "text/plain": [
       "                 Q\n",
       "Date              \n",
       "\u001b[1;36m1986\u001b[0m-\u001b[1;36m01\u001b[0m-\u001b[1;36m01\u001b[0m  \u001b[1;36m346.96\u001b[0m\n",
       "\u001b[1;36m1986\u001b[0m-\u001b[1;36m01\u001b[0m-\u001b[1;36m02\u001b[0m  \u001b[1;36m353.18\u001b[0m\n",
       "\u001b[1;36m1986\u001b[0m-\u001b[1;36m01\u001b[0m-\u001b[1;36m03\u001b[0m  \u001b[1;36m359.44\u001b[0m\n",
       "\u001b[1;36m1986\u001b[0m-\u001b[1;36m01\u001b[0m-\u001b[1;36m04\u001b[0m  \u001b[1;36m365.71\u001b[0m\n",
       "\u001b[1;36m1986\u001b[0m-\u001b[1;36m01\u001b[0m-\u001b[1;36m05\u001b[0m  \u001b[1;36m372.72\u001b[0m\n",
       "\u001b[33m...\u001b[0m            \u001b[33m...\u001b[0m\n",
       "\u001b[1;36m2019\u001b[0m-\u001b[1;36m12\u001b[0m-\u001b[1;36m27\u001b[0m  \u001b[1;36m403.33\u001b[0m\n",
       "\u001b[1;36m2019\u001b[0m-\u001b[1;36m12\u001b[0m-\u001b[1;36m28\u001b[0m  \u001b[1;36m406.55\u001b[0m\n",
       "\u001b[1;36m2019\u001b[0m-\u001b[1;36m12\u001b[0m-\u001b[1;36m29\u001b[0m  \u001b[1;36m409.77\u001b[0m\n",
       "\u001b[1;36m2019\u001b[0m-\u001b[1;36m12\u001b[0m-\u001b[1;36m30\u001b[0m  \u001b[1;36m413.00\u001b[0m\n",
       "\u001b[1;36m2019\u001b[0m-\u001b[1;36m12\u001b[0m-\u001b[1;36m31\u001b[0m  \u001b[1;36m416.23\u001b[0m\n",
       "\n",
       "\u001b[1m[\u001b[0m\u001b[1;36m12418\u001b[0m rows x \u001b[1;36m1\u001b[0m columns\u001b[1m]\u001b[0m\n"
      ]
     },
     "metadata": {},
     "output_type": "display_data"
    }
   ],
   "source": [
    "# Loading in discharge data from Katima Mulilo\n",
    "katima = (pd.read_csv('Katima_Mulilo/1291100_Q_Day.txt', skiprows=35, delimiter=';', header=1)\n",
    "    .drop(columns=['hh:mm'])\n",
    "    .rename(columns={\"YYYY-MM-DD\": \"Date\", \" Value\": \"Discharge [m^3/s]\"}))\n",
    "\n",
    "# Removing invalid data\n",
    "km = katima[['Date', 'Discharge [m^3/s]']]\n",
    "km['Discharge [m^3/s]'] = km['Discharge [m^3/s]'].replace(-999.000, np.nan)\n",
    "\n",
    "# Fixing the date column for accesibility \n",
    "km['Date'] = pd.to_datetime(km['Date'])\n",
    "\n",
    "# Defining the calibration period\n",
    "start_calibration = '1986-01-01'\n",
    "end_calibration = '2019-12-31'\n",
    "\n",
    "# Reducing the dataframe to the calibration period\n",
    "km = km[(km['Date'] >= start_calibration) & (km['Date'] <= end_calibration)]\n",
    "\n",
    "flow = pd.DataFrame(data=km['Discharge [m^3/s]'].values, index=km['Date'], columns=['Q'])\n",
    "\n",
    "print(flow)\n",
    "# # Defining the start and end of the dataset (in the format needed for the calibration)\n",
    "# data_start = km['Date'].iloc[0].strftime('%Y-%m-%dT%H:%M:%SZ')\n",
    "# data_end = km['Date'].iloc[-1].strftime('%Y-%m-%dT%H:%M:%SZ')"
   ]
  },
  {
   "cell_type": "markdown",
   "id": "fba3e786-e80b-4b4a-9922-61d1daaef478",
   "metadata": {},
   "source": [
    "## Generating the ERA5 forcings "
   ]
  },
  {
   "cell_type": "code",
   "execution_count": 158,
   "id": "7c8c6728-6f19-4e43-863f-366047c4e83a",
   "metadata": {},
   "outputs": [],
   "source": [
    "#Defining the location of the shape file to be used\n",
    "km_shp = Path.home() / \"BEP-Zoe/book/thesis_projects/BSc/2025_Q4_ZoeLucius_CEG\" /  \"km_ERA5\" / \"km.shp\"\n",
    "\n",
    "#Defining the forcings directory\n",
    "ERA5_folder = Path.home() / \"ERA5\"\n",
    "ERA5_folder.mkdir(exist_ok=True)\n",
    "\n",
    "# HBV model path \n",
    "HBV_model_path = Path.home() / \"HBV_model\"\n",
    "\n",
    "# OPTION 1: Generating ERA5 forcings\n",
    "# ERA5_forcing = ewatercycle.forcing.sources[\"LumpedMakkinkForcing\"].generate(\n",
    "#    dataset=\"ERA5\",\n",
    "#    start_time= data_start,\n",
    "#    end_time= data_end,\n",
    "#    shape=km_shp,\n",
    "#    directory=ERA5_folder)\n",
    "\n",
    "# OPTION 2: Generating ERA5 forcings (For when ERA5 forcing has already been made before and exists in the directory)\n",
    "load_location = ERA5_folder / \"work\" / \"diagnostic\" / \"script\" \n",
    "ERA5_forcing = ewatercycle.forcing.sources[\"LumpedMakkinkForcing\"].load(directory=load_location)"
   ]
  },
  {
   "cell_type": "markdown",
   "id": "0d7049c4-e1c4-4401-9fcf-fc224645638e",
   "metadata": {},
   "source": [
    "## Defining functions to determine the model of best fit"
   ]
  },
  {
   "cell_type": "code",
   "execution_count": 159,
   "id": "7c3c9686-37a2-47be-acd9-4606822ef0fd",
   "metadata": {},
   "outputs": [],
   "source": [
    "def calibrationObjective(modelOutput, observation, start, end):\n",
    "    # Making sure the date of the modelled output and onserved input are in the correct format\n",
    "    modelOutput.index = pd.to_datetime(modelOutput.index)\n",
    "    observation.index = pd.to_datetime(observation.index)\n",
    "\n",
    "    # Making sure the given dates are in the correct format\n",
    "    start = pd.to_datetime(start)\n",
    "    end = pd.to_datetime(end)\n",
    "\n",
    "    # Combine the model output and the observation into one data frame \n",
    "    hydro_data = pd.concat([modelOutput.reindex(observation.index, method='ffill'), observation], axis=1, keys=['model', 'observation'])\n",
    "    \n",
    "    # Making sure to only take the calibration period\n",
    "    hydro_data = hydro_data[(hydro_data.index > start) & (hydro_data.index < end)]\n",
    "\n",
    "    # Calculate the absolute square difference\n",
    "    squareDiff = (hydro_data['model'] - hydro_data['observation']) ** 2\n",
    "    rootMeanSquareDiff = np.sqrt(np.mean(squareDiff))\n",
    "    \n",
    "    return rootMeanSquareDiff"
   ]
  },
  {
   "cell_type": "markdown",
   "id": "e411db25-842c-46f0-9f01-9adbee908a64",
   "metadata": {},
   "source": [
    "## Start calibration"
   ]
  },
  {
   "cell_type": "code",
   "execution_count": 160,
   "id": "e1be6886-a9a8-418b-9b6e-ba17cc29b20a",
   "metadata": {},
   "outputs": [],
   "source": [
    "# Set the number of HBV model ensembles you will test against the observed discharge\n",
    "N = 12"
   ]
  },
  {
   "cell_type": "code",
   "execution_count": 161,
   "id": "fa7df33b-c039-4b64-9a9b-f6ab91f34d10",
   "metadata": {},
   "outputs": [],
   "source": [
    "# Define the initial state parameters (Si,  Su, Sf, Ss, Sp)\n",
    "s_0 = np.array([0,  100,  0,  5,  0])\n",
    "\n",
    "# Define parameters and their corresponding boundary values \n",
    "param_names = [\"Imax\", \"Ce\", \"Sumax\", \"Beta\", \"Pmax\", \"Tlag\", \"Kf\", \"Ks\", \"FM\"]\n",
    "# parameters = np.zeros([N, len(param_names)])\n",
    "\n",
    "param_mins = np.array([0, 0.2, 40, 0.5, 0.001, 1, 0.01, 0.0001, 0.01])\n",
    "param_maxs = np.array([8, 1, 800, 4, 0.3, 10, 0.1, 0.01, 1])\n",
    "\n",
    "#Fill the parameters array with random values between each minimum and maximum\n",
    "# for p in range(N-1):\n",
    "#     parameters[:, p] = np.random.uniform(param_mins, param_maxs, N)\n",
    "\n",
    "# Create a Latin Hypercube sampler\n",
    "sampler = qmc.LatinHypercube(d=len(param_names))\n",
    "sample = sampler.random(n=N)\n",
    "\n",
    "# # Scale the sample to match the parameter ranges\n",
    "parameters = qmc.scale(sample, param_mins, param_maxs)"
   ]
  },
  {
   "cell_type": "code",
   "execution_count": 162,
   "id": "5b9c1b5a-c622-4b7f-82b1-e0ce245bd88d",
   "metadata": {},
   "outputs": [
    {
     "data": {
      "text/html": [
       "<pre style=\"white-space:pre;overflow-x:auto;line-height:normal;font-family:Menlo,'DejaVu Sans Mono',consolas,'Courier New',monospace\"><span style=\"font-weight: bold\">[</span>\n",
       "    <span style=\"font-weight: bold\">(</span><span style=\"color: #008000; text-decoration-color: #008000\">'Imax'</span>, <span style=\"color: #008080; text-decoration-color: #008080; font-weight: bold\">0.94</span><span style=\"font-weight: bold\">)</span>,\n",
       "    <span style=\"font-weight: bold\">(</span><span style=\"color: #008000; text-decoration-color: #008000\">'Ce'</span>, <span style=\"color: #008080; text-decoration-color: #008080; font-weight: bold\">0.762</span><span style=\"font-weight: bold\">)</span>,\n",
       "    <span style=\"font-weight: bold\">(</span><span style=\"color: #008000; text-decoration-color: #008000\">'Sumax'</span>, <span style=\"color: #008080; text-decoration-color: #008080; font-weight: bold\">202.436</span><span style=\"font-weight: bold\">)</span>,\n",
       "    <span style=\"font-weight: bold\">(</span><span style=\"color: #008000; text-decoration-color: #008000\">'Beta'</span>, <span style=\"color: #008080; text-decoration-color: #008080; font-weight: bold\">1.942</span><span style=\"font-weight: bold\">)</span>,\n",
       "    <span style=\"font-weight: bold\">(</span><span style=\"color: #008000; text-decoration-color: #008000\">'Pmax'</span>, <span style=\"color: #008080; text-decoration-color: #008080; font-weight: bold\">0.178</span><span style=\"font-weight: bold\">)</span>,\n",
       "    <span style=\"font-weight: bold\">(</span><span style=\"color: #008000; text-decoration-color: #008000\">'Tlag'</span>, <span style=\"color: #008080; text-decoration-color: #008080; font-weight: bold\">2.734</span><span style=\"font-weight: bold\">)</span>,\n",
       "    <span style=\"font-weight: bold\">(</span><span style=\"color: #008000; text-decoration-color: #008000\">'Kf'</span>, <span style=\"color: #008080; text-decoration-color: #008080; font-weight: bold\">0.019</span><span style=\"font-weight: bold\">)</span>,\n",
       "    <span style=\"font-weight: bold\">(</span><span style=\"color: #008000; text-decoration-color: #008000\">'Ks'</span>, <span style=\"color: #008080; text-decoration-color: #008080; font-weight: bold\">0.009</span><span style=\"font-weight: bold\">)</span>,\n",
       "    <span style=\"font-weight: bold\">(</span><span style=\"color: #008000; text-decoration-color: #008000\">'FM'</span>, <span style=\"color: #008080; text-decoration-color: #008080; font-weight: bold\">0.332</span><span style=\"font-weight: bold\">)</span>\n",
       "<span style=\"font-weight: bold\">]</span>\n",
       "</pre>\n"
      ],
      "text/plain": [
       "\u001b[1m[\u001b[0m\n",
       "    \u001b[1m(\u001b[0m\u001b[32m'Imax'\u001b[0m, \u001b[1;36m0.94\u001b[0m\u001b[1m)\u001b[0m,\n",
       "    \u001b[1m(\u001b[0m\u001b[32m'Ce'\u001b[0m, \u001b[1;36m0.762\u001b[0m\u001b[1m)\u001b[0m,\n",
       "    \u001b[1m(\u001b[0m\u001b[32m'Sumax'\u001b[0m, \u001b[1;36m202.436\u001b[0m\u001b[1m)\u001b[0m,\n",
       "    \u001b[1m(\u001b[0m\u001b[32m'Beta'\u001b[0m, \u001b[1;36m1.942\u001b[0m\u001b[1m)\u001b[0m,\n",
       "    \u001b[1m(\u001b[0m\u001b[32m'Pmax'\u001b[0m, \u001b[1;36m0.178\u001b[0m\u001b[1m)\u001b[0m,\n",
       "    \u001b[1m(\u001b[0m\u001b[32m'Tlag'\u001b[0m, \u001b[1;36m2.734\u001b[0m\u001b[1m)\u001b[0m,\n",
       "    \u001b[1m(\u001b[0m\u001b[32m'Kf'\u001b[0m, \u001b[1;36m0.019\u001b[0m\u001b[1m)\u001b[0m,\n",
       "    \u001b[1m(\u001b[0m\u001b[32m'Ks'\u001b[0m, \u001b[1;36m0.009\u001b[0m\u001b[1m)\u001b[0m,\n",
       "    \u001b[1m(\u001b[0m\u001b[32m'FM'\u001b[0m, \u001b[1;36m0.332\u001b[0m\u001b[1m)\u001b[0m\n",
       "\u001b[1m]\u001b[0m\n"
      ]
     },
     "metadata": {},
     "output_type": "display_data"
    }
   ],
   "source": [
    "# Observe the randomly chosen variables for each parameter to confirm their boundaries are adhered to\n",
    "print(list(zip(param_names, np.round(parameters[0], decimals=3))))"
   ]
  },
  {
   "cell_type": "code",
   "execution_count": 163,
   "id": "8ca80351-5c41-4ed8-bb29-23b6b875695c",
   "metadata": {},
   "outputs": [],
   "source": [
    "ensemble = []\n",
    "\n",
    "for counter in range(N): \n",
    "    ensemble.append(ewatercycle.models.HBVLocal(forcing=ERA5_forcing))\n",
    "    config_file, _ = ensemble[counter].setup(\n",
    "                            parameters = parameters[0],\n",
    "                            initial_storage=s_0,\n",
    "                            cfg_dir = HBV_model_path)\n",
    "    ensemble[counter].initialize(config_file)\n",
    "\n",
    "## ORIGINAL CODE \n",
    "\n",
    "# ensemble = DA.Ensemble(N=N)\n",
    "# ensemble.setup()\n",
    "\n",
    "# ensemble.initialize(model_name=[\"HBVLocal\"]*N,\n",
    "#                     forcing=[ERA5_forcing]*N,\n",
    "#                     setup_kwargs=setup_kwargs_lst) "
   ]
  },
  {
   "cell_type": "code",
   "execution_count": 164,
   "id": "2cd5b91c-f1de-43a2-9a01-90086ae92642",
   "metadata": {},
   "outputs": [
    {
     "data": {
      "application/vnd.jupyter.widget-view+json": {
       "model_id": "5d31f0f42757406293a726dbe1a0e909",
       "version_major": 2,
       "version_minor": 0
      },
      "text/plain": [
       "IntProgress(value=0, max=12)"
      ]
     },
     "metadata": {},
     "output_type": "display_data"
    }
   ],
   "source": [
    "f = IntProgress(min=0, max=N)\n",
    "display(f)\n",
    "\n",
    "# Array to store objective values\n",
    "objectives = []\n",
    "\n",
    "# Loop over ensemble members\n",
    "for ensembleMember in ensemble:\n",
    "    Q_m = []\n",
    "    time = []\n",
    "    while ensembleMember.time < ensembleMember.end_time:\n",
    "        ensembleMember.update()\n",
    "        discharge_this_timestep = ensembleMember.get_value(\"Q\")\n",
    "        Q_m.append(discharge_this_timestep[0])\n",
    "        time.append(pd.Timestamp(ensembleMember.time_as_datetime.date()))\n",
    "\n",
    "    # Create DataFrame for model results\n",
    "    # Q_m = convert_Qsim_mmday_to_m3s(np.array(Q_m), 334882.8)\n",
    "    discharge_dataframe = pd.DataFrame({'model output': Q_m}, index=pd.to_datetime(time))\n",
    "\n",
    "    # Calculate the custom drought-based objective function\n",
    "    objective_this_model = calibrationObjective(\n",
    "        discharge_dataframe, \n",
    "        km['Discharge [m^3/s]'], \n",
    "        start_calibration, \n",
    "        end_calibration\n",
    "    )\n",
    "    objectives.append(objective_this_model)\n",
    "\n",
    "    # Free up memory\n",
    "    del Q_m, time, discharge_dataframe, objective_this_model\n",
    "    f.value += 1\n",
    "\n",
    "# Clean up models to save memory\n",
    "for ensembleMember in ensemble:\n",
    "    ensembleMember.finalize()"
   ]
  },
  {
   "cell_type": "code",
   "execution_count": 165,
   "id": "0d7abac1-cf7e-4291-9c9f-edbbea5ddb21",
   "metadata": {},
   "outputs": [
    {
     "data": {
      "text/html": [
       "<pre style=\"white-space:pre;overflow-x:auto;line-height:normal;font-family:Menlo,'DejaVu Sans Mono',consolas,'Courier New',monospace\"><span style=\"font-weight: bold\">[</span>\n",
       "    <span style=\"color: #008080; text-decoration-color: #008080; font-weight: bold\">0.9395152455975891</span>,\n",
       "    <span style=\"color: #008080; text-decoration-color: #008080; font-weight: bold\">0.7616376501010966</span>,\n",
       "    <span style=\"color: #008080; text-decoration-color: #008080; font-weight: bold\">202.43615146767888</span>,\n",
       "    <span style=\"color: #008080; text-decoration-color: #008080; font-weight: bold\">1.942010298441787</span>,\n",
       "    <span style=\"color: #008080; text-decoration-color: #008080; font-weight: bold\">0.17831203621613761</span>,\n",
       "    <span style=\"color: #008080; text-decoration-color: #008080; font-weight: bold\">2.7336825310471644</span>,\n",
       "    <span style=\"color: #008080; text-decoration-color: #008080; font-weight: bold\">0.01879354824263224</span>,\n",
       "    <span style=\"color: #008080; text-decoration-color: #008080; font-weight: bold\">0.009053681361150537</span>,\n",
       "    <span style=\"color: #008080; text-decoration-color: #008080; font-weight: bold\">0.3316062865951755</span>\n",
       "<span style=\"font-weight: bold\">]</span>\n",
       "</pre>\n"
      ],
      "text/plain": [
       "\u001b[1m[\u001b[0m\n",
       "    \u001b[1;36m0.9395152455975891\u001b[0m,\n",
       "    \u001b[1;36m0.7616376501010966\u001b[0m,\n",
       "    \u001b[1;36m202.43615146767888\u001b[0m,\n",
       "    \u001b[1;36m1.942010298441787\u001b[0m,\n",
       "    \u001b[1;36m0.17831203621613761\u001b[0m,\n",
       "    \u001b[1;36m2.7336825310471644\u001b[0m,\n",
       "    \u001b[1;36m0.01879354824263224\u001b[0m,\n",
       "    \u001b[1;36m0.009053681361150537\u001b[0m,\n",
       "    \u001b[1;36m0.3316062865951755\u001b[0m\n",
       "\u001b[1m]\u001b[0m\n"
      ]
     },
     "metadata": {},
     "output_type": "display_data"
    }
   ],
   "source": [
    "# Let's also show the minimal values:\n",
    "parameters_minimum_index = np.argmin(np.array(objectives))\n",
    "if np.min(np.array(objectives)) == np.inf:\n",
    "    print(\"No real parameter is chosen\")\n",
    "\n",
    "parameters_minimum = parameters[parameters_minimum_index]\n",
    "\n",
    "print(list(parameters_minimum))"
   ]
  },
  {
   "cell_type": "markdown",
   "id": "a30e0e4e-830e-4a00-a9c2-230161dee03a",
   "metadata": {},
   "source": [
    "## Graph"
   ]
  },
  {
   "cell_type": "code",
   "execution_count": 166,
   "id": "fa3d5a0d-2adc-4aff-abb2-66e982d938da",
   "metadata": {},
   "outputs": [],
   "source": [
    "model = ewatercycle.models.HBV(forcing=ERA5_forcing)\n",
    "config_file, _ = model.setup(\n",
    "    parameters=parameters_minimum, \n",
    "    initial_storage=s_0,\n",
    "    cfg_dir = HBV_model_path,\n",
    ")"
   ]
  },
  {
   "cell_type": "code",
   "execution_count": 167,
   "id": "48a35c93-f0d0-46d7-b7cc-983ce55d73d1",
   "metadata": {},
   "outputs": [],
   "source": [
    "model.initialize(config_file)"
   ]
  },
  {
   "cell_type": "code",
   "execution_count": 168,
   "id": "76e34d95-4885-4d68-9afb-ba5a87135c53",
   "metadata": {},
   "outputs": [],
   "source": [
    "Q_m = []\n",
    "time = []\n",
    "while model.time < model.end_time:\n",
    "    model.update()\n",
    "    Q_m.append(model.get_value(\"Q\")[0])\n",
    "    time.append(pd.Timestamp(model.time_as_datetime))"
   ]
  },
  {
   "cell_type": "code",
   "execution_count": 169,
   "id": "46b8543f-4b5d-4c16-89cc-3deae736bd5f",
   "metadata": {},
   "outputs": [],
   "source": [
    "model.finalize()"
   ]
  },
  {
   "cell_type": "code",
   "execution_count": 176,
   "id": "f6fe9736-435c-411f-b1a0-d1480d0bca62",
   "metadata": {},
   "outputs": [
    {
     "data": {
      "text/plain": [
       "<Axes: xlabel='Date'>"
      ]
     },
     "execution_count": 176,
     "metadata": {},
     "output_type": "execute_result"
    },
    {
     "data": {
      "image/png": "[encoded data removed]",
      "text/plain": [
       "<Figure size 640x480 with 1 Axes>"
      ]
     },
     "metadata": {},
     "output_type": "display_data"
    },
    {
     "data": {
      "image/png": "[encoded data removed]",
      "text/plain": [
       "<Figure size 640x480 with 1 Axes>"
      ]
     },
     "metadata": {},
     "output_type": "display_data"
    }
   ],
   "source": [
    "model_output = pd.Series(data=Q_m, name=\"Modelled_discharge\", index=time)\n",
    "\n",
    "def convert_Qsim_mmday_to_m3s(Q_sim_mmday, area_km2):\n",
    "    return (Q_sim_mmday * area_km2) / 86.4\n",
    "\n",
    "Q_sim = convert_Qsim_mmday_to_m3s(model_output.values, 334882.8)\n",
    "Q_sim_pd = pd.Series(Q_sim, index=model_output.index, name=\"Simulated Discharge\")\n",
    "\n",
    "Q_sim_date = Q_sim_pd[\"1990-12-31\":\"2014-12-31\"]\n",
    "\n",
    "Q_sim_date.plot(color='b')\n",
    "flow[10000:12418].plot(color='r')"
   ]
  },
  {
   "cell_type": "markdown",
   "id": "40d8276b-600d-4e4a-9a2d-ea4081774529",
   "metadata": {},
   "source": [
    "## My original code"
   ]
  },
  {
   "cell_type": "code",
   "execution_count": null,
   "id": "e1bc5587-a3cc-46d2-9c25-cdb73c7f1d53",
   "metadata": {},
   "outputs": [],
   "source": [
    "# ref_model = ensemble.ensemble_list[0].model"
   ]
  },
  {
   "cell_type": "code",
   "execution_count": null,
   "id": "6f02aa35-d4cf-481b-b30d-e4f49121ebb9",
   "metadata": {},
   "outputs": [],
   "source": [
    "# timesteps = int((ref_model.end_time - ref_model.start_time) /  ref_model.time_step)\n",
    "\n",
    "# time = []\n",
    "# lst_Q = [] \n",
    "\n",
    "# for t in tqdm(range(timesteps)):    \n",
    "#     time.append(pd.Timestamp(ref_model.time_as_datetime.date()))\n",
    "#     ensemble.update()\n",
    "#     lst_Q.append(ensemble.get_value(\"Q\").flatten())"
   ]
  },
  {
   "cell_type": "code",
   "execution_count": null,
   "id": "bdf6f089-bd2d-41e8-95c4-e6e2a7730c6b",
   "metadata": {},
   "outputs": [],
   "source": [
    "# ensemble.finalize()"
   ]
  },
  {
   "cell_type": "code",
   "execution_count": null,
   "id": "39fb93f5-7503-4f52-8d36-102917a2fbaf",
   "metadata": {},
   "outputs": [],
   "source": [
    "# Q_m_arr = np.array(lst_Q).T\n",
    "# df_ensemble = pd.DataFrame(data=Q_m_arr[:,:len(time)].T,index=time,columns=[f'particle {n}' for n in range(N)])"
   ]
  },
  {
   "cell_type": "code",
   "execution_count": null,
   "id": "3b47b889-15d7-4f7f-9b12-618495c01928",
   "metadata": {},
   "outputs": [],
   "source": [
    "# objective_values = []\n",
    "\n",
    "# data_start = pd.to_datetime(km['Date'].iloc[0])\n",
    "# data_end = pd.to_datetime(km['Date'].iloc[-1])\n",
    "\n",
    "# for i in tqdm(range(N)):\n",
    "#     objective_values.append(calibrationObjective(df_ensemble.iloc[:,i],km['Discharge [m^3/s]'],data_start,data_end))\n"
   ]
  },
  {
   "cell_type": "code",
   "execution_count": null,
   "id": "e1641176-f5ca-4641-ae98-6a0fb399d784",
   "metadata": {},
   "outputs": [],
   "source": [
    "# parameters_minimum_index = np.argmin(np.array(objective_values))\n",
    "\n",
    "# parameters_minimum = parameters[:,parameters_minimum_index]\n",
    "\n",
    "# print(list(zip(param_names, np.round(parameters_minimum, decimals=3))))"
   ]
  },
  {
   "cell_type": "code",
   "execution_count": null,
   "id": "1fe3cf5e-a25a-41cb-a2e5-deeee957d2d8",
   "metadata": {},
   "outputs": [],
   "source": []
  },
  {
   "cell_type": "code",
   "execution_count": null,
   "id": "7da7141c-cc1a-423c-ae99-ff1c0ed564ed",
   "metadata": {},
   "outputs": [],
   "source": []
  }
 ],
 "metadata": {
  "kernelspec": {
   "display_name": "Python 3 (ipykernel)",
   "language": "python",
   "name": "python3"
  },
  "language_info": {
   "codemirror_mode": {
    "name": "ipython",
    "version": 3
   },
   "file_extension": ".py",
   "mimetype": "text/x-python",
   "name": "python",
   "nbconvert_exporter": "python",
   "pygments_lexer": "ipython3",
   "version": "3.12.7"
  }
 },
 "nbformat": 4,
 "nbformat_minor": 5
}
