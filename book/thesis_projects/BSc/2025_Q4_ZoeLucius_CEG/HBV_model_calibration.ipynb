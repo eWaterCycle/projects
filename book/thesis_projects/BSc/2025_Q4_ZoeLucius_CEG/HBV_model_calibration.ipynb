{
 "cells": [
  {
   "cell_type": "markdown",
   "id": "0d75417a-0c1a-451e-9724-ab582e659c1e",
   "metadata": {},
   "source": [
    "# Calibrating the HBV model"
   ]
  },
  {
   "cell_type": "markdown",
   "id": "71c07e75-ad65-486f-a11e-9491e3355a53",
   "metadata": {},
   "source": [
    "## Setting up the python kernel"
   ]
  },
  {
   "cell_type": "code",
   "execution_count": 1,
   "id": "5b058043-98b9-4fdc-981e-5768991118ad",
   "metadata": {},
   "outputs": [],
   "source": [
    "import warnings\n",
    "warnings.filterwarnings(\"ignore\", category=UserWarning)\n",
    "\n",
    "import numpy as np\n",
    "import pandas as pd\n",
    "import matplotlib.pyplot as plt\n",
    "import xarray as xr\n",
    "import ewatercycle\n",
    "import ewatercycle.models\n",
    "import ewatercycle.forcing\n",
    "\n",
    "from rich import print\n",
    "from tqdm import tqdm\n",
    "from pathlib import Path\n",
    "from ewatercycle_DA import DA\n",
    "from datetime import datetime\n",
    "from scipy.stats import qmc\n",
    "from ipywidgets import IntProgress"
   ]
  },
  {
   "cell_type": "markdown",
   "id": "570bfbad-432f-4b20-a54e-184226fa71de",
   "metadata": {},
   "source": [
    "## Loading in observed discharge data"
   ]
  },
  {
   "cell_type": "code",
   "execution_count": 2,
   "id": "9c4009de-b4ce-41fe-9e99-8c52cc031516",
   "metadata": {},
   "outputs": [
    {
     "data": {
      "text/plain": [
       "1"
      ]
     },
     "execution_count": 2,
     "metadata": {},
     "output_type": "execute_result"
    }
   ],
   "source": [
    "# Loading in discharge data from Katima Mulilo\n",
    "katima = (pd.read_csv('Katima_Mulilo/1291100_Q_Day.txt', skiprows=35, delimiter=';', header=1)\n",
    "    .drop(columns=['hh:mm'])\n",
    "    .rename(columns={\"YYYY-MM-DD\": \"Date\", \" Value\": \"Discharge [m^3/s]\"}))\n",
    "\n",
    "# Creating a dataframe with accessible dates and no invalid data \n",
    "katima['Date'] = pd.to_datetime(katima['Date'])\n",
    "katima['Discharge [m^3/s]'] = katima['Discharge [m^3/s]'].replace(-999.000, np.nan)\n",
    "\n",
    "# Defining the data period\n",
    "start_calibration = '1986-01-01'\n",
    "end_calibration = '2019-12-31'\n",
    "\n",
    "# Reducing the dataframe to the calibration period\n",
    "km = katima[(katima['Date'] >= start_calibration) & (katima['Date'] <= end_calibration)]\n",
    "\n",
    "# Creating a dataframe of the flow data \n",
    "flow = pd.DataFrame(data=km['Discharge [m^3/s]'].values, index=km['Date'], columns=['Q'])"
   ]
  },
  {
   "cell_type": "markdown",
   "id": "fba3e786-e80b-4b4a-9922-61d1daaef478",
   "metadata": {},
   "source": [
    "## Generating (or loading in) ERA5 forcings "
   ]
  },
  {
   "cell_type": "code",
   "execution_count": 3,
   "id": "7c8c6728-6f19-4e43-863f-366047c4e83a",
   "metadata": {},
   "outputs": [],
   "source": [
    "#Defining the location of the shape file to be used\n",
    "km_shp = Path.home() / \"BEP-Zoe/book/thesis_projects/BSc/2025_Q4_ZoeLucius_CEG\" /  \"km_ERA5\" / \"km.shp\"\n",
    "\n",
    "#Defining the forcings directory\n",
    "ERA5_folder = Path.home() / \"ERA5\"\n",
    "ERA5_folder.mkdir(exist_ok=True)\n",
    "\n",
    "# HBV model path \n",
    "HBV_model_path = Path.home() / \"HBV_model\"\n",
    "\n",
    "# OPTION 1: Generating ERA5 forcings\n",
    "# ERA5_forcing = ewatercycle.forcing.sources[\"LumpedMakkinkForcing\"].generate(\n",
    "#    dataset=\"ERA5\",\n",
    "#    start_time= data_start,\n",
    "#    end_time= data_end,\n",
    "#    shape=km_shp,\n",
    "#    directory=ERA5_folder)\n",
    "\n",
    "# OPTION 2: Generating ERA5 forcings (For when ERA5 forcing has already been made before and exists in the directory)\n",
    "load_location = ERA5_folder / \"work\" / \"diagnostic\" / \"script\" \n",
    "ERA5_forcing = ewatercycle.forcing.sources[\"LumpedMakkinkForcing\"].load(directory=load_location)"
   ]
  },
  {
   "cell_type": "markdown",
   "id": "0d7049c4-e1c4-4401-9fcf-fc224645638e",
   "metadata": {},
   "source": [
    "## Defining functions to determine the model of best fit"
   ]
  },
  {
   "cell_type": "markdown",
   "id": "58fa50e6-7c99-4df3-b1e6-e5f3688b29dd",
   "metadata": {},
   "source": [
    "### Root Mean Square Error"
   ]
  },
  {
   "cell_type": "code",
   "execution_count": 33,
   "id": "7c3c9686-37a2-47be-acd9-4606822ef0fd",
   "metadata": {},
   "outputs": [],
   "source": [
    "def RMSE(output, observed, start, end):\n",
    "     # Making sure the given dates are in the correct format\n",
    "    start = pd.to_datetime(start)\n",
    "    end = pd.to_datetime(end)\n",
    "    \n",
    "    # Making sure the date of the modelled output and onserved input are in the correct format\n",
    "    output.index = pd.to_datetime(output.index)\n",
    "    observed.index = pd.to_datetime(observed.index)\n",
    "\n",
    "    # Combine the model output and the observation into one data frame \n",
    "    hydro_data = pd.concat([output.reindex(observed.index, method='ffill'), observed], axis=1, keys=['model', 'observation'])\n",
    "    hydro_data = hydro_data.dropna()\n",
    "    \n",
    "    # Making sure to only take the calibration period\n",
    "    hydro_data = hydro_data[(hydro_data.index > start) & (hydro_data.index < end)]\n",
    "    \n",
    "    # Calculate the absolute square difference\n",
    "    squarediff = (hydro_data['model'] - hydro_data['observation']) ** 2\n",
    "    rootMeanSquareDiff = np.sqrt(np.mean(squarediff))\n",
    "    \n",
    "    return rootMeanSquareDiff\n"
   ]
  },
  {
   "cell_type": "markdown",
   "id": "e0eb789c-e18a-4557-9259-b2a296fc6dbe",
   "metadata": {},
   "source": [
    "### Kling Gupta Efficiency"
   ]
  },
  {
   "cell_type": "code",
   "execution_count": 58,
   "id": "2049559a-e88f-4e70-8d87-a822bae14f89",
   "metadata": {},
   "outputs": [],
   "source": [
    "def KGE(output, observed, start, end):\n",
    "    # Making sure the given dates are in the correct format\n",
    "    start = pd.to_datetime(start).normalize()\n",
    "    end = pd.to_datetime(end).normalize()\n",
    "    \n",
    "    # Making sure the date of the modelled output and onserved input are in the correct format\n",
    "    output.index = pd.to_datetime(output.index).normalize()\n",
    "    observed.index = pd.to_datetime(observed.index).normalize()\n",
    "    \n",
    "    # Making sure to only take the calibration period\n",
    "    ouput = output[(output.index > start) & (output.index < end)]\n",
    "    observed = observed[(observed.index > start) & (observed.index < end)]\n",
    "\n",
    "    common_index = output.index.intersection(observed.index)\n",
    "    output = output.loc[common_index]\n",
    "    observed = observed.loc[common_index]\n",
    "\n",
    "    output = output.dropna()\n",
    "    observed = observed.dropna()\n",
    "\n",
    "    if len(output) == 0 or len(observed) == 0:\n",
    "        return np.nan\n",
    "\n",
    "    # Determining coefficients for the kge\n",
    "    r = np.corrcoef(observed, output)[0, 1]\n",
    "    beta = np.mean(output) / np.mean(observed)\n",
    "    gamma = (np.std(output) / np.mean(output)) / (np.std(observed) / np.mean(observed))\n",
    "    \n",
    "    kge = 1 - np.sqrt((r - 1)**2 + (beta - 1)**2 + (gamma - 1)**2)\n",
    "    \n",
    "    return kge\n",
    "\n",
    "def KGE2(output, observed, start, end):\n",
    "    # Normalize datetime indices\n",
    "    output.index = pd.to_datetime(output.index).normalize()\n",
    "    observed.index = pd.to_datetime(observed.index).normalize()\n",
    "\n",
    "    # Normalize start and end dates\n",
    "    start = pd.to_datetime(start).normalize()\n",
    "    end = pd.to_datetime(end).normalize()\n",
    "\n",
    "    # Subset time range\n",
    "    output = output[(output.index >= start) & (output.index <= end)]\n",
    "    observed = observed[(observed.index >= start) & (observed.index <= end)]\n",
    "\n",
    "    # Combine and align\n",
    "    hydro_data = pd.concat([output, observed], axis=1)\n",
    "    hydro_data.columns = ['output', 'observed']\n",
    "    hydro_data = hydro_data.dropna()\n",
    "\n",
    "    if len(hydro_data) == 0:\n",
    "        return np.nan  # avoid error\n",
    "\n",
    "    # Compute KGE components\n",
    "    r = np.corrcoef(hydro_data['observed'], hydro_data['output'])[0, 1]\n",
    "    beta = np.mean(hydro_data['output']) / np.mean(hydro_data['observed'])\n",
    "    gamma = (np.std(hydro_data['output']) / np.mean(hydro_data['output'])) / \\\n",
    "            (np.std(hydro_data['observed']) / np.mean(hydro_data['observed']))\n",
    "\n",
    "    kge = 1 - np.sqrt((r - 1)**2 + (beta - 1)**2 + (gamma - 1)**2)\n",
    "    return kge\n"
   ]
  },
  {
   "cell_type": "markdown",
   "id": "e411db25-842c-46f0-9f01-9adbee908a64",
   "metadata": {},
   "source": [
    "## Start calibration"
   ]
  },
  {
   "cell_type": "code",
   "execution_count": 35,
   "id": "e1be6886-a9a8-418b-9b6e-ba17cc29b20a",
   "metadata": {},
   "outputs": [],
   "source": [
    "# Set the number of HBV model ensembles you will test against the observed discharge\n",
    "N = 150"
   ]
  },
  {
   "cell_type": "code",
   "execution_count": 36,
   "id": "fa7df33b-c039-4b64-9a9b-f6ab91f34d10",
   "metadata": {},
   "outputs": [],
   "source": [
    "# Define the initial state parameters (Si,  Su, Sf, Ss, Sp)\n",
    "s_0 = np.array([0,  100,  0,  5,  0])\n",
    "\n",
    "# Define parameters and their corresponding boundary values \n",
    "param_names = [\"Imax\", \"Ce\", \"Sumax\", \"Beta\", \"Pmax\", \"Tlag\", \"Kf\", \"Ks\", \"FM\"]\n",
    "param_mins = np.array([0, 0.2, 40, 0.5, 0.001, 1, 0.01, 0.0001, 0.01])\n",
    "param_maxs = np.array([8, 1, 800, 4, 0.3, 10, 0.1, 0.01, 1])\n",
    "\n",
    "#Fill the parameters array with random values between each minimum and maximum \n",
    "sampler = qmc.LatinHypercube(d=len(param_names))\n",
    "sample = sampler.random(n=N)\n",
    "parameters = qmc.scale(sample, param_mins, param_maxs)"
   ]
  },
  {
   "cell_type": "code",
   "execution_count": 37,
   "id": "5b9c1b5a-c622-4b7f-82b1-e0ce245bd88d",
   "metadata": {},
   "outputs": [
    {
     "data": {
      "text/html": [
       "<pre style=\"white-space:pre;overflow-x:auto;line-height:normal;font-family:Menlo,'DejaVu Sans Mono',consolas,'Courier New',monospace\"><span style=\"font-weight: bold\">[</span>\n",
       "    <span style=\"font-weight: bold\">(</span><span style=\"color: #008000; text-decoration-color: #008000\">'Imax'</span>, <span style=\"color: #008080; text-decoration-color: #008080; font-weight: bold\">4.819</span><span style=\"font-weight: bold\">)</span>,\n",
       "    <span style=\"font-weight: bold\">(</span><span style=\"color: #008000; text-decoration-color: #008000\">'Ce'</span>, <span style=\"color: #008080; text-decoration-color: #008080; font-weight: bold\">0.317</span><span style=\"font-weight: bold\">)</span>,\n",
       "    <span style=\"font-weight: bold\">(</span><span style=\"color: #008000; text-decoration-color: #008000\">'Sumax'</span>, <span style=\"color: #008080; text-decoration-color: #008080; font-weight: bold\">428.66</span><span style=\"font-weight: bold\">)</span>,\n",
       "    <span style=\"font-weight: bold\">(</span><span style=\"color: #008000; text-decoration-color: #008000\">'Beta'</span>, <span style=\"color: #008080; text-decoration-color: #008080; font-weight: bold\">2.029</span><span style=\"font-weight: bold\">)</span>,\n",
       "    <span style=\"font-weight: bold\">(</span><span style=\"color: #008000; text-decoration-color: #008000\">'Pmax'</span>, <span style=\"color: #008080; text-decoration-color: #008080; font-weight: bold\">0.117</span><span style=\"font-weight: bold\">)</span>,\n",
       "    <span style=\"font-weight: bold\">(</span><span style=\"color: #008000; text-decoration-color: #008000\">'Tlag'</span>, <span style=\"color: #008080; text-decoration-color: #008080; font-weight: bold\">7.718</span><span style=\"font-weight: bold\">)</span>,\n",
       "    <span style=\"font-weight: bold\">(</span><span style=\"color: #008000; text-decoration-color: #008000\">'Kf'</span>, <span style=\"color: #008080; text-decoration-color: #008080; font-weight: bold\">0.038</span><span style=\"font-weight: bold\">)</span>,\n",
       "    <span style=\"font-weight: bold\">(</span><span style=\"color: #008000; text-decoration-color: #008000\">'Ks'</span>, <span style=\"color: #008080; text-decoration-color: #008080; font-weight: bold\">0.006</span><span style=\"font-weight: bold\">)</span>,\n",
       "    <span style=\"font-weight: bold\">(</span><span style=\"color: #008000; text-decoration-color: #008000\">'FM'</span>, <span style=\"color: #008080; text-decoration-color: #008080; font-weight: bold\">0.976</span><span style=\"font-weight: bold\">)</span>\n",
       "<span style=\"font-weight: bold\">]</span>\n",
       "</pre>\n"
      ],
      "text/plain": [
       "\u001b[1m[\u001b[0m\n",
       "    \u001b[1m(\u001b[0m\u001b[32m'Imax'\u001b[0m, \u001b[1;36m4.819\u001b[0m\u001b[1m)\u001b[0m,\n",
       "    \u001b[1m(\u001b[0m\u001b[32m'Ce'\u001b[0m, \u001b[1;36m0.317\u001b[0m\u001b[1m)\u001b[0m,\n",
       "    \u001b[1m(\u001b[0m\u001b[32m'Sumax'\u001b[0m, \u001b[1;36m428.66\u001b[0m\u001b[1m)\u001b[0m,\n",
       "    \u001b[1m(\u001b[0m\u001b[32m'Beta'\u001b[0m, \u001b[1;36m2.029\u001b[0m\u001b[1m)\u001b[0m,\n",
       "    \u001b[1m(\u001b[0m\u001b[32m'Pmax'\u001b[0m, \u001b[1;36m0.117\u001b[0m\u001b[1m)\u001b[0m,\n",
       "    \u001b[1m(\u001b[0m\u001b[32m'Tlag'\u001b[0m, \u001b[1;36m7.718\u001b[0m\u001b[1m)\u001b[0m,\n",
       "    \u001b[1m(\u001b[0m\u001b[32m'Kf'\u001b[0m, \u001b[1;36m0.038\u001b[0m\u001b[1m)\u001b[0m,\n",
       "    \u001b[1m(\u001b[0m\u001b[32m'Ks'\u001b[0m, \u001b[1;36m0.006\u001b[0m\u001b[1m)\u001b[0m,\n",
       "    \u001b[1m(\u001b[0m\u001b[32m'FM'\u001b[0m, \u001b[1;36m0.976\u001b[0m\u001b[1m)\u001b[0m\n",
       "\u001b[1m]\u001b[0m\n"
      ]
     },
     "metadata": {},
     "output_type": "display_data"
    }
   ],
   "source": [
    "# Observe the randomly chosen variables for each parameter to confirm their boundaries are adhered to\n",
    "print(list(zip(param_names, np.round(parameters[0], decimals=3))))"
   ]
  },
  {
   "cell_type": "code",
   "execution_count": 59,
   "id": "8ca80351-5c41-4ed8-bb29-23b6b875695c",
   "metadata": {},
   "outputs": [],
   "source": [
    "ensemble = []\n",
    "\n",
    "for counter in range(N): \n",
    "    ensemble.append(ewatercycle.models.HBVLocal(forcing=ERA5_forcing))\n",
    "    config_file, _ = ensemble[counter].setup(\n",
    "                            parameters = parameters[counter],\n",
    "                            initial_storage=s_0,\n",
    "        cfg_dir = HBV_model_path)\n",
    "    ensemble[counter].initialize(config_file)"
   ]
  },
  {
   "cell_type": "code",
   "execution_count": 9,
   "id": "2cd5b91c-f1de-43a2-9a01-90086ae92642",
   "metadata": {},
   "outputs": [
    {
     "data": {
      "application/vnd.jupyter.widget-view+json": {
       "model_id": "1ec8644a5fc5407b9e2f9568381fe1e9",
       "version_major": 2,
       "version_minor": 0
      },
      "text/plain": [
       "IntProgress(value=0, max=150)"
      ]
     },
     "metadata": {},
     "output_type": "display_data"
    }
   ],
   "source": [
    "# Using a progress bar gives an indication of how long the process will take. This is particularly useful when N is chosen as a large number.\n",
    "f = IntProgress(min=0, max=N)\n",
    "display(f)\n",
    "\n",
    "# The HBV model returns values in mm/day so in order to compare this to the observed data it must b converted to m^3/s\n",
    "catchment_area_km2 = 334882.8\n",
    "\n",
    "def mmday_to_m3s(Q_sim_mmday, area_km2):\n",
    "    return (Q_sim_mmday * area_km2) / 86.4\n",
    "\n",
    "# Array to store level of fit values\n",
    "objectives = []\n",
    "\n",
    "# Loop over ensemble members\n",
    "for ensembleMember in ensemble:\n",
    "    Q_m = []\n",
    "    time = []\n",
    "    while ensembleMember.time < ensembleMember.end_time:\n",
    "        ensembleMember.update()\n",
    "        discharge_this_timestep = ensembleMember.get_value(\"Q\")\n",
    "        Q_m.append(discharge_this_timestep[0])\n",
    "        time.append(ensembleMember.time_as_datetime)\n",
    "\n",
    "    # Create DataFrame for model results\n",
    "    Q_m = mmday_to_m3s(np.array(Q_m), catchment_area_km2)\n",
    "    discharge_dataframe = pd.DataFrame({'model output': Q_m}, index=pd.to_datetime(time))\n",
    "    \n",
    "    # Calculate the model of best-fit function\n",
    "    objective_this_model = RMSE(discharge_dataframe['model output'], flow['Q'], start_calibration, end_calibration)\n",
    "    objectives.append(objective_this_model)\n",
    "\n",
    "    # Free up memory\n",
    "    del Q_m, time, discharge_dataframe, objective_this_model\n",
    "    f.value += 1\n",
    "\n",
    "# Clean up models to save memory\n",
    "for ensembleMember in ensemble:\n",
    "    ensembleMember.finalize()"
   ]
  },
  {
   "cell_type": "code",
   "execution_count": 60,
   "id": "7d7a839f-296a-4c66-9154-9e3a3d07e3e6",
   "metadata": {},
   "outputs": [],
   "source": [
    "# Loop over ensemble members\n",
    "for ensembleMember in ensemble:\n",
    "    Q_m = []\n",
    "    time = []\n",
    "    while ensembleMember.time < ensembleMember.end_time:\n",
    "        ensembleMember.update()\n",
    "        discharge_this_timestep = ensembleMember.get_value(\"Q\")\n",
    "        Q_m.append(discharge_this_timestep[0])\n",
    "        time.append(ensembleMember.time_as_datetime)\n",
    "\n",
    "    # Create DataFrame for model results\n",
    "    Q_m = mmday_to_m3s(np.array(Q_m), catchment_area_km2)\n",
    "    discharge_dataframe = pd.DataFrame({'model output': Q_m}, index=pd.to_datetime(time))\n",
    "    \n",
    "    # Calculate the model of best-fit function\n",
    "    objective_this_model = KGE2(discharge_dataframe['model output'], flow['Q'], start_calibration, end_calibration)\n",
    "    objectives.append(objective_this_model)\n",
    "\n",
    "    # Free up memory\n",
    "    del Q_m, time, discharge_dataframe, objective_this_model\n",
    "    f.value += 1\n",
    "\n",
    "# Clean up models to save memory\n",
    "for ensembleMember in ensemble:\n",
    "    ensembleMember.finalize()"
   ]
  },
  {
   "cell_type": "code",
   "execution_count": 10,
   "id": "0d7abac1-cf7e-4291-9c9f-edbbea5ddb21",
   "metadata": {},
   "outputs": [
    {
     "data": {
      "text/html": [
       "<pre style=\"white-space:pre;overflow-x:auto;line-height:normal;font-family:Menlo,'DejaVu Sans Mono',consolas,'Courier New',monospace\"><span style=\"font-weight: bold\">[</span>\n",
       "    <span style=\"color: #008080; text-decoration-color: #008080; font-weight: bold\">6.344878250557591</span>,\n",
       "    <span style=\"color: #008080; text-decoration-color: #008080; font-weight: bold\">0.8097953213402922</span>,\n",
       "    <span style=\"color: #008080; text-decoration-color: #008080; font-weight: bold\">600.8990557273515</span>,\n",
       "    <span style=\"color: #008080; text-decoration-color: #008080; font-weight: bold\">1.3818231002681736</span>,\n",
       "    <span style=\"color: #008080; text-decoration-color: #008080; font-weight: bold\">0.16376673654421722</span>,\n",
       "    <span style=\"color: #008080; text-decoration-color: #008080; font-weight: bold\">5.484373442035809</span>,\n",
       "    <span style=\"color: #008080; text-decoration-color: #008080; font-weight: bold\">0.010601983130824688</span>,\n",
       "    <span style=\"color: #008080; text-decoration-color: #008080; font-weight: bold\">0.005234796506050036</span>,\n",
       "    <span style=\"color: #008080; text-decoration-color: #008080; font-weight: bold\">0.17402740162331534</span>\n",
       "<span style=\"font-weight: bold\">]</span>\n",
       "</pre>\n"
      ],
      "text/plain": [
       "\u001b[1m[\u001b[0m\n",
       "    \u001b[1;36m6.344878250557591\u001b[0m,\n",
       "    \u001b[1;36m0.8097953213402922\u001b[0m,\n",
       "    \u001b[1;36m600.8990557273515\u001b[0m,\n",
       "    \u001b[1;36m1.3818231002681736\u001b[0m,\n",
       "    \u001b[1;36m0.16376673654421722\u001b[0m,\n",
       "    \u001b[1;36m5.484373442035809\u001b[0m,\n",
       "    \u001b[1;36m0.010601983130824688\u001b[0m,\n",
       "    \u001b[1;36m0.005234796506050036\u001b[0m,\n",
       "    \u001b[1;36m0.17402740162331534\u001b[0m\n",
       "\u001b[1m]\u001b[0m\n"
      ]
     },
     "metadata": {},
     "output_type": "display_data"
    },
    {
     "data": {
      "text/html": [
       "<pre style=\"white-space:pre;overflow-x:auto;line-height:normal;font-family:Menlo,'DejaVu Sans Mono',consolas,'Courier New',monospace\">The best parameters are: <span style=\"font-weight: bold\">[(</span><span style=\"color: #008000; text-decoration-color: #008000\">'Imax'</span>, <span style=\"color: #008080; text-decoration-color: #008080; font-weight: bold\">6.345</span><span style=\"font-weight: bold\">)</span>, <span style=\"font-weight: bold\">(</span><span style=\"color: #008000; text-decoration-color: #008000\">'Ce'</span>, <span style=\"color: #008080; text-decoration-color: #008080; font-weight: bold\">0.81</span><span style=\"font-weight: bold\">)</span>, <span style=\"font-weight: bold\">(</span><span style=\"color: #008000; text-decoration-color: #008000\">'Sumax'</span>, <span style=\"color: #008080; text-decoration-color: #008080; font-weight: bold\">600.899</span><span style=\"font-weight: bold\">)</span>, <span style=\"font-weight: bold\">(</span><span style=\"color: #008000; text-decoration-color: #008000\">'Beta'</span>, <span style=\"color: #008080; text-decoration-color: #008080; font-weight: bold\">1.382</span><span style=\"font-weight: bold\">)</span>, <span style=\"font-weight: bold\">(</span><span style=\"color: #008000; text-decoration-color: #008000\">'Pmax'</span>, <span style=\"color: #008080; text-decoration-color: #008080; font-weight: bold\">0.164</span><span style=\"font-weight: bold\">)</span>, \n",
       "<span style=\"font-weight: bold\">(</span><span style=\"color: #008000; text-decoration-color: #008000\">'Tlag'</span>, <span style=\"color: #008080; text-decoration-color: #008080; font-weight: bold\">5.484</span><span style=\"font-weight: bold\">)</span>, <span style=\"font-weight: bold\">(</span><span style=\"color: #008000; text-decoration-color: #008000\">'Kf'</span>, <span style=\"color: #008080; text-decoration-color: #008080; font-weight: bold\">0.011</span><span style=\"font-weight: bold\">)</span>, <span style=\"font-weight: bold\">(</span><span style=\"color: #008000; text-decoration-color: #008000\">'Ks'</span>, <span style=\"color: #008080; text-decoration-color: #008080; font-weight: bold\">0.005</span><span style=\"font-weight: bold\">)</span>, <span style=\"font-weight: bold\">(</span><span style=\"color: #008000; text-decoration-color: #008000\">'FM'</span>, <span style=\"color: #008080; text-decoration-color: #008080; font-weight: bold\">0.174</span><span style=\"font-weight: bold\">)]</span>\n",
       "</pre>\n"
      ],
      "text/plain": [
       "The best parameters are: \u001b[1m[\u001b[0m\u001b[1m(\u001b[0m\u001b[32m'Imax'\u001b[0m, \u001b[1;36m6.345\u001b[0m\u001b[1m)\u001b[0m, \u001b[1m(\u001b[0m\u001b[32m'Ce'\u001b[0m, \u001b[1;36m0.81\u001b[0m\u001b[1m)\u001b[0m, \u001b[1m(\u001b[0m\u001b[32m'Sumax'\u001b[0m, \u001b[1;36m600.899\u001b[0m\u001b[1m)\u001b[0m, \u001b[1m(\u001b[0m\u001b[32m'Beta'\u001b[0m, \u001b[1;36m1.382\u001b[0m\u001b[1m)\u001b[0m, \u001b[1m(\u001b[0m\u001b[32m'Pmax'\u001b[0m, \u001b[1;36m0.164\u001b[0m\u001b[1m)\u001b[0m, \n",
       "\u001b[1m(\u001b[0m\u001b[32m'Tlag'\u001b[0m, \u001b[1;36m5.484\u001b[0m\u001b[1m)\u001b[0m, \u001b[1m(\u001b[0m\u001b[32m'Kf'\u001b[0m, \u001b[1;36m0.011\u001b[0m\u001b[1m)\u001b[0m, \u001b[1m(\u001b[0m\u001b[32m'Ks'\u001b[0m, \u001b[1;36m0.005\u001b[0m\u001b[1m)\u001b[0m, \u001b[1m(\u001b[0m\u001b[32m'FM'\u001b[0m, \u001b[1;36m0.174\u001b[0m\u001b[1m)\u001b[0m\u001b[1m]\u001b[0m\n"
      ]
     },
     "metadata": {},
     "output_type": "display_data"
    }
   ],
   "source": [
    "# Showing which parameter set is the best fit\n",
    "parameters_minimum_index = np.argmin(np.array(objectives))\n",
    "if np.min(np.array(objectives)) == np.inf:\n",
    "    print(\"No real parameter is chosen\")\n",
    "\n",
    "parameters_minimum = parameters[parameters_minimum_index]\n",
    "\n",
    "print(f'The best parameters are: {list(zip(param_names, np.round(parameters_minimum, decimals=3)))}')"
   ]
  },
  {
   "cell_type": "code",
   "execution_count": 62,
   "id": "3e75fbc8-37d6-4ab8-bfb9-0c305444e6cf",
   "metadata": {},
   "outputs": [
    {
     "data": {
      "text/html": [
       "<pre style=\"white-space:pre;overflow-x:auto;line-height:normal;font-family:Menlo,'DejaVu Sans Mono',consolas,'Courier New',monospace\"><span style=\"font-weight: bold\">[</span><span style=\"color: #008080; text-decoration-color: #008080; font-weight: bold\">5.94589424e+00</span> <span style=\"color: #008080; text-decoration-color: #008080; font-weight: bold\">9.44340159e-01</span> <span style=\"color: #008080; text-decoration-color: #008080; font-weight: bold\">3.62380790e+02</span> <span style=\"color: #008080; text-decoration-color: #008080; font-weight: bold\">8.38720310e-01</span>\n",
       " <span style=\"color: #008080; text-decoration-color: #008080; font-weight: bold\">2.37515550e-01</span> <span style=\"color: #008080; text-decoration-color: #008080; font-weight: bold\">5.75145126e+00</span> <span style=\"color: #008080; text-decoration-color: #008080; font-weight: bold\">6.64406174e-02</span> <span style=\"color: #008080; text-decoration-color: #008080; font-weight: bold\">5.61700659e-03</span>\n",
       " <span style=\"color: #008080; text-decoration-color: #008080; font-weight: bold\">1.38748689e-01</span><span style=\"font-weight: bold\">]</span>\n",
       "</pre>\n"
      ],
      "text/plain": [
       "\u001b[1m[\u001b[0m\u001b[1;36m5.94589424e+00\u001b[0m \u001b[1;36m9.44340159e-01\u001b[0m \u001b[1;36m3.62380790e+02\u001b[0m \u001b[1;36m8.38720310e-01\u001b[0m\n",
       " \u001b[1;36m2.37515550e-01\u001b[0m \u001b[1;36m5.75145126e+00\u001b[0m \u001b[1;36m6.64406174e-02\u001b[0m \u001b[1;36m5.61700659e-03\u001b[0m\n",
       " \u001b[1;36m1.38748689e-01\u001b[0m\u001b[1m]\u001b[0m\n"
      ]
     },
     "metadata": {},
     "output_type": "display_data"
    },
    {
     "data": {
      "text/html": [
       "<pre style=\"white-space:pre;overflow-x:auto;line-height:normal;font-family:Menlo,'DejaVu Sans Mono',consolas,'Courier New',monospace\">The best parameters are: <span style=\"font-weight: bold\">[(</span><span style=\"color: #008000; text-decoration-color: #008000\">'Imax'</span>, <span style=\"color: #008080; text-decoration-color: #008080; font-weight: bold\">5.946</span><span style=\"font-weight: bold\">)</span>, <span style=\"font-weight: bold\">(</span><span style=\"color: #008000; text-decoration-color: #008000\">'Ce'</span>, <span style=\"color: #008080; text-decoration-color: #008080; font-weight: bold\">0.944</span><span style=\"font-weight: bold\">)</span>, <span style=\"font-weight: bold\">(</span><span style=\"color: #008000; text-decoration-color: #008000\">'Sumax'</span>, <span style=\"color: #008080; text-decoration-color: #008080; font-weight: bold\">362.381</span><span style=\"font-weight: bold\">)</span>, <span style=\"font-weight: bold\">(</span><span style=\"color: #008000; text-decoration-color: #008000\">'Beta'</span>, <span style=\"color: #008080; text-decoration-color: #008080; font-weight: bold\">0.839</span><span style=\"font-weight: bold\">)</span>, <span style=\"font-weight: bold\">(</span><span style=\"color: #008000; text-decoration-color: #008000\">'Pmax'</span>, <span style=\"color: #008080; text-decoration-color: #008080; font-weight: bold\">0.238</span><span style=\"font-weight: bold\">)</span>, \n",
       "<span style=\"font-weight: bold\">(</span><span style=\"color: #008000; text-decoration-color: #008000\">'Tlag'</span>, <span style=\"color: #008080; text-decoration-color: #008080; font-weight: bold\">5.751</span><span style=\"font-weight: bold\">)</span>, <span style=\"font-weight: bold\">(</span><span style=\"color: #008000; text-decoration-color: #008000\">'Kf'</span>, <span style=\"color: #008080; text-decoration-color: #008080; font-weight: bold\">0.066</span><span style=\"font-weight: bold\">)</span>, <span style=\"font-weight: bold\">(</span><span style=\"color: #008000; text-decoration-color: #008000\">'Ks'</span>, <span style=\"color: #008080; text-decoration-color: #008080; font-weight: bold\">0.006</span><span style=\"font-weight: bold\">)</span>, <span style=\"font-weight: bold\">(</span><span style=\"color: #008000; text-decoration-color: #008000\">'FM'</span>, <span style=\"color: #008080; text-decoration-color: #008080; font-weight: bold\">0.139</span><span style=\"font-weight: bold\">)]</span>\n",
       "</pre>\n"
      ],
      "text/plain": [
       "The best parameters are: \u001b[1m[\u001b[0m\u001b[1m(\u001b[0m\u001b[32m'Imax'\u001b[0m, \u001b[1;36m5.946\u001b[0m\u001b[1m)\u001b[0m, \u001b[1m(\u001b[0m\u001b[32m'Ce'\u001b[0m, \u001b[1;36m0.944\u001b[0m\u001b[1m)\u001b[0m, \u001b[1m(\u001b[0m\u001b[32m'Sumax'\u001b[0m, \u001b[1;36m362.381\u001b[0m\u001b[1m)\u001b[0m, \u001b[1m(\u001b[0m\u001b[32m'Beta'\u001b[0m, \u001b[1;36m0.839\u001b[0m\u001b[1m)\u001b[0m, \u001b[1m(\u001b[0m\u001b[32m'Pmax'\u001b[0m, \u001b[1;36m0.238\u001b[0m\u001b[1m)\u001b[0m, \n",
       "\u001b[1m(\u001b[0m\u001b[32m'Tlag'\u001b[0m, \u001b[1;36m5.751\u001b[0m\u001b[1m)\u001b[0m, \u001b[1m(\u001b[0m\u001b[32m'Kf'\u001b[0m, \u001b[1;36m0.066\u001b[0m\u001b[1m)\u001b[0m, \u001b[1m(\u001b[0m\u001b[32m'Ks'\u001b[0m, \u001b[1;36m0.006\u001b[0m\u001b[1m)\u001b[0m, \u001b[1m(\u001b[0m\u001b[32m'FM'\u001b[0m, \u001b[1;36m0.139\u001b[0m\u001b[1m)\u001b[0m\u001b[1m]\u001b[0m\n"
      ]
     },
     "metadata": {},
     "output_type": "display_data"
    }
   ],
   "source": [
    "# Showing which parameter set is the best fit\n",
    "parameters_maximum_index = np.argmax(np.array(objectives))\n",
    "if np.min(np.array(objectives)) == np.inf:\n",
    "    print(\"No real parameter is chosen\")\n",
    "\n",
    "parameters_maximum = parameters[parameters_maximum_index]\n",
    "print(parameters_maximum)\n",
    "\n",
    "print(f'The best parameters are: {list(zip(param_names, np.round(parameters_maximum, decimals=3)))}')"
   ]
  },
  {
   "cell_type": "code",
   "execution_count": null,
   "id": "7da7141c-cc1a-423c-ae99-ff1c0ed564ed",
   "metadata": {},
   "outputs": [],
   "source": []
  }
 ],
 "metadata": {
  "kernelspec": {
   "display_name": "Python 3 (ipykernel)",
   "language": "python",
   "name": "python3"
  },
  "language_info": {
   "codemirror_mode": {
    "name": "ipython",
    "version": 3
   },
   "file_extension": ".py",
   "mimetype": "text/x-python",
   "name": "python",
   "nbconvert_exporter": "python",
   "pygments_lexer": "ipython3",
   "version": "3.12.7"
  }
 },
 "nbformat": 4,
 "nbformat_minor": 5
}
