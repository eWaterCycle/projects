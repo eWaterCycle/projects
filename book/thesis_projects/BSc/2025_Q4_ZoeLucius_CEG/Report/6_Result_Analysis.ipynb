{
 "cells": [
  {
   "cell_type": "markdown",
   "id": "b8d26af9-140b-4336-b287-ef896322c7fe",
   "metadata": {},
   "source": [
    "# 6 Result Analysis"
   ]
  },
  {
   "cell_type": "markdown",
   "id": "7d152409-89c6-4366-bf05-2c7959688b3f",
   "metadata": {},
   "source": [
    "The focus of this chapter is to quantify the differences in droughts detected in the historic streamflow simulation to that of future model simulations for the five SSPs. The code written to produce the demonstrated output of this chapter is provided in Appendix D. "
   ]
  },
  {
   "cell_type": "markdown",
   "id": "7138e781-c135-45b8-a42a-3c268c6424d3",
   "metadata": {},
   "source": [
    "## 6.1 Drought Distribution Functions"
   ]
  },
  {
   "cell_type": "markdown",
   "id": "3d8de998-25d6-4fcc-b603-e6902dc29c26",
   "metadata": {},
   "source": [
    "Figure 6.1 shows the distribution density functions of detected droughts for the historical model and the five SSP models. The historic model shows a peak in the distribution function at approximately $200$ $m^3/s$. The future predicted discharge models SSP1-1.9, SSP1-2.6 and SSP2-4.5 are relatively similar to the historic output but show in general a rightward shift in the peak of the distribution, indicating droughts of a slightly larger deficit will become more common. Interestingly the distribution of SSP3-7.0 shows a much sharper peak, indicating droughts of a certain deficit are predicted to occur most often. Finally, the distribution of SSP5-8.5 has a bimodal shape suggesting an increased variability of drought deficits with a decrease in predicted mild drought events and an increase in predicted critical drought events.\n",
    "\n",
    "Figure 6.2 depicts the cumulative distributions of detected droughts for the historical simulation and the five SSP models. Notable is that at a deficit of approximately $300$ $m^3/s$ over 60% of detected historic droughts have been captured while for SSP1-1.9, SSP2-4.5, and SSP5-8.5 only a little over 30% is. For deficits past this mark, it is notable that particularly SSP5-8.5 has a much flatter curve than the rest indicating a larger portion of the detected droughts have a higher deficit.\n"
   ]
  },
  {
   "cell_type": "markdown",
   "id": "9e579062-7dfd-4cb3-a74a-9651bfe58681",
   "metadata": {},
   "source": [
    "<figure>\n",
    "  <img src=\"Figures/DistributionDensity.jpg\">\n",
    "  <figcaption>\n",
    "      Figure 6.1 - Distribution Density Functions per scenario.\n",
    "  </figcaption>\n",
    "</figure>\n",
    "\n",
    "<figure>\n",
    "  <img src=\"Figures/CumulativeDistributions.jpg\">\n",
    "  <figcaption>\n",
    "      Figure 6.2 Cumulative Distribution Function of per SSP.\n",
    "  </figcaption>\n",
    "</figure>"
   ]
  },
  {
   "cell_type": "markdown",
   "id": "f83e4803-d2d4-442d-b1d7-219298b22de2",
   "metadata": {},
   "source": [
    "## 6.2 Return Periods"
   ]
  },
  {
   "cell_type": "markdown",
   "id": "9f1bf5b5-38ee-4bab-97ae-d17574885be5",
   "metadata": {},
   "source": [
    "To compare historic and future simulated drought frequency, the return periods of the detected droughts are plotted. Figure 6.3 shows the return periods before the quantile mapping correction function described in Section 5.2 is applied. Figure 6.4 shows the return periods after the quantile mapping function is applied to the data. The graphs confirm the analysis in Section 6.1. In general all climate scenarios indicate shorter return periods for droughts of a higher deficit particularly on the left end of the graph. However, due to a short data set for the historic model, limited droughts of extreme deficits are detected, making it difficult to draw any conclusions regarding frequency of extreme droughts in relation to the historic data. "
   ]
  },
  {
   "cell_type": "markdown",
   "id": "88f9c75c-deec-4ee5-b5ce-41ad0985c088",
   "metadata": {},
   "source": [
    "<figure>\n",
    "  <img src=\"Figures/CorrectedReturnPeriods.jpg\">\n",
    "  <figcaption>\n",
    "      Figure 6.3 - Return Periods Before the Corrections.\n",
    "  </figcaption>\n",
    "</figure>\n",
    "\n",
    "<figure>\n",
    "  <img src=\"Figures/NotCorrectedReturnPeriods.jpg\">\n",
    "  <figcaption>\n",
    "      Figure 6.4 - Return Periods After the Correction.\n",
    "  </figcaption>\n",
    "</figure>"
   ]
  }
 ],
 "metadata": {
  "kernelspec": {
   "display_name": "Python 3 (ipykernel)",
   "language": "python",
   "name": "python3"
  },
  "language_info": {
   "codemirror_mode": {
    "name": "ipython",
    "version": 3
   },
   "file_extension": ".py",
   "mimetype": "text/x-python",
   "name": "python",
   "nbconvert_exporter": "python",
   "pygments_lexer": "ipython3",
   "version": "3.12.7"
  }
 },
 "nbformat": 4,
 "nbformat_minor": 5
}
