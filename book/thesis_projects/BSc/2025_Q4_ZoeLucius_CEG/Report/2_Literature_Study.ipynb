{
 "cells": [
  {
   "cell_type": "markdown",
   "id": "b22d280a-4778-4ded-9bef-fc6c7c4c1199",
   "metadata": {},
   "source": [
    "# 2 Literature Study"
   ]
  },
  {
   "cell_type": "markdown",
   "id": "4800b1a2-ddbb-4224-bf78-3cbbb5d5db36",
   "metadata": {},
   "source": [
    "## 2.1 The Zambezi River and the Kariba Dam"
   ]
  },
  {
   "cell_type": "markdown",
   "id": "61d4e80f-9910-4550-8961-ac8ce904ec20",
   "metadata": {},
   "source": [
    "The Zambezi river in Southern Africa is the continent’s fourth longest river, stretching more than 2,500 km and crossing six national boundaries all the way from the DRC to Mozambique, where it empties into the Indian Ocean. The Zambezi drainage basin covers roughly 1.3 million km2 and is vital for the region’s ecological system. It is also a lifeline for food, water, and energy security (Zambezi River Authority, n.d.). However, as a mainly rain-fed river, the system is highly sensitive to climate variability due to the enormous contrast in precipitation levels between the rainy and dry-seasons (Wina et al., 1999). A map of the Zambezi river basin is displayed in Figure 2.1."
   ]
  },
  {
   "attachments": {},
   "cell_type": "markdown",
   "id": "9cebdd10-e5ee-4a10-a05c-dbc52fac136b",
   "metadata": {},
   "source": [
    "<figure>\n",
    "  <img src=\"Figures/Zambezi_River_Basin.jpg\">\n",
    "  <figcaption>\n",
    "      Figure 2.1 - The Zambezi river basin. Taken from Zambezi River Basin | GRID-Arendal, n.d., https://www.grida.no/resources/5207.\n",
    "  </figcaption>\n",
    "</figure>\n",
    "\n",
    "<figure>\n",
    "  <img src=\"Figures/Edited_Lake_Kariba_Runoff.jpg\">\n",
    "  <figcaption>\n",
    "      Figure 2.2 - Zambezi river discharge into the Kariba lake. Adapted from Dube & Nhamo (2023), CC BY-NC-ND 4.0 and edited by author\n",
    "  </figcaption>\n",
    "</figure>"
   ]
  },
  {
   "cell_type": "markdown",
   "id": "db9cc899-3b4b-4835-9805-f1e7bc35617b",
   "metadata": {},
   "source": [
    "Downstream of the upper Zambezi lies Lake Kariba, demarcated by the Kariba dam. The part of the Zambezi catchment area that streams into the lake is depicted in Figure 2.2. The dam is equipped with six flood gates and power stations on both the north and south side, supplying energy to Zambia and Zimbabwe respectively (Muguti et al., 2015). Annually, the Zambezi River Authority (ZRA) allocates water to ZESCO and ZPC, the respective Zambian and Zimbabwean state-owned power companies.  This is done based on the current water level of the reservoir and the expected precipitation that year. However, due to the system’s great climate sensitivity the Kariba lake has struggled with water levels too low to yield an adequate power supply.\n"
   ]
  },
  {
   "cell_type": "markdown",
   "id": "55122576-63b5-49a1-81cf-67f7107caa2b",
   "metadata": {},
   "source": [
    "## 2.2 Determining the Required Inflow to Meet Power Demand"
   ]
  },
  {
   "cell_type": "markdown",
   "id": "79cd1f91-cb75-4b2b-b31f-37db5c8ebadd",
   "metadata": {},
   "source": [
    "This work considers the situation where the Zambezi discharge into the reservoir is too low for the Kariba dam to generate a sufficient power output. The inflow needed into the Kariba lake is determined based on the sum of the energy demand for the North station, supplying to the Zambian power grid, and the South power station, supplying to the Zimbabwean power grid. This is done using Equation 1.\n",
    "\n",
    "The critical inflow is based on the base power demand of both countries and is determined using:\n",
    "\n",
    "$${Q_{power}} = \\dfrac{P_{Zambia}+P_{Zimbabwe}}{{\\eta}{\\rho}{g}{\\Delta}{h}}$$\n",
    "<p style='text-align: right;'> [Equation 1]\n",
    "\n",
    "Where: <br>\n",
    "$P_{Zambia/Zimbabwe}$ [MW] &nbsp;&nbsp; - &nbsp;&nbsp; annual power demand per country <br>\n",
    "$\\eta$  [-] &nbsp;&nbsp; - &nbsp;&nbsp; energy conversion efficiency ($\\eta$ = 90%) <br>\n",
    "$\\rho$  [kg/m$^3$] &nbsp;&nbsp; - &nbsp;&nbsp; density of water ($\\rho$ = 1000 kg/m$^3$) <br>\n",
    "$g$  [m/s$^2$] &nbsp;&nbsp; -  &nbsp;&nbsp; gravitational acceleration ($g$ = 9.81 m/s$^2$) <br>\n",
    "${\\Delta}h$  [m] &nbsp;&nbsp; - &nbsp;&nbsp; height from water level to outflow (${\\Delta}h$ = 110.5 m)"
   ]
  },
  {
   "cell_type": "markdown",
   "id": "a311487c-6d4a-4e08-8aa0-bbbb3fc8e4b4",
   "metadata": {},
   "source": [
    "First, the average annual power demand is determined. The Zambian ministry of energy reports, in its Integrated Resource Plan for the Power Sector in Zambia (2023), that in 2026 the total annual electricity demand is projected to be 22900 GWh, translating to an annual average output of 2615 MW. Currently 82% of Zambia’s power generation capacity is hydro based and the Kariba dam accounts for 34% of this hydropower capacity (Energy Sector – Ministry of Energy, 2023). It is assumed that this ratio remains constant in the future. Based on this, the minimum power output of the Kariba dam for Zambian power demand is approximately 730 MW annually."
   ]
  },
  {
   "attachments": {},
   "cell_type": "markdown",
   "id": "0e3536f8-e669-4a7f-970a-74bae81b7a7e",
   "metadata": {},
   "source": [
    "In Zimbabwe the annual electricity demand in 2022 was 2000 MW (World Bank Group, 2023). The Kariba dam, with 1050 MW of installed capacity on the southern power station, accounts for 38% of the country’s total generating capacity (SACREEE, 2022). Hence, to meet current demand in Zimbabwe the Kariba dam must supply 760 MW annually to the south power station. It is assumed that the upper and lower outlet on the south power station, see Figure 2.3, generate equal amounts of power (Calamita et al., 2021)."
   ]
  },
  {
   "cell_type": "markdown",
   "id": "aeffcad0-5c17-4c5d-a478-a65752688fc2",
   "metadata": {},
   "source": [
    "The operational energy conversion efficiency is taken as 90% (Zimbabwe Power Company, n.d.). The height difference between the average water level and the turbines are determined based on the height of the Kariba dam, which is 128 m from base to crest (Zambezi River Authority. (n.d.)). The outflow of the turbine is 10 m above the base of the dam (Harris, 2019). Figure 2.3 shows the height of the crest of the dam in meters above sea level. The water height is taken as 482.0 m above sea level, the average of the minimum and maximum operation level (Zambezi River Authority. (n.d.)). This water level also roughly coincides with the average water level height measured from 1 October 2000 to 31 December 2022, which is on average 482.6 m (Fleming, 2021). Based on these known levels, Δh is calculated to be 110.5 m."
   ]
  },
  {
   "attachments": {},
   "cell_type": "markdown",
   "id": "796ef0c7-d680-4d76-b5e2-f2106488e556",
   "metadata": {},
   "source": [
    "<figure>\n",
    "  <img src=\"Figures/Reservoir_Intake_Levels.jpg\" alt=\"Kariba Dam Intake Levels\">\n",
    "  <figcaption>\n",
    "      Figure 2.3 - Kariba Dam Intake Levels. Adapted from Calamita et al. (2021), CC BY-NC-ND 4.0.\n",
    "  </figcaption>\n",
    "</figure>"
   ]
  },
  {
   "cell_type": "markdown",
   "id": "cbf3513d-536e-41ed-9ad2-6380c884e72f",
   "metadata": {},
   "source": "Combining these assumptions, the critical inflow into the Kariba lake is calculated using Equation 1 to be $Q_{power} = 1527.26$ $m^3/s$. The report will later also define a critical discharge, $Q_{crit}$, which takes into account several factors in the systems water balance as well as some considerations regarding the location of the measuring station. It is important to note that $Q_{power}$ is the required inflow at the Kariba lake to meet a certain power demand, while $Q_{crit}$ is the discharge that needs to be observed at measuring station Katima Mulilo in order for the inflow at the lake to be at least $Q_{power}$."
  },
  {
   "cell_type": "code",
   "execution_count": null,
   "id": "95916527-ce70-4088-b369-71bc092584cb",
   "metadata": {},
   "outputs": [],
   "source": []
  }
 ],
 "metadata": {
  "kernelspec": {
   "display_name": "Python 3 (ipykernel)",
   "language": "python",
   "name": "python3"
  },
  "language_info": {
   "codemirror_mode": {
    "name": "ipython",
    "version": 3
   },
   "file_extension": ".py",
   "mimetype": "text/x-python",
   "name": "python",
   "nbconvert_exporter": "python",
   "pygments_lexer": "ipython3",
   "version": "3.12.7"
  }
 },
 "nbformat": 4,
 "nbformat_minor": 5
}
