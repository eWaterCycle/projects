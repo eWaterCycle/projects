{
 "cells": [
  {
   "cell_type": "markdown",
   "id": "51a3ab34-7f57-41cf-88c4-65e0bcb0550e",
   "metadata": {},
   "source": [
    "# 1 Introduction"
   ]
  },
  {
   "cell_type": "markdown",
   "id": "2938bd05-6f66-40c0-96b4-0d6f5200c7fc",
   "metadata": {},
   "source": [
    "## Motivation"
   ]
  },
  {
   "cell_type": "markdown",
   "id": "6808f91e-36e8-41a2-a91a-a9c437ac83da",
   "metadata": {},
   "source": [
    "Climate change is devastating the world at an alarming rate. Coming decennia there is an expected increase in frequency and/or severity of weather extremes and natural disasters. All of this is likely to have devastating effects for the livelihoods of people globally. The manner in which climate change will impact an area varies greatly per region. Where some regions are expected to experience droughts of extreme durations and deficits, others expect an increase in extreme percipitation and floods, and others yet an increase in the severity of both (Intergovernmental Panel on Climate Change, 2023).\n",
    "\n",
    "However, particular regions are more vulnerable than others due to a limited capacity in managing the impacts of climate change. In 2022, 15 of the 20 countries ranked lowest in the ND-GAIN Country Index were African countries. This index is based on vulnerability to the negative impacts of climate change on food, water, health, ecosystems, human habitats, and infrastructure security as well as a countries governmental, economic and social readiness to respond to climate change (University of Notre Dame, 2022). Although Africa is highly vulnerable to climate variability it has contributed relatively little to global CO$_2$ emissions. According to the International Energy Agency (2022), Africa accounts for only about 4% of global CO$_2$ emissions while being home to 19% of the worlds population (statista, 2025). \n",
    "\n",
    "The impacts of extended periods of drought followed by heavy rains and tropical cyclones affect thousands of peoples livelihoods (Africa Suffers Disproportionately From Climate Change, 2023). The research is therefore of great relevance to contribute to knowledge on climate resilience of existing infrastructure in the world’s second largest continent with an expected exponential growth in the coming decennia."
   ]
  },
  {
   "cell_type": "markdown",
   "id": "68bcd061-8fe2-4fc0-ad59-342fd577f176",
   "metadata": {},
   "source": [
    "## Problem analysis"
   ]
  },
  {
   "cell_type": "markdown",
   "id": "f4c67573-4614-4f8e-8c81-906bb1c07fb3",
   "metadata": {},
   "source": [
    "Through literature studies, a pressing climate-induced issue that quickly came to light is the drought faced in Southern and Eastern Africa in the rain season of 2023/2024 (Drought Worsens Crisis in Southern Africa, 2024). The Zambezi basin, located on the border of Zambia and Zimbabwe was hit particularly hard. Besides being a huge water reserve used for agricultural purposes and by the surrounding communities, the basin feeds into the Kariba dam on which both Zambia and Zimbabwe are heavily reliant for power generation. A prolonged drought can leave large parts of both countries  without electricity for days on end, with the effects being socially and economically detrimental. These climate extremes, such as prolonged droughts can be expected to become more frequent as a result of climate change. A proper understanding of just how much more frequent is crucial to be able to better mitigate these challenges in the future.\n"
   ]
  },
  {
   "cell_type": "markdown",
   "id": "fb5f3183-4a35-45d9-8e36-3c7accf35c82",
   "metadata": {},
   "source": [
    "## Objective"
   ]
  },
  {
   "cell_type": "markdown",
   "id": "ebe4fbe4-6e9f-4bda-b9d7-8a351af46413",
   "metadata": {},
   "source": [
    "This project aims to contribute to the global knowledge available on how climate change will impact our future. A better understanding of this is necessary in order to adapt policy and governance accordingly, to create a more liveable environment for future generations. \n",
    "\n",
    "The main research question that this report will aim to answer is; *To what extent will varying climate scenarios influence the frequency and severity of droughts of the Zambezi river and what are the implications of this for the reliability of the Kariba Dam as an energy source?*\n",
    "\n",
    "\n",
    "Sub-questions to answer this question include:\n",
    "\n",
    "o What minimum discharge level (upstream) is needed for the Kariba dam to be able to supply the minimum electricity demand of both Zambia and Zimbabwe?\n",
    "\n",
    "o How frequently is this minimum discharge currently exceeded?\n",
    "\n",
    "o Based on five climate scanerios how frequently can we expect this in the future?\n",
    "\n",
    "o What are the implications of this on power availability for the populations of both Zambia and Zimbabwe?"
   ]
  },
  {
   "cell_type": "markdown",
   "id": "db9d6453-fb21-4ebe-8ce4-77dd1a31e6b3",
   "metadata": {},
   "source": [
    "## Aproach"
   ]
  },
  {
   "cell_type": "markdown",
   "id": "3db5a15f-05a4-4b2f-97ca-26b7d2980f5b",
   "metadata": {},
   "source": [
    "The starting point of this research is a literature study to gain insight on the context of the Zambezi river and the Kariba dam, on the extremity of the current situation and the  availability of data for the research question. In this study it will be determined at what level of discharge the dam will be deemed largely ineffective in it's power supply capabilitis.\n",
    "\n",
    "Based on this literature study hydraulic models are used to determine how often these minimum levels have been surpassed in the past. Then by applying the same hydraulogical models for different climate scenarios we can determine how often we can expect these droughts in the future. In order to do this the eWaterCycle hydraulic platform is used and the used models will be calibrated to best fit this research.\n",
    "\n",
    "The aim of the research is that the gained results offer a quantitive insight into how resilient the Kariba dam is to climate change and how this will influence the livelihood of the environment and communities around the Zambezi river. With these results recommendations are made to improve the "
   ]
  },
  {
   "cell_type": "markdown",
   "id": "5914774b-189e-44e1-972b-e7984f791cab",
   "metadata": {},
   "source": [
    "## Reading guide"
   ]
  },
  {
   "cell_type": "markdown",
   "id": "4dac1e3a-9108-43e6-bd74-54362038a8da",
   "metadata": {},
   "source": []
  }
 ],
 "metadata": {
  "kernelspec": {
   "display_name": "Python 3 (ipykernel)",
   "language": "python",
   "name": "python3"
  },
  "language_info": {
   "codemirror_mode": {
    "name": "ipython",
    "version": 3
   },
   "file_extension": ".py",
   "mimetype": "text/x-python",
   "name": "python",
   "nbconvert_exporter": "python",
   "pygments_lexer": "ipython3",
   "version": "3.12.7"
  }
 },
 "nbformat": 4,
 "nbformat_minor": 5
}
