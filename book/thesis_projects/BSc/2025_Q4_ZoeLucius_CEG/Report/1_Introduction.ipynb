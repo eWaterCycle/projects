{
 "cells": [
  {
   "cell_type": "markdown",
   "id": "51a3ab34-7f57-41cf-88c4-65e0bcb0550e",
   "metadata": {},
   "source": [
    "# 1 Introduction"
   ]
  },
  {
   "cell_type": "markdown",
   "id": "2938bd05-6f66-40c0-96b4-0d6f5200c7fc",
   "metadata": {
    "editable": true,
    "slideshow": {
     "slide_type": ""
    },
    "tags": []
   },
   "source": [
    "## 1.1 Research Justification"
   ]
  },
  {
   "cell_type": "markdown",
   "id": "6808f91e-36e8-41a2-a91a-a9c437ac83da",
   "metadata": {},
   "source": [
    "Climate change is devastating the world at an alarming rate. In the forth coming decades, there is an expected increase in frequency and/or severity of weather extremes and natural disasters, with devastating effects on the livelihoods of people globally (Intergovernmental Panel on Climate Change, 2023). Particular regions are more vulnerable to climate change than others. In 2022, 15 of the 20 countries ranked lowest in the ND-GAIN Country Index were African countries. This index ranks countries based on vulnerability to the negative impacts of climate change on food and water security, public health, ecosystems, human habitats, and infrastructure security. The index also regards a country’s governmental, economic and social readiness to respond to climate change (University of Notre Dame, 2022). Although Africa is highly vulnerable to climate variability, it contributes relatively little to global CO2 emissions. According to the International Energy Agency (2022), Africa accounts for about 4% of global CO2 emissions while being home to 19% of the world’s population (Statista, 2024). The World Meteorological Organization (2025) emphasises in their State of the Climate in Africa report the urgent and escalating reality of climate change related extreme weather events. Where some countries are suffering from persistent droughts, in others exceptional rainfalls lead to immense flooding.\n",
    "\n",
    "The research contributes to knowledge on climate resilience of infrastructure in the world’s second largest continent. A better understanding of this is necessary to adapt policy and governance accordingly."
   ]
  },
  {
   "cell_type": "markdown",
   "id": "68bcd061-8fe2-4fc0-ad59-342fd577f176",
   "metadata": {},
   "source": [
    "## 1.2 Problem analysis"
   ]
  },
  {
   "cell_type": "markdown",
   "id": "f4c67573-4614-4f8e-8c81-906bb1c07fb3",
   "metadata": {},
   "source": [
    "In the 2023/2024 rain season Southern Africa experienced the worst drought in over 100 years (Southern Africa: El Niño Regional Humanitarian Overview, 2024). Lake Kariba, on the border of Zambia and Zimbabwe, experienced prolonged periods of low inflow from the Zambezi river. The lake is a critical water reserve for surrounding communities and feeds the Kariba dam on which both Zambia and Zimbabwe are heavily reliant for power generation. The extent of this dependability is stipulated in Chapter 2. Low water levels of the lake Kariba have led to prolonged power-outages in both countries (World Meteorology Organization, 2025). These weather extremes can be expected to become more frequent as a result of climate change. A better understanding of just how much more frequent and/or severe outages can be expected is crucial to be able to mitigate these challenges in the future."
   ]
  },
  {
   "cell_type": "markdown",
   "id": "fb5f3183-4a35-45d9-8e36-3c7accf35c82",
   "metadata": {},
   "source": [
    "## 1.3 Objective"
   ]
  },
  {
   "cell_type": "markdown",
   "id": "ebe4fbe4-6e9f-4bda-b9d7-8a351af46413",
   "metadata": {},
   "source": [
    "The study aims to contribute to the wider knowledge base on how climate change will impact our hydrological systems with a specific focus on the Zambezi river basin and the Kariba dam. The research question of this report is ‘To what extent will varying climate scenarios influence the frequency and severity of droughts of the Zambezi river and what are the implications for the reliability of the Kariba Dam as a source of energy?’.\n",
    "\n",
    "<br>\n",
    "\n",
    "Some sub-questions required to answer this question:\n",
    "\n",
    "o What minimum discharge level (upstream) is needed for the Kariba dam to be able to supply a minimum electricity demand for both Zambia and Zimbabwe? <br>\n",
    "o How frequently is this minimum discharge currently exceeded? <br>\n",
    "o Based on five climate scenarios how frequently can we expect exceedance of the minimum discharge level in the future? <br>\n",
    "o What are the implications of this on adequacy of power supply from the Kariba dam for the populations of Zambia and Zimbabwe?"
   ]
  },
  {
   "cell_type": "markdown",
   "id": "db9d6453-fb21-4ebe-8ce4-77dd1a31e6b3",
   "metadata": {},
   "source": [
    "## 1.4 Aproach"
   ]
  },
  {
   "cell_type": "markdown",
   "id": "3db5a15f-05a4-4b2f-97ca-26b7d2980f5b",
   "metadata": {},
   "source": [
    "The starting point of this research is a literature study to gain insight on the context of the Zambezi river basin and the Kariba dam. Additionally, the required level of inflow into the Kariba lake to meet the power demand of both Zambia and Zimbabwe is determined.\n",
    "\n",
    "This research makes use of the eWaterCycle platform which is an Open Source system designed to increase accessibility of hydrological modelling (Hut, et al, 2022). The platform allows for standardized running of hydrological models, including the HBV model used in this paper. The platform also provides easy access to large databases such as ERA5 and CMIP6 data without needing to store this data locally.\n",
    "\n",
    "The starting point of this report is to calibrate a hydrological model until it is deemed to accurately simulate the observed daily discharge data from the local measuring station Katima Mulilo. The input of this hydrological model are generated historical ERA5 data forcings for the catchment area. Then the models parameters are optimized until the output sufficiently simulates the observed data. Then, applying this calibrated hydrological model, CMIP6 generated forcings are used as inputs, to simulate historical and future predictions for the rivers discharge.\n",
    "\n",
    "A drought analyser algorithm is designed to detect droughts in this streamflow data, for varying levels of severity. This drought analyser is operated on both the historical and future streamflow simulations. In this analysis, drought distribution functions and return periods for the detected droughts in the discharge data offer a quantitative insight into the implication of climate change for flow in the catchment area. This allows us to provide insight regarding how resilient the Kariba dam's power production is to climate change and what the consequences can be for Zambia and Zimbabwe if no alterations are made to their power supply system."
   ]
  },
  {
   "cell_type": "markdown",
   "id": "5914774b-189e-44e1-972b-e7984f791cab",
   "metadata": {},
   "source": [
    "## 1.5 Reading guide"
   ]
  },
  {
   "cell_type": "markdown",
   "id": "4dac1e3a-9108-43e6-bd74-54362038a8da",
   "metadata": {},
   "source": [
    "In Chapter 2, the literature review gives the geographical context and the critical inflow of the Zambezi river for the Kariba dam to be able to generate sufficient power is determined. Chapter 3 justifies the chosen hydrological model and calibrates and validates it for the observed data. In Chapter 4, the drought analyser function is described and assumptions made to detect droughts are elaborated. A critical flow is determined for the location of the measuring station. In Chapter 5, streamflow for a historic time period and for various future climate scenarios are generated using CMIP6 forcings. To answer the research question, in Chapter 6, the findings of historical discharge and discharge of future predictions, are compared. A short extension to the research is shared in Chapter 7 where the impact of a fast-growing population on the adequacy of the Kariba dam's electricity production is discussed. Finally, in Chapter 8 there is a discussion on the research, including research limitations, followed by the conclusion and recommendations in Chapter 9."
   ]
  },
  {
   "cell_type": "code",
   "execution_count": null,
   "id": "bdf57cd6-2ae3-4f7a-b562-af298dc22e7a",
   "metadata": {},
   "outputs": [],
   "source": []
  }
 ],
 "metadata": {
  "kernelspec": {
   "display_name": "Python 3 (ipykernel)",
   "language": "python",
   "name": "python3"
  },
  "language_info": {
   "codemirror_mode": {
    "name": "ipython",
    "version": 3
   },
   "file_extension": ".py",
   "mimetype": "text/x-python",
   "name": "python",
   "nbconvert_exporter": "python",
   "pygments_lexer": "ipython3",
   "version": "3.12.7"
  }
 },
 "nbformat": 4,
 "nbformat_minor": 5
}
