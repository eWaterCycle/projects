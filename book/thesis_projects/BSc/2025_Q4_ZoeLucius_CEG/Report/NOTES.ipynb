{
 "cells": [
  {
   "cell_type": "markdown",
   "id": "475b5aa4-51ec-4877-9072-484f255bd96d",
   "metadata": {},
   "source": [
    "NOTES"
   ]
  },
  {
   "cell_type": "markdown",
   "id": "02e91114-b834-4afd-b0d5-4044d1a68aff",
   "metadata": {},
   "source": [
    "- Mension this paper as a reference project. Compare results. Are our conclusions similar?\n",
    "  'Evaluating climate Change's impact on hydroelectricity in the Zambezi river basin'\n",
    "- Discussion:\n",
    "    - Mention the expected growth in population and energy demand in both Zambia and Zimbabwe\n",
    "    - Both countries are planning to become less hydro dependent\n",
    "  "
   ]
  },
  {
   "cell_type": "code",
   "execution_count": null,
   "id": "f50a62f5-8947-42b7-bf3f-659d3a4158d6",
   "metadata": {},
   "outputs": [],
   "source": []
  }
 ],
 "metadata": {
  "kernelspec": {
   "display_name": "Python 3 (ipykernel)",
   "language": "python",
   "name": "python3"
  },
  "language_info": {
   "codemirror_mode": {
    "name": "ipython",
    "version": 3
   },
   "file_extension": ".py",
   "mimetype": "text/x-python",
   "name": "python",
   "nbconvert_exporter": "python",
   "pygments_lexer": "ipython3",
   "version": "3.12.7"
  }
 },
 "nbformat": 4,
 "nbformat_minor": 5
}
