{
 "cells": [
  {
   "cell_type": "markdown",
   "id": "1663ef46-a804-4f11-a89e-8fe990559779",
   "metadata": {},
   "source": [
    "# 7 Research Extension: Scaling Power Demand to Population"
   ]
  },
  {
   "cell_type": "markdown",
   "id": "53d6a910-3eab-49cd-b27f-7a2d0e9a4081",
   "metadata": {},
   "source": [
    "Factors impacting the ability for the Kariba dam to meet a desired power output, are not only related to changes in the streamflow, but also fluctuations in the power demand itself. According to UN Department of Economic and Social Affairs (2024), Africa’s population is expected to grow faster than that of any other region the coming 50 years. The expectation is that the population will double its current population by 2070. Though the impact of this population growth on power supply and demand in relation to the Kariba Dam is framework for a whole separate research paper, a quick indication is made here.\n",
    "\n",
    "Based on the power demand stated in Chapter 2 and the current population of both countries the electricity demand per capita is calculated. Population data is retrieved from Hisham (2024) for the period from 1986, the start of the model calibration, until now. From the same data set, population predictions are taken up to the year 2100, the end of the experiment period. Based on the power demand per capita, for each year a different critical inflow is calculated. For both countries the 2023 population data is used leading to a power demand per capita of 35.5 W and 46.6 W for Zambia and Zimbabwe respectively. For simplicity it is assumed the demand per capita is constant both historically and in the future, although this too has of course changed rapidly with modernization. Appendix E shows the critical inflow required to meet each years power demand considering the (predicted) population size.\n",
    "\n",
    "Appendix F shows a drought analyser that works precisely the same as the drought analyser used in the rest of this research with the exception that critical inflow is scaled per year. Running this drought analyser over each of the modelled CMIP6 discharges detects the droughts indicated in Table 7. \n"
   ]
  },
  {
   "cell_type": "markdown",
   "id": "358a0a2b-375b-4e5c-96d1-a5d068886809",
   "metadata": {},
   "source": [
    "<figure>\n",
    "  <figcaption>\n",
    "      Table 7 – Number of detected droughts per classification for each SSP scenario when demand fluctuates.\n",
    "  </figcaption>\n",
    "  <img src=\"Figures/Tabel7.jpg\">\n",
    "</figure>"
   ]
  },
  {
   "cell_type": "markdown",
   "id": "b3b0bd60-1c34-4f64-9180-eb91817e60d6",
   "metadata": {},
   "source": [
    "When the drought analyser is adjusted to change with a growing population and based on current electricity demand per capita, almost each future year is detected as a drought. Where with the previous drought analyser at most 44 of the 73 years were detected as not being able to meet power output demand, now for each scenario at least 68 of the 73 years are detected as a deficit. \n",
    "\n",
    "Therefore, when considering shortcomings of the Kariba dam in terms of adequacy to meet both countries power demand, one must consider not only possible implications of climate change but also the implications of a rapidly growing population. \n"
   ]
  },
  {
   "cell_type": "code",
   "execution_count": null,
   "id": "2abefbde-5393-4636-a40d-54db5a87fef5",
   "metadata": {},
   "outputs": [],
   "source": []
  }
 ],
 "metadata": {
  "kernelspec": {
   "display_name": "Python 3 (ipykernel)",
   "language": "python",
   "name": "python3"
  },
  "language_info": {
   "codemirror_mode": {
    "name": "ipython",
    "version": 3
   },
   "file_extension": ".py",
   "mimetype": "text/x-python",
   "name": "python",
   "nbconvert_exporter": "python",
   "pygments_lexer": "ipython3",
   "version": "3.12.7"
  }
 },
 "nbformat": 4,
 "nbformat_minor": 5
}
