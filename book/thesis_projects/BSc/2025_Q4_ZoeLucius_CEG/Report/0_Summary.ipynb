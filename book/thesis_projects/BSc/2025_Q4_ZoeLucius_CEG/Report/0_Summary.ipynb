{
 "cells": [
  {
   "cell_type": "markdown",
   "id": "5b81f8fe-7432-4380-a5ee-dd31c576381c",
   "metadata": {},
   "source": [
    "# Summary"
   ]
  },
  {
   "cell_type": "markdown",
   "id": "3a82a1fa-1777-4130-bff1-da53886d94da",
   "metadata": {},
   "source": [
    "This report investigates the possible impacts of climate change on streamflow of the Zambezi river, drought frequency and the reliability of the Kariba dam as a source of energy. The Kariba dam is an integral component of the power supply for both Zambia and Zimbabwe, accounting for over 30% of the energy generating capacity in both countries. Recent droughts have raised concerns regarding the impact of climate change on the dam's ability to provide sufficient power reliably.\n",
    "\n",
    "The report investigates this question by determining the annual power demand of both countries and equating this to an annual average inflow needed of the Zambezi river into lake Kariba. The report relies on the eWaterCycle platform which is an open source that provides easy accessibility to complex hydrological and climate-models used in this report. Using this platform, the HBV mode is calibrated until it is deemed to fit the observed data adequately. Using the calibrated model, historic streamflow is simulated as well as streamflow predictions up until the year 2100 for five different climate scenarios. These five scenarios are the Shared Socio-economic Pathways SSP1-1.9, SSP1-2.6, SSP2-4.5, SSP3-7.0 and SSP 5-8.5 specified by the IPCC.\n",
    "\n",
    "In the result analysis, the historical data and future data predictions are compared to determine the impact of different climate scenarios on the Zambezi river discharge and thus on the reliability of the Kariba dam’s power output. This comparison is done with drought probability density distributions, cumulative probability distribution functions and return periods for each scenario.\n",
    "\n",
    "Although the results of this research are indicative of an increase in the frequency of extreme drought events for future climate scenarios, it cannot be said that the decreasing ability of the Kariba dam to meet its desired power output is solely due to the impacts of climate change. Rather there must be a wider consideration of social-economic factors to fully encompass the struggles the Kariba dam power station is facing. Zambia and Zimbabwe are both highly dependent on power from the dam to meet a large part of their power demand. The Kariba dam, as a hydropower source, has strict limitations in upscaling capacity. The lake Kariba is fed by the Zambezi river and with a specified volume inflow, power output is restricted. To tackle the issues of power shortage, not just the infrastructural resilience to climate change needs to be considered, but also wider infrastructural policy regarding hydropower dependence in the region and an overall low power generation capacity."
   ]
  },
  {
   "cell_type": "code",
   "execution_count": null,
   "id": "d77e0818-682c-411f-8b43-607520beed55",
   "metadata": {},
   "outputs": [],
   "source": []
  }
 ],
 "metadata": {
  "kernelspec": {
   "display_name": "Python 3 (ipykernel)",
   "language": "python",
   "name": "python3"
  },
  "language_info": {
   "codemirror_mode": {
    "name": "ipython",
    "version": 3
   },
   "file_extension": ".py",
   "mimetype": "text/x-python",
   "name": "python",
   "nbconvert_exporter": "python",
   "pygments_lexer": "ipython3",
   "version": "3.12.7"
  }
 },
 "nbformat": 4,
 "nbformat_minor": 5
}
