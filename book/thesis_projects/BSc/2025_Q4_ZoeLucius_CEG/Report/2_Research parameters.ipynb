{
 "cells": [
  {
   "cell_type": "markdown",
   "id": "b22d280a-4778-4ded-9bef-fc6c7c4c1199",
   "metadata": {},
   "source": [
    "# 2 Research Parameters"
   ]
  },
  {
   "cell_type": "markdown",
   "id": "4800b1a2-ddbb-4224-bf78-3cbbb5d5db36",
   "metadata": {},
   "source": [
    "## The Zambezi River and the Kariba Dam"
   ]
  },
  {
   "cell_type": "markdown",
   "id": "61d4e80f-9910-4550-8961-ac8ce904ec20",
   "metadata": {},
   "source": [
    "The Zambezi in southern Africa is the continents fourth longest river, stretching more than 2500km and crossing six national boundaries all the way from the DRC to Mozambique, where it empties into the Indian ocean. The Zambezi drainage basin covers roughly 1.3 million km$^2$, see figure 1, and plays a vital role for the regions ecological system as well as being a lifeline for food, water, and energy security (Zambezi River Authority, n.d.). However the system is highly sensitive to climate variability due to the enormous contrast in the rainy- and dry-season levels of percipitation (Wina et al., 1999). "
   ]
  },
  {
   "attachments": {},
   "cell_type": "markdown",
   "id": "9cebdd10-e5ee-4a10-a05c-dbc52fac136b",
   "metadata": {},
   "source": [
    "<figure>\n",
    "  <img src=\"Figures/Zambezi_Catchment_Area.jpg\" alt=\"Zambezi Catchment Area\">\n",
    "  <figcaption>\n",
    "      Figure 1 - The Zambezi River Catchment (Dube, K., & Nhamo, G. (2023). Evaluating climate change’s impact on hydroelectricity in the Zambezi river basin. *Heliyon*, 9(12), e23235. https://doi.org/10.1016/j.heliyon.2023.e23235)\n",
    "  </figcaption>\n",
    "</figure>"
   ]
  },
  {
   "cell_type": "markdown",
   "id": "db9cc899-3b4b-4835-9805-f1e7bc35617b",
   "metadata": {},
   "source": [
    "Downstream of the upper Zambezi lies the Kariba lake, demarcated by The Kariba dam. The dam was originally built for flood control purposes and later turbines were placed to offer the ability for power generation. Today the dam is equipped with six flood gates and power stations on the north and south side, supplying energy to Zambia and Zimbabwe respectively (Institution of Civil Engineers, n.d.). The Zambezi River Authority (ZRA) is a corporation jointly owned by Zambia and Zimbabwe, and is responsible for operating and maintaining the dam. Annually the ZRA allocates water to ZESCO and the ZPC, the Zambian and Zimbabwean state-owned power companies, based on the current water level of the reservoir and the expected development of the reservoir level that year. Based on this allocation both companies can decide how they wish to ration their power output throughout the year. However due to the systems great climate sensitivity the kariba lake has struggled with water levels too low to yield electricity, while on the other hand wet rainy-seasons quickly lead to the risk of major floodspills. Seasonal rains can swell up the kariba lake up to 20 times the level during dry-season, extremes that  have catastrophic ecological, social, and economic effects (Serpell, 2020). \n",
    "\n"
   ]
  },
  {
   "cell_type": "markdown",
   "id": "55122576-63b5-49a1-81cf-67f7107caa2b",
   "metadata": {},
   "source": [
    "## Determining critical inflow"
   ]
  },
  {
   "cell_type": "markdown",
   "id": "79cd1f91-cb75-4b2b-b31f-37db5c8ebadd",
   "metadata": {},
   "source": [
    "This paper considers the situation where the Zambezi river inflow into the lake is too little to sufficiently generate electricity. To determine this, firstly a critical inflow must be set. The inflow needed to generate sufficient electricity is determined for the north power station, Zambia, and the south power station, Zimbabwe seperately and the final critical inflow is the sum of the two. The catchement data used in this report is from the GRDC data portal, measuring station *Katima Mulilo*, upstream of the victoria falls and the Kariba lake (see figure 1).  \n",
    "\n",
    "The critical inflow is based on the base power demand of both countries and is determined using:\n",
    "\n",
    "$${Q_{crit}} = \\dfrac{P}{{\\eta}{\\rho}{g}{\\Delta}{h}}$$ <p style='text-align: right;'> [Formula 1]\n",
    "\n",
    "Where: <br>\n",
    "P [MW] &nbsp;&nbsp; - &nbsp;&nbsp; average needed power output <br>\n",
    "$\\eta$  [-] &nbsp;&nbsp; - &nbsp;&nbsp; energy conversion efficiency (taken as $\\eta$ = 85%) <br>\n",
    "$\\rho$  [kg/m$^3$] &nbsp;&nbsp; - &nbsp;&nbsp; density of water (taken as $\\rho$ = 1000 kg/m$^3$) <br>\n",
    "g  [m/s$^2$] &nbsp;&nbsp; -  &nbsp;&nbsp; gravitational acceleration (taken as g = 9.81 m/s$^2$) <br>\n",
    "$\\Delta$h  [m] &nbsp;&nbsp; - &nbsp;&nbsp; height from intake to outflow (north side = 88.0m, south side upper outlet = 88.2m, south side lower outlet = 75.8m)\n",
    "\n",
    "The heights are determined based on the height of the kariba dam, the intake levels on the north and both of the south sides, and the outflow level being ten metres above the base of dam, see figure 2 for a diagram of the dam intake levels.\n"
   ]
  },
  {
   "attachments": {},
   "cell_type": "markdown",
   "id": "796ef0c7-d680-4d76-b5e2-f2106488e556",
   "metadata": {},
   "source": [
    "<figure>\n",
    "  <img src=\"Figures/Reservoir_Intake_Levels.jpg\" alt=\"Kariba Dam Intake Levels\">\n",
    "  <figcaption>\n",
    "      Figure 2 - Kariba Dam Intake Levels \n",
    "      (Calamita, E., Vanzo, D., Wehrli, B., & Schmid, M. (2021). Lake modeling reveals management opportunities for improving water quality downstream of transboundary tropical dams. Water Resources Research, 57(4). https://doi.org/10.1029/2020wr027465)\n",
    "  </figcaption>\n",
    "</figure>"
   ]
  },
  {
   "attachments": {},
   "cell_type": "markdown",
   "id": "0e3536f8-e669-4a7f-970a-74bae81b7a7e",
   "metadata": {},
   "source": [
    "The Zambian ministry of energy reports in their *Integrated Resource Plan for the Power Sector in Zambia* (2023) that in 2026 the total annual electricity demandis projected to be 22900 GWh leading to an average output needed of 2615 MW. Currently 82% of electricity generation capacity in Zambia is hydropowered, and the Kariba dam accounts for 34% of the countries total hydropower capacity (Energy Sector – Ministry of Energy, 2023). It is assumed for simplicity that this remains constant. Based on this the minimum power output for Zambian power generation is approximately 730 MW. Using formula 1 results in ${Q_{crit, Zambia}}$ = 993.48 m$^3$/s.\n"
   ]
  },
  {
   "cell_type": "markdown",
   "id": "aeffcad0-5c17-4c5d-a478-a65752688fc2",
   "metadata": {},
   "source": [
    "Zimbabwe has been dealing with systematic energy supply shortages due to demand outweighing the installed generational capacity. The annual electricity demand in 2022 was approximately 2000 MW (World Bank Group, 2023). The Kariba dam, with 1050 MW of installed capacity on the southern power station, accounts for approximately 38% of total electricty generating capacity (SACREEE, 2022). Hence, to meet current demand the Kariba dam must generate 760 MW. It is assumed that the upper and lower outlet generate equal amounts of electricty (Calamita et al., 2021). Again, applying formula 1 results in ${Q_{crit, upper  outlet}}$ = 516.69 m$^3$/s and ${Q_{crit, lower outlet}}$ = 601.21 m$^3$/s."
   ]
  },
  {
   "cell_type": "markdown",
   "id": "cbf3513d-536e-41ed-9ad2-6380c884e72f",
   "metadata": {},
   "source": [
    "The crtical discharge of the Zambezi river to meet both countries average demand is therefor taken as 2110 m$^3$/s"
   ]
  },
  {
   "cell_type": "code",
   "execution_count": null,
   "id": "95916527-ce70-4088-b369-71bc092584cb",
   "metadata": {},
   "outputs": [],
   "source": []
  }
 ],
 "metadata": {
  "kernelspec": {
   "display_name": "Python 3 (ipykernel)",
   "language": "python",
   "name": "python3"
  },
  "language_info": {
   "codemirror_mode": {
    "name": "ipython",
    "version": 3
   },
   "file_extension": ".py",
   "mimetype": "text/x-python",
   "name": "python",
   "nbconvert_exporter": "python",
   "pygments_lexer": "ipython3",
   "version": "3.12.7"
  }
 },
 "nbformat": 4,
 "nbformat_minor": 5
}
