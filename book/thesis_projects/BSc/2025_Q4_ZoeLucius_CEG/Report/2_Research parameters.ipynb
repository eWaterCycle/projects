{
 "cells": [
  {
   "cell_type": "markdown",
   "id": "b22d280a-4778-4ded-9bef-fc6c7c4c1199",
   "metadata": {},
   "source": [
    "# 2 Research Paramters"
   ]
  },
  {
   "cell_type": "markdown",
   "id": "4800b1a2-ddbb-4224-bf78-3cbbb5d5db36",
   "metadata": {},
   "source": [
    "## The Zambezi River Catchement"
   ]
  },
  {
   "cell_type": "markdown",
   "id": "9cebdd10-e5ee-4a10-a05c-dbc52fac136b",
   "metadata": {},
   "source": []
  }
 ],
 "metadata": {
  "kernelspec": {
   "display_name": "Python 3 (ipykernel)",
   "language": "python",
   "name": "python3"
  },
  "language_info": {
   "codemirror_mode": {
    "name": "ipython",
    "version": 3
   },
   "file_extension": ".py",
   "mimetype": "text/x-python",
   "name": "python",
   "nbconvert_exporter": "python",
   "pygments_lexer": "ipython3",
   "version": "3.12.7"
  }
 },
 "nbformat": 4,
 "nbformat_minor": 5
}
