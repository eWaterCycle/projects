{
 "cells": [
  {
   "cell_type": "markdown",
   "id": "59205ccb-d972-4197-8d16-28f2a76f78ff",
   "metadata": {},
   "source": [
    "# Abstract"
   ]
  },
  {
   "cell_type": "markdown",
   "id": "e6c691c0-653d-40c0-8ca5-dd40d7492335",
   "metadata": {},
   "source": [
    "This report is a bachelor thesis project for the BSc in Civil Engineering at the Delft University of Technology. The thesis topic chosen is to explore the impact of climate change on a river of choice. The findings of a literature study and an initial estimation of sufficiency of data availability combined with personal interests specified the topic to the current drought in southern Africa. Due to record-low levels of the Zambezi river the Kariba dam situated on the border of Zambia and Zimbabwe has been forced to reduce its power output significantly, leading to prolonged power outages in both countries. The economic impact is catastrophic and the lack of electricity has severe implications for the livelihoods of both populations.\n",
    "\n",
    "The thesis uses a hydrological model applied to the Zambezi river, to analyse historical river flow and to model future river flow for different climate-scenarios. For each scenario it is concluded how frequent droughts of a particular duration and deficit will be based on the applied analytical models. Of course there needs to be a critical analysis of how reliable the used models are in detecting droughts, predicting the future parameters of the Zambezi river and how well they can take into account all the causes and effects of different climate scenarios. \n",
    "\n",
    "I would like to thank my supervisors Dr. Ir. R.W. Hut and V. Hoogelander, MSc for their guidance throughout the project. I would also like to thank my friends and family for their support throughout the project's timeline. \n",
    "\n",
    "<br>\n",
    "\n",
    "Zoë Lucius\n",
    "\n",
    "Delft, April 2025"
   ]
  },
  {
   "cell_type": "markdown",
   "id": "9ff04958-231b-4f1e-81a1-f3527759c19d",
   "metadata": {},
   "source": []
  }
 ],
 "metadata": {
  "kernelspec": {
   "display_name": "Python 3 (ipykernel)",
   "language": "python",
   "name": "python3"
  },
  "language_info": {
   "codemirror_mode": {
    "name": "ipython",
    "version": 3
   },
   "file_extension": ".py",
   "mimetype": "text/x-python",
   "name": "python",
   "nbconvert_exporter": "python",
   "pygments_lexer": "ipython3",
   "version": "3.12.7"
  }
 },
 "nbformat": 4,
 "nbformat_minor": 5
}
