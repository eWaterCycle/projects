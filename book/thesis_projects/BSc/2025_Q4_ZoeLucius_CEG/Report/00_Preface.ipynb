{
 "cells": [
  {
   "cell_type": "markdown",
   "id": "59205ccb-d972-4197-8d16-28f2a76f78ff",
   "metadata": {},
   "source": [
    "# Preface"
   ]
  },
  {
   "cell_type": "markdown",
   "id": "e6c691c0-653d-40c0-8ca5-dd40d7492335",
   "metadata": {},
   "source": [
    "This report is a bachelor thesis project for the BSc in Civil Engineering at the Delft University of Technology. The thesis topic is to explore the impact of climate change on a river of choice. The topic was then narrowed down to issues the Kariba dam is facing due to the current drought in Southern Africa. The dam is situated on the border of Zambia and Zimbabwe. Record-low levels of the Zambezi river have meant a significant reduction in power output of the Kariba dam, with as effect, prolonged power outages in both countries. The economic impact is significant and the lack of electricity has severe implications for the livelihoods of both populations.\n",
    "\n",
    "I would like to thank my supervisors Dr. Ir. R.W. Hut, V. Hoogelander, MSc and Ir. M. Melotto, for their guidance throughout the project. I would also like to thank my friends and family for their support throughout the project's timeline.\n",
    "\n",
    "<br>\n",
    "\n",
    "Zoë Lucius\n",
    "\n",
    "Delft, April 2025"
   ]
  },
  {
   "cell_type": "code",
   "execution_count": null,
   "id": "e1876faf-4cdc-4ca0-a3e2-c77bf8f90c86",
   "metadata": {},
   "outputs": [],
   "source": []
  }
 ],
 "metadata": {
  "kernelspec": {
   "display_name": "Python 3 (ipykernel)",
   "language": "python",
   "name": "python3"
  },
  "language_info": {
   "codemirror_mode": {
    "name": "ipython",
    "version": 3
   },
   "file_extension": ".py",
   "mimetype": "text/x-python",
   "name": "python",
   "nbconvert_exporter": "python",
   "pygments_lexer": "ipython3",
   "version": "3.12.7"
  }
 },
 "nbformat": 4,
 "nbformat_minor": 5
}
