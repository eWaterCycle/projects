{
 "cells": [
  {
   "cell_type": "markdown",
   "id": "1663ef46-a804-4f11-a89e-8fe990559779",
   "metadata": {},
   "source": [
    "# 8 Discussion"
   ]
  },
  {
   "cell_type": "markdown",
   "id": "53d6a910-3eab-49cd-b27f-7a2d0e9a4081",
   "metadata": {},
   "source": [
    "## Research Limitations"
   ]
  },
  {
   "cell_type": "markdown",
   "id": "b3b0bd60-1c34-4f64-9180-eb91817e60d6",
   "metadata": {},
   "source": [
    "As with any research, conclusions that can be drawn based on the gained insights are limited by the assumptions made and the methodology applied. These limitations are discussed in this section. \n",
    "\n",
    "The drought analyser developed, is based on a number of simplifications made regarding the systems water balance. This is done in consideration of either data availability or computational restrictions within the scope of this research. First, it is assumed that no spills will take place in the data period. Should the lake fill up towards the maximum operating level again, in years of high rain-fall, spills of the dam can be significant and certainly have implications for the amount of inflow needed to generate the annual power demand. \n",
    "\n",
    "This directly leads to a second limitation in the drought analyser. The drought analyser developed marks all years where the sum of the cumulative inflow is insufficient, as a drought, suggesting that power demand cannot be met. However, if prior years have had adequate rainfall, the lake may have higher water levels and the lakes reserves can be used to meet the power demand. To account for this, ideally, the research would also have the dam’s outflow data and a known volume-height relationship of the water level in the dam. With this data, the water level of the lake could be modelled dynamically, alongside the drought analyser, in order to determine the power output possible based also on the water-level present at the lake. Only when considering the volume level present at the lake can it really be concluded whether or not in a year the dam can deliver adequate power. \n",
    "\n",
    "Furthermore, the research uses the HBV model, and one ensemble within this model, to simulate the observed discharge. To be able to make more certain conclusions the process would have to be repeated using varying hydrological models and multiple ensembles within each model type. Additionally, the parameter calibration takes place in a nine-dimensional space. In order to optimize such a complex space the parameter set should be tested with more than N=2000 parameter sets. Due to computational limitations, this is not done in this research. \n",
    "Moreover, in the result analysis it is chosen to use quantile mapping to improve the simulation of the modelled return periods in relation to the observed return periods. However, with relatively little historic data points it is difficult to say if the detected bias in the plotted return periods is due to a systematic bias in the model or if the droughts detected are simply not an accurate representation of the long-term trend. This same quantile mapping is then applied to the return periods of the simulated future simulated droughts even though it is unsure if this bias is a model constant. This is something to be critical of and for future research to improve upon with the availability of more data. \n",
    "\n",
    "Lastly, there is the unavoidable issue of trying to model climate related mechanisms with relatively short data sets. In order to consider long-term natural climate phenomena a much longer data set is needed. This was a limitation in the ERA5 and CMIP6 data but also in the available measurement observations. With limited detected droughts in the historic period it is especially difficult to draw conclusions regarding the historic return periods of certain drought events.\n"
   ]
  },
  {
   "cell_type": "markdown",
   "id": "12199e05-d356-49a7-be57-ad476e89a44d",
   "metadata": {},
   "source": [
    "## 8.2 Returning to the (sub-) Research Questions"
   ]
  },
  {
   "cell_type": "markdown",
   "id": "d88ba097-8f93-4eef-88d2-de53555ae4f1",
   "metadata": {},
   "source": [
    "The aim of this research was to provide an insight into the impact of climate change on the streamflow of the Zambezi river and particularly the implications of this for the adequacy of power delivery of the Kariba dam. In this chapter the (sub-)research questions will be discussed and limitations of the research in answering these questions will be highlighted.  \n",
    "\n",
    "The first sub-question states What minimum discharge level (upstream) is needed for the Kariba dam to be able to supply a minimum electricity demand for both Zambia and Zimbabwe? In answering this question, the annual power demand is translated directly into a required inflow at the lake Kariba. As already discussed in Section 8.1, a more complete drought analysis would need to dynamically simulate the height of the lake, alongside the in- and out-flow, to be able to say anything regarding the ability to meet power demand.\n",
    "\n",
    "The second sub-question states How frequently is this minimum discharge currently exceeded? This question is difficult to answer due to limited available data. When analysing directly the observed historic data, known drought periods are detected well. However, the time frame of data available for both the ERA5 data and the CMIP6 data is much shorter than the observed data set. In the modelled historic dataset it is difficult to conclude a current return period and drought frequency due to limited data points. Analysing drought frequency for a time period with only a handful of droughts simply sets limitations on the conclusions that can be drawn from the derived data set. \n",
    "\n",
    "The third sub-question asked, states Based on five climate scenarios how frequently can we expect exceedance of the minimum discharge level in the future? The research is indicative that for each climate scenario there is an increase in the occurrence of extreme drought events. Particularly SSP5-8.5 shows a strong change in trends when compared to the historical data. However, between the remaining SSPs, no strong conclusions can be made regarding differences in drought return frequencies for droughts detected with this drought algorithm. Additionally, the climate scenarios are simulated using just one hydrological model and one ensemble member. This process would have to be repeated many times for different models and ensembles to make more conclusive statements regarding this sub-question.\n",
    "\n",
    "The last sub-question links back to the main research question and states What are the implications of this on adequacy of power supply from the Kariba dam for the populations of Zambia and Zimbabwe? Though definitive conclusions regarding drought return frequencies of different scenarios cannot be made, it is clear that the system is highly susceptible to the negative impacts of climate change. The Zambezi river has a highly volatile streamflow making dependence on it for power generation risky. This will be true for the future as it has been for the past. With an increased expectance of extreme droughts, along with other social-economic factors, it is critical that this region looks to other sources of energy to meet its power demand.\n"
   ]
  },
  {
   "cell_type": "code",
   "execution_count": null,
   "id": "e4466909-3c2e-48c2-8e9c-b99b1f9699d7",
   "metadata": {},
   "outputs": [],
   "source": []
  }
 ],
 "metadata": {
  "kernelspec": {
   "display_name": "Python 3 (ipykernel)",
   "language": "python",
   "name": "python3"
  },
  "language_info": {
   "codemirror_mode": {
    "name": "ipython",
    "version": 3
   },
   "file_extension": ".py",
   "mimetype": "text/x-python",
   "name": "python",
   "nbconvert_exporter": "python",
   "pygments_lexer": "ipython3",
   "version": "3.12.7"
  }
 },
 "nbformat": 4,
 "nbformat_minor": 5
}
