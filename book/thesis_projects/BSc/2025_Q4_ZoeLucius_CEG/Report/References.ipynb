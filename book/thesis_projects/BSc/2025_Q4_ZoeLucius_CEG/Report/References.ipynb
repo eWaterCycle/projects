{
 "cells": [
  {
   "cell_type": "markdown",
   "id": "582b7792-4c52-4b95-8ff2-83ee8aa32ec5",
   "metadata": {},
   "source": [
    "# References"
   ]
  },
  {
   "cell_type": "markdown",
   "id": "7a00ebd9-2a56-4e65-9bb5-33d8c243fb58",
   "metadata": {},
   "source": [
    "Africa – Countries & Regions - IEA. (2022). IEA. Retrieved May 6, 2025, from https://www.iea.org/regions/africa/emissions"
   ]
  },
  {
   "cell_type": "markdown",
   "id": "c358f64b-e361-4c16-ab62-e6effea7171a",
   "metadata": {},
   "source": [
    "Calamita, E., Vanzo, D., Wehrli, B., & Schmid, M. (2021). Lake modeling reveals management opportunities for improving water quality downstream of transboundary tropical dams. Water Resources Research, 57(4). https://doi.org/10.1029/2020wr027465"
   ]
  },
  {
   "cell_type": "markdown",
   "id": "5ddff299-68ea-4f10-8c7a-9357eaac98ac",
   "metadata": {},
   "source": [
    "Drought worsens crisis in Southern Africa. (2024, April 19). The Joint Research Centre: EU Science Hub. https://joint-research-centre.ec.europa.eu/jrc-news-and-updates/drought-worsens-crisis-southern-africa-2024-04-19_en"
   ]
  },
  {
   "cell_type": "markdown",
   "id": "31b59750-5426-400a-8aa3-fbcfd449e302",
   "metadata": {},
   "source": [
    "Dube, K., & Nhamo, G. (2023). Evaluating climate Change’s impact on hydroelectricity in the Zambezi river basin. Heliyon, 9(12), e23235. https://doi.org/10.1016/j.heliyon.2023.e23235"
   ]
  },
  {
   "cell_type": "markdown",
   "id": "4aebd2cc-97ec-45d3-9211-21514b33ad20",
   "metadata": {},
   "source": [
    "Energy sector – Ministry of Energy. (2023). https://www.moe.gov.zm/?page_id=2198"
   ]
  },
  {
   "cell_type": "markdown",
   "id": "7024cf31-0aea-4111-81c9-cd133b457e63",
   "metadata": {},
   "source": [
    "GRDC Data Portal. (n.d.). https://portal.grdc.bafg.de/applications/public.html?publicuser=PublicUser#dataDownload/Stations"
   ]
  },
  {
   "cell_type": "markdown",
   "id": "c9d35a89-e034-4c61-a4e7-5f56387a79c6",
   "metadata": {},
   "source": [
    "Institution of Civil Engineers. (n.d.). Kariba dam. Institution of Civil Engineers (ICE). https://www.ice.org.uk/what-is-civil-engineering/infrastructure-projects/kariba-dam"
   ]
  },
  {
   "cell_type": "markdown",
   "id": "c1e077d3-da4d-4831-b686-1a8fc7940bdc",
   "metadata": {},
   "source": [
    "Intergovernmental Panel on Climate Change. (2023). Summary for policymakers. In Core Writing Team, H. Lee, & J. Romero (Eds.), Climate change 2023: Synthesis report. Contribution of Working Groups I, II and III to the Sixth Assessment Report of the Intergovernmental Panel on Climate Change (pp. 1–34). IPCC. https://doi.org/10.59327/IPCC/AR6-9789291691647.001"
   ]
  },
  {
   "cell_type": "markdown",
   "id": "11f10667-6fe4-4374-9260-f351155d1eef",
   "metadata": {},
   "source": [
    "Ministry of Energy & UK International Development. (2023). Integrated Resource Plan for the Power sector in Zambia. In Summary Report. Ministry of Energy. https://www.moe.gov.zm/wp-content/uploads/2023/12/IRP-Summary-Report_2023.12.05_Final.pdf"
   ]
  },
  {
   "cell_type": "markdown",
   "id": "97dcbddb-e669-4dd0-8272-5fe6dad222df",
   "metadata": {},
   "source": [
    "SACREEE. (2022). Zimbabwe | SACREEE Community. SACREEE -  Member States. https://www.sacreee.org/member-state/zimbabwe"
   ]
  },
  {
   "cell_type": "markdown",
   "id": "d9c99e81-588f-4b69-aa30-674cca732cd4",
   "metadata": {},
   "source": [
    "Serpell, N. (2020, July 25). Learning from the Kariba Dam. New York Times. https://www.nytimes.com/interactive/2020/07/22/magazine/zambia-kariba-dam.html"
   ]
  },
  {
   "cell_type": "markdown",
   "id": "4fd7c966-b8a9-4e9e-b979-62c606eb2ff3",
   "metadata": {},
   "source": [
    "Statista. (2024, March 21). Population of Africa as a share of global population 2020-2050. https://www.statista.com/statistics/1224632/population-of-africa-as-a-share-of-global-population/"
   ]
  },
  {
   "cell_type": "markdown",
   "id": "0e6c206e-9224-46b5-9a20-4a05920ba566",
   "metadata": {},
   "source": [
    "University of Notre Dame. (2022). ND-GAIN Country Index Rankings. Notre Dame Global Adaptation Initiative. Retrieved May 6, 2025, from https://gain.nd.edu/our-work/country-index"
   ]
  },
  {
   "cell_type": "markdown",
   "id": "e0ed9fbc-2988-4360-9711-2d2b3d97b955",
   "metadata": {},
   "source": [
    "Wina, NL, A., Money, & J, N. (1999, July 26). Zambezi River | Physical features. Encyclopedia Britannica. https://www.britannica.com/place/Zambezi-River/Climate"
   ]
  },
  {
   "cell_type": "markdown",
   "id": "70b6ba8c-58bb-4080-85ed-def89959a39d",
   "metadata": {},
   "source": [
    "World Bank Group. (2023). Country Economic Update: Electrifying Zimbabwe’s Growth Through Reliable and Universal Energy Access. In World Bank. https://www.worldbank.org/en/country/zimbabwe/publication/country-economic-update-electrifying-zimbabwe-s-growth-through-reliable-and-universal-energy-access"
   ]
  },
  {
   "cell_type": "markdown",
   "id": "18a180bb-8b56-47a6-ac01-9953f483c061",
   "metadata": {},
   "source": [
    "Zambezi River Authority. (n.d.). https://www.zambezira.org/"
   ]
  },
  {
   "cell_type": "markdown",
   "id": "4448733d-d7c6-4064-8462-3cc8d675bce0",
   "metadata": {},
   "source": []
  }
 ],
 "metadata": {
  "kernelspec": {
   "display_name": "Python 3 (ipykernel)",
   "language": "python",
   "name": "python3"
  },
  "language_info": {
   "codemirror_mode": {
    "name": "ipython",
    "version": 3
   },
   "file_extension": ".py",
   "mimetype": "text/x-python",
   "name": "python",
   "nbconvert_exporter": "python",
   "pygments_lexer": "ipython3",
   "version": "3.12.7"
  }
 },
 "nbformat": 4,
 "nbformat_minor": 5
}
