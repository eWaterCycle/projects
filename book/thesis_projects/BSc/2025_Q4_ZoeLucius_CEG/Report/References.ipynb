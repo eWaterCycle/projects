{
 "cells": [
  {
   "cell_type": "markdown",
   "id": "582b7792-4c52-4b95-8ff2-83ee8aa32ec5",
   "metadata": {},
   "source": [
    "# References"
   ]
  },
  {
   "cell_type": "markdown",
   "id": "7a00ebd9-2a56-4e65-9bb5-33d8c243fb58",
   "metadata": {},
   "source": [
    "Africa – Countries & Regions – International Energy Agency. (2022). IEA. https://www.iea.org/regions/africa/emissions \n",
    "\n",
    "Calamita, E., Vanzo, D., Wehrli, B., & Schmid, M. (2021). Lake modeling reveals management opportunities for improving water quality downstream of transboundary tropical dams. Water Resources Research, 57(4). https://doi.org/10.1029/2020wr027465 \n",
    "\n",
    "ClimateData.ca. (2025, February 28). Understanding Shared Socio-economic Pathways (SSPs) — ClimateData.ca. https://climatedata.ca/resource/understanding-shared-socio-economic-pathways-ssps/ \n",
    "\n",
    "Department of Economic and Social Affairs. (2024). World Population Prospects. United Nations. https://population.un.org/wpp/graphs?loc=2087&type=Probabilistic%20Projections&category=Population&subcategory=1_Total%20Population \n",
    "\n",
    "Dube, K., & Nhamo, G. (2023). Evaluating climate Change’s impact on hydroelectricity in the Zambezi river basin. Heliyon, 9(12), e23235. https://doi.org/10.1016/j.heliyon.2023.e23235 \n",
    "\n",
    "Energy sector – Ministry of Energy. (2023). https://www.moe.gov.zm/?page_id=2198 \n",
    "Fleming, A. (2021, February). Kariba Dam - Hydrology and power generation. WesternPower. https://observablehq.com/@westernpower/kariba \n",
    "\n",
    "GRDC Data Portal. https://portal.grdc.bafg.de/applications/public.html?publicuser=PublicUser#dataDownload/Stations \n",
    "\n",
    "Hamududu, B., & Killingtveit, Å. (2016). Hydropower production in future climate scenarios; The case for the Zambezi River. Energies, 9(7), 502. https://doi.org/10.3390/en9070502 \n",
    "\n",
    "Harris, M. (2019, September 2). ZRA selects Razel-Bec to perform dam safety improvements at Africa’s Kariba Dam. Factor ThisTM. https://www.renewableenergyworld.com/hydro-power/dams-civil-structures/zra-selects-razel-bec-to-perform-dam-safety-improvements-at-africa-s-kariba-dam/ \n",
    "\n",
    "Hersbach, H., Bell, B., Berrisford, P., Hirahara, S., Horányi, A., Muñoz‐Sabater, J., Nicolas, J., Peubey, C., Radu, R., Schepers, D., Simmons, A., Soci, C., Abdalla, S., Abellan, X., Balsamo, G., Bechtold, P., Biavati, G., Bidlot, J., Bonavita, M., . . . Thépaut, J. (2020). The ERA5 global reanalysis. Quarterly Journal of the Royal Meteorological Society, 146(730), 1999–2049. https://doi.org/10.1002/qj.3803 \n",
    "Hisham (2024). GM - Population - Dataset - V8 [Dataset]. In Online Google Docs (Version V8). Gapminder. https://docs.google.com/spreadsheets/d/11qDjnPu2BlFFegwpPl3CcyZtfiYT4R2seU_IcIcJkHM/edit?gid=501532268#gid=501532268 \n",
    "\n",
    "Hulsman, P., Savenije, H. H., & Hrachowitz, M. (2021). Satellite-based drought analysis in the Zambezi River Basin: Was the 2019 drought the most extreme in several decades as locally perceived? Journal of Hydrology Regional Studies, 34, 100789. https://doi.org/10.1016/j.ejrh.2021.100789  \n",
    "\n",
    "Hut, R., Drost, N., Van De Giesen, N., Van Werkhoven, B., Abdollahi, B., Aerts, J., Albers, T., Alidoost, F., Andela, B., Camphuijsen, J., Dzigan, Y., Van Haren, R., Hutton, E., Kalverla, P., Van Meersbergen, M., Van Den Oord, G., Pelupessy, I., Smeets, S., Verhoeven, S., . . . Weel, B. (2022). The eWaterCycle platform for open and FAIR hydrological collaboration. Geoscientific Model Development, 15(13), 5371–5390. https://doi.org/10.5194/gmd-15-5371-2022 \n",
    "\n",
    "ILEC TWAP Lakes Portal. https://ilec.lakes-sys.com/portals/lake_detail/15/0 \n",
    "Intergovernmental Panel on Climate Change. (2023). Summary for policymakers. In Core Writing Team, H. Lee, & J. Romero (Eds.), Climate change 2023: Synthesis report. Contribution of Working Groups I, II and III to the Sixth Assessment Report of the Intergovernmental Panel on Climate Change (pp. 1–34). IPCC. https://doi.org/10.59327/IPCC/AR6-9789291691647.001 \n",
    "\n",
    "Kling, H., Fuchs, M., & Paulin, M. (2012). Runoff conditions in the upper Danube basin under an ensemble of climate change scenarios. Journal of Hydrology, 424–425, 264–277. https://doi.org/10.1016/j.jhydrol.2012.01.011 \n",
    "\n",
    "Lindström G., Johansson B., Persson M., Gardelin M. & Bergström S. 1997 Development and test of the distributed HBV-96 hydrological model. Journal of Hydrology 201, 272–288. https://doi.org/10.1016/S0022-1694(97)00041-3. \n",
    "\n",
    "Ministry of Energy & UK International Development. (2023). Integrated Resource Plan for the Power sector in Zambia. In Summary Report. Ministry of Energy. https://www.moe.gov.zm/wp-content/uploads/2023/12/IRP-Summary-Report_2023.12.05_Final.pdf \n",
    "\n",
    "Muguti, E., Kulemeka, N., Ndinya, E., ONEC2/SARC, Negash, E., Rugamba, A., & Mbekeani, K. (2015). PROJECT: KARIBA DAM REHABILITATION PROJECT. African Development Bank Group. https://www.afdb.org/fileadmin/uploads/afdb/Documents/Environmental-and-Social-Assessments/Multinational_-_Kariba_Dam_Rehabilitation_Project_-__ESIA_Summary_-_11_2015.pdf \n",
    "\n",
    "SACREEE. (2022). Zimbabwe | SACREEE Community. SACREEE -  Member States. https://www.sacreee.org/member-state/zimbabwe\n",
    "\n",
    "Shagega, F. P., Munishi, S. E., & Kongo, V. M. (2019). Assessment of potential impacts of climate change on water resources in Ngerengere catchment, Tanzania. Physics and Chemistry of the Earth Parts a/B/C, 116, 102804. https://doi.org/10.1016/j.pce.2019.11.001 \n",
    "\n",
    "Southern Africa: El Niño Regional Humanitarian Overview, September 2024. (2024, September 20). OCHA. https://www.unocha.org/publications/report/mozambique/southern-africa-el-nino-regional-humanitarian-overview-september-2024 \n",
    "\n",
    "Statista. (2024, March 21). Population of Africa as a share of global population 2020-2050. https://www.statista.com/statistics/1224632/population-of-africa-as-a-share-of-global-population/ \n",
    "\n",
    "University of Notre Dame. (2022). ND-GAIN Country Index Rankings. Notre Dame Global Adaptation Initiative. Retrieved May 6, 2025, from https://gain.nd.edu/our-work/country-index \n",
    "\n",
    "Wina, NL, A., Money, & J, N. (1999, July 26). Zambezi River | Physical features. Encyclopedia Britannica. https://www.britannica.com/place/Zambezi-River/Climate \n",
    "\n",
    "World Bank Group. (2023). Country Economic Update: Electrifying Zimbabwe’s Growth Through Reliable and Universal Energy Access. In World Bank. https://www.worldbank.org/en/country/zimbabwe/publication/country-economic-update-electrifying-zimbabwe-s-growth-through-reliable-and-universal-energy-access \n",
    "\n",
    "World Meteorological Organization. (2025, May 12). Extreme weather and climate change impacts hit Africa hard [Press release]. WMO. https://wmo.int/news/media-centre/extreme-weather-and-climate-change-impacts-hit-africa-hard \n",
    "\n",
    "World Meteorological Organization. (2025). State of the climate in Africa 2024. In E-library WMO. WMO. https://library.wmo.int/idurl/69495 \n",
    "\n",
    "Zambezi River Authority. (n.d.). https://www.zambezira.org/ \n",
    "\n",
    "Zambezi River Basin | GRID-Arendal. (n.d.). https://www.grida.no/resources/5207 \n",
    "\n",
    "Zimbabwe Power Company. (n.d.). Kariba South Power Station. https://www.zpc.co.zw/powerstations/2/kariba-south-power-station \n"
   ]
  }
 ],
 "metadata": {
  "kernelspec": {
   "display_name": "Python 3 (ipykernel)",
   "language": "python",
   "name": "python3"
  },
  "language_info": {
   "codemirror_mode": {
    "name": "ipython",
    "version": 3
   },
   "file_extension": ".py",
   "mimetype": "text/x-python",
   "name": "python",
   "nbconvert_exporter": "python",
   "pygments_lexer": "ipython3",
   "version": "3.12.7"
  }
 },
 "nbformat": 4,
 "nbformat_minor": 5
}
