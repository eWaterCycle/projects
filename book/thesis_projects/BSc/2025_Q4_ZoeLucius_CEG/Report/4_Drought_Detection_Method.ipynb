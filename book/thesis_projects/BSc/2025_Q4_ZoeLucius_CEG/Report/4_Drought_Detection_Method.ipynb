{
 "cells": [
  {
   "cell_type": "markdown",
   "id": "b8d26af9-140b-4336-b287-ef896322c7fe",
   "metadata": {},
   "source": [
    "# 4 Drought Detection Method"
   ]
  },
  {
   "cell_type": "markdown",
   "id": "7138e781-c135-45b8-a42a-3c268c6424d3",
   "metadata": {},
   "source": [
    "## 4.1 Description of the Drought Analyser"
   ]
  },
  {
   "cell_type": "markdown",
   "id": "3d8de998-25d6-4fcc-b603-e6902dc29c26",
   "metadata": {},
   "source": [
    "A drought analysis model is set up to determine whether the Zambezi inflow in a year is sufficient to generate the desired annual power demand.  To do this, a water-year is defined, meaning the time period between which a hydraulic cycle takes place. The start of the water year for the Zambezi river is found using the observed discharge data. The flow data over a 56-year period is analysed to find where the increase in flow typically begin. This is found to be on average the 304th day in a calendar year.\n",
    "\n",
    "\n",
    "The essence of the drought analyser algorithm is to determine per water-year if the inflow surplus above Qcrit is more or less than the deficit below Qcrit. This tells us if the dam has had sufficient inflow that year to generate the annual electricity demand. A visualisation of this drought analysis is seen in Figure 4.1. The drought detecting algorithm can be found in Appendix B. \n"
   ]
  },
  {
   "cell_type": "markdown",
   "id": "9e579062-7dfd-4cb3-a74a-9651bfe58681",
   "metadata": {},
   "source": [
    "<figure>\n",
    "  <img src=\"Figures/Visualization_Drought_Analyser.jpg\">\n",
    "  <figcaption>\n",
    "      Figure 4.1 - Simplified Visualisation of the Drought Algorithm for one Water-year (by author)\n",
    "  </figcaption>\n",
    "</figure>"
   ]
  },
  {
   "cell_type": "markdown",
   "id": "f83e4803-d2d4-442d-b1d7-219298b22de2",
   "metadata": {},
   "source": [
    "For this drought analyser a few assumptions are made, which are elaborated in this section. The components included in the drought analyser are represented in the simple water balance set up for the system, seen in Figure 4.2. "
   ]
  },
  {
   "cell_type": "markdown",
   "id": "88f9c75c-deec-4ee5-b5ce-41ad0985c088",
   "metadata": {},
   "source": [
    "<figure>\n",
    "  <img src=\"Figures/WaterBalance.jpg\">\n",
    "  <figcaption>\n",
    "      Figure 4.2 - Water balance Kariba lake (by author)\n",
    "  </figcaption>\n",
    "</figure>"
   ]
  },
  {
   "cell_type": "markdown",
   "id": "9f1bf5b5-38ee-4bab-97ae-d17574885be5",
   "metadata": {},
   "source": [
    "Firstly, the Katima Mulilo measuring station is located circa 250 km north of the Zambezi inflow to the Kariba lake. This is unfortunate for the uncertainty in determining the actual inflow at the lake. However, due to the absence of accessible data from a more suitable measuring station, and the fact that there are only minor inflows into the upper catchment after this station, the report assumes these inflows are negligible. Furthermore, it must be recognized that the station accounts for the inflow of only the upper catchment. As Figure 2.2 shows there is also a portion of the lower Zambezi catchment that flows into Kariba. It is taken that the upper catchment accounts for 79% of the area’s total run-off into the lake (Fleming, 2021). \n",
    "\n",
    "The mean annual evaporation of the lake is 1.56m (Zambezi River Authority, n.d). Assuming a lake area of 5259 km2, the mean annual evaporation is 260.15 m3/s (ILEC TWAP Lakes Portal). Since the timing of this evaporation throughout the year is not relevant for the drought analyser, it is assumed to have a constant rate.\n",
    "\n",
    "In terms of flood control spills of the dam, it is known that in the period from 1977 to 2007, spillage averaged 6 km3/year or 190.25 m3/s. However, the flood gates have not opened since 2013, owing to the low water levels of recent years. Lacking data regarding outflow, spill periods, or a known volume-height relationship of water level at the dam,  spills will not be considered in the analysis. As the current level of the lake is nearing minimum operating level, and the research is identifying years in which annual inflow will be too low to generate electricity, it is considered unlikely that in these years significant spills will take place that need to be accounted for.\n",
    "\n",
    "Lastly, it must be noted that the power generation outflow is not taken as an input for the analyses. Rather it is considered if with the given inflow, a minimum outflow can be realized to meet the power demand. \n"
   ]
  },
  {
   "cell_type": "markdown",
   "id": "5e4ab960-e70c-40e2-8538-9b53bd17ff89",
   "metadata": {},
   "source": [
    "## 4.2 Determining Critical Flow at Katima Mulilo"
   ]
  },
  {
   "cell_type": "markdown",
   "id": "b855676b-eb89-46dd-bd9c-40a9ebd75c85",
   "metadata": {},
   "source": [
    "The critical flow, Q$_{crit}$, at Katima Mulilo, required to meet Q$_{power}$ at Lake Kariba needs to be determined based on the aforementioned factors. This is done by applying Equation 4. "
   ]
  },
  {
   "cell_type": "markdown",
   "id": "29864e0c-c868-4a41-b6f4-79d628ebc941",
   "metadata": {
    "jp-MarkdownHeadingCollapsed": true
   },
   "source": [
    "$${Q_{crit}} = \\alpha {Q_{power,i}} + E$$ <p style='text-align: right;'> [Equation 4]\n",
    "\n",
    "Where: <br>\n",
    "$\\alpha$ [-] &nbsp;&nbsp; - &nbsp;&nbsp; Area factor accounting for the ratio between the upper and lower catchment area (identified as $\\alpha$ = 0,79) <br>\n",
    "$Q_{power,i}$ [m$^3$/s]&nbsp;&nbsp; - &nbsp;&nbsp; Required inflow at Kariba lake for sufficient power output <br>\n",
    "$E$ [m$^3$/s] &nbsp;&nbsp; - &nbsp;&nbsp; Evaporation rate (E = 260.15 m$^3$/s) <br>"
   ]
  },
  {
   "cell_type": "markdown",
   "id": "1c65b1a4-8052-4547-8f6d-c3e3fbc3bbea",
   "metadata": {},
   "source": [
    "With these assumptions, the critical inflow at Katima Mulilo is Qcrit = 1466.68 m3/s."
   ]
  },
  {
   "cell_type": "markdown",
   "id": "58a27bf2-4504-4e84-9910-306db4adb3c3",
   "metadata": {},
   "source": [
    "## 4.3 Drought Classification"
   ]
  },
  {
   "cell_type": "markdown",
   "id": "47f1ee7d-0d5b-47cf-98d4-e642ee8963f9",
   "metadata": {},
   "source": [
    "The drought analyser is applied, with Qcrit as threshold, to the historical data. Based on the droughts detected from 1986 until 2019 drought severity categories are chosen based on the power deficit as percentage of the total demand. The maximum deficit of the lowest 40th percentile is the threshold for a mild power deficit, the 40th to 80th percentile is considered a major power deficit and the highest 20th percentile is considered a critical power deficit. The classifications are summarized in Table 3."
   ]
  },
  {
   "cell_type": "markdown",
   "id": "6c53127f-60e3-4400-acce-101deb7b4a3b",
   "metadata": {},
   "source": [
    "<figure>\n",
    "  <img src=\"Figures/Tabel3.jpg\">\n",
    "  <figcaption>\n",
    "      Table 3 – Classification of drought severity for power supply\n",
    "  </figcaption>\n",
    "</figure>"
   ]
  },
  {
   "cell_type": "markdown",
   "id": "24dc0e06-01b3-4bdb-b307-c68f5c8a4f7a",
   "metadata": {},
   "source": [
    "## 4.4 Detecting Past Droughts"
   ]
  },
  {
   "cell_type": "markdown",
   "id": "c95678bd-cfc6-4c8a-9dbe-672900059dd6",
   "metadata": {},
   "source": [
    "The outcome of the drought analyser for the observed historical data is shown in Table 4. "
   ]
  },
  {
   "cell_type": "markdown",
   "id": "43718eda-248d-4345-b864-7a1452f0a204",
   "metadata": {},
   "source": [
    "$${KGE} = 1 - \\sqrt{(r-1)^2 + (\\frac{\\mu_{sim}}{\\mu_{obs}} - 1)^2 + (\\frac{\\sigma_{sim}/\\mu_{sim}}{\\sigma_{obs}/\\mu_{obs}} - 1)^2}$$\n",
    "\n",
    "<p style='text-align: right;'> [Equation 3]\n",
    "\n",
    "\n",
    "Where: <br>\n",
    "$r$ &nbsp;&nbsp; - &nbsp;&nbsp; Correlation coefficient <br>\n",
    "$\\mu_{sim/obs}$ &nbsp;&nbsp; - &nbsp;&nbsp; Mean runoff of the simulated/observed discharge <br>\n",
    "$\\sigma_{sim/obs}$ &nbsp;&nbsp; - &nbsp;&nbsp; Standard deviation of the simulated/observed discharge <br>"
   ]
  },
  {
   "cell_type": "markdown",
   "id": "11b340cf-14e8-4245-aa44-bf2e393f4727",
   "metadata": {},
   "source": [
    "The water-years which are marked as high and critical, match with dry spells Hulsman et al. (2021) identified in their study based on precipitation in the region. This suggests the drought analyser works roughly as anticipated. Droughts detected as mild may have had implications for power supply at some points throughout the year but were not critical in terms of precipitation in the region. "
   ]
  },
  {
   "cell_type": "code",
   "execution_count": null,
   "id": "d611212c-36f0-441b-9a3f-ca4669e06902",
   "metadata": {},
   "outputs": [],
   "source": []
  }
 ],
 "metadata": {
  "kernelspec": {
   "display_name": "Python 3 (ipykernel)",
   "language": "python",
   "name": "python3"
  },
  "language_info": {
   "codemirror_mode": {
    "name": "ipython",
    "version": 3
   },
   "file_extension": ".py",
   "mimetype": "text/x-python",
   "name": "python",
   "nbconvert_exporter": "python",
   "pygments_lexer": "ipython3",
   "version": "3.12.7"
  }
 },
 "nbformat": 4,
 "nbformat_minor": 5
}
