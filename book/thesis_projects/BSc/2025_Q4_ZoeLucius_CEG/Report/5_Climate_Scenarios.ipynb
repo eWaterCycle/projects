{
 "cells": [
  {
   "cell_type": "markdown",
   "id": "b8d26af9-140b-4336-b287-ef896322c7fe",
   "metadata": {},
   "source": [
    "# 5 Climate Scenarios"
   ]
  },
  {
   "cell_type": "markdown",
   "id": "41be5e64-f40b-42c2-8936-678e7f275616",
   "metadata": {},
   "source": [
    "In this chapter, future streamflow is simulated with the calibrated HBV model described in Chapter 3. The report will be simulating future data using Coupled Model Intercomparison Project Phase 6 (CMIP6) generated forcing input. To avoid errors between ERA5 and CMIP6 forcings the historical data will also be modelled with CMIP6 input data. \n",
    "The process of running the calibrated HBV model with CMIP6 forcings is provided in Appendix C.\n"
   ]
  },
  {
   "cell_type": "markdown",
   "id": "7138e781-c135-45b8-a42a-3c268c6424d3",
   "metadata": {},
   "source": [
    "## 5.1 Describing the Climate Scenarios"
   ]
  },
  {
   "cell_type": "markdown",
   "id": "3d8de998-25d6-4fcc-b603-e6902dc29c26",
   "metadata": {},
   "source": [
    "The report will be modelling the river discharge for five Shared Socioeconomic Pathways (SSPs) as specified by the IPCC. Each future scenario is modelled from 2026 until 2100. An overview of the chosen climate scenarios is provided in Table 5. "
   ]
  },
  {
   "cell_type": "markdown",
   "id": "9e579062-7dfd-4cb3-a74a-9651bfe58681",
   "metadata": {},
   "source": [
    "<figure>\n",
    "  <figcaption>\n",
    "      Table 5 – Overview of the chosen SSPs (ClimateData.ca, 2025)\n",
    "  </figcaption>\n",
    "  <img src=\"Figures/Tabel5.jpg\">\n",
    "</figure>"
   ]
  },
  {
   "cell_type": "markdown",
   "id": "5e4ab960-e70c-40e2-8538-9b53bd17ff89",
   "metadata": {},
   "source": [
    "## 5.2 Simulating Historic Discharge"
   ]
  },
  {
   "cell_type": "markdown",
   "id": "b855676b-eb89-46dd-bd9c-40a9ebd75c85",
   "metadata": {},
   "source": [
    "To simulate historic discharge, the HBV model is run with the same calibrated parameters, this time using CMIP6 forcings as input. The modelled discharge compared to the observed data is shown in Figure 5.1. The HBV modelled streamflow with CMIP6 forcings shows no extreme outliers in the period around 1990, verifying that there is most likely a discrepancy in the ERA5 data and not in the parameters determined in the calibration. The HBV model with CMIP6 forcings shows a good understanding of the Zambezi discharge at Katima Mulilo. "
   ]
  },
  {
   "cell_type": "markdown",
   "id": "fdcf8dd5-3a3d-49b8-8bb2-6bbfbeb1b384",
   "metadata": {},
   "source": [
    "<figure>\n",
    "  <img src=\"Figures/Simulated discharge using CMIP6 forcings.jpg\">\n",
    "  <figcaption>\n",
    "      Figure 5.1 - Simulated discharge using CMIP6 forcings\n",
    "  </figcaption>\n",
    "</figure>"
   ]
  },
  {
   "cell_type": "markdown",
   "id": "1c65b1a4-8052-4547-8f6d-c3e3fbc3bbea",
   "metadata": {},
   "source": [
    "To compare the current drought occurrence to that of varying SSPs, a quantification of drought frequency is required. Therefore, the return periods are plotted. Figure 5.2 shows the plotted return periods for the observed and modelled historic discharge."
   ]
  },
  {
   "cell_type": "markdown",
   "id": "7f3709b6-a1f2-48d2-bcbf-774ee1745e0b",
   "metadata": {},
   "source": [
    "<figure>\n",
    "  <img src=\"Figures/Observed, modelled and corrected return period for historic simulated discharge.jpg\">\n",
    "  <figcaption>\n",
    "      Figure 5.2 - Observed, modelled and corrected return period for historic simulated discharge\n",
    "  </figcaption>\n",
    "</figure>"
   ]
  },
  {
   "cell_type": "markdown",
   "id": "63d96e4d-f73b-4e0b-b818-ecc4c0d89420",
   "metadata": {},
   "source": [
    "The plot shows that the modelled CMIP6 forcings are not yet simulating the observed return periods well. To correct the apparent bias in the model, quantile mapping is used. Quantile mapping is the method of replacing each modelled value with its equivalent percentile value in the observed data. A function is made to describe the mapping that takes place. Assuming the biases in the model are constant, modelled return periods for the future climate scenarios are scaled to the same quantile levels using this function. The outcome of the corrected historic return period is depicted also in Figure 5.2.  The process used for developing the quantile mapping function is provided in Appendix D."
   ]
  },
  {
   "cell_type": "markdown",
   "id": "58a27bf2-4504-4e84-9910-306db4adb3c3",
   "metadata": {},
   "source": [
    "## 5.3\tSimulating Future Discharge "
   ]
  },
  {
   "cell_type": "markdown",
   "id": "47f1ee7d-0d5b-47cf-98d4-e642ee8963f9",
   "metadata": {},
   "source": [
    "With the same CMIP6 generated forcings and calibrated parameters, the HBV model is run for the five specified SSPs. A visualisation of the discharge simulated by the HBV model is seen in Figure 5.3 for the historic period 2000 to 2015 and the future predictions for 2026 to 2041. Due to visibility considerations it is chosen not to depict the entirety of the simulated periods."
   ]
  },
  {
   "cell_type": "markdown",
   "id": "6c53127f-60e3-4400-acce-101deb7b4a3b",
   "metadata": {},
   "source": [
    "<figure>\n",
    "  <img src=\"Figures/Historic and SSPs Modelled Discharge.jpg\">\n",
    "  <figcaption>\n",
    "      Figure 5.3  - Historic and SSPs Modelled Discharge\n",
    "  </figcaption>\n",
    "</figure>"
   ]
  },
  {
   "cell_type": "markdown",
   "id": "c95678bd-cfc6-4c8a-9dbe-672900059dd6",
   "metadata": {},
   "source": [
    "Additionally, the drought analyser function is run over the simulated discharge for each SSP scenario. The detected number of droughts per scenario, per classification is shown in Table 6. However, seeing as the time period for the historical data spans only 28 years, while the predictions for the SSPs span a 73-year period, no conclusions can be drawn directly from this table."
   ]
  },
  {
   "cell_type": "markdown",
   "id": "43718eda-248d-4345-b864-7a1452f0a204",
   "metadata": {},
   "source": [
    "<figure>\n",
    "  <figcaption>\n",
    "      Table 6: Number of detected droughts per classification for each SSP scenario\n",
    "  </figcaption>\n",
    "  <img src=\"Figures/Tabel6.jpg\">\n",
    "</figure>"
   ]
  }
 ],
 "metadata": {
  "kernelspec": {
   "display_name": "Python 3 (ipykernel)",
   "language": "python",
   "name": "python3"
  },
  "language_info": {
   "codemirror_mode": {
    "name": "ipython",
    "version": 3
   },
   "file_extension": ".py",
   "mimetype": "text/x-python",
   "name": "python",
   "nbconvert_exporter": "python",
   "pygments_lexer": "ipython3",
   "version": "3.12.7"
  }
 },
 "nbformat": 4,
 "nbformat_minor": 5
}
