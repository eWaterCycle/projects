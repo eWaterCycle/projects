{
 "cells": [
  {
   "cell_type": "markdown",
   "id": "b8d26af9-140b-4336-b287-ef896322c7fe",
   "metadata": {},
   "source": [
    "# 3 The HBV model"
   ]
  },
  {
   "cell_type": "markdown",
   "id": "7138e781-c135-45b8-a42a-3c268c6424d3",
   "metadata": {},
   "source": [
    "## 3.1 Justification of the Hydrological Model"
   ]
  },
  {
   "cell_type": "markdown",
   "id": "3d8de998-25d6-4fcc-b603-e6902dc29c26",
   "metadata": {},
   "source": [
    "Similar studies have shown that an application of the Hydrologiska Byråns Vattenbalansavdelning (HBV) model is suitable for the Zambezi river basin and areas of a similar climate (Hamududu & Killingtveit, 2016; Shagega et al., 2019). The HBV model is also available on the eWaterCycle platform which makes it suitable for this research."
   ]
  },
  {
   "cell_type": "markdown",
   "id": "9e579062-7dfd-4cb3-a74a-9651bfe58681",
   "metadata": {},
   "source": [
    "<figure>\n",
    "  <img src=\"Figures/hbv_model_label.png\">\n",
    "  <figcaption>\n",
    "      Figure 3.1 - HBV model structure (M. Hrachowits, n.d)\n",
    "  </figcaption>\n",
    "</figure>"
   ]
  },
  {
   "cell_type": "markdown",
   "id": "f83e4803-d2d4-442d-b1d7-219298b22de2",
   "metadata": {},
   "source": [
    "The HBV model is of a simple bucket structure and requires little parameter inputs (Lindström G., et al., 1997). A visualisation of the model is shown in Figure 3.1. The model requires a specification of the exact catchment area, a range of climate-related input data and nine parameters to be estimated. The nine parameters are listed below in Table 1."
   ]
  },
  {
   "cell_type": "markdown",
   "id": "88f9c75c-deec-4ee5-b5ce-41ad0985c088",
   "metadata": {},
   "source": [
    "<figure>\n",
    "  <figcaption>\n",
    "      Tabel 1: Parameters to be estimated for the HBV model\n",
    "  </figcaption>\n",
    "  <img src=\"Figures/Tabel1.jpg\"></center>\n",
    "</figure>"
   ]
  },
  {
   "cell_type": "markdown",
   "id": "9f1bf5b5-38ee-4bab-97ae-d17574885be5",
   "metadata": {},
   "source": [
    "These parameters are optimized to best fit the observed data. The model is calibrated and validated with a 80/20 split. Considering the time range of the available ERA5 dataset the model is calibrated with the period 1 January 1986 to 31 December 2012 and validated for the period 1 January 2013 to 31 December 2019."
   ]
  },
  {
   "cell_type": "markdown",
   "id": "5e4ab960-e70c-40e2-8538-9b53bd17ff89",
   "metadata": {},
   "source": [
    "## 3.2 Calibrating the HBV Model"
   ]
  },
  {
   "cell_type": "markdown",
   "id": "b855676b-eb89-46dd-bd9c-40a9ebd75c85",
   "metadata": {},
   "source": [
    "The historical data for which the HBV model is calibrated and validated is daily discharge data from measuring station Katima Mulilo, provided by the GRDC data portal (2023). The location of this measuring station is upstream of the Kariba Lake as marked in Figure 2.2. For the full process of calibrating the HBV model refer to Appendix A. \n",
    "\n",
    "The HBV model requires inputs which are retrieved from the ERA5 data set. ERA5 is a global climate reanalysis data set made available by the European Centre for Medium Range Weather  Forecasts (ECMWF). The data estimates a range of climate related variables needed for the HBV model from 1940 to the present (Hersbach et al., 2020). The HBV model uses the ERA5 generated precipitation, surface air temperature and shortwave radiation for the catchment area. The potential evapotranspiration is calculated by applying the Makkink equation to the generated ERA5 forcings. The generated ERA5 data appeared to have some corruptions in the period from 1988 to 1992. To avoid large variations in the calibrated HBV model, the ERA5 data is linearly interpolated at the location of these outliers. The initial ERA5 generated forcings and the interpolated results are shown in Figure 3.2 and 3.3 respectively."
   ]
  },
  {
   "cell_type": "markdown",
   "id": "29864e0c-c868-4a41-b6f4-79d628ebc941",
   "metadata": {
    "jp-MarkdownHeadingCollapsed": true
   },
   "source": [
    "<figure>\n",
    "  <img src=\"Figures/Initial_ERA5_generated_forcings.jpg\">\n",
    "  <figcaption>\n",
    "      Figure 3.2 - Initial ERA5 generated forcings\n",
    "  </figcaption>\n",
    "</figure>\n",
    "\n",
    "<figure>\n",
    "  <img src=\"Figures/Linearly_interpolated_ERA5_Forcings.png\">\n",
    "  <figcaption>\n",
    "      Figure 3.3 - Initial ERA5 generated forcings\n",
    "  </figcaption>\n",
    "</figure>"
   ]
  },
  {
   "cell_type": "markdown",
   "id": "1c65b1a4-8052-4547-8f6d-c3e3fbc3bbea",
   "metadata": {},
   "source": [
    "Using the interpolated ERA5 generated forcings, two fitting methods are attempted to calibrate the HBV model; the root mean square error method and the Kling Gupta efficiency. For both methods, N=2000 random values, within the realistic bounds for each parameter, are tested as parameters for the HBV model. The model fit and parameter combination that is found to best simulate the observed data in the calibration period is then validated over the stipulated validation period."
   ]
  },
  {
   "cell_type": "markdown",
   "id": "58a27bf2-4504-4e84-9910-306db4adb3c3",
   "metadata": {},
   "source": [
    "### 3.2.1 Root Mean Square Error "
   ]
  },
  {
   "cell_type": "markdown",
   "id": "47f1ee7d-0d5b-47cf-98d4-e642ee8963f9",
   "metadata": {},
   "source": [
    "The root mean square error (RMSE) method calculates the absolute square difference between the modelled fit and the observed fit. For N parameter sets the RMSE is calculated, using Equation 2. The RMSE values can range from 0 to ∞, where a RMSE of 0 represents a perfect fit. The parameter set for which the RMSE is the smallest is saved as the most optimal parameter set found."
   ]
  },
  {
   "cell_type": "markdown",
   "id": "6c53127f-60e3-4400-acce-101deb7b4a3b",
   "metadata": {},
   "source": [
    "$${RMSE} = \\sqrt {\\dfrac{\\sum_{0}^{n-1}(O_{i}-S_{i})^2}{{n}}}$$\n",
    "\n",
    "<p style='text-align: right;'> [Equation 2]\n",
    "\n",
    "\n",
    "Where: <br>\n",
    "$O_{i}$ &nbsp;&nbsp; - &nbsp;&nbsp; Observed discharge for data point i <br>\n",
    "$S_{i}$ &nbsp;&nbsp; - &nbsp;&nbsp; Simulated discharge for data point i <br>\n",
    "$n$ &nbsp;&nbsp; - &nbsp;&nbsp; Number of data points <br>"
   ]
  },
  {
   "cell_type": "markdown",
   "id": "24dc0e06-01b3-4bdb-b307-c68f5c8a4f7a",
   "metadata": {},
   "source": [
    "### 3.2.2 Kling-Gupta Efficiency (KGE) "
   ]
  },
  {
   "cell_type": "markdown",
   "id": "c95678bd-cfc6-4c8a-9dbe-672900059dd6",
   "metadata": {},
   "source": [
    "The Kling-Gupta Efficiency (KGE) method is a model fit used in the hydrologic sciences partly due to its ease of computation (Kling et al., 2012). It is computed using Equation 3 and the values can range from -∞ to 1, where 1 is a perfect fit. The KGE value is determined also for N=2000 parameters sets and the parameter set with the highest KGE score is again saved as the most optimal parameter set found."
   ]
  },
  {
   "cell_type": "markdown",
   "id": "43718eda-248d-4345-b864-7a1452f0a204",
   "metadata": {},
   "source": [
    "$${KGE} = 1 - \\sqrt{(r-1)^2 + (\\frac{\\mu_{sim}}{\\mu_{obs}} - 1)^2 + (\\frac{\\sigma_{sim}/\\mu_{sim}}{\\sigma_{obs}/\\mu_{obs}} - 1)^2}$$\n",
    "\n",
    "<p style='text-align: right;'> [Equation 3]\n",
    "\n",
    "\n",
    "Where: <br>\n",
    "$r$ &nbsp;&nbsp; - &nbsp;&nbsp; Correlation coefficient <br>\n",
    "$\\mu_{sim/obs}$ &nbsp;&nbsp; - &nbsp;&nbsp; Mean runoff of the simulated/observed discharge <br>\n",
    "$\\sigma_{sim/obs}$ &nbsp;&nbsp; - &nbsp;&nbsp; Standard deviation of the simulated/observed discharge <br>"
   ]
  },
  {
   "cell_type": "markdown",
   "id": "c130bf97-4ea5-4cc9-ac9f-7b4916226800",
   "metadata": {},
   "source": [
    "## 3.3 Calibration and Validation Results"
   ]
  },
  {
   "cell_type": "markdown",
   "id": "4a1ab854-36b5-4040-8a10-071cd27dc905",
   "metadata": {},
   "source": [
    "In running the HBV model with both optimized parameter sets it was clear that the parameters determined with the KGE fitting, better simulated the observed data. The parameters found in the KGE model fit calibration are shown in Table 2. The KGE value of the HBV modelled discharge with these parameters, relative to the observed data, is calculated using Equation 3 to be 0.71. This is indicative for a strong model fit."
   ]
  },
  {
   "cell_type": "markdown",
   "id": "b46f0324-0f06-420f-829e-326b1906a2e1",
   "metadata": {},
   "source": [
    "<figure>\n",
    "  <figcaption>\n",
    "      Tabel 2: Calibrated parameter values for the HBV model\n",
    "  </figcaption>\n",
    "  <img src=\"Figures/Tabel2.jpg\">\n",
    "</figure>"
   ]
  },
  {
   "cell_type": "markdown",
   "id": "96f05045-2d54-4076-9b09-3b5833354dc3",
   "metadata": {},
   "source": [
    "Using this parameter set, the HBV model is run for the calibration and validation period. The initial results are graphed in Figure 3.4. The Figure shows an unrealistic peak in discharge around 1990, including distortions of the model around that time period. As mentioned, this indicates there may be a fault in the ERA5 forcing data that is disproportionately influencing the HBV model. To get a better visualisation of the model accuracy, the data period from 09 January 1987 until 09 May 1992 is stricken from the data. It is chosen to keep the short data period before 1987 because it means having extra data points in the result analysis to determine the return periods of droughts. Figure 3.5 shows the simulated and observed discharge without this period. The model shows a slight underestimation of peak discharges. However, the dry periods are simulated accurately which is critical for the research question. Overall, the calibrated model demonstrates a good ability to simulate the discharge also for the validation period. "
   ]
  },
  {
   "cell_type": "markdown",
   "id": "717f8836-62b1-4f44-b09b-811b5e7933b0",
   "metadata": {},
   "source": [
    "<figure>\n",
    "  <img src=\"Figures/Initial simulated discharge.jpg\">\n",
    "  <figcaption>\n",
    "      Figure 3.4 - Initial simulated discharge\n",
    "  </figcaption>\n",
    "</figure>\n",
    "\n",
    "<figure>\n",
    "  <img src=\"Figures/Simulated discharge outliers exlcuded.jpg\">\n",
    "  <figcaption>\n",
    "      Figure 3.5 - Simulated discharge, outliers excluded\n",
    "  </figcaption>\n",
    "</figure>"
   ]
  },
  {
   "cell_type": "code",
   "execution_count": null,
   "id": "d611212c-36f0-441b-9a3f-ca4669e06902",
   "metadata": {},
   "outputs": [],
   "source": []
  }
 ],
 "metadata": {
  "kernelspec": {
   "display_name": "Python 3 (ipykernel)",
   "language": "python",
   "name": "python3"
  },
  "language_info": {
   "codemirror_mode": {
    "name": "ipython",
    "version": 3
   },
   "file_extension": ".py",
   "mimetype": "text/x-python",
   "name": "python",
   "nbconvert_exporter": "python",
   "pygments_lexer": "ipython3",
   "version": "3.12.7"
  }
 },
 "nbformat": 4,
 "nbformat_minor": 5
}
