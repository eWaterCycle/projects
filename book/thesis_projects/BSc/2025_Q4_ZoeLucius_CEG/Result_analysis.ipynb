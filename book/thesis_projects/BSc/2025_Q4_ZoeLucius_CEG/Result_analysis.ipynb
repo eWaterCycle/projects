{
 "cells": [
  {
   "cell_type": "markdown",
   "id": "b7995d21-7896-4975-a1cb-8477abfe0b82",
   "metadata": {},
   "source": [
    "# Result analysis"
   ]
  },
  {
   "cell_type": "markdown",
   "id": "f1f59ab7-67c3-4044-a413-327f0e71f39f",
   "metadata": {},
   "source": [
    "## Setting up the kernel"
   ]
  },
  {
   "cell_type": "code",
   "execution_count": 12,
   "id": "29364810-cb40-4166-8c1f-d37e872bcd97",
   "metadata": {},
   "outputs": [],
   "source": [
    "import warnings\n",
    "warnings.filterwarnings(\"ignore\", category=UserWarning)\n",
    "\n",
    "import numpy as np\n",
    "import pandas as pd\n",
    "import matplotlib.pyplot as plt\n",
    "import xarray as xr\n",
    "import ewatercycle\n",
    "import ewatercycle.models\n",
    "import ewatercycle.forcing\n",
    "import seaborn as sns\n",
    "\n",
    "\n",
    "from rich import print\n",
    "from tqdm import tqdm\n",
    "from pathlib import Path\n",
    "from ewatercycle_DA import DA\n",
    "from datetime import datetime\n",
    "from scipy.stats import qmc\n",
    "from ipywidgets import IntProgress"
   ]
  },
  {
   "cell_type": "markdown",
   "id": "cb39a66b-f540-4f9e-90c0-e66f21c5bab2",
   "metadata": {},
   "source": [
    "## Loading in observed data"
   ]
  },
  {
   "cell_type": "code",
   "execution_count": 2,
   "id": "95330d31-39f1-400e-99ba-fcfbfe6ca493",
   "metadata": {},
   "outputs": [],
   "source": [
    "# Loading in discharge data from Katima Mulilo\n",
    "katima = (pd.read_csv('Katima_Mulilo/1291100_Q_Day.txt', skiprows=35, delimiter=';', header=1)\n",
    "          .drop(columns=['hh:mm'])\n",
    "          .rename(columns={\"YYYY-MM-DD\": \"Date\", \" Value\": \"Discharge [m^3/s]\"}))\n",
    "\n",
    "# Creating a dataframe with accessible dates and no invalid data \n",
    "katima['Date'] = pd.to_datetime(katima['Date'])\n",
    "katima['Discharge [m^3/s]'] = katima['Discharge [m^3/s]'].replace(-999.000, np.nan)\n",
    "\n",
    "# Defining the data period\n",
    "start_calibration = '1986-01-01'\n",
    "end_calibration = '2012-12-31'\n",
    "\n",
    "# Reducing the dataframe to the calibration period\n",
    "km = katima[(katima['Date'] >= start_calibration) & (katima['Date'] <= end_calibration)]\n",
    "\n",
    "# Creating a dataframe of the flow data \n",
    "flow = pd.DataFrame(data=km['Discharge [m^3/s]'].values, index=km['Date'], columns=['Q'])"
   ]
  },
  {
   "cell_type": "markdown",
   "id": "7acb588a-2e79-4181-a178-25ff99e992c4",
   "metadata": {},
   "source": [
    "## Loading in needed functions"
   ]
  },
  {
   "cell_type": "code",
   "execution_count": 10,
   "id": "082b0c9c-2fb8-4885-b10f-242f12028bd1",
   "metadata": {},
   "outputs": [],
   "source": [
    "# The HBV model returns values in mm/day so in order to compare this to the observed data it must b converted to m^3/s\n",
    "catchment_area_km2 = 334882.8\n",
    "\n",
    "def mmday_to_m3s(Q_sim_mmday, area_km2):\n",
    "    return (Q_sim_mmday * area_km2) / 86.4"
   ]
  },
  {
   "cell_type": "code",
   "execution_count": 67,
   "id": "52c0896a-0fb4-4ebe-8973-1edd5f13ee64",
   "metadata": {},
   "outputs": [],
   "source": [
    "from Drought_Function import analyse_annual_deficits_MW"
   ]
  },
  {
   "cell_type": "markdown",
   "id": "c58fae6f-2dd0-4071-8da8-8f4afb43af67",
   "metadata": {},
   "source": [
    "## Defining the experiment dates and file paths"
   ]
  },
  {
   "cell_type": "code",
   "execution_count": 3,
   "id": "63bd4da6-9b16-498d-adb7-c53c1be2711a",
   "metadata": {},
   "outputs": [],
   "source": [
    "# Defining the data period\n",
    "start_historic = '1986-11-01'\n",
    "end_historic = '2017-10-31'\n",
    "\n",
    "future_data_start = '2026-11-01'\n",
    "future_data_end = '2099-10-31' \n",
    "\n",
    "start_hydro_year = 1987\n",
    "end_hydro_year = 2014\n",
    "\n",
    "start_future_hydro_year = 2027\n",
    "end_future_hydro_year = 2099"
   ]
  },
  {
   "cell_type": "code",
   "execution_count": 6,
   "id": "028684d1-6d17-4ef3-aaee-89983322865f",
   "metadata": {},
   "outputs": [],
   "source": [
    "# defining path for catchment shape file\n",
    "km_shp = Path.home() / \"BEP-Zoe/book/thesis_projects/BSc/2025_Q4_ZoeLucius_CEG\" /  \"km_ERA5\" / \"km.shp\"\n",
    "\n",
    "# defining destination path for CMIP data\n",
    "CMIP_folder = Path.home() / \"CMIP\"\n",
    "CMIP_folder.mkdir(exist_ok=True)\n",
    "\n",
    "# model HBV destination path\n",
    "HBV_model_path = Path.home() / \"HBV_model\" / \"CMIP\"\n",
    "HBV_model_path.mkdir(exist_ok=True)\n",
    "\n",
    "# Loading in CMIP6 forcings\n",
    "CMIP_historic = CMIP_folder / \"scen_historic\" / \"work\" / \"diagnostic\" / \"script\" \n",
    "historic = ewatercycle.forcing.sources[\"LumpedMakkinkForcing\"].load(directory=CMIP_historic)\n",
    "\n",
    "CMIP_119 = CMIP_folder / \"scen_119\" / \"work\" / \"diagnostic\" / \"script\" \n",
    "SSP119 = ewatercycle.forcing.sources[\"LumpedMakkinkForcing\"].load(directory=CMIP_119)\n",
    "\n",
    "CMIP_126 = CMIP_folder / \"scen_126\" / \"work\" / \"diagnostic\" / \"script\" \n",
    "SSP126 = ewatercycle.forcing.sources[\"LumpedMakkinkForcing\"].load(directory=CMIP_126)\n",
    "\n",
    "CMIP_245 = CMIP_folder / \"scen_245\" / \"work\" / \"diagnostic\" / \"script\" \n",
    "SSP245 = ewatercycle.forcing.sources[\"LumpedMakkinkForcing\"].load(directory=CMIP_245)\n",
    "\n",
    "CMIP_370 = CMIP_folder / \"scen_370\" / \"work\" / \"diagnostic\" / \"script\" \n",
    "SSP370 = ewatercycle.forcing.sources[\"LumpedMakkinkForcing\"].load(directory=CMIP_370)\n",
    "\n",
    "CMIP_585 = CMIP_folder / \"scen_585\" / \"work\" / \"diagnostic\" / \"script\" \n",
    "SSP585 = ewatercycle.forcing.sources[\"LumpedMakkinkForcing\"].load(directory=CMIP_585)"
   ]
  },
  {
   "cell_type": "markdown",
   "id": "cce0b81d-2fe9-455a-a4bd-9155fe56f809",
   "metadata": {},
   "source": [
    "## Giving the input parameters"
   ]
  },
  {
   "cell_type": "code",
   "execution_count": 7,
   "id": "1e5bd68c-76e0-4973-9e13-420b1d714c12",
   "metadata": {},
   "outputs": [],
   "source": [
    "# Applying the parameters found in the KGE model fit calibration\n",
    "params_KGE = [5.65179127, 0.27593564, 779.15056566, 2.45298864, 0.04682875, 1.3263829, 0.01356608, 0.0070803, 0.48990002]\n",
    "\n",
    "# Define the initial state parameters (Si,  Su, Sf, Ss, Sp)\n",
    "s_0 = np.array([0,  100,  0,  5,  0])"
   ]
  },
  {
   "cell_type": "markdown",
   "id": "0cc83ea1-28a7-4f24-845e-528e4427b158",
   "metadata": {},
   "source": [
    "## Running the HBV model for each scenario"
   ]
  },
  {
   "cell_type": "code",
   "execution_count": 8,
   "id": "5d7b61dd-f423-4f97-94a4-d05f146ed172",
   "metadata": {},
   "outputs": [],
   "source": [
    "forcing_list = [historic, SSP119, SSP126, SSP245, SSP370, SSP585]\n",
    "output = []\n",
    "years = []\n",
    "\n",
    "for forcings in forcing_list:\n",
    "    model = ewatercycle.models.HBV(forcing=forcings)\n",
    "    config_file, _ = model.setup(\n",
    "        parameters=params_KGE, \n",
    "        initial_storage=s_0,\n",
    "        cfg_dir = HBV_model_path)\n",
    "\n",
    "    model.initialize(config_file)\n",
    "\n",
    "    Q_m = []\n",
    "    time = []\n",
    "    \n",
    "    while model.time < model.end_time:\n",
    "        model.update()\n",
    "        Q_m.append(model.get_value(\"Q\")[0])\n",
    "        time.append(pd.Timestamp(model.time_as_datetime))\n",
    "        \n",
    "    output.append(Q_m)\n",
    "    years.append(time)\n",
    "    \n",
    "    del Q_m, time\n",
    "    model.finalize()"
   ]
  },
  {
   "cell_type": "markdown",
   "id": "96800cca-58bc-4b35-a425-95fe756f2c1d",
   "metadata": {},
   "source": [
    "## Visualising the HBV model outputs per scenario"
   ]
  },
  {
   "cell_type": "code",
   "execution_count": 112,
   "id": "734f13f6-6a22-44e7-a32a-9d9839bd1bca",
   "metadata": {},
   "outputs": [],
   "source": [
    "# Load output data\n",
    "historic_output = pd.DataFrame(data=output[0], index=years[0], columns=['Q'])\n",
    "SSP119_output = pd.DataFrame(data=output[1], index=years[1], columns=['Q'])\n",
    "SSP126_output = pd.DataFrame(data=output[2], index=years[2], columns=['Q'])\n",
    "SSP245_output = pd.DataFrame(data=output[3], index=years[3], columns=['Q'])\n",
    "SSP370_output = pd.DataFrame(data=output[4], index=years[4], columns=['Q'])\n",
    "SSP585_output = pd.DataFrame(data=output[5], index=years[5], columns=['Q'])\n",
    "\n",
    "# Convert mm/d to m3/s\n",
    "factor = catchment_area_km2 / 86.4\n",
    "historic_output['Q'] *= factor\n",
    "SSP119_output['Q'] *= factor\n",
    "SSP126_output['Q'] *= factor\n",
    "SSP245_output['Q'] *= factor\n",
    "SSP370_output['Q'] *= factor\n",
    "SSP585_output['Q'] *= factor"
   ]
  },
  {
   "cell_type": "code",
   "execution_count": null,
   "id": "38cc8f08-c24f-48d2-bd06-047b2697b60e",
   "metadata": {},
   "outputs": [],
   "source": []
  }
 ],
 "metadata": {
  "kernelspec": {
   "display_name": "Python 3 (ipykernel)",
   "language": "python",
   "name": "python3"
  },
  "language_info": {
   "codemirror_mode": {
    "name": "ipython",
    "version": 3
   },
   "file_extension": ".py",
   "mimetype": "text/x-python",
   "name": "python",
   "nbconvert_exporter": "python",
   "pygments_lexer": "ipython3",
   "version": "3.12.7"
  }
 },
 "nbformat": 4,
 "nbformat_minor": 5
}
