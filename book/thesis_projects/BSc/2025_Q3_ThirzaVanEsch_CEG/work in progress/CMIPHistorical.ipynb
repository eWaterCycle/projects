{
 "cells": [
  {
   "cell_type": "code",
   "execution_count": null,
   "id": "7c995fc7-5727-49b4-93f0-55a950e8d4af",
   "metadata": {},
   "outputs": [],
   "source": []
  },
  {
   "cell_type": "markdown",
   "id": "e70d01b1-6587-4518-b717-d7028d6a3a74",
   "metadata": {},
   "source": [
    "# Future frequency of threshold exceedance under different climate change scenarios"
   ]
  },
  {
   "cell_type": "markdown",
   "id": "1f9e18ba-8f6b-44a6-94e5-cd271066b266",
   "metadata": {},
   "source": [
    "In this chapter the future frequency of threshold exceendance is determined. This is done using different climate change scenarios, which are implemented in the HBV model. The HBV model is calibrated in Chapter 4"
   ]
  },
  {
   "cell_type": "code",
   "execution_count": 1,
   "id": "641706cd-5a6c-48b9-8f50-077d80d31b34",
   "metadata": {
    "ExecuteTime": {
     "end_time": "2024-03-07T14:21:32.492461800Z",
     "start_time": "2024-03-07T14:21:31.890843300Z"
    }
   },
   "outputs": [],
   "source": [
    "# general python\n",
    "import warnings\n",
    "warnings.filterwarnings(\"ignore\", category=UserWarning)\n",
    "\n",
    "import numpy as np\n",
    "from pathlib import Path\n",
    "import pandas as pd\n",
    "import matplotlib.pyplot as plt\n",
    "import xarray as xr\n",
    "\n",
    "#niceties\n",
    "from rich import print\n",
    "import seaborn as sns\n",
    "sns.set()"
   ]
  },
  {
   "cell_type": "code",
   "execution_count": 2,
   "id": "bae5bcfe-dc36-4718-9550-2799b5f84bca",
   "metadata": {
    "ExecuteTime": {
     "end_time": "2024-03-07T14:21:34.475126400Z",
     "start_time": "2024-03-07T14:21:32.537461400Z"
    }
   },
   "outputs": [],
   "source": [
    "# general eWaterCycle\n",
    "import ewatercycle\n",
    "import ewatercycle.models\n",
    "import ewatercycle.forcing"
   ]
  },
  {
   "cell_type": "markdown",
   "id": "753b4273-a3ed-4327-8642-85aac64b09c9",
   "metadata": {},
   "source": [
    "# Choose region and time period: \n",
    "Of course we need to change the time period to some future period covered by CMIP"
   ]
  },
  {
   "cell_type": "code",
   "execution_count": 3,
   "id": "c0685992-cc36-47cd-852a-9cf359fcad7e",
   "metadata": {},
   "outputs": [],
   "source": [
    "camelsgb_id = \"lamah_208082\""
   ]
  },
  {
   "cell_type": "code",
   "execution_count": 4,
   "id": "0fb81ac3-d6ad-461f-992f-ae3a1c16453e",
   "metadata": {
    "ExecuteTime": {
     "end_time": "2024-03-07T14:21:34.567126600Z",
     "start_time": "2024-03-07T14:21:34.567126600Z"
    }
   },
   "outputs": [],
   "source": [
    "experiment_start_date = \"1981-08-01T00:00:00Z\"\n",
    "experiment_end_date = \"2018-01-01T00:00:00Z\""
   ]
  },
  {
   "cell_type": "markdown",
   "id": "5ee806f4-4355-4856-ab75-bf7b2b650615",
   "metadata": {},
   "source": [
    "# CMIP dataset information\n",
    "The CMIP project is immense... It requires either intimate knowledge of how the climate community works and stores their data, or someone in that community a phonecall away, to make sure you know which data you really want.\n",
    "\n",
    "In eWaterCycle we use [ESMValTool](https://esmvaltool.org/) to generate forcing, which gives us the oppertunity to on the fly download CMIP (and other climate) data from available ESGF nodes around the world, provided we know exactly \"how to ask\". As eWaterCycle user you have to provide a dictionary like the one below as input to the ```ewatercycle.forcing.generate()``` to get the data you want."
   ]
  },
  {
   "cell_type": "code",
   "execution_count": 12,
   "id": "339b12fe-acb5-4428-a4d2-089e3e76a6e7",
   "metadata": {},
   "outputs": [],
   "source": [
    "cmip_dataset =  {\n",
    "    'project': 'CMIP6',\n",
    "    'activity': 'ScenarioMIP',\n",
    "    'exp': 'historical',\n",
    "    'mip': 'day',\n",
    "    'dataset': 'MPI-ESM1-2-HR',\n",
    "    'ensemble': 'r1i1p1f1',\n",
    "    'institute': 'DKRZ',\n",
    "    'grid': 'gn'\n",
    "}"
   ]
  },
  {
   "cell_type": "markdown",
   "id": "21382002-424b-4080-8a1c-2ca922b72635",
   "metadata": {},
   "source": [
    "#### Set up paths\n",
    "Below we change the forcing path from ERA5 to CMIP"
   ]
  },
  {
   "cell_type": "code",
   "execution_count": 13,
   "id": "188054c5-efb3-411e-ad0c-2362266fb3a0",
   "metadata": {},
   "outputs": [],
   "source": [
    "forcing_path_caravan = Path.home() / \"forcing\" / camelsgb_id / \"caravan\"\n",
    "forcing_path_caravan.mkdir(exist_ok=True, parents=True)\n",
    "\n",
    "prepared_forcing_path_caravan_central = Path(\"/data/eurocsdms-data/forcing/lamah_208082/caravan\")\n",
    "\n",
    "# forcing_path_CMIP = Path.home() / \"forcing\" / camelsgb_id / \"CMIP\"  \n",
    "forcing_path_CMIP = Path(\"/home/thirza/forcing/lamah_208082/CMIP\")\n",
    "forcing_path_CMIP.mkdir(exist_ok=True)\n",
    "\n",
    "#prepared_forcing_path_ERA5_central = Path(\"/data/eurocsdms-data/forcing/camelsgb_73010/ERA5\")"
   ]
  },
  {
   "cell_type": "markdown",
   "id": "04279ce9-55ed-434f-a8f3-3e71afd30bd8",
   "metadata": {},
   "source": [
    "# Generate CMIP Forcing\n",
    "In contrast to the first notebook, here we generate the CMIP data (since that is what this notebook is about). Note that the only thing that changes from the ERA5 forcing of the previous notebook is that instead of ```dataset = \"ERA5\"``` we now pass the dictionary with CMIP information: ```dataset = cmip_dataset```"
   ]
  },
  {
   "cell_type": "code",
   "execution_count": 14,
   "id": "7bb77124-5fef-410a-86df-f72aa6cb8215",
   "metadata": {},
   "outputs": [],
   "source": [
    "# # option one: generate forcing data\n",
    "# camelsgb_forcing = ewatercycle.forcing.sources['CaravanForcing'].generate(\n",
    "#     start_time=experiment_start_date,\n",
    "#     end_time=experiment_end_date,\n",
    "#     directory=forcing_path_CMIP,\n",
    "#     basin_id=camelsgb_id,\n",
    "# )"
   ]
  },
  {
   "cell_type": "code",
   "execution_count": 15,
   "id": "4d2038dc-6409-41b3-ae2f-cb5f033003b9",
   "metadata": {},
   "outputs": [],
   "source": [
    "# # option two: load data that you or someone else generated previously\n",
    "camelsgb_forcing = ewatercycle.forcing.sources['CaravanForcing'].load(Path(\"/home/thirza/forcing/lamah_208082/caravan\"))"
   ]
  },
  {
   "cell_type": "code",
   "execution_count": 16,
   "id": "fcb3725b-f6f5-4eab-bb2b-cdc0002a9033",
   "metadata": {},
   "outputs": [
    {
     "data": {
      "text/html": [
       "<pre style=\"white-space:pre;overflow-x:auto;line-height:normal;font-family:Menlo,'DejaVu Sans Mono',consolas,'Courier New',monospace\"><span style=\"color: #800080; text-decoration-color: #800080; font-weight: bold\">CaravanForcing</span><span style=\"font-weight: bold\">(</span>\n",
       "    <span style=\"color: #808000; text-decoration-color: #808000\">start_time</span>=<span style=\"color: #008000; text-decoration-color: #008000\">'1981-08-01T00:00:00Z'</span>,\n",
       "    <span style=\"color: #808000; text-decoration-color: #808000\">end_time</span>=<span style=\"color: #008000; text-decoration-color: #008000\">'2030-12-31T00:00:00Z'</span>,\n",
       "    <span style=\"color: #808000; text-decoration-color: #808000\">directory</span>=<span style=\"color: #800080; text-decoration-color: #800080; font-weight: bold\">PosixPath</span><span style=\"font-weight: bold\">(</span><span style=\"color: #008000; text-decoration-color: #008000\">'/home/thirza/forcing/lamah_208082/caravan'</span><span style=\"font-weight: bold\">)</span>,\n",
       "    <span style=\"color: #808000; text-decoration-color: #808000\">shape</span>=<span style=\"color: #800080; text-decoration-color: #800080; font-weight: bold\">PosixPath</span><span style=\"font-weight: bold\">(</span><span style=\"color: #008000; text-decoration-color: #008000\">'/home/thirza/forcing/lamah_208082/caravan/lamah_208082.shp'</span><span style=\"font-weight: bold\">)</span>,\n",
       "    <span style=\"color: #808000; text-decoration-color: #808000\">filenames</span>=<span style=\"font-weight: bold\">{</span>\n",
       "        <span style=\"color: #008000; text-decoration-color: #008000\">'tasmax'</span>: <span style=\"color: #008000; text-decoration-color: #008000\">'lamah_208082_1981-08-01_2030-12-31_tasmax.nc'</span>,\n",
       "        <span style=\"color: #008000; text-decoration-color: #008000\">'tas'</span>: <span style=\"color: #008000; text-decoration-color: #008000\">'lamah_208082_1981-08-01_2030-12-31_tas.nc'</span>,\n",
       "        <span style=\"color: #008000; text-decoration-color: #008000\">'tasmin'</span>: <span style=\"color: #008000; text-decoration-color: #008000\">'lamah_208082_1981-08-01_2030-12-31_tasmin.nc'</span>,\n",
       "        <span style=\"color: #008000; text-decoration-color: #008000\">'Q'</span>: <span style=\"color: #008000; text-decoration-color: #008000\">'lamah_208082_1981-08-01_2030-12-31_Q.nc'</span>,\n",
       "        <span style=\"color: #008000; text-decoration-color: #008000\">'pr'</span>: <span style=\"color: #008000; text-decoration-color: #008000\">'lamah_208082_1981-08-01_2030-12-31_pr.nc'</span>,\n",
       "        <span style=\"color: #008000; text-decoration-color: #008000\">'evspsblpot'</span>: <span style=\"color: #008000; text-decoration-color: #008000\">'lamah_208082_1981-08-01_2030-12-31_evspsblpot.nc'</span>\n",
       "    <span style=\"font-weight: bold\">}</span>\n",
       "<span style=\"font-weight: bold\">)</span>\n",
       "</pre>\n"
      ],
      "text/plain": [
       "\u001b[1;35mCaravanForcing\u001b[0m\u001b[1m(\u001b[0m\n",
       "    \u001b[33mstart_time\u001b[0m=\u001b[32m'1981-08-01T00:00:00Z'\u001b[0m,\n",
       "    \u001b[33mend_time\u001b[0m=\u001b[32m'2030-12-31T00:00:00Z'\u001b[0m,\n",
       "    \u001b[33mdirectory\u001b[0m=\u001b[1;35mPosixPath\u001b[0m\u001b[1m(\u001b[0m\u001b[32m'/home/thirza/forcing/lamah_208082/caravan'\u001b[0m\u001b[1m)\u001b[0m,\n",
       "    \u001b[33mshape\u001b[0m=\u001b[1;35mPosixPath\u001b[0m\u001b[1m(\u001b[0m\u001b[32m'/home/thirza/forcing/lamah_208082/caravan/lamah_208082.shp'\u001b[0m\u001b[1m)\u001b[0m,\n",
       "    \u001b[33mfilenames\u001b[0m=\u001b[1m{\u001b[0m\n",
       "        \u001b[32m'tasmax'\u001b[0m: \u001b[32m'lamah_208082_1981-08-01_2030-12-31_tasmax.nc'\u001b[0m,\n",
       "        \u001b[32m'tas'\u001b[0m: \u001b[32m'lamah_208082_1981-08-01_2030-12-31_tas.nc'\u001b[0m,\n",
       "        \u001b[32m'tasmin'\u001b[0m: \u001b[32m'lamah_208082_1981-08-01_2030-12-31_tasmin.nc'\u001b[0m,\n",
       "        \u001b[32m'Q'\u001b[0m: \u001b[32m'lamah_208082_1981-08-01_2030-12-31_Q.nc'\u001b[0m,\n",
       "        \u001b[32m'pr'\u001b[0m: \u001b[32m'lamah_208082_1981-08-01_2030-12-31_pr.nc'\u001b[0m,\n",
       "        \u001b[32m'evspsblpot'\u001b[0m: \u001b[32m'lamah_208082_1981-08-01_2030-12-31_evspsblpot.nc'\u001b[0m\n",
       "    \u001b[1m}\u001b[0m\n",
       "\u001b[1m)\u001b[0m\n"
      ]
     },
     "metadata": {},
     "output_type": "display_data"
    }
   ],
   "source": [
    "print(camelsgb_forcing)"
   ]
  },
  {
   "cell_type": "code",
   "execution_count": 17,
   "id": "4c832034-df03-4a87-b88e-377fb03cab6f",
   "metadata": {},
   "outputs": [],
   "source": [
    "ds_forcing = xr.open_mfdataset([camelsgb_forcing['Q']])"
   ]
  },
  {
   "cell_type": "code",
   "execution_count": 18,
   "id": "231518bf-48f6-41b3-940d-c9b1f93fe825",
   "metadata": {},
   "outputs": [
    {
     "name": "stderr",
     "output_type": "stream",
     "text": [
      "ERROR:esmvalcore._recipe.check:No input files found for Dataset:\n",
      "{'diagnostic': 'diagnostic',\n",
      " 'variable_group': 'pr',\n",
      " 'dataset': 'MPI-ESM1-2-HR',\n",
      " 'project': 'CMIP6',\n",
      " 'mip': 'day',\n",
      " 'short_name': 'pr',\n",
      " 'activity': 'CMIP',\n",
      " 'alias': 'MPI-ESM1-2-HR',\n",
      " 'ensemble': 'r1i1p1f1',\n",
      " 'exp': 'historical',\n",
      " 'frequency': 'day',\n",
      " 'grid': 'gn',\n",
      " 'institute': 'DKRZ',\n",
      " 'long_name': 'Precipitation',\n",
      " 'modeling_realm': ['atmos'],\n",
      " 'original_short_name': 'pr',\n",
      " 'preprocessor': 'pr',\n",
      " 'recipe_dataset_index': 0,\n",
      " 'standard_name': 'precipitation_flux',\n",
      " 'timerange': '1981/2018',\n",
      " 'units': 'kg m-2 s-1'}\n",
      "supplementaries:\n",
      "  {'dataset': 'MPI-ESM1-2-HR',\n",
      "   'project': 'CMIP6',\n",
      "   'mip': 'fx',\n",
      "   'short_name': 'areacella',\n",
      "   'activity': 'CMIP',\n",
      "   'ensemble': 'r1i1p1f1',\n",
      "   'exp': 'historical',\n",
      "   'frequency': 'fx',\n",
      "   'grid': 'gn',\n",
      "   'institute': 'MPI-M',\n",
      "   'long_name': 'Grid-Cell Area for Atmospheric Grid Variables',\n",
      "   'modeling_realm': ['atmos', 'land'],\n",
      "   'original_short_name': 'areacella',\n",
      "   'standard_name': 'cell_area',\n",
      "   'units': 'm2'}\n",
      "session: 'ewcrep4yoths5__20250320_092112'\n",
      "ERROR:esmvalcore._recipe.check:Looked for files matching: /home/thirza/.esmvaltool/downloads/CMIP6/CMIP6/CMIP/DKRZ/MPI-ESM1-2-HR/historical/r1i1p1f1/day/pr/gn/*/pr_day_MPI-ESM1-2-HR_historical_r1i1p1f1_gn*.nc\n",
      "ERROR:esmvalcore._recipe.check:Set 'log_level' to 'debug' to get more information\n",
      "ERROR:esmvalcore._recipe.check:No input files found for Dataset:\n",
      "{'diagnostic': 'diagnostic',\n",
      " 'variable_group': 'tas',\n",
      " 'dataset': 'MPI-ESM1-2-HR',\n",
      " 'project': 'CMIP6',\n",
      " 'mip': 'day',\n",
      " 'short_name': 'tas',\n",
      " 'activity': 'CMIP',\n",
      " 'alias': 'MPI-ESM1-2-HR',\n",
      " 'ensemble': 'r1i1p1f1',\n",
      " 'exp': 'historical',\n",
      " 'frequency': 'day',\n",
      " 'grid': 'gn',\n",
      " 'institute': 'DKRZ',\n",
      " 'long_name': 'Near-Surface Air Temperature',\n",
      " 'modeling_realm': ['atmos'],\n",
      " 'original_short_name': 'tas',\n",
      " 'preprocessor': 'tas',\n",
      " 'recipe_dataset_index': 0,\n",
      " 'standard_name': 'air_temperature',\n",
      " 'timerange': '1981/2018',\n",
      " 'units': 'K'}\n",
      "supplementaries:\n",
      "  {'dataset': 'MPI-ESM1-2-HR',\n",
      "   'project': 'CMIP6',\n",
      "   'mip': 'fx',\n",
      "   'short_name': 'areacella',\n",
      "   'activity': 'CMIP',\n",
      "   'ensemble': 'r1i1p1f1',\n",
      "   'exp': 'historical',\n",
      "   'frequency': 'fx',\n",
      "   'grid': 'gn',\n",
      "   'institute': 'MPI-M',\n",
      "   'long_name': 'Grid-Cell Area for Atmospheric Grid Variables',\n",
      "   'modeling_realm': ['atmos', 'land'],\n",
      "   'original_short_name': 'areacella',\n",
      "   'standard_name': 'cell_area',\n",
      "   'units': 'm2'}\n",
      "session: 'ewcrep4yoths5__20250320_092112'\n",
      "ERROR:esmvalcore._recipe.check:Looked for files matching: /home/thirza/.esmvaltool/downloads/CMIP6/CMIP6/CMIP/DKRZ/MPI-ESM1-2-HR/historical/r1i1p1f1/day/tas/gn/*/tas_day_MPI-ESM1-2-HR_historical_r1i1p1f1_gn*.nc\n",
      "ERROR:esmvalcore._recipe.check:Set 'log_level' to 'debug' to get more information\n",
      "ERROR:esmvalcore._recipe.check:No input files found for Dataset:\n",
      "{'diagnostic': 'diagnostic',\n",
      " 'variable_group': 'rsds',\n",
      " 'dataset': 'MPI-ESM1-2-HR',\n",
      " 'project': 'CMIP6',\n",
      " 'mip': 'day',\n",
      " 'short_name': 'rsds',\n",
      " 'activity': 'CMIP',\n",
      " 'alias': 'MPI-ESM1-2-HR',\n",
      " 'ensemble': 'r1i1p1f1',\n",
      " 'exp': 'historical',\n",
      " 'frequency': 'day',\n",
      " 'grid': 'gn',\n",
      " 'institute': 'DKRZ',\n",
      " 'long_name': 'Surface Downwelling Shortwave Radiation',\n",
      " 'modeling_realm': ['atmos'],\n",
      " 'original_short_name': 'rsds',\n",
      " 'preprocessor': 'rsds',\n",
      " 'recipe_dataset_index': 0,\n",
      " 'standard_name': 'surface_downwelling_shortwave_flux_in_air',\n",
      " 'timerange': '1981/2018',\n",
      " 'units': 'W m-2'}\n",
      "supplementaries:\n",
      "  {'dataset': 'MPI-ESM1-2-HR',\n",
      "   'project': 'CMIP6',\n",
      "   'mip': 'fx',\n",
      "   'short_name': 'areacella',\n",
      "   'activity': 'CMIP',\n",
      "   'ensemble': 'r1i1p1f1',\n",
      "   'exp': 'historical',\n",
      "   'frequency': 'fx',\n",
      "   'grid': 'gn',\n",
      "   'institute': 'MPI-M',\n",
      "   'long_name': 'Grid-Cell Area for Atmospheric Grid Variables',\n",
      "   'modeling_realm': ['atmos', 'land'],\n",
      "   'original_short_name': 'areacella',\n",
      "   'standard_name': 'cell_area',\n",
      "   'units': 'm2'}\n",
      "session: 'ewcrep4yoths5__20250320_092112'\n",
      "ERROR:esmvalcore._recipe.check:Looked for files matching: /home/thirza/.esmvaltool/downloads/CMIP6/CMIP6/CMIP/DKRZ/MPI-ESM1-2-HR/historical/r1i1p1f1/day/rsds/gn/*/rsds_day_MPI-ESM1-2-HR_historical_r1i1p1f1_gn*.nc\n",
      "ERROR:esmvalcore._recipe.check:Set 'log_level' to 'debug' to get more information\n",
      "ERROR:esmvalcore._recipe.recipe:Could not create all tasks\n",
      "ERROR:esmvalcore._recipe.recipe:Missing data for preprocessor diagnostic/pr:\n",
      "- Missing data for Dataset: pr, day, CMIP6, MPI-ESM1-2-HR, CMIP, historical, r1i1p1f1, gn, supplementaries: areacella, fx\n",
      "ERROR:esmvalcore._recipe.recipe:Missing data for preprocessor diagnostic/tas:\n",
      "- Missing data for Dataset: tas, day, CMIP6, MPI-ESM1-2-HR, CMIP, historical, r1i1p1f1, gn, supplementaries: areacella, fx\n",
      "ERROR:esmvalcore._recipe.recipe:Missing data for preprocessor diagnostic/rsds:\n",
      "- Missing data for Dataset: rsds, day, CMIP6, MPI-ESM1-2-HR, CMIP, historical, r1i1p1f1, gn, supplementaries: areacella, fx\n"
     ]
    },
    {
     "ename": "RecipeError",
     "evalue": "Could not create all tasks",
     "output_type": "error",
     "traceback": [
      "\u001b[0;31m---------------------------------------------------------------------------\u001b[0m",
      "\u001b[0;31mRecipeError\u001b[0m                               Traceback (most recent call last)",
      "Cell \u001b[0;32mIn[18], line 2\u001b[0m\n\u001b[1;32m      1\u001b[0m \u001b[38;5;66;03m# option one: generate forcing:\u001b[39;00m\n\u001b[0;32m----> 2\u001b[0m CMIP_forcing \u001b[38;5;241m=\u001b[39m \u001b[43mewatercycle\u001b[49m\u001b[38;5;241;43m.\u001b[39;49m\u001b[43mforcing\u001b[49m\u001b[38;5;241;43m.\u001b[39;49m\u001b[43msources\u001b[49m\u001b[43m[\u001b[49m\u001b[38;5;124;43m\"\u001b[39;49m\u001b[38;5;124;43mLumpedMakkinkForcing\u001b[39;49m\u001b[38;5;124;43m\"\u001b[39;49m\u001b[43m]\u001b[49m\u001b[38;5;241;43m.\u001b[39;49m\u001b[43mgenerate\u001b[49m\u001b[43m(\u001b[49m\n\u001b[1;32m      3\u001b[0m \u001b[43m   \u001b[49m\u001b[43mdataset\u001b[49m\u001b[38;5;241;43m=\u001b[39;49m\u001b[43mcmip_dataset\u001b[49m\u001b[43m,\u001b[49m\n\u001b[1;32m      4\u001b[0m \u001b[43m   \u001b[49m\u001b[43mstart_time\u001b[49m\u001b[38;5;241;43m=\u001b[39;49m\u001b[43mexperiment_start_date\u001b[49m\u001b[43m,\u001b[49m\n\u001b[1;32m      5\u001b[0m \u001b[43m   \u001b[49m\u001b[43mend_time\u001b[49m\u001b[38;5;241;43m=\u001b[39;49m\u001b[43mexperiment_end_date\u001b[49m\u001b[43m,\u001b[49m\n\u001b[1;32m      6\u001b[0m \u001b[43m   \u001b[49m\u001b[43mshape\u001b[49m\u001b[38;5;241;43m=\u001b[39;49m\u001b[43mcamelsgb_forcing\u001b[49m\u001b[38;5;241;43m.\u001b[39;49m\u001b[43mshape\u001b[49m\u001b[43m,\u001b[49m\n\u001b[1;32m      7\u001b[0m \u001b[43m)\u001b[49m\n\u001b[1;32m      9\u001b[0m \u001b[38;5;66;03m# # option two: load data that you or someone else generated previously\u001b[39;00m\n\u001b[1;32m     10\u001b[0m \u001b[38;5;66;03m# #   this is needed because ERA5 forcing data is stored deep in a sub-directory\u001b[39;00m\n\u001b[1;32m     11\u001b[0m \u001b[38;5;66;03m# load_location = prepared_forcing_path_caravan_central / \"work\" / \"diagnostic\" / \"script\" \u001b[39;00m\n\u001b[1;32m     12\u001b[0m \u001b[38;5;66;03m# ERA5_forcing = ewatercycle.forcing.sources[\"LumpedMakkinkForcing\"].load(directory=load_location)\u001b[39;00m\n",
      "File \u001b[0;32m/opt/conda/envs/ewatercycle2/lib/python3.12/site-packages/ewatercycle/_forcings/makkink.py:57\u001b[0m, in \u001b[0;36mMakkink.generate\u001b[0;34m(cls, dataset, start_time, end_time, shape, directory, **model_specific_options)\u001b[0m\n\u001b[1;32m     47\u001b[0m \u001b[38;5;129m@classmethod\u001b[39m\n\u001b[1;32m     48\u001b[0m \u001b[38;5;28;01mdef\u001b[39;00m\u001b[38;5;250m \u001b[39m\u001b[38;5;21mgenerate\u001b[39m(  \u001b[38;5;66;03m# type: ignore[override]\u001b[39;00m\n\u001b[1;32m     49\u001b[0m     \u001b[38;5;28mcls\u001b[39m: \u001b[38;5;28mtype\u001b[39m[\u001b[38;5;124m\"\u001b[39m\u001b[38;5;124mMakkink\u001b[39m\u001b[38;5;124m\"\u001b[39m],\n\u001b[0;32m   (...)\u001b[0m\n\u001b[1;32m     55\u001b[0m     \u001b[38;5;241m*\u001b[39m\u001b[38;5;241m*\u001b[39mmodel_specific_options,\n\u001b[1;32m     56\u001b[0m ) \u001b[38;5;241m-\u001b[39m\u001b[38;5;241m>\u001b[39m \u001b[38;5;124m\"\u001b[39m\u001b[38;5;124mMakkink\u001b[39m\u001b[38;5;124m\"\u001b[39m:\n\u001b[0;32m---> 57\u001b[0m     \u001b[38;5;28;01mreturn\u001b[39;00m \u001b[38;5;28;43msuper\u001b[39;49m\u001b[43m(\u001b[49m\u001b[43m)\u001b[49m\u001b[38;5;241;43m.\u001b[39;49m\u001b[43mgenerate\u001b[49m\u001b[43m(\u001b[49m\n\u001b[1;32m     58\u001b[0m \u001b[43m        \u001b[49m\u001b[43mdataset\u001b[49m\u001b[43m,\u001b[49m\n\u001b[1;32m     59\u001b[0m \u001b[43m        \u001b[49m\u001b[43mstart_time\u001b[49m\u001b[43m,\u001b[49m\n\u001b[1;32m     60\u001b[0m \u001b[43m        \u001b[49m\u001b[43mend_time\u001b[49m\u001b[43m,\u001b[49m\n\u001b[1;32m     61\u001b[0m \u001b[43m        \u001b[49m\u001b[43mshape\u001b[49m\u001b[43m,\u001b[49m\n\u001b[1;32m     62\u001b[0m \u001b[43m        \u001b[49m\u001b[43mdirectory\u001b[49m\u001b[43m,\u001b[49m\n\u001b[1;32m     63\u001b[0m \u001b[43m        \u001b[49m\u001b[43mvariables\u001b[49m\u001b[38;5;241;43m=\u001b[39;49m\u001b[43m(\u001b[49m\u001b[38;5;124;43m\"\u001b[39;49m\u001b[38;5;124;43mpr\u001b[39;49m\u001b[38;5;124;43m\"\u001b[39;49m\u001b[43m,\u001b[49m\u001b[43m \u001b[49m\u001b[38;5;124;43m\"\u001b[39;49m\u001b[38;5;124;43mtas\u001b[39;49m\u001b[38;5;124;43m\"\u001b[39;49m\u001b[43m,\u001b[49m\u001b[43m \u001b[49m\u001b[38;5;124;43m\"\u001b[39;49m\u001b[38;5;124;43mrsds\u001b[39;49m\u001b[38;5;124;43m\"\u001b[39;49m\u001b[43m)\u001b[49m\u001b[43m,\u001b[49m\n\u001b[1;32m     64\u001b[0m \u001b[43m        \u001b[49m\u001b[43mpostprocessor\u001b[49m\u001b[38;5;241;43m=\u001b[39;49m\u001b[43mderive_e_pot\u001b[49m\u001b[43m,\u001b[49m\n\u001b[1;32m     65\u001b[0m \u001b[43m        \u001b[49m\u001b[38;5;241;43m*\u001b[39;49m\u001b[38;5;241;43m*\u001b[39;49m\u001b[43mmodel_specific_options\u001b[49m\u001b[43m,\u001b[49m\n\u001b[1;32m     66\u001b[0m \u001b[43m    \u001b[49m\u001b[43m)\u001b[49m\n",
      "File \u001b[0;32m/opt/conda/envs/ewatercycle2/lib/python3.12/site-packages/ewatercycle/base/forcing.py:162\u001b[0m, in \u001b[0;36mDefaultForcing.generate\u001b[0;34m(cls, dataset, start_time, end_time, shape, directory, variables, postprocessor, **model_specific_options)\u001b[0m\n\u001b[1;32m    129\u001b[0m \u001b[38;5;250m\u001b[39m\u001b[38;5;124;03m\"\"\"Generate forcings for a model.\u001b[39;00m\n\u001b[1;32m    130\u001b[0m \n\u001b[1;32m    131\u001b[0m \u001b[38;5;124;03mThe forcing is generated with help of\u001b[39;00m\n\u001b[0;32m   (...)\u001b[0m\n\u001b[1;32m    151\u001b[0m \u001b[38;5;124;03m    model_specific_options: Subclass specific options.\u001b[39;00m\n\u001b[1;32m    152\u001b[0m \u001b[38;5;124;03m\"\"\"\u001b[39;00m\n\u001b[1;32m    153\u001b[0m recipe \u001b[38;5;241m=\u001b[39m \u001b[38;5;28mcls\u001b[39m\u001b[38;5;241m.\u001b[39m_build_recipe(\n\u001b[1;32m    154\u001b[0m     dataset\u001b[38;5;241m=\u001b[39mdataset,\n\u001b[1;32m    155\u001b[0m     start_time\u001b[38;5;241m=\u001b[39mget_time(start_time),\n\u001b[0;32m   (...)\u001b[0m\n\u001b[1;32m    159\u001b[0m     \u001b[38;5;241m*\u001b[39m\u001b[38;5;241m*\u001b[39mmodel_specific_options,\n\u001b[1;32m    160\u001b[0m )\n\u001b[0;32m--> 162\u001b[0m recipe_output \u001b[38;5;241m=\u001b[39m \u001b[38;5;28;43mcls\u001b[39;49m\u001b[38;5;241;43m.\u001b[39;49m\u001b[43m_run_recipe\u001b[49m\u001b[43m(\u001b[49m\n\u001b[1;32m    163\u001b[0m \u001b[43m    \u001b[49m\u001b[43mrecipe\u001b[49m\u001b[43m,\u001b[49m\u001b[43m \u001b[49m\u001b[43mdirectory\u001b[49m\u001b[38;5;241;43m=\u001b[39;49m\u001b[43mPath\u001b[49m\u001b[43m(\u001b[49m\u001b[43mdirectory\u001b[49m\u001b[43m)\u001b[49m\u001b[43m \u001b[49m\u001b[38;5;28;43;01mif\u001b[39;49;00m\u001b[43m \u001b[49m\u001b[43mdirectory\u001b[49m\u001b[43m \u001b[49m\u001b[38;5;28;43;01melse\u001b[39;49;00m\u001b[43m \u001b[49m\u001b[38;5;28;43;01mNone\u001b[39;49;00m\n\u001b[1;32m    164\u001b[0m \u001b[43m\u001b[49m\u001b[43m)\u001b[49m\n\u001b[1;32m    166\u001b[0m derived_variables: \u001b[38;5;28mtuple\u001b[39m[\u001b[38;5;28mstr\u001b[39m, \u001b[38;5;241m.\u001b[39m\u001b[38;5;241m.\u001b[39m\u001b[38;5;241m.\u001b[39m] \u001b[38;5;241m=\u001b[39m ()\n\u001b[1;32m    167\u001b[0m \u001b[38;5;28;01mif\u001b[39;00m postprocessor \u001b[38;5;129;01mis\u001b[39;00m \u001b[38;5;129;01mnot\u001b[39;00m \u001b[38;5;28;01mNone\u001b[39;00m:\n",
      "File \u001b[0;32m/opt/conda/envs/ewatercycle2/lib/python3.12/site-packages/ewatercycle/base/forcing.py:217\u001b[0m, in \u001b[0;36mDefaultForcing._run_recipe\u001b[0;34m(cls, recipe, directory)\u001b[0m\n\u001b[1;32m    211\u001b[0m \u001b[38;5;129m@classmethod\u001b[39m\n\u001b[1;32m    212\u001b[0m \u001b[38;5;28;01mdef\u001b[39;00m\u001b[38;5;250m \u001b[39m\u001b[38;5;21m_run_recipe\u001b[39m(\n\u001b[1;32m    213\u001b[0m     \u001b[38;5;28mcls\u001b[39m,\n\u001b[1;32m    214\u001b[0m     recipe: Recipe,\n\u001b[1;32m    215\u001b[0m     directory: Path \u001b[38;5;241m|\u001b[39m \u001b[38;5;28;01mNone\u001b[39;00m \u001b[38;5;241m=\u001b[39m \u001b[38;5;28;01mNone\u001b[39;00m,\n\u001b[1;32m    216\u001b[0m ) \u001b[38;5;241m-\u001b[39m\u001b[38;5;241m>\u001b[39m \u001b[38;5;28mdict\u001b[39m[\u001b[38;5;28mstr\u001b[39m, \u001b[38;5;28mstr\u001b[39m]:\n\u001b[0;32m--> 217\u001b[0m     \u001b[38;5;28;01mreturn\u001b[39;00m \u001b[43mrun_recipe\u001b[49m\u001b[43m(\u001b[49m\u001b[43mrecipe\u001b[49m\u001b[43m,\u001b[49m\u001b[43m \u001b[49m\u001b[43mdirectory\u001b[49m\u001b[43m)\u001b[49m\n",
      "File \u001b[0;32m/opt/conda/envs/ewatercycle2/lib/python3.12/site-packages/ewatercycle/esmvaltool/run.py:109\u001b[0m, in \u001b[0;36mrun_recipe\u001b[0;34m(recipe, output_dir)\u001b[0m\n\u001b[1;32m    100\u001b[0m warnings\u001b[38;5;241m.\u001b[39mfilterwarnings(  \u001b[38;5;66;03m# Not relevant for end users.\u001b[39;00m\n\u001b[1;32m    101\u001b[0m     action\u001b[38;5;241m=\u001b[39m\u001b[38;5;124m\"\u001b[39m\u001b[38;5;124mignore\u001b[39m\u001b[38;5;124m\"\u001b[39m,\n\u001b[1;32m    102\u001b[0m     message\u001b[38;5;241m=\u001b[39m\u001b[38;5;124m\"\u001b[39m\u001b[38;5;124mThank you for trying out the new ESMValCore API\u001b[39m\u001b[38;5;124m\"\u001b[39m,\n\u001b[1;32m    103\u001b[0m )\n\u001b[1;32m    104\u001b[0m warnings\u001b[38;5;241m.\u001b[39mfilterwarnings(  \u001b[38;5;66;03m# Hide Iris warning (upstream issue)\u001b[39;00m\n\u001b[1;32m    105\u001b[0m     action\u001b[38;5;241m=\u001b[39m\u001b[38;5;124m\"\u001b[39m\u001b[38;5;124mignore\u001b[39m\u001b[38;5;124m\"\u001b[39m,\n\u001b[1;32m    106\u001b[0m     message\u001b[38;5;241m=\u001b[39m\u001b[38;5;124m\"\u001b[39m\u001b[38;5;124mSaving to netcdf with legacy-style attribute\u001b[39m\u001b[38;5;124m\"\u001b[39m,\n\u001b[1;32m    107\u001b[0m )\n\u001b[0;32m--> 109\u001b[0m output \u001b[38;5;241m=\u001b[39m \u001b[43m_save_and_run_recipe\u001b[49m\u001b[43m(\u001b[49m\u001b[43mrecipe\u001b[49m\u001b[43m,\u001b[49m\u001b[43m \u001b[49m\u001b[43moutput_dir\u001b[49m\u001b[43m)\u001b[49m\n\u001b[1;32m    110\u001b[0m \u001b[38;5;28;01mreturn\u001b[39;00m _parse_recipe_output(output)\n",
      "File \u001b[0;32m/opt/conda/envs/ewatercycle2/lib/python3.12/site-packages/ewatercycle/esmvaltool/run.py:137\u001b[0m, in \u001b[0;36m_save_and_run_recipe\u001b[0;34m(recipe, output_dir)\u001b[0m\n\u001b[1;32m    135\u001b[0m     esmlvaltool_recipe \u001b[38;5;241m=\u001b[39m ESMValToolRecipe(recipe_path)\n\u001b[1;32m    136\u001b[0m     session \u001b[38;5;241m=\u001b[39m _session(output_dir)\n\u001b[0;32m--> 137\u001b[0m     output \u001b[38;5;241m=\u001b[39m \u001b[43mesmlvaltool_recipe\u001b[49m\u001b[38;5;241;43m.\u001b[39;49m\u001b[43mrun\u001b[49m\u001b[43m(\u001b[49m\u001b[43msession\u001b[49m\u001b[38;5;241;43m=\u001b[39;49m\u001b[43msession\u001b[49m\u001b[43m)\u001b[49m\n\u001b[1;32m    138\u001b[0m \u001b[38;5;28;01mfinally\u001b[39;00m:\n\u001b[1;32m    139\u001b[0m     recipe_path\u001b[38;5;241m.\u001b[39munlink()\n",
      "File \u001b[0;32m/opt/conda/envs/ewatercycle2/lib/python3.12/site-packages/esmvalcore/experimental/recipe.py:137\u001b[0m, in \u001b[0;36mRecipe.run\u001b[0;34m(self, task, session)\u001b[0m\n\u001b[1;32m    135\u001b[0m \u001b[38;5;28;01mwith\u001b[39;00m log_to_dir(session\u001b[38;5;241m.\u001b[39mrun_dir):\n\u001b[1;32m    136\u001b[0m     _dask\u001b[38;5;241m.\u001b[39mcheck_distributed_config()\n\u001b[0;32m--> 137\u001b[0m     \u001b[38;5;28mself\u001b[39m\u001b[38;5;241m.\u001b[39m_engine \u001b[38;5;241m=\u001b[39m \u001b[38;5;28;43mself\u001b[39;49m\u001b[38;5;241;43m.\u001b[39;49m\u001b[43m_load\u001b[49m\u001b[43m(\u001b[49m\u001b[43msession\u001b[49m\u001b[38;5;241;43m=\u001b[39;49m\u001b[43msession\u001b[49m\u001b[43m)\u001b[49m\n\u001b[1;32m    138\u001b[0m     \u001b[38;5;28mself\u001b[39m\u001b[38;5;241m.\u001b[39m_engine\u001b[38;5;241m.\u001b[39mrun()\n\u001b[1;32m    140\u001b[0m shutil\u001b[38;5;241m.\u001b[39mcopy2(\u001b[38;5;28mself\u001b[39m\u001b[38;5;241m.\u001b[39mpath, session\u001b[38;5;241m.\u001b[39mrun_dir)\n",
      "File \u001b[0;32m/opt/conda/envs/ewatercycle2/lib/python3.12/site-packages/esmvalcore/experimental/recipe.py:97\u001b[0m, in \u001b[0;36mRecipe._load\u001b[0;34m(self, session)\u001b[0m\n\u001b[1;32m     78\u001b[0m \u001b[38;5;250m\u001b[39m\u001b[38;5;124;03m\"\"\"Load the recipe.\u001b[39;00m\n\u001b[1;32m     79\u001b[0m \n\u001b[1;32m     80\u001b[0m \u001b[38;5;124;03mThis method loads the recipe into the internal ESMValCore Recipe\u001b[39;00m\n\u001b[0;32m   (...)\u001b[0m\n\u001b[1;32m     93\u001b[0m \u001b[38;5;124;03m    Return an instance of the Recipe\u001b[39;00m\n\u001b[1;32m     94\u001b[0m \u001b[38;5;124;03m\"\"\"\u001b[39;00m\n\u001b[1;32m     95\u001b[0m logger\u001b[38;5;241m.\u001b[39minfo(pprint\u001b[38;5;241m.\u001b[39mpformat(session))\n\u001b[0;32m---> 97\u001b[0m \u001b[38;5;28;01mreturn\u001b[39;00m \u001b[43mRecipeEngine\u001b[49m\u001b[43m(\u001b[49m\u001b[43mraw_recipe\u001b[49m\u001b[38;5;241;43m=\u001b[39;49m\u001b[38;5;28;43mself\u001b[39;49m\u001b[38;5;241;43m.\u001b[39;49m\u001b[43mdata\u001b[49m\u001b[43m,\u001b[49m\n\u001b[1;32m     98\u001b[0m \u001b[43m                    \u001b[49m\u001b[43msession\u001b[49m\u001b[38;5;241;43m=\u001b[39;49m\u001b[43msession\u001b[49m\u001b[43m,\u001b[49m\n\u001b[1;32m     99\u001b[0m \u001b[43m                    \u001b[49m\u001b[43mrecipe_file\u001b[49m\u001b[38;5;241;43m=\u001b[39;49m\u001b[38;5;28;43mself\u001b[39;49m\u001b[38;5;241;43m.\u001b[39;49m\u001b[43mpath\u001b[49m\u001b[43m)\u001b[49m\n",
      "File \u001b[0;32m/opt/conda/envs/ewatercycle2/lib/python3.12/site-packages/esmvalcore/_recipe/recipe.py:740\u001b[0m, in \u001b[0;36mRecipe.__init__\u001b[0;34m(self, raw_recipe, session, recipe_file)\u001b[0m\n\u001b[1;32m    737\u001b[0m \u001b[38;5;28mself\u001b[39m\u001b[38;5;241m.\u001b[39mentity \u001b[38;5;241m=\u001b[39m \u001b[38;5;28mself\u001b[39m\u001b[38;5;241m.\u001b[39m_initialize_provenance(\n\u001b[1;32m    738\u001b[0m     raw_recipe\u001b[38;5;241m.\u001b[39mget(\u001b[38;5;124m'\u001b[39m\u001b[38;5;124mdocumentation\u001b[39m\u001b[38;5;124m'\u001b[39m, {}))\n\u001b[1;32m    739\u001b[0m \u001b[38;5;28;01mtry\u001b[39;00m:\n\u001b[0;32m--> 740\u001b[0m     \u001b[38;5;28mself\u001b[39m\u001b[38;5;241m.\u001b[39mtasks \u001b[38;5;241m=\u001b[39m \u001b[38;5;28;43mself\u001b[39;49m\u001b[38;5;241;43m.\u001b[39;49m\u001b[43minitialize_tasks\u001b[49m\u001b[43m(\u001b[49m\u001b[43m)\u001b[49m\n\u001b[1;32m    741\u001b[0m \u001b[38;5;28;01mexcept\u001b[39;00m RecipeError \u001b[38;5;28;01mas\u001b[39;00m exc:\n\u001b[1;32m    742\u001b[0m     \u001b[38;5;28mself\u001b[39m\u001b[38;5;241m.\u001b[39m_log_recipe_errors(exc)\n",
      "File \u001b[0;32m/opt/conda/envs/ewatercycle2/lib/python3.12/site-packages/esmvalcore/_recipe/recipe.py:1066\u001b[0m, in \u001b[0;36mRecipe.initialize_tasks\u001b[0;34m(self)\u001b[0m\n\u001b[1;32m   1064\u001b[0m \u001b[38;5;28;01mdef\u001b[39;00m\u001b[38;5;250m \u001b[39m\u001b[38;5;21minitialize_tasks\u001b[39m(\u001b[38;5;28mself\u001b[39m):\n\u001b[1;32m   1065\u001b[0m \u001b[38;5;250m    \u001b[39m\u001b[38;5;124;03m\"\"\"Define tasks in recipe.\"\"\"\u001b[39;00m\n\u001b[0;32m-> 1066\u001b[0m     tasks \u001b[38;5;241m=\u001b[39m \u001b[38;5;28;43mself\u001b[39;49m\u001b[38;5;241;43m.\u001b[39;49m\u001b[43m_create_tasks\u001b[49m\u001b[43m(\u001b[49m\u001b[43m)\u001b[49m\n\u001b[1;32m   1067\u001b[0m     tasks \u001b[38;5;241m=\u001b[39m tasks\u001b[38;5;241m.\u001b[39mflatten()\n\u001b[1;32m   1068\u001b[0m     logger\u001b[38;5;241m.\u001b[39minfo(\u001b[38;5;124m\"\u001b[39m\u001b[38;5;124mThese tasks will be executed: \u001b[39m\u001b[38;5;132;01m%s\u001b[39;00m\u001b[38;5;124m\"\u001b[39m,\n\u001b[1;32m   1069\u001b[0m                 \u001b[38;5;124m'\u001b[39m\u001b[38;5;124m, \u001b[39m\u001b[38;5;124m'\u001b[39m\u001b[38;5;241m.\u001b[39mjoin(t\u001b[38;5;241m.\u001b[39mname \u001b[38;5;28;01mfor\u001b[39;00m t \u001b[38;5;129;01min\u001b[39;00m tasks))\n",
      "File \u001b[0;32m/opt/conda/envs/ewatercycle2/lib/python3.12/site-packages/esmvalcore/_recipe/recipe.py:1054\u001b[0m, in \u001b[0;36mRecipe._create_tasks\u001b[0;34m(self)\u001b[0m\n\u001b[1;32m   1052\u001b[0m     recipe_error \u001b[38;5;241m=\u001b[39m RecipeError(\u001b[38;5;124m'\u001b[39m\u001b[38;5;124mCould not create all tasks\u001b[39m\u001b[38;5;124m'\u001b[39m)\n\u001b[1;32m   1053\u001b[0m     recipe_error\u001b[38;5;241m.\u001b[39mfailed_tasks\u001b[38;5;241m.\u001b[39mextend(failed_tasks)\n\u001b[0;32m-> 1054\u001b[0m     \u001b[38;5;28;01mraise\u001b[39;00m recipe_error\n\u001b[1;32m   1056\u001b[0m check\u001b[38;5;241m.\u001b[39mtasks_valid(tasks)\n\u001b[1;32m   1058\u001b[0m \u001b[38;5;66;03m# Resolve diagnostic ancestors\u001b[39;00m\n",
      "\u001b[0;31mRecipeError\u001b[0m: Could not create all tasks"
     ]
    }
   ],
   "source": [
    "# option one: generate forcing:\n",
    "CMIP_forcing = ewatercycle.forcing.sources[\"LumpedMakkinkForcing\"].generate(\n",
    "   dataset=cmip_dataset,\n",
    "   start_time=experiment_start_date,\n",
    "   end_time=experiment_end_date,\n",
    "   shape=camelsgb_forcing.shape,\n",
    ")\n",
    "\n",
    "# # option two: load data that you or someone else generated previously\n",
    "# #   this is needed because ERA5 forcing data is stored deep in a sub-directory\n",
    "# load_location = prepared_forcing_path_caravan_central / \"work\" / \"diagnostic\" / \"script\" \n",
    "# ERA5_forcing = ewatercycle.forcing.sources[\"LumpedMakkinkForcing\"].load(directory=load_location)"
   ]
  },
  {
   "cell_type": "code",
   "execution_count": 12,
   "id": "1c14a921-f136-4100-9e9f-7cf85dabec93",
   "metadata": {},
   "outputs": [
    {
     "data": {
      "text/html": [
       "<pre style=\"white-space:pre;overflow-x:auto;line-height:normal;font-family:Menlo,'DejaVu Sans Mono',consolas,'Courier New',monospace\"><span style=\"color: #800080; text-decoration-color: #800080; font-weight: bold\">LumpedMakkinkForcing</span><span style=\"font-weight: bold\">(</span>\n",
       "    <span style=\"color: #808000; text-decoration-color: #808000\">start_time</span>=<span style=\"color: #008000; text-decoration-color: #008000\">'2025-08-01T00:00:00Z'</span>,\n",
       "    <span style=\"color: #808000; text-decoration-color: #808000\">end_time</span>=<span style=\"color: #008000; text-decoration-color: #008000\">'2100-08-31T00:00:00Z'</span>,\n",
       "    <span style=\"color: #808000; text-decoration-color: #808000\">directory</span>=<span style=\"color: #800080; text-decoration-color: #800080; font-weight: bold\">PosixPath</span><span style=\"font-weight: bold\">(</span><span style=\"color: #008000; text-decoration-color: #008000\">'/home/thirza/BEPproject/book/esmvaltool_output/ewcrep4wqh13th_20250317_172619/work/diagnos</span>\n",
       "<span style=\"color: #008000; text-decoration-color: #008000\">tic/script'</span><span style=\"font-weight: bold\">)</span>,\n",
       "    <span style=\"color: #808000; text-decoration-color: #808000\">shape</span>=<span style=\"color: #800080; text-decoration-color: #800080; font-weight: bold\">PosixPath</span><span style=\"font-weight: bold\">(</span><span style=\"color: #008000; text-decoration-color: #008000\">'/home/thirza/forcing/lamah_208082/caravan/lamah_208082.shp'</span><span style=\"font-weight: bold\">)</span>,\n",
       "    <span style=\"color: #808000; text-decoration-color: #808000\">filenames</span>=<span style=\"font-weight: bold\">{</span>\n",
       "        <span style=\"color: #008000; text-decoration-color: #008000\">'pr'</span>: <span style=\"color: #008000; text-decoration-color: #008000\">'CMIP6_MPI-ESM1-2-HR_day_ssp585_r1i1p1f1_pr_gn_2025-2100.nc'</span>,\n",
       "        <span style=\"color: #008000; text-decoration-color: #008000\">'tas'</span>: <span style=\"color: #008000; text-decoration-color: #008000\">'CMIP6_MPI-ESM1-2-HR_day_ssp585_r1i1p1f1_tas_gn_2025-2100.nc'</span>,\n",
       "        <span style=\"color: #008000; text-decoration-color: #008000\">'rsds'</span>: <span style=\"color: #008000; text-decoration-color: #008000\">'CMIP6_MPI-ESM1-2-HR_day_ssp585_r1i1p1f1_rsds_gn_2025-2100.nc'</span>,\n",
       "        <span style=\"color: #008000; text-decoration-color: #008000\">'evspsblpot'</span>: <span style=\"color: #008000; text-decoration-color: #008000\">'Derived_Makkink_evspsblpot.nc'</span>\n",
       "    <span style=\"font-weight: bold\">}</span>\n",
       "<span style=\"font-weight: bold\">)</span>\n",
       "</pre>\n"
      ],
      "text/plain": [
       "\u001b[1;35mLumpedMakkinkForcing\u001b[0m\u001b[1m(\u001b[0m\n",
       "    \u001b[33mstart_time\u001b[0m=\u001b[32m'2025-08-01T00:00:00Z'\u001b[0m,\n",
       "    \u001b[33mend_time\u001b[0m=\u001b[32m'2100-08-31T00:00:00Z'\u001b[0m,\n",
       "    \u001b[33mdirectory\u001b[0m=\u001b[1;35mPosixPath\u001b[0m\u001b[1m(\u001b[0m\u001b[32m'/home/thirza/BEPproject/book/esmvaltool_output/ewcrep4wqh13th_20250317_172619/work/diagnos\u001b[0m\n",
       "\u001b[32mtic/script'\u001b[0m\u001b[1m)\u001b[0m,\n",
       "    \u001b[33mshape\u001b[0m=\u001b[1;35mPosixPath\u001b[0m\u001b[1m(\u001b[0m\u001b[32m'/home/thirza/forcing/lamah_208082/caravan/lamah_208082.shp'\u001b[0m\u001b[1m)\u001b[0m,\n",
       "    \u001b[33mfilenames\u001b[0m=\u001b[1m{\u001b[0m\n",
       "        \u001b[32m'pr'\u001b[0m: \u001b[32m'CMIP6_MPI-ESM1-2-HR_day_ssp585_r1i1p1f1_pr_gn_2025-2100.nc'\u001b[0m,\n",
       "        \u001b[32m'tas'\u001b[0m: \u001b[32m'CMIP6_MPI-ESM1-2-HR_day_ssp585_r1i1p1f1_tas_gn_2025-2100.nc'\u001b[0m,\n",
       "        \u001b[32m'rsds'\u001b[0m: \u001b[32m'CMIP6_MPI-ESM1-2-HR_day_ssp585_r1i1p1f1_rsds_gn_2025-2100.nc'\u001b[0m,\n",
       "        \u001b[32m'evspsblpot'\u001b[0m: \u001b[32m'Derived_Makkink_evspsblpot.nc'\u001b[0m\n",
       "    \u001b[1m}\u001b[0m\n",
       "\u001b[1m)\u001b[0m\n"
      ]
     },
     "metadata": {},
     "output_type": "display_data"
    }
   ],
   "source": [
    "print(CMIP_forcing)"
   ]
  },
  {
   "cell_type": "markdown",
   "id": "36f65665-e0fc-43db-bc8b-f7646ae4d244",
   "metadata": {},
   "source": [
    "# Load parameters from calibration\n",
    "Note that we have to use historic calibration constants for future runs: we don't have observations yet!!"
   ]
  },
  {
   "cell_type": "code",
   "execution_count": 46,
   "id": "f2ca0066-68a7-4400-8a5b-b6d4bcfd7dee",
   "metadata": {
    "ExecuteTime": {
     "end_time": "2024-03-07T14:21:34.528887900Z",
     "start_time": "2024-03-07T14:21:34.501125300Z"
    }
   },
   "outputs": [
    {
     "data": {
      "text/html": [
       "<pre style=\"white-space:pre;overflow-x:auto;line-height:normal;font-family:Menlo,'DejaVu Sans Mono',consolas,'Courier New',monospace\"><span style=\"font-weight: bold\">[</span>\n",
       "    <span style=\"font-weight: bold\">(</span><span style=\"color: #008000; text-decoration-color: #008000\">'Imax'</span>, <span style=\"color: #008080; text-decoration-color: #008080; font-weight: bold\">0.0</span><span style=\"font-weight: bold\">)</span>,\n",
       "    <span style=\"font-weight: bold\">(</span><span style=\"color: #008000; text-decoration-color: #008000\">'Ce'</span>, <span style=\"color: #008080; text-decoration-color: #008080; font-weight: bold\">0.869</span><span style=\"font-weight: bold\">)</span>,\n",
       "    <span style=\"font-weight: bold\">(</span><span style=\"color: #008000; text-decoration-color: #008000\">'Sumax'</span>, <span style=\"color: #008080; text-decoration-color: #008080; font-weight: bold\">102.508</span><span style=\"font-weight: bold\">)</span>,\n",
       "    <span style=\"font-weight: bold\">(</span><span style=\"color: #008000; text-decoration-color: #008000\">'Beta'</span>, <span style=\"color: #008080; text-decoration-color: #008080; font-weight: bold\">2.202</span><span style=\"font-weight: bold\">)</span>,\n",
       "    <span style=\"font-weight: bold\">(</span><span style=\"color: #008000; text-decoration-color: #008000\">'Pmax'</span>, <span style=\"color: #008080; text-decoration-color: #008080; font-weight: bold\">1.058</span><span style=\"font-weight: bold\">)</span>,\n",
       "    <span style=\"font-weight: bold\">(</span><span style=\"color: #008000; text-decoration-color: #008000\">'Tlag'</span>, <span style=\"color: #008080; text-decoration-color: #008080; font-weight: bold\">0.184</span><span style=\"font-weight: bold\">)</span>,\n",
       "    <span style=\"font-weight: bold\">(</span><span style=\"color: #008000; text-decoration-color: #008000\">'Kf'</span>, <span style=\"color: #008080; text-decoration-color: #008080; font-weight: bold\">1.159</span><span style=\"font-weight: bold\">)</span>,\n",
       "    <span style=\"font-weight: bold\">(</span><span style=\"color: #008000; text-decoration-color: #008000\">'Ks'</span>, <span style=\"color: #008080; text-decoration-color: #008080; font-weight: bold\">1.594</span><span style=\"font-weight: bold\">)</span>,\n",
       "    <span style=\"font-weight: bold\">(</span><span style=\"color: #008000; text-decoration-color: #008000\">'FM'</span>, <span style=\"color: #008080; text-decoration-color: #008080; font-weight: bold\">0.598</span><span style=\"font-weight: bold\">)</span>\n",
       "<span style=\"font-weight: bold\">]</span>\n",
       "</pre>\n"
      ],
      "text/plain": [
       "\u001b[1m[\u001b[0m\n",
       "    \u001b[1m(\u001b[0m\u001b[32m'Imax'\u001b[0m, \u001b[1;36m0.0\u001b[0m\u001b[1m)\u001b[0m,\n",
       "    \u001b[1m(\u001b[0m\u001b[32m'Ce'\u001b[0m, \u001b[1;36m0.869\u001b[0m\u001b[1m)\u001b[0m,\n",
       "    \u001b[1m(\u001b[0m\u001b[32m'Sumax'\u001b[0m, \u001b[1;36m102.508\u001b[0m\u001b[1m)\u001b[0m,\n",
       "    \u001b[1m(\u001b[0m\u001b[32m'Beta'\u001b[0m, \u001b[1;36m2.202\u001b[0m\u001b[1m)\u001b[0m,\n",
       "    \u001b[1m(\u001b[0m\u001b[32m'Pmax'\u001b[0m, \u001b[1;36m1.058\u001b[0m\u001b[1m)\u001b[0m,\n",
       "    \u001b[1m(\u001b[0m\u001b[32m'Tlag'\u001b[0m, \u001b[1;36m0.184\u001b[0m\u001b[1m)\u001b[0m,\n",
       "    \u001b[1m(\u001b[0m\u001b[32m'Kf'\u001b[0m, \u001b[1;36m1.159\u001b[0m\u001b[1m)\u001b[0m,\n",
       "    \u001b[1m(\u001b[0m\u001b[32m'Ks'\u001b[0m, \u001b[1;36m1.594\u001b[0m\u001b[1m)\u001b[0m,\n",
       "    \u001b[1m(\u001b[0m\u001b[32m'FM'\u001b[0m, \u001b[1;36m0.598\u001b[0m\u001b[1m)\u001b[0m\n",
       "\u001b[1m]\u001b[0m\n"
      ]
     },
     "metadata": {},
     "output_type": "display_data"
    }
   ],
   "source": [
    "#load calibration constants\n",
    "#par_0 = np.loadtxt(\"/data/eurocsdms-data/calibration/calibration_\" + camelsgb_id + \".csv\", delimiter = \",\")\n",
    "# par_0 = np.loadtxt(\"/home/rhut/configFiles/calibration\" + camelsgb_id + \".csv\", delimiter = \",\")\n",
    "par_0 = [1.46408246e-07, 8.68881909e-01, 1.02507886e+02, 2.20192834e+00,\n",
    "       1.05791079e+00, 1.84223360e-01, 1.15943798e+00, 1.59419229e+00,\n",
    "       5.97650513e-01]\n",
    "\n",
    "param_names = [\"Imax\", \"Ce\", \"Sumax\", \"Beta\", \"Pmax\", \"Tlag\", \"Kf\", \"Ks\", \"FM\"]\n",
    "print(list(zip(param_names, np.round(par_0, decimals=3))))"
   ]
  },
  {
   "cell_type": "code",
   "execution_count": 27,
   "id": "343475ac-6464-41bd-a153-1e3ac4753861",
   "metadata": {
    "ExecuteTime": {
     "end_time": "2024-03-07T14:21:34.494347400Z",
     "start_time": "2024-03-07T14:21:34.484123900Z"
    }
   },
   "outputs": [],
   "source": [
    "#               Si,  Su, Sf, Ss, Sp\n",
    "s_0 = np.array([0,  100,  0,  5,  0])"
   ]
  },
  {
   "cell_type": "markdown",
   "id": "2ecd7908-16d3-4b6b-8b75-dafe58c66e5b",
   "metadata": {},
   "source": [
    "# Setting up the model\n",
    "The only difference with the previous notebook is that here we pass CMIP instead of ERA5 forcing to the model on creation"
   ]
  },
  {
   "cell_type": "code",
   "execution_count": 28,
   "id": "e17227db-26d7-4633-99f5-c547bcbb0490",
   "metadata": {
    "ExecuteTime": {
     "end_time": "2024-03-07T14:21:34.569218800Z",
     "start_time": "2024-03-07T14:21:34.568127600Z"
    }
   },
   "outputs": [],
   "source": [
    "model = ewatercycle.models.HBV(forcing=CMIP_forcing)"
   ]
  },
  {
   "cell_type": "code",
   "execution_count": 29,
   "id": "ec5c672e-2c63-463a-9c9b-f7303a1547b0",
   "metadata": {
    "ExecuteTime": {
     "end_time": "2024-03-07T14:21:34.948731400Z",
     "start_time": "2024-03-07T14:21:34.568127600Z"
    }
   },
   "outputs": [],
   "source": [
    "config_file, _ = model.setup(parameters=par_0, initial_storage=s_0)"
   ]
  },
  {
   "cell_type": "code",
   "execution_count": 30,
   "id": "05cd8588-6ac3-4113-bc10-73e303162dd8",
   "metadata": {
    "ExecuteTime": {
     "end_time": "2024-03-07T14:21:34.957732500Z",
     "start_time": "2024-03-07T14:21:34.953733500Z"
    }
   },
   "outputs": [],
   "source": [
    "model.initialize(config_file)"
   ]
  },
  {
   "cell_type": "markdown",
   "id": "8be9455d-127a-448c-a76d-a91738f059a4",
   "metadata": {},
   "source": [
    "#### Running the model"
   ]
  },
  {
   "cell_type": "code",
   "execution_count": 31,
   "id": "869223f3-481f-420e-b542-bb2201b6f85a",
   "metadata": {
    "ExecuteTime": {
     "start_time": "2024-03-07T14:21:34.997729900Z"
    }
   },
   "outputs": [],
   "source": [
    "Q_m = []\n",
    "time = []\n",
    "while model.time < model.end_time:\n",
    "    model.update()\n",
    "    Q_m.append(model.get_value(\"Q\")[0])\n",
    "    time.append(pd.Timestamp(model.time_as_datetime))"
   ]
  },
  {
   "cell_type": "code",
   "execution_count": 32,
   "id": "0717d221-b5fc-499d-b35b-1060f39c2ffb",
   "metadata": {
    "ExecuteTime": {
     "end_time": "2024-03-07T14:21:35.030728200Z",
     "start_time": "2024-03-07T14:21:34.997729900Z"
    }
   },
   "outputs": [],
   "source": [
    "model.finalize()"
   ]
  },
  {
   "cell_type": "markdown",
   "id": "9249c652-0d93-48ce-88ae-edcfa67abbcc",
   "metadata": {},
   "source": [
    "#### Process results"
   ]
  },
  {
   "cell_type": "code",
   "execution_count": 33,
   "id": "cb6261ee-b42f-48db-a17f-e8baca5eaf59",
   "metadata": {
    "ExecuteTime": {
     "start_time": "2024-03-07T14:21:34.997729900Z"
    }
   },
   "outputs": [],
   "source": [
    "model_output = pd.Series(data=Q_m, name=\"Modelled discharge\", index=time)"
   ]
  },
  {
   "cell_type": "code",
   "execution_count": 34,
   "id": "c11dfaa0-2c18-4a12-9206-c99a866fa6ad",
   "metadata": {},
   "outputs": [],
   "source": [
    "# model_output.plot()\n",
    "# ds_forcing[\"Q\"].plot(label=\"Observed discharge\")\n",
    "# plt.legend()\n",
    "# plt.ylabel(\"Discharge (mm/d)\")"
   ]
  },
  {
   "cell_type": "code",
   "execution_count": 35,
   "id": "e867b366-8974-44fe-b00f-da018b6c66bb",
   "metadata": {},
   "outputs": [
    {
     "data": {
      "image/png": "[encoded data removed]",
      "text/plain": [
       "<Figure size 640x480 with 1 Axes>"
      ]
     },
     "metadata": {},
     "output_type": "display_data"
    }
   ],
   "source": [
    "catchment_area = ds_forcing[\"area\"].values\n",
    "\n",
    "\n",
    "df = pd.DataFrame(model_output)\n",
    "model_data = df['Modelled discharge'] * catchment_area * 1000 / (24 * 60 * 60)\n",
    "(ds_forcing[\"Q\"]* catchment_area * 1000 / (24 * 60 * 60)).plot(label=\"Observed discharge\")\n",
    "\n",
    "plt.plot(df.index, model_data, label='Modelled discharge (m³/s)')\n",
    "\n",
    "plt.xlabel('Date')\n",
    "plt.ylabel('Discharge (m³/s)')\n",
    "plt.title('Modelled Discharge')\n",
    "plt.xticks(rotation=45)  # Draai de datums voor betere leesbaarheid\n",
    "plt.legend()\n",
    "\n",
    "# plt.savefig(\"/home/thirza/BEPproject/book/Grafieken/modelleddischarge.png\", dpi=300)\n",
    "plt.show()"
   ]
  },
  {
   "cell_type": "code",
   "execution_count": 36,
   "id": "6ab69bca-1f95-43d3-851c-47b716be13dd",
   "metadata": {},
   "outputs": [
    {
     "data": {
      "text/html": [
       "<pre style=\"white-space:pre;overflow-x:auto;line-height:normal;font-family:Menlo,'DejaVu Sans Mono',consolas,'Courier New',monospace\">For a mean threshold value of <span style=\"color: #008080; text-decoration-color: #008080; font-weight: bold\">530</span> m3/s, the return period is <span style=\"color: #008080; text-decoration-color: #008080; font-weight: bold\">379.269</span> years for fit all data\n",
       "</pre>\n"
      ],
      "text/plain": [
       "For a mean threshold value of \u001b[1;36m530\u001b[0m m3/s, the return period is \u001b[1;36m379.269\u001b[0m years for fit all data\n"
      ]
     },
     "metadata": {},
     "output_type": "display_data"
    },
    {
     "data": {
      "text/html": [
       "<pre style=\"white-space:pre;overflow-x:auto;line-height:normal;font-family:Menlo,'DejaVu Sans Mono',consolas,'Courier New',monospace\">For a mean threshold value of <span style=\"color: #008080; text-decoration-color: #008080; font-weight: bold\">534</span> m3/s, the return period is <span style=\"color: #008080; text-decoration-color: #008080; font-weight: bold\">385.256</span> years for fit all data\n",
       "</pre>\n"
      ],
      "text/plain": [
       "For a mean threshold value of \u001b[1;36m534\u001b[0m m3/s, the return period is \u001b[1;36m385.256\u001b[0m years for fit all data\n"
      ]
     },
     "metadata": {},
     "output_type": "display_data"
    },
    {
     "data": {
      "image/png": "[encoded data removed]",
      "text/plain": [
       "<Figure size 640x480 with 1 Axes>"
      ]
     },
     "metadata": {},
     "output_type": "display_data"
    }
   ],
   "source": [
    "import scipy.stats as stats\n",
    "import math\n",
    "from scipy.optimize import curve_fit, fsolve\n",
    "\n",
    "# Sort data from high to low\n",
    "sorted_model_data = np.sort(model_data)[::-1]  # Sorteer aflopend\n",
    "\n",
    "\n",
    "def power_law(x, a, b):\n",
    "    return a * x ** b\n",
    "\n",
    "def calculate_return_periods(sorted_model_data):\n",
    "    n = len(sorted_model_data)\n",
    "    rank = np.arange(1, n + 1)\n",
    "    return_periods_days = (n + 1) / rank\n",
    "    return_periods_years = return_periods_days / 365.25\n",
    "    \n",
    "    # Alleen de data voor returnperioden >= 0 behouden\n",
    "    return_periods_years_subset = return_periods_years[return_periods_years >= 0]\n",
    "    sorted_data_subset = sorted_model_data[return_periods_years >= 0]\n",
    "\n",
    "    # Fit de power law functie\n",
    "    params, _ = curve_fit(power_law, return_periods_years_subset, sorted_data_subset, maxfev=1000)\n",
    "    a_opt, b_opt = params\n",
    "\n",
    "    # Maak een fit voor de return period\n",
    "    x_fit = np.logspace(np.log(min(return_periods_years_subset)), np.log(max(return_periods_years_subset))*0.8, 1000)\n",
    "    y_fit = power_law(x_fit, a_opt, b_opt)\n",
    "\n",
    "    return x_fit, y_fit, a_opt, b_opt, return_periods_years_subset, sorted_data_subset\n",
    "\n",
    "x_fit, y_fit, a_opt, b_opt, return_periods_years_subset, sorted_data_subset = calculate_return_periods(sorted_model_data)\n",
    "\n",
    "def find_x_for_y(y_target, a, b):\n",
    "    return (y_target / a) ** (1 / b)\n",
    "y_target = 530\n",
    "x_value = find_x_for_y(y_target, a_opt, b_opt)\n",
    "print(f\"For a mean threshold value of {y_target} m3/s, the return period is {x_value:.3f} years for fit all data\")\n",
    "\n",
    "y_target = 534\n",
    "x_value = find_x_for_y(y_target, a_opt, b_opt)\n",
    "print(f\"For a mean threshold value of {y_target} m3/s, the return period is {x_value:.3f} years for fit all data\")\n",
    "\n",
    "plt.plot(x_fit, y_fit, label=f'Fit Future Climate')\n",
    "\n",
    "plt.hlines(y_target, xmin=0, xmax=x_value, colors='g', linestyles='dashed')\n",
    "plt.vlines(x_value, ymin=0, ymax=y_target, colors='g', linestyles='dashed')\n",
    "plt.text(x_value, -50, f'{x_value:.0f} years', ha='center', fontsize=12, color='black')\n",
    "\n",
    "plt.xscale('log')\n",
    "plt.scatter(return_periods_years_subset, sorted_data_subset, label='Model', color='r')\n",
    "plt.legend()\n",
    "plt.xlabel('Return period (years)')\n",
    "plt.ylabel('Discharge ($m^3/s$)')\n",
    "plt.title('Future Discharge Extrapolation')\n",
    "plt.grid(True, which=\"both\", linestyle=\"--\", linewidth=0.5)\n",
    "plt.show()"
   ]
  }
 ],
 "metadata": {
  "kernelspec": {
   "display_name": "Python 3 (ipykernel)",
   "language": "python",
   "name": "python3"
  },
  "language_info": {
   "codemirror_mode": {
    "name": "ipython",
    "version": 3
   },
   "file_extension": ".py",
   "mimetype": "text/x-python",
   "name": "python",
   "nbconvert_exporter": "python",
   "pygments_lexer": "ipython3",
   "version": "3.12.7"
  }
 },
 "nbformat": 4,
 "nbformat_minor": 5
}
