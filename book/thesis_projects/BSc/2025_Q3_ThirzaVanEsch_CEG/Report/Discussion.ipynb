{
 "cells": [
  {
   "cell_type": "markdown",
   "id": "f0cfd98f-34db-4833-b8a8-bdd3c46c75aa",
   "metadata": {},
   "source": [
    "# Discussion"
   ]
  },
  {
   "cell_type": "markdown",
   "id": "7f7a3274-0153-4f42-8c1d-330afec50d54",
   "metadata": {},
   "source": [
    "## Key Findings"
   ]
  },
  {
   "cell_type": "markdown",
   "id": "c6bc540d-1799-4227-80c2-f3cd12978b68",
   "metadata": {},
   "source": [
    "This research aimed to investigate the impact of predicted climate change on the hydrology of the Wien River and the implications for flooding of the adjacent U4 subway line. The study focussed on determining the flooding threshold, estimating the current frequency of threshold exceedance, and projecting future frequency of exceedance under different climate change scenarios using the HBV model. \n",
    "\n",
    "The findings indicate that climate change will increase the frequency of extreme discharges, reducing the return periods for flooding."
   ]
  },
  {
   "cell_type": "markdown",
   "id": "a3fcfd9c-b71a-4b73-b857-7969ee0b56d5",
   "metadata": {},
   "source": [
    "### Current Threshold for Flooding"
   ]
  },
  {
   "cell_type": "markdown",
   "id": "2e33f8b7-1174-400a-9362-f3473dc3878c",
   "metadata": {},
   "source": "In Chapter 2, the critical discharge at which the U4 subway line is expected to flood is determined to be at a mean value of $530$ or $534$ $m^3 / s$. These thresholds are based on studies by Faber (2006) and Compton et al. (2009), who determined that overtopping is the primary mechanism leading to flooding, rather than stuctural failure of the floodwall. Given that the threshold values are normally distributed, overtopping could happen with a probability of $5 \\%$ at discharge values of $510$ and $511$ $m^3 / s$, or with a $95 \\%$ probability of actually causing overtopping at discharge values of $557$ and $550$ $m^3 / s$."
  },
  {
   "cell_type": "markdown",
   "id": "75ea7651-89cb-454e-ade0-1eedb6bdd868",
   "metadata": {},
   "source": [
    "### Current Frequency of Threshold Exceedance"
   ]
  },
  {
   "cell_type": "markdown",
   "id": "7b584263-56b3-48e9-8c64-76991f7b829d",
   "metadata": {},
   "source": [
    "The observation data used in Chapter 3 shows that the Wien River has not exceeded the threshold value in the period of 1981 to 2018. The return period of the threshold value is estimated using extrapolation. The return periods of the key discharges from the normal distributions are as followed: \n",
    "\n",
    "*Table 6: Key discharges with return periods and probability of actually causing flooding of the U4*\n",
    "\n",
    "|  **Discharge ($m^3/s$)** | **Return Period (Years)** | **Probability of Flooding** |\n",
    "|-------------------------:|:-------------------------:|:---------------------------:|\n",
    "|                  **510** |           $597$           |           $5 \\%$            |\n",
    "|                  **511** |           $599$           |           $5 \\%$            |\n",
    "|                  **530** |           $641$           |           $50 \\%$           |\n",
    "|                  **534** |           $650$           |           $50 \\%$           |\n",
    "|                  **550** |           $686$           |           $95 \\%$           |\n",
    "|                  **557** |           $702$           |           $95 \\%$           |\n",
    "\n",
    "\n",
    "These return periods imply that under current climate conditions, the return period of the discharge severe enough to cause flooding of the U4 subway line is already more frequent than the 1000 year return period the Wien River was designed for. "
   ]
  },
  {
   "cell_type": "markdown",
   "id": "c39360bb-efa2-4d60-8809-ad21cd5fa958",
   "metadata": {},
   "source": [
    "### Future Frequency of Threshold Exceedance under Climate Change Scenarios"
   ]
  },
  {
   "cell_type": "markdown",
   "id": "de3e11c9-af2c-4d46-b325-e5bfbc0c5786",
   "metadata": {},
   "source": [
    "Using the HBV model with CMIP6 climate projections, future return periods for the $530$ $m^3 / s$ flooding threshold were estimated under different SSP scenarios. These results show that climate change scenarios have significant impact on the return periods of the discharge threshold value. The return periods for differenct climate change scenarios for a threshold value of $530$ $m^3 / s$ are determined:\n",
    "\n",
    "*Table 7: The SSPs with their return periods for the threshold value for flooding of the U4. The uncertainty range of $27.7 \\%$ is calculated as well.*\n",
    "\n",
    "|             **Climate Scenario (SSP)** | **Return Period (Years)** | **Model Uncertainty Range (Years)** |\n",
    "|---------------------------------------:|:-------------------------:|:-----------------------------------:|\n",
    "|            **SSP119 (sustainability)** |           $697$           |            $504$ – $890$            |\n",
    "|            **SSP126 (sustainability)** |           $238$           |            $172$ – $292$            |\n",
    "|        **SSP245 (middle of the road)** |           $191$           |            $138$ – $234$            |\n",
    "|          **SSP370 (regional rivalry)** |           $272$           |            $197$ – $334$            |\n",
    "| **SSP585 (fossil-fueled development)** |           $235$           |            $170$ – $288$            |\n",
    "\n"
   ]
  },
  {
   "cell_type": "markdown",
   "id": "f7746052-d11e-46a3-97c5-3e8b0e0a8206",
   "metadata": {},
   "source": [
    "## Interpretation of Results"
   ]
  },
  {
   "cell_type": "markdown",
   "id": "2d2cf302-d4fc-40ca-aa52-3b6614a8208e",
   "metadata": {},
   "source": [
    "If the return periods under the different climate change scenarios are compared to the current return period of the threshold value, it can be seen that only SSP119 results in a higher return period. The rest of the climate change scenarios all result in a lower return period and thus a higher frequency of flooding of the U4 subway line. A shocking outcome is the return period of scenario SSP126, this is a sustainability scenario, but results in a lower return period than the current return period. This means that increased floodrisk is likely even with climate mitigation efforts. "
   ]
  },
  {
   "cell_type": "markdown",
   "id": "d6bb4348-e2b9-4180-a136-5da953b51e8c",
   "metadata": {},
   "source": [
    "## Implications of Findings"
   ]
  },
  {
   "cell_type": "markdown",
   "id": "84051362-d110-4859-97a5-0b4beb4d4736",
   "metadata": {},
   "source": [
    "The findings of this research have significant implications for the urban flood risk management in Vienna. The increasing frequency of extreme discharges increases the risk of flooding of the U4 subway line. The Wien River is currently designed to withstand a discharge with a return period of 1000 years, but in reality the Wien Rivers flooding threshold currently has a return period of 641 years. Under four of the five investigated climate change projections this return period of flooding will only decrease. This means that the current flood protection infrastucture of the Wien River is insufficient to realize the designed return period for flooding of 1000 years, and needs reinforcement."
   ]
  },
  {
   "cell_type": "markdown",
   "id": "99778706-aa0c-468d-aed8-aaa4c365a47c",
   "metadata": {},
   "source": [
    "## Limitations"
   ]
  },
  {
   "cell_type": "markdown",
   "id": "8d5f7b6d-56d9-4871-9711-8204d40e2c92",
   "metadata": {},
   "source": [
    "While this research provides a valuable assessment of future flood risk of the U4 subway line, some limitations must be acknowledged. First of all, the observed data covers only a period of about 40 years and does not contain a discharge as high as the threshold value, resulting in the need for extrapolation. This means that estimating the return periods for extreme discharges relies on statistical extrapolation, introducing the risk for potential errors.\\\n",
    "The data only being available for a period of around 40 years also influences the parameter calibration. The calibration period contains peaks, but the validation period does not. This causes the model to overestimate the amount of peaks in the validation period. It is decided to choose the calibration and validation periods like this, and not to alter them. Altering them, so choosing a calibration period with the period without peaks, causes the model to underestimate the amount of peaks in the validation period. Overestimating peaks is more 'safe' than underestimating peaks. It is important to consider that the model is calibrated on a limited period of data, and it is uncertain how representative this data is.\\\n",
    "Furthermore, the HBV model, like all hydrological models, is a simplification of reality. The model has inherent uncertainties caused by the parameter calibration, data quality and simplification in the representation of the catchment area and the inherent physical processes.\\\n",
    "The use of climate projections also brings its uncertainties. Climate models are biased, they are focussed on perfecting the energy balance. This means they are not focussed on specifically the waterbalance. Projections for precipitation may thus not be as good as temperature projections. Furthermore, in this research only one of the 25 ensemblemembers of the MPI model is used because of a lack of time. Other ensemblemembers could give other projections that result in different return periods. Using all the 25 ensemblemembers would reduce uncertainties.\n",
    "\n",
    "Despite these limitations, the research provides a good understanding of the future flood risks under different climate change scenarios, and highlights the need for action in urban flood protection infrastucture."
   ]
  },
  {
   "cell_type": "markdown",
   "id": "5a5eaa63-e916-4f02-8a12-21d175394dea",
   "metadata": {},
   "source": [
    "## Recommendations"
   ]
  },
  {
   "cell_type": "markdown",
   "id": "1eea2f5e-12bf-4a84-8efc-eafb774c1dc3",
   "metadata": {},
   "source": [
    "To improve the accuracy and applicabilty of flood risk assessment of the Wien River, future studies should consider using all the 25 ensemblemembers of the MPI climate model. In this way uncertainty is reduced, and the results of the return period calculations will be more reliable.\\\n",
    "Furthermore, the flood protection infrastucture can be investigated. Due to the time limitation of this research this could not be done, but it would be of great relevance to investigate the current flood protection infrastructure of the Wien River and look for where and what reinforcements can be applied."
   ]
  },
  {
   "cell_type": "markdown",
   "id": "d34aface-f919-449e-8727-93dd6090a9c4",
   "metadata": {},
   "source": []
  }
 ],
 "metadata": {
  "kernelspec": {
   "display_name": "Python 3 (ipykernel)",
   "language": "python",
   "name": "python3"
  },
  "language_info": {
   "codemirror_mode": {
    "name": "ipython",
    "version": 3
   },
   "file_extension": ".py",
   "mimetype": "text/x-python",
   "name": "python",
   "nbconvert_exporter": "python",
   "pygments_lexer": "ipython3",
   "version": "3.12.7"
  }
 },
 "nbformat": 4,
 "nbformat_minor": 5
}
