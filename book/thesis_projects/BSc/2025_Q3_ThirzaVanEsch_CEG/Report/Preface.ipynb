{
 "cells": [
  {
   "cell_type": "markdown",
   "id": "081f4e21-47c2-4139-a1a9-736f1a0d0cac",
   "metadata": {},
   "source": [
    "# Preface\n",
    "Presented before you is my bachelor thesis with the title: “The Impact of Climate Change on the Hydrology of the Wien River and the Implications for Flooding of the Adjacent U4 Subway Line”. During my Bachelor’s in Civil Engineering, I learned about a wide range of topics, but hydrology has been my main area of interest. With climate change effects being of growing significance, researching its impact on a river seemed like a meaningful and interesting choice to write my thesis about.\n",
    "\n",
    "Writing this thesis has learned me a lot about using a hydrological model. It also expanded my programming skills and challenged me to critically assess data and results.\n",
    "\n",
    "I would like to thank dr. ir. Rolf Hut and ir. Vincent Hoogelander for their excellent guidance throughout my research. Your support with helping me narrow down my topic, structure my research and critically evaluate my results has been of great importance. I would like to thank ir. Mark Melotto as well for helping me with issues concerning the eWaterCycle platform. Additionally, I would like to thank Lars Kramer, for providing me with peer feedback. \n",
    "\n",
    "My hope for this research is that it will contribute to a broader understanding of the impact of climate change on rivers. Furthermore, I aim to provide the city of Vienna with recommendations on whether or not their flood protection infrastructure for the U4 Subway Line will need improvements. \n",
    "\n",
    "I hope you find this thesis an interesting read.\n",
    "\n",
    "Thirza van Esch\\\n",
    "Delft, 30-3-2025"
   ]
  }
 ],
 "metadata": {
  "kernelspec": {
   "display_name": "Python 3 (ipykernel)",
   "language": "python",
   "name": "python3"
  },
  "language_info": {
   "codemirror_mode": {
    "name": "ipython",
    "version": 3
   },
   "file_extension": ".py",
   "mimetype": "text/x-python",
   "name": "python",
   "nbconvert_exporter": "python",
   "pygments_lexer": "ipython3",
   "version": "3.12.7"
  }
 },
 "nbformat": 4,
 "nbformat_minor": 5
}
