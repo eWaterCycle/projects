{
 "cells": [
  {
   "cell_type": "markdown",
   "id": "2a471a27-e82d-4875-811c-10022d4502f5",
   "metadata": {},
   "source": [
    "# Conclusion"
   ]
  },
  {
   "cell_type": "markdown",
   "id": "9b1ef1de-4bfd-4ae3-bdc2-76e825858d86",
   "metadata": {},
   "source": [
    "This research investigated the impact of climate change on the hydrology of the Wien River and its implications for flooding of the adjacent U4 subway line. This is investigated by using the HBV model with CMIP6 climate change projections. The current discharge above which the Wien River will flood is 530-534 $m^3 / s$, with overtopping as the primary failure mechanism. \\\n",
    "The current return period of this threshold exceedance is determined to be 641 years, which is already more frequent than the design return period of 1000 years originally intended for the Wien Rivers flood management system. Under climate change scenario SSP119, the return period of threshold exceedance is expected to increase to 697 years, suggesting a slight decrease in flood risk. However, under all other projected climate change scenarios the return periods are expected to decrease, ranging from 191 to 272 years. This suggests a significant increase in the frequency of extreme discharge events.\n",
    "\n",
    "Overall, it can be concluded that the impact of climate change on the hydrology of the Wien River is that extreme discharges will become more frequent in four out of the five SSP scenarios. Its implications for flooding of the adjacent U4 subway line are that its return period for flooding will be far more frequent than the intended design period of once every 1000 years. Given these projections, reinforcing flood protection infrastructure is of great importance to maintain safety and functionality of the U4 subway line."
   ]
  },
  {
   "cell_type": "code",
   "execution_count": null,
   "id": "e042d410-5b43-446f-9329-5f9547805d02",
   "metadata": {},
   "outputs": [],
   "source": []
  }
 ],
 "metadata": {
  "kernelspec": {
   "display_name": "Python 3 (ipykernel)",
   "language": "python",
   "name": "python3"
  },
  "language_info": {
   "codemirror_mode": {
    "name": "ipython",
    "version": 3
   },
   "file_extension": ".py",
   "mimetype": "text/x-python",
   "name": "python",
   "nbconvert_exporter": "python",
   "pygments_lexer": "ipython3",
   "version": "3.12.7"
  }
 },
 "nbformat": 4,
 "nbformat_minor": 5
}
