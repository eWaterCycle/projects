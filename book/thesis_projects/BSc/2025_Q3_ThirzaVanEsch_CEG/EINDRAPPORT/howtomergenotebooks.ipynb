{
 "cells": [
  {
   "cell_type": "code",
   "execution_count": 10,
   "id": "7be43fbf-2a25-4755-966b-25ef8e6cb4e1",
   "metadata": {},
   "outputs": [],
   "source": [
    "import nbformat\n",
    "\n",
    "# De bestanden van de notebooks die je wilt samenvoegen\n",
    "notebooks = [\"Preface.ipynb\",'ABSTRACT.ipynb', \"INTRODUCTION.ipynb\", \"CHAPTER1.ipynb\", 'CHAPTER2.ipynb', 'CHAPTER3OVER.ipynb', 'CHAPTER4.ipynb', \n",
    "            'Discussion.ipynb', 'Conclusion.ipynb', 'REFERENCES.ipynb', 'APPENDIX1.ipynb', 'APPENDIX2.ipynb']\n",
    "\n",
    "# Maak een nieuw notebook aan\n",
    "merged_notebook = nbformat.v4.new_notebook()\n",
    "\n",
    "# Voeg de cellen van de andere notebooks toe\n",
    "for nb_file in notebooks:\n",
    "    with open(nb_file, \"r\", encoding=\"utf-8\") as f:\n",
    "        notebook_content = nbformat.read(f, as_version=4)\n",
    "        merged_notebook.cells.extend(notebook_content.cells)\n",
    "\n",
    "# Sla het nieuwe notebook op\n",
    "with open(\"Eindrapport.ipynb\", \"w\", encoding=\"utf-8\") as f:\n",
    "    nbformat.write(merged_notebook, f)\n"
   ]
  },
  {
   "cell_type": "code",
   "execution_count": null,
   "id": "18d375b2-27f6-47d3-bb32-2dd5cbf97363",
   "metadata": {},
   "outputs": [],
   "source": []
  },
  {
   "cell_type": "code",
   "execution_count": null,
   "id": "dc3e9ea2-d1a0-4439-aa35-3f71db51b4fe",
   "metadata": {},
   "outputs": [],
   "source": []
  }
 ],
 "metadata": {
  "kernelspec": {
   "display_name": "Python 3 (ipykernel)",
   "language": "python",
   "name": "python3"
  },
  "language_info": {
   "codemirror_mode": {
    "name": "ipython",
    "version": 3
   },
   "file_extension": ".py",
   "mimetype": "text/x-python",
   "name": "python",
   "nbconvert_exporter": "python",
   "pygments_lexer": "ipython3",
   "version": "3.12.7"
  }
 },
 "nbformat": 4,
 "nbformat_minor": 5
}
