{
 "cells": [
  {
   "cell_type": "markdown",
   "id": "6439e7f4-4fc2-446a-a996-f664d114009d",
   "metadata": {},
   "source": [
    "\\newpage"
   ]
  },
  {
   "cell_type": "markdown",
   "id": "97fe0b23-0c45-4605-be3e-0e56a46a9638",
   "metadata": {},
   "source": [
    "\\section*{Abstract}\n",
    "\n",
    "Climate change will cause precipitation to increase in the Northern Hemisphere, impacting  river discharge and flood risk. This research assesses the impact of climate change on the hydrology of the Wien River and the implications for flooding of the adjacent U4 subway line. This is done with use of the HBV model forced with CMIP6 data.\n",
    "\n",
    "First, the threshold for flooding of the U4 subway line is determined, after which observation data is used to determine the current return period of threshold exceedance. The HBV model is then calibrated and forced with CMIP6 data to model future discharges.\n",
    "\n",
    "The discharge threshold before flooding is determined by looking at other studies to be 530 m\\textsuperscript{3}/s. Looking at observation data, the current return period of threshold exceedance is 641 years. Under the SSP119 scenario, a sustainability scenario, the future return period of threshold exceedance is 697 years. The four other investigated scenarios result in future return periods ranging from 191 to 272 years.\n",
    "\n",
    "This means that for four of the five SSP scenarios, extreme discharge events will become more frequent. Considering the current return period already being lower than the design return period of 1000 years, the return period for flooding of the U4 subway line will get even lower under four out of five climate change projections. \n",
    "\n",
    "Due to the limited availability of observation data, a period of around 40 years, and only using one ensemble of the 25 ensemble members of the MPI model, uncertainties exist in return period estimation and model calibration. Future research should investigate all the 25 ensemblemembers to reduce uncertainties. A follow-up study could investigate the current flood protection infrastructure and find potential reinforcements. \n",
    "\n",
    "\\newpage"
   ]
  },
  {
   "cell_type": "markdown",
   "id": "705f6663-92a6-4a1c-93a7-ab5ce1010218",
   "metadata": {},
   "source": [
    "\\tableofcontents\n",
    "\\newpage"
   ]
  },
  {
   "cell_type": "markdown",
   "id": "54fbe879-b274-4ff7-9b13-59ad8cd93f81",
   "metadata": {},
   "source": [
    "\\pagenumbering{arabic}"
   ]
  }
 ],
 "metadata": {
  "kernelspec": {
   "display_name": "Python 3 (ipykernel)",
   "language": "python",
   "name": "python3"
  },
  "language_info": {
   "codemirror_mode": {
    "name": "ipython",
    "version": 3
   },
   "file_extension": ".py",
   "mimetype": "text/x-python",
   "name": "python",
   "nbconvert_exporter": "python",
   "pygments_lexer": "ipython3",
   "version": "3.12.7"
  }
 },
 "nbformat": 4,
 "nbformat_minor": 5
}
