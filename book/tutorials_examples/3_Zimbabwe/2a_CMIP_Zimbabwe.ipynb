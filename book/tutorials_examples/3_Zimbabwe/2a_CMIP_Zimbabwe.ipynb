{
 "cells": [
  {
   "cell_type": "markdown",
   "id": "095245cb-4afa-44f0-a043-ac70b3eb5e36",
   "metadata": {},
   "source": [
    "# Workshop Exercise\n",
    "\n",
    "Let us do some research now, with help of the [CMIP6 dataset](https://pcmdi.llnl.gov/CMIP6/).\n",
    "We will look how our model fares with historical CMIP data and their climate models that predict future scenarios.\n",
    "I have setup some possible climate change models for you to use, you have to fill in your camel ID and think of a research question!\n",
    "\n",
    "We like the sentence:\n",
    "- To understand [environment issue] in [region] we will study te impact of [verb/noun] on [hydrological variable].\n",
    "\n",
    "But feel free to come up with your own!\n",
    "Some hints:\n",
    "- Maybe look at a smaller time period of 5-10 years.\n",
    "- What do certain climate changes do to your region.\n",
    "\n",
    "## In This Notebook: Generate CMIP Forcing\n",
    "\n",
    "We will generate the forcing in this notebook, this is done because this usually takes a bit longer and you only want to do this once.\n",
    "**RUN THIS NOTEBOOK ONCE**"
   ]
  },
  {
   "cell_type": "markdown",
   "id": "ed5eb69b-2b69-4aaa-9d69-25c5cad0c832",
   "metadata": {},
   "source": [
    "## Importing and setting up"
   ]
  },
  {
   "cell_type": "code",
   "execution_count": 2,
   "id": "efd211ab-457d-4a59-83a0-5b5499a74160",
   "metadata": {},
   "outputs": [],
   "source": [
    "# Ignore user warnings :)\n",
    "import warnings\n",
    "warnings.filterwarnings(\"ignore\", category=UserWarning)\n",
    "\n",
    "# Required dependencies\n",
    "import ewatercycle.forcing\n",
    "from pathlib import Path\n",
    "from cartopy.io import shapereader\n",
    "import pandas as pd\n",
    "import numpy as np\n",
    "from rich import print\n",
    "import xarray as xr\n",
    "import shutil\n",
    "import ewatercycle\n",
    "\n",
    "from util_functions import *"
   ]
  },
  {
   "cell_type": "markdown",
   "id": "8b785e76-b086-4633-b891-0b47451cdbb0",
   "metadata": {},
   "source": [
    "**TO DO**\n",
    "\n",
    "Change to your region here, you can change the folder structure as well, but note that you will have to change that in upcoming notebooks as well!"
   ]
  },
  {
   "cell_type": "code",
   "execution_count": 3,
   "id": "80770fd9-8b9a-404c-8ba7-def54da5a8c7",
   "metadata": {},
   "outputs": [],
   "source": [
    "# Copy your camel ID from previous Notebook\n",
    "camel_id = \"AF_1491830.0\""
   ]
  },
  {
   "cell_type": "code",
   "execution_count": 4,
   "id": "77c0bd94-3677-46d0-8bda-4c1e41900f33",
   "metadata": {},
   "outputs": [],
   "source": [
    "# Defining path for catchment shape file\n",
    "central_path = \"/data/datasets/zimbabwe/camel_data\"\n",
    "\n",
    "path_to_save = Path.home() / \"my_data/workshop_zimbabwe\"\n",
    "path_to_save.mkdir(exist_ok=True, parents=True)\n",
    "\n",
    "shape_file = central_path + \"/shapefiles\" + f\"/{str(camel_id[:-2])}\" + f\"/{str(camel_id[:-2])}.shp\"\n",
    "data_file_nc = central_path + (f\"/{camel_id}.nc\")\n",
    "\n",
    "my_data_nc = xr.open_dataset(data_file_nc, engine=\"netcdf4\")\n",
    "\n",
    "# Defining destination path for CMIP data\n",
    "forcing_path_CMIP = path_to_save / \"CMIP_forcing\"\n",
    "forcing_path_CMIP.mkdir(exist_ok=True)\n",
    "\n",
    "# Model HBV destination path\n",
    "model_path_HBV = path_to_save / \"CMIP_HBV\"\n",
    "model_path_HBV.mkdir(exist_ok=True)"
   ]
  },
  {
   "cell_type": "markdown",
   "id": "89524fe0-b089-4653-ac7b-3211bd2d5a8d",
   "metadata": {},
   "source": [
    "## Gathering CMIP data"
   ]
  },
  {
   "cell_type": "code",
   "execution_count": 5,
   "id": "c2e49c9f-0b92-49c5-8cdc-e09c62ad07bc",
   "metadata": {},
   "outputs": [],
   "source": [
    "historical_start = \"1964-11-01\"\n",
    "historical_end = \"1979-11-30\"\n",
    "\n",
    "future_start_data = \"2026-01-01\"\n",
    "future_end_data = \"2099-12-31\""
   ]
  },
  {
   "cell_type": "code",
   "execution_count": 7,
   "id": "81ccab39-1990-4b0c-9247-4bcb830f67be",
   "metadata": {},
   "outputs": [],
   "source": [
    "# Let us also look at the historical data of CMIP\n",
    "cmip_historical =  {\n",
    "   'project': 'CMIP6',\n",
    "   'exp': 'historical',\n",
    "   'dataset': 'MPI-ESM1-2-HR',\n",
    "   \"ensemble\": 'r1i1p1f1',\n",
    "   'grid': 'gn'\n",
    "}\n",
    "\n",
    "CMIP_forcing = ewatercycle.forcing.sources[\"LumpedMakkinkForcing\"].generate(\n",
    "   dataset=cmip_historical,\n",
    "   start_time=historical_start+\"T00:00:00Z\",\n",
    "   end_time=historical_end+\"T00:00:00Z\",\n",
    "   shape=shape_file,\n",
    "   directory=forcing_path_CMIP / \"historical\",\n",
    ")"
   ]
  },
  {
   "cell_type": "markdown",
   "id": "98adfe70-77c5-4829-bcf5-42d145932849",
   "metadata": {},
   "source": [
    "### Downloading the climate scenarios\n",
    "CMIP datasets can be found [here](https://aims2.llnl.gov/nodes), sometimes their servers are unreachable.\n",
    "CMIP has these climate scenarios based on carbon emmisions, go [here](https://climate-scenarios.canada.ca/?page=cmip6-overview-notes) (or [here](https://www.dkrz.de/en/communication/climate-simulations/cmip6-en/the-ssp-scenarios)) to find out more!\n",
    "Here I setup SSP1, 2 and 5:\n",
    "\n",
    "- **SSP1**: The sustainable and “green” pathway describes an increasingly sustainable world. Global commons are being preserved, the limits of nature are being respected. The focus is more on human well-being than on economic growth. Income inequalities between states and within states are being reduced. Consumption is oriented towards minimizing material resource and energy usage.\n",
    "\n",
    "- **SSP2**: The “Middle of the road” or medium pathway extrapolates the past and current global development into the future. Income trends in different countries are diverging significantly. There is a certain cooperation between states, but it is barely expanded. Global population growth is moderate, leveling off in the second half of the century. Environmental systems are facing a certain degradation.\n",
    "\n",
    "- **SSP3**: Regional rivalry. A revival of nationalism and regional conflicts pushes global issues into the background. Policies increasingly focus on questions of national and regional security. Investments in education and technological development are decreasing. Inequality is rising. Some regions suffer drastic environmental damage.\n",
    "\n",
    "- **SSP4**: Inequality. The chasm between globally cooperating developed societies and those stalling at a lower developmental stage with low income and a low level of education is widening. Environmental policies are successful in tackling local problems in some regions, but not in others.\n",
    "\n",
    "- **SSP5**: Fossil-fueled Development. Global markets are increasingly integrated, leading to innovations and technological progress. The social and economic development, however, is based on an intensified exploitation of fossil fuel resources with a high percentage of coal and an energy-intensive lifestyle worldwide. The world economy is growing and local environmental problems such as air pollution are being tackled successfully.\n",
    "\n",
    "The numbers behind the SSP1xx mean extra radiative forcing of $x.x$ $W/m^2$ by the year 2100. They come in at $1.9$, $2.6$, $3.4$, $4.5$, $6.0$, $7.0$ and $8.5$ $W/m^2$, more [info](https://www.dkrz.de/en/communication/climate-simulations/cmip6-en/the-ssp-scenarios).\n",
    "\n",
    "Since we are saving it to their respective folder (so if you change them, keep track of the folders) we only have to run the data gathering **ONCE**."
   ]
  },
  {
   "cell_type": "code",
   "execution_count": 8,
   "id": "6acafda0-ce98-4276-adb0-2a301af5d874",
   "metadata": {},
   "outputs": [],
   "source": [
    "# We will need to generate CMIP data and save it, to use it later.\n",
    "# ONLY RUN THIS ONCE\n",
    "# DO this for every experiment you want to do!\n",
    "\n",
    "# Generate SSP126 data and save it in the correct directory\n",
    "cmip_dataset =  {\n",
    "   'project': 'CMIP6',\n",
    "   'activity': 'ScenarioMIP',\n",
    "   'exp': 'ssp126',\n",
    "   'mip': 'day',\n",
    "   'dataset': 'MPI-ESM1-2-HR',\n",
    "   'ensemble': 'r1i1p1f1',\n",
    "   'institute': 'DKRZ',\n",
    "   'grid': 'gn'\n",
    "}\n",
    "\n",
    "CMIP_forcing = ewatercycle.forcing.sources[\"LumpedMakkinkForcing\"].generate(\n",
    "   dataset=cmip_dataset,\n",
    "   start_time=future_start_data+\"T00:00:00Z\",\n",
    "   end_time=future_end_data+\"T00:00:00Z\",\n",
    "   shape=shape_file,\n",
    "   directory=forcing_path_CMIP / \"SSP126\",\n",
    ")\n",
    "\n",
    "# Generate SSP245 data and save it in the correct directory\n",
    "cmip_dataset =  {\n",
    "   'project': 'CMIP6',\n",
    "   'activity': 'ScenarioMIP',\n",
    "   'exp': 'ssp245',\n",
    "   'mip': 'day',\n",
    "   'dataset': 'MPI-ESM1-2-HR',\n",
    "   'ensemble': 'r1i1p1f1',\n",
    "   'institute': 'DKRZ',\n",
    "   'grid': 'gn'\n",
    "}\n",
    "\n",
    "CMIP_forcing = ewatercycle.forcing.sources[\"LumpedMakkinkForcing\"].generate(\n",
    "   dataset=cmip_dataset,\n",
    "   start_time=future_start_data+\"T00:00:00Z\",\n",
    "   end_time=future_end_data+\"T00:00:00Z\",\n",
    "   shape=shape_file,\n",
    "   directory=forcing_path_CMIP / \"SSP245\",\n",
    ")\n",
    "\n",
    "# Generate SSP585 data and save it in the correct directory\n",
    "cmip_dataset =  {\n",
    "   'project': 'CMIP6',\n",
    "   'activity': 'ScenarioMIP',\n",
    "   'exp': 'ssp585',\n",
    "   'mip': 'day',\n",
    "   'dataset': 'MPI-ESM1-2-HR',\n",
    "   'ensemble': 'r1i1p1f1',\n",
    "   'institute': 'DKRZ',\n",
    "   'grid': 'gn'\n",
    "}\n",
    "\n",
    "CMIP_forcing = ewatercycle.forcing.sources[\"LumpedMakkinkForcing\"].generate(\n",
    "   dataset=cmip_dataset,\n",
    "   start_time=future_start_data+\"T00:00:00Z\",\n",
    "   end_time=future_end_data+\"T00:00:00Z\",\n",
    "   shape=shape_file,\n",
    "   directory=forcing_path_CMIP / \"SSP585\",\n",
    ")"
   ]
  }
 ],
 "metadata": {
  "kernelspec": {
   "display_name": "Python 3 (ipykernel)",
   "language": "python",
   "name": "python3"
  },
  "language_info": {
   "codemirror_mode": {
    "name": "ipython",
    "version": 3
   },
   "file_extension": ".py",
   "mimetype": "text/x-python",
   "name": "python",
   "nbconvert_exporter": "python",
   "pygments_lexer": "ipython3",
   "version": "3.12.7"
  }
 },
 "nbformat": 4,
 "nbformat_minor": 5
}
