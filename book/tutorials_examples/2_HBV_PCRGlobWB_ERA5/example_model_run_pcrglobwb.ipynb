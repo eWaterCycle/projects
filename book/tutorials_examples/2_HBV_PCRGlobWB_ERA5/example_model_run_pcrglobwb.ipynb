{
 "cells": [
  {
   "cell_type": "markdown",
   "id": "e5442182",
   "metadata": {},
   "source": [
    "![ewatercycle logo](https://raw.githubusercontent.com/eWaterCycle/ewatercycle/main/docs/examples/logo.png)\n",
    "\n",
    "# PCRGlobWB example use case\n",
    "\n",
    "This example shows how the [PCRGlobWB model](https://globalhydrology.nl/research/models/pcr-globwb-2-0/) can be used within the eWaterCycle system. It is assumed you have already seen [this tutorial notebook](../../example_model_run_HBV.ipynb) explaining how to run the simple HBV model for the River Leven at Newby Bridge. \n",
    "\n",
    "The PCRGlobWB model is an example of a distributed model where fluxes and stores in the balance are calculated for grid cells (often also called pixels). This requires both the forcing data as well as any parameters to also be spatially distributed. Depending on the complexity of the model, these datasets can be quite large in memory size.\n",
    "\n",
    "Here we will be running PCRGLobWB for Great Brittain and will extract discharge data at the location of the River Leven again, to compare with the HBV model run. We will also demonstrate how to interact with the state of the model, during runtime, showcasing the benefit of using the BMI interface when building experiments using models."
   ]
  },
  {
   "cell_type": "code",
   "execution_count": 1,
   "id": "424992ea",
   "metadata": {},
   "outputs": [],
   "source": [
    "# This cell is only used to suppress some distracting output messages\n",
    "import warnings\n",
    "\n",
    "warnings.filterwarnings(\"ignore\", category=UserWarning)"
   ]
  },
  {
   "cell_type": "code",
   "execution_count": 2,
   "id": "cec50ce3",
   "metadata": {},
   "outputs": [],
   "source": [
    "import matplotlib.pyplot as plt\n",
    "from cartopy import crs\n",
    "from cartopy import feature as cfeature\n",
    "from rich import print\n",
    "import pandas as pd\n",
    "import xarray as xr\n",
    "from pathlib import Path\n",
    "from datetime import datetime\n",
    "from ipywidgets import IntProgress\n",
    "from IPython.display import display\n",
    "import fiona\n",
    "import shapely.geometry\n",
    "from pyproj import Geod\n",
    "\n",
    "import ewatercycle.forcing\n",
    "import ewatercycle.models\n",
    "import ewatercycle.parameter_sets"
   ]
  },
  {
   "cell_type": "code",
   "execution_count": 3,
   "id": "3f186494-1f05-445d-8663-306591c87320",
   "metadata": {},
   "outputs": [],
   "source": [
    "station_latitude = 54.26935849558577  # Newby Bridge location from Google Maps\n",
    "station_longitude = -2.9710855713537745"
   ]
  },
  {
   "cell_type": "code",
   "execution_count": 24,
   "id": "d3623c9e57f7d0e2",
   "metadata": {},
   "outputs": [],
   "source": [
    "# Selecting our region again\n",
    "camelsgb_id = \"camelsgb_73010\"\n",
    "\n",
    "forcing_path_caravan = Path.home() / \"forcing\" / camelsgb_id / \"caravan\"\n",
    "forcing_path_caravan.mkdir(exist_ok=True, parents=True)\n",
    "\n",
    "pcr_glob_directory = Path(\"/data/shared/parameter-sets/pcrglobwb_global\")\n",
    "prepared_PCRGlob_forcing = Path.home() / \"forcing\" / camelsgb_id / \"pcrglobwb\" / \"work/diagnostic/script\""
   ]
  },
  {
   "cell_type": "code",
   "execution_count": 5,
   "id": "e80c67bada92ac3d",
   "metadata": {},
   "outputs": [],
   "source": [
    "experiment_start_date = \"1997-08-01T00:00:00Z\"\n",
    "\n",
    "# 2 end dates: one use for is for the full run, but that takes a long time.\n",
    "experiment_end_date = \"2000-08-31T00:00:00Z\"\n",
    "# experiment_end_date = \"1997-08-31T00:00:00Z\""
   ]
  },
  {
   "cell_type": "markdown",
   "id": "194f357f",
   "metadata": {},
   "source": [
    "## Loading a parameter set"
   ]
  },
  {
   "cell_type": "markdown",
   "id": "1cdf38a2",
   "metadata": {},
   "source": [
    "For this example we have prepared and hosted a global parameter set made by Utrecht University. For each model run, what needs to be specified to deliniate the region of interest is a \"clone map\". The config file has many options, one of which is the location of this clone map.\n",
    "\n",
    "Note that this is very specific to PCRGlobWB. For complex (and legacy) models like PCRGlobWB one needs to know quite detailed information about the model before being able to run it. However, using eWaterCycle does reduce the time for seting up the model and getting it to run."
   ]
  },
  {
   "cell_type": "code",
   "execution_count": 6,
   "id": "90f4e3ba",
   "metadata": {},
   "outputs": [],
   "source": [
    "parameter_set = ewatercycle.parameter_sets.ParameterSet(\n",
    "    name=\"custom_parameter_set\",\n",
    "    directory=pcr_glob_directory,\n",
    "    config=\"./pcrglobwb_uk_05min.ini\",\n",
    "    target_model=\"pcrglobwb\",\n",
    "    supported_model_versions={\"setters\"},\n",
    ")"
   ]
  },
  {
   "cell_type": "code",
   "execution_count": 7,
   "id": "fbabe50c",
   "metadata": {},
   "outputs": [
    {
     "data": {
      "text/html": [
       "<pre style=\"white-space:pre;overflow-x:auto;line-height:normal;font-family:Menlo,'DejaVu Sans Mono',consolas,'Courier New',monospace\"><span style=\"color: #800080; text-decoration-color: #800080; font-weight: bold\">ParameterSet</span><span style=\"font-weight: bold\">(</span>\n",
       "    <span style=\"color: #808000; text-decoration-color: #808000\">name</span>=<span style=\"color: #008000; text-decoration-color: #008000\">'custom_parameter_set'</span>,\n",
       "    <span style=\"color: #808000; text-decoration-color: #808000\">directory</span>=<span style=\"color: #800080; text-decoration-color: #800080; font-weight: bold\">PosixPath</span><span style=\"font-weight: bold\">(</span><span style=\"color: #008000; text-decoration-color: #008000\">'/data/shared/parameter-sets/pcrglobwb_global'</span><span style=\"font-weight: bold\">)</span>,\n",
       "    <span style=\"color: #808000; text-decoration-color: #808000\">config</span>=<span style=\"color: #800080; text-decoration-color: #800080; font-weight: bold\">PosixPath</span><span style=\"font-weight: bold\">(</span><span style=\"color: #008000; text-decoration-color: #008000\">'pcrglobwb_uk_05min.ini'</span><span style=\"font-weight: bold\">)</span>,\n",
       "    <span style=\"color: #808000; text-decoration-color: #808000\">doi</span>=<span style=\"color: #008000; text-decoration-color: #008000\">'N/A'</span>,\n",
       "    <span style=\"color: #808000; text-decoration-color: #808000\">target_model</span>=<span style=\"color: #008000; text-decoration-color: #008000\">'pcrglobwb'</span>,\n",
       "    <span style=\"color: #808000; text-decoration-color: #808000\">supported_model_versions</span>=<span style=\"font-weight: bold\">{</span><span style=\"color: #008000; text-decoration-color: #008000\">'setters'</span><span style=\"font-weight: bold\">}</span>,\n",
       "    <span style=\"color: #808000; text-decoration-color: #808000\">downloader</span>=<span style=\"color: #800080; text-decoration-color: #800080; font-style: italic\">None</span>\n",
       "<span style=\"font-weight: bold\">)</span>\n",
       "</pre>\n"
      ],
      "text/plain": [
       "\u001b[1;35mParameterSet\u001b[0m\u001b[1m(\u001b[0m\n",
       "    \u001b[33mname\u001b[0m=\u001b[32m'custom_parameter_set'\u001b[0m,\n",
       "    \u001b[33mdirectory\u001b[0m=\u001b[1;35mPosixPath\u001b[0m\u001b[1m(\u001b[0m\u001b[32m'/data/shared/parameter-sets/pcrglobwb_global'\u001b[0m\u001b[1m)\u001b[0m,\n",
       "    \u001b[33mconfig\u001b[0m=\u001b[1;35mPosixPath\u001b[0m\u001b[1m(\u001b[0m\u001b[32m'pcrglobwb_uk_05min.ini'\u001b[0m\u001b[1m)\u001b[0m,\n",
       "    \u001b[33mdoi\u001b[0m=\u001b[32m'N/A'\u001b[0m,\n",
       "    \u001b[33mtarget_model\u001b[0m=\u001b[32m'pcrglobwb'\u001b[0m,\n",
       "    \u001b[33msupported_model_versions\u001b[0m=\u001b[1m{\u001b[0m\u001b[32m'setters'\u001b[0m\u001b[1m}\u001b[0m,\n",
       "    \u001b[33mdownloader\u001b[0m=\u001b[3;35mNone\u001b[0m\n",
       "\u001b[1m)\u001b[0m\n"
      ]
     },
     "metadata": {},
     "output_type": "display_data"
    }
   ],
   "source": [
    "print(parameter_set)"
   ]
  },
  {
   "cell_type": "markdown",
   "id": "1271ae04",
   "metadata": {},
   "source": [
    "## Load forcing data\n",
    "\n",
    "For this example case, the forcing is generated in [this seperate notebook](generate_forcing.ipynb). This is a common practice when generating forcing takes considerable (CPU, memory, disk) resources. \n",
    "\n",
    "In the cell below, we load the pre-generated forcing. Note that in contrast with HBV, PCRGlobWB only needs temperature and precipitation as forcing inputs. Reminder: HBV also needs potential evaporation. PCRGlobWB calculated potential and actual evaporation as part of its update step."
   ]
  },
  {
   "cell_type": "code",
   "execution_count": 8,
   "id": "870c4af6",
   "metadata": {},
   "outputs": [
    {
     "data": {
      "text/html": [
       "<pre style=\"white-space:pre;overflow-x:auto;line-height:normal;font-family:Menlo,'DejaVu Sans Mono',consolas,'Courier New',monospace\"><span style=\"color: #800080; text-decoration-color: #800080; font-weight: bold\">PCRGlobWBForcing</span><span style=\"font-weight: bold\">(</span>\n",
       "    <span style=\"color: #808000; text-decoration-color: #808000\">start_time</span>=<span style=\"color: #008000; text-decoration-color: #008000\">'1997-08-01T00:00:00Z'</span>,\n",
       "    <span style=\"color: #808000; text-decoration-color: #808000\">end_time</span>=<span style=\"color: #008000; text-decoration-color: #008000\">'2000-08-31T00:00:00Z'</span>,\n",
       "    <span style=\"color: #808000; text-decoration-color: #808000\">directory</span>=<span style=\"color: #800080; text-decoration-color: #800080; font-weight: bold\">PosixPath</span><span style=\"font-weight: bold\">(</span><span style=\"color: #008000; text-decoration-color: #008000\">'/home/mmelotto/forcing/camelsgb_73010/pcrglobwb/work/diagnostic/script'</span><span style=\"font-weight: bold\">)</span>,\n",
       "    <span style=\"color: #808000; text-decoration-color: #808000\">shape</span>=<span style=\"color: #800080; text-decoration-color: #800080; font-weight: bold\">PosixPath</span><span style=\"font-weight: bold\">(</span><span style=\"color: #008000; text-decoration-color: #008000\">'/home/mmelotto/forcing/camelsgb_73010/pcrglobwb/work/diagnostic/script/camelsgb_73010.shp'</span><span style=\"font-weight: bold\">)</span>,\n",
       "    <span style=\"color: #808000; text-decoration-color: #808000\">filenames</span>=<span style=\"font-weight: bold\">{}</span>,\n",
       "    <span style=\"color: #808000; text-decoration-color: #808000\">precipitationNC</span>=<span style=\"color: #008000; text-decoration-color: #008000\">'pcrglobwb_OBS6_ERA5_reanaly_1_day_pr_1997-2000_camelsgb_73010.nc'</span>,\n",
       "    <span style=\"color: #808000; text-decoration-color: #808000\">temperatureNC</span>=<span style=\"color: #008000; text-decoration-color: #008000\">'pcrglobwb_OBS6_ERA5_reanaly_1_day_tas_1997-2000_camelsgb_73010.nc'</span>\n",
       "<span style=\"font-weight: bold\">)</span>\n",
       "</pre>\n"
      ],
      "text/plain": [
       "\u001b[1;35mPCRGlobWBForcing\u001b[0m\u001b[1m(\u001b[0m\n",
       "    \u001b[33mstart_time\u001b[0m=\u001b[32m'1997-08-01T00:00:00Z'\u001b[0m,\n",
       "    \u001b[33mend_time\u001b[0m=\u001b[32m'2000-08-31T00:00:00Z'\u001b[0m,\n",
       "    \u001b[33mdirectory\u001b[0m=\u001b[1;35mPosixPath\u001b[0m\u001b[1m(\u001b[0m\u001b[32m'/home/mmelotto/forcing/camelsgb_73010/pcrglobwb/work/diagnostic/script'\u001b[0m\u001b[1m)\u001b[0m,\n",
       "    \u001b[33mshape\u001b[0m=\u001b[1;35mPosixPath\u001b[0m\u001b[1m(\u001b[0m\u001b[32m'/home/mmelotto/forcing/camelsgb_73010/pcrglobwb/work/diagnostic/script/camelsgb_73010.shp'\u001b[0m\u001b[1m)\u001b[0m,\n",
       "    \u001b[33mfilenames\u001b[0m=\u001b[1m{\u001b[0m\u001b[1m}\u001b[0m,\n",
       "    \u001b[33mprecipitationNC\u001b[0m=\u001b[32m'pcrglobwb_OBS6_ERA5_reanaly_1_day_pr_1997-2000_camelsgb_73010.nc'\u001b[0m,\n",
       "    \u001b[33mtemperatureNC\u001b[0m=\u001b[32m'pcrglobwb_OBS6_ERA5_reanaly_1_day_tas_1997-2000_camelsgb_73010.nc'\u001b[0m\n",
       "\u001b[1m)\u001b[0m\n"
      ]
     },
     "metadata": {},
     "output_type": "display_data"
    }
   ],
   "source": [
    "forcing = ewatercycle.forcing.sources[\"PCRGlobWBForcing\"].load(\n",
    "    directory=prepared_PCRGlob_forcing,\n",
    ")\n",
    "\n",
    "print(forcing)"
   ]
  },
  {
   "cell_type": "markdown",
   "id": "d5b82a92",
   "metadata": {},
   "source": [
    "## Setting up the model\n",
    "\n",
    "Note that the model version and the parameterset versions should be compatible."
   ]
  },
  {
   "cell_type": "code",
   "execution_count": 9,
   "id": "08a4ed9e",
   "metadata": {},
   "outputs": [
    {
     "data": {
      "text/html": [
       "<pre style=\"white-space:pre;overflow-x:auto;line-height:normal;font-family:Menlo,'DejaVu Sans Mono',consolas,'Courier New',monospace\"><span style=\"color: #800080; text-decoration-color: #800080; font-weight: bold\">PCRGlobWB</span><span style=\"font-weight: bold\">(</span>\n",
       "    <span style=\"color: #808000; text-decoration-color: #808000\">parameter_set</span>=<span style=\"color: #800080; text-decoration-color: #800080; font-weight: bold\">ParameterSet</span><span style=\"font-weight: bold\">(</span>\n",
       "        <span style=\"color: #808000; text-decoration-color: #808000\">name</span>=<span style=\"color: #008000; text-decoration-color: #008000\">'custom_parameter_set'</span>,\n",
       "        <span style=\"color: #808000; text-decoration-color: #808000\">directory</span>=<span style=\"color: #800080; text-decoration-color: #800080; font-weight: bold\">PosixPath</span><span style=\"font-weight: bold\">(</span><span style=\"color: #008000; text-decoration-color: #008000\">'/data/shared/parameter-sets/pcrglobwb_global'</span><span style=\"font-weight: bold\">)</span>,\n",
       "        <span style=\"color: #808000; text-decoration-color: #808000\">config</span>=<span style=\"color: #800080; text-decoration-color: #800080; font-weight: bold\">PosixPath</span><span style=\"font-weight: bold\">(</span><span style=\"color: #008000; text-decoration-color: #008000\">'pcrglobwb_uk_05min.ini'</span><span style=\"font-weight: bold\">)</span>,\n",
       "        <span style=\"color: #808000; text-decoration-color: #808000\">doi</span>=<span style=\"color: #008000; text-decoration-color: #008000\">'N/A'</span>,\n",
       "        <span style=\"color: #808000; text-decoration-color: #808000\">target_model</span>=<span style=\"color: #008000; text-decoration-color: #008000\">'pcrglobwb'</span>,\n",
       "        <span style=\"color: #808000; text-decoration-color: #808000\">supported_model_versions</span>=<span style=\"font-weight: bold\">{</span><span style=\"color: #008000; text-decoration-color: #008000\">'setters'</span><span style=\"font-weight: bold\">}</span>,\n",
       "        <span style=\"color: #808000; text-decoration-color: #808000\">downloader</span>=<span style=\"color: #800080; text-decoration-color: #800080; font-style: italic\">None</span>\n",
       "    <span style=\"font-weight: bold\">)</span>,\n",
       "    <span style=\"color: #808000; text-decoration-color: #808000\">forcing</span>=<span style=\"color: #800080; text-decoration-color: #800080; font-weight: bold\">PCRGlobWBForcing</span><span style=\"font-weight: bold\">(</span>\n",
       "        <span style=\"color: #808000; text-decoration-color: #808000\">start_time</span>=<span style=\"color: #008000; text-decoration-color: #008000\">'1997-08-01T00:00:00Z'</span>,\n",
       "        <span style=\"color: #808000; text-decoration-color: #808000\">end_time</span>=<span style=\"color: #008000; text-decoration-color: #008000\">'2000-08-31T00:00:00Z'</span>,\n",
       "        <span style=\"color: #808000; text-decoration-color: #808000\">directory</span>=<span style=\"color: #800080; text-decoration-color: #800080; font-weight: bold\">PosixPath</span><span style=\"font-weight: bold\">(</span><span style=\"color: #008000; text-decoration-color: #008000\">'/home/mmelotto/forcing/camelsgb_73010/pcrglobwb/work/diagnostic/script'</span><span style=\"font-weight: bold\">)</span>,\n",
       "        <span style=\"color: #808000; text-decoration-color: #808000\">shape</span>=<span style=\"color: #800080; text-decoration-color: #800080; font-weight: bold\">PosixPath</span><span style=\"font-weight: bold\">(</span><span style=\"color: #008000; text-decoration-color: #008000\">'/home/mmelotto/forcing/camelsgb_73010/pcrglobwb/work/diagnostic/script/camelsgb_73010.shp'</span>\n",
       "<span style=\"font-weight: bold\">)</span>,\n",
       "        <span style=\"color: #808000; text-decoration-color: #808000\">filenames</span>=<span style=\"font-weight: bold\">{}</span>,\n",
       "        <span style=\"color: #808000; text-decoration-color: #808000\">precipitationNC</span>=<span style=\"color: #008000; text-decoration-color: #008000\">'pcrglobwb_OBS6_ERA5_reanaly_1_day_pr_1997-2000_camelsgb_73010.nc'</span>,\n",
       "        <span style=\"color: #808000; text-decoration-color: #808000\">temperatureNC</span>=<span style=\"color: #008000; text-decoration-color: #008000\">'pcrglobwb_OBS6_ERA5_reanaly_1_day_tas_1997-2000_camelsgb_73010.nc'</span>\n",
       "    <span style=\"font-weight: bold\">)</span>\n",
       "<span style=\"font-weight: bold\">)</span>\n",
       "</pre>\n"
      ],
      "text/plain": [
       "\u001b[1;35mPCRGlobWB\u001b[0m\u001b[1m(\u001b[0m\n",
       "    \u001b[33mparameter_set\u001b[0m=\u001b[1;35mParameterSet\u001b[0m\u001b[1m(\u001b[0m\n",
       "        \u001b[33mname\u001b[0m=\u001b[32m'custom_parameter_set'\u001b[0m,\n",
       "        \u001b[33mdirectory\u001b[0m=\u001b[1;35mPosixPath\u001b[0m\u001b[1m(\u001b[0m\u001b[32m'/data/shared/parameter-sets/pcrglobwb_global'\u001b[0m\u001b[1m)\u001b[0m,\n",
       "        \u001b[33mconfig\u001b[0m=\u001b[1;35mPosixPath\u001b[0m\u001b[1m(\u001b[0m\u001b[32m'pcrglobwb_uk_05min.ini'\u001b[0m\u001b[1m)\u001b[0m,\n",
       "        \u001b[33mdoi\u001b[0m=\u001b[32m'N/A'\u001b[0m,\n",
       "        \u001b[33mtarget_model\u001b[0m=\u001b[32m'pcrglobwb'\u001b[0m,\n",
       "        \u001b[33msupported_model_versions\u001b[0m=\u001b[1m{\u001b[0m\u001b[32m'setters'\u001b[0m\u001b[1m}\u001b[0m,\n",
       "        \u001b[33mdownloader\u001b[0m=\u001b[3;35mNone\u001b[0m\n",
       "    \u001b[1m)\u001b[0m,\n",
       "    \u001b[33mforcing\u001b[0m=\u001b[1;35mPCRGlobWBForcing\u001b[0m\u001b[1m(\u001b[0m\n",
       "        \u001b[33mstart_time\u001b[0m=\u001b[32m'1997-08-01T00:00:00Z'\u001b[0m,\n",
       "        \u001b[33mend_time\u001b[0m=\u001b[32m'2000-08-31T00:00:00Z'\u001b[0m,\n",
       "        \u001b[33mdirectory\u001b[0m=\u001b[1;35mPosixPath\u001b[0m\u001b[1m(\u001b[0m\u001b[32m'/home/mmelotto/forcing/camelsgb_73010/pcrglobwb/work/diagnostic/script'\u001b[0m\u001b[1m)\u001b[0m,\n",
       "        \u001b[33mshape\u001b[0m=\u001b[1;35mPosixPath\u001b[0m\u001b[1m(\u001b[0m\u001b[32m'/home/mmelotto/forcing/camelsgb_73010/pcrglobwb/work/diagnostic/script/camelsgb_73010.shp'\u001b[0m\n",
       "\u001b[1m)\u001b[0m,\n",
       "        \u001b[33mfilenames\u001b[0m=\u001b[1m{\u001b[0m\u001b[1m}\u001b[0m,\n",
       "        \u001b[33mprecipitationNC\u001b[0m=\u001b[32m'pcrglobwb_OBS6_ERA5_reanaly_1_day_pr_1997-2000_camelsgb_73010.nc'\u001b[0m,\n",
       "        \u001b[33mtemperatureNC\u001b[0m=\u001b[32m'pcrglobwb_OBS6_ERA5_reanaly_1_day_tas_1997-2000_camelsgb_73010.nc'\u001b[0m\n",
       "    \u001b[1m)\u001b[0m\n",
       "\u001b[1m)\u001b[0m\n"
      ]
     },
     "metadata": {},
     "output_type": "display_data"
    }
   ],
   "source": [
    "pcrglob = ewatercycle.models.PCRGlobWB(\n",
    "    parameter_set=parameter_set,\n",
    "    forcing=forcing\n",
    ")\n",
    "\n",
    "print(pcrglob)"
   ]
  },
  {
   "cell_type": "code",
   "execution_count": 10,
   "id": "a45eba5c",
   "metadata": {},
   "outputs": [
    {
     "data": {
      "text/plain": [
       "'setters'"
      ]
     },
     "execution_count": 10,
     "metadata": {},
     "output_type": "execute_result"
    }
   ],
   "source": [
    "pcrglob.version"
   ]
  },
  {
   "cell_type": "markdown",
   "id": "a69e1212",
   "metadata": {},
   "source": [
    "eWaterCycle exposes a selected set of configurable parameters. These can be modified in the `setup()` method."
   ]
  },
  {
   "cell_type": "code",
   "execution_count": 11,
   "id": "4a62965a",
   "metadata": {},
   "outputs": [
    {
     "data": {
      "text/html": [
       "<pre style=\"white-space:pre;overflow-x:auto;line-height:normal;font-family:Menlo,'DejaVu Sans Mono',consolas,'Courier New',monospace\"><span style=\"color: #800080; text-decoration-color: #800080; font-weight: bold\">dict_items</span><span style=\"font-weight: bold\">([(</span><span style=\"color: #008000; text-decoration-color: #008000\">'start_time'</span>, <span style=\"color: #008000; text-decoration-color: #008000\">'1997-08-01T00:00:00Z'</span><span style=\"font-weight: bold\">)</span>, <span style=\"font-weight: bold\">(</span><span style=\"color: #008000; text-decoration-color: #008000\">'end_time'</span>, <span style=\"color: #008000; text-decoration-color: #008000\">'1997-08-01T00:00:00Z'</span><span style=\"font-weight: bold\">)</span>, <span style=\"font-weight: bold\">(</span><span style=\"color: #008000; text-decoration-color: #008000\">'routing_method'</span>, \n",
       "<span style=\"color: #008000; text-decoration-color: #008000\">'accuTravelTime'</span><span style=\"font-weight: bold\">)</span>, <span style=\"font-weight: bold\">(</span><span style=\"color: #008000; text-decoration-color: #008000\">'max_spinups_in_years'</span>, <span style=\"color: #008000; text-decoration-color: #008000\">'0'</span><span style=\"font-weight: bold\">)])</span>\n",
       "</pre>\n"
      ],
      "text/plain": [
       "\u001b[1;35mdict_items\u001b[0m\u001b[1m(\u001b[0m\u001b[1m[\u001b[0m\u001b[1m(\u001b[0m\u001b[32m'start_time'\u001b[0m, \u001b[32m'1997-08-01T00:00:00Z'\u001b[0m\u001b[1m)\u001b[0m, \u001b[1m(\u001b[0m\u001b[32m'end_time'\u001b[0m, \u001b[32m'1997-08-01T00:00:00Z'\u001b[0m\u001b[1m)\u001b[0m, \u001b[1m(\u001b[0m\u001b[32m'routing_method'\u001b[0m, \n",
       "\u001b[32m'accuTravelTime'\u001b[0m\u001b[1m)\u001b[0m, \u001b[1m(\u001b[0m\u001b[32m'max_spinups_in_years'\u001b[0m, \u001b[32m'0'\u001b[0m\u001b[1m)\u001b[0m\u001b[1m]\u001b[0m\u001b[1m)\u001b[0m\n"
      ]
     },
     "metadata": {},
     "output_type": "display_data"
    }
   ],
   "source": [
    "print(pcrglob.parameters)"
   ]
  },
  {
   "cell_type": "markdown",
   "id": "2a27869b",
   "metadata": {},
   "source": [
    "Calling `setup()` will start up the model container. Be careful with calling it multiple times!"
   ]
  },
  {
   "cell_type": "code",
   "execution_count": 12,
   "id": "cc852425",
   "metadata": {},
   "outputs": [
    {
     "data": {
      "text/plain": [
       "('/home/mmelotto/projects/book/tutorials_examples/2_HBV_PCRGlobWB_ERA5/pcrglobwb_20250715_095005/pcrglobwb_ewatercycle.ini',\n",
       " '/home/mmelotto/projects/book/tutorials_examples/2_HBV_PCRGlobWB_ERA5/pcrglobwb_20250715_095005')"
      ]
     },
     "execution_count": 12,
     "metadata": {},
     "output_type": "execute_result"
    }
   ],
   "source": [
    "cfg_file, cfg_dir = pcrglob.setup(\n",
    "    end_time=experiment_end_date,\n",
    "    # end_time=\"2000-08-31T00:00:00Z\",  # original end date takes about 22 minutes when alone on server, this is loaded later on, so no need to run it now :)\n",
    "    max_spinups_in_years=0\n",
    ")\n",
    "\n",
    "cfg_file, cfg_dir"
   ]
  },
  {
   "cell_type": "code",
   "execution_count": 13,
   "id": "4456b5e2",
   "metadata": {},
   "outputs": [
    {
     "data": {
      "text/html": [
       "<pre style=\"white-space:pre;overflow-x:auto;line-height:normal;font-family:Menlo,'DejaVu Sans Mono',consolas,'Courier New',monospace\"><span style=\"color: #800080; text-decoration-color: #800080; font-weight: bold\">dict_items</span><span style=\"font-weight: bold\">([(</span><span style=\"color: #008000; text-decoration-color: #008000\">'start_time'</span>, <span style=\"color: #008000; text-decoration-color: #008000\">'1997-08-01T00:00:00Z'</span><span style=\"font-weight: bold\">)</span>, <span style=\"font-weight: bold\">(</span><span style=\"color: #008000; text-decoration-color: #008000\">'end_time'</span>, <span style=\"color: #008000; text-decoration-color: #008000\">'2000-08-31T00:00:00Z'</span><span style=\"font-weight: bold\">)</span>, <span style=\"font-weight: bold\">(</span><span style=\"color: #008000; text-decoration-color: #008000\">'routing_method'</span>, \n",
       "<span style=\"color: #008000; text-decoration-color: #008000\">'accuTravelTime'</span><span style=\"font-weight: bold\">)</span>, <span style=\"font-weight: bold\">(</span><span style=\"color: #008000; text-decoration-color: #008000\">'max_spinups_in_years'</span>, <span style=\"color: #008000; text-decoration-color: #008000\">'0'</span><span style=\"font-weight: bold\">)])</span>\n",
       "</pre>\n"
      ],
      "text/plain": [
       "\u001b[1;35mdict_items\u001b[0m\u001b[1m(\u001b[0m\u001b[1m[\u001b[0m\u001b[1m(\u001b[0m\u001b[32m'start_time'\u001b[0m, \u001b[32m'1997-08-01T00:00:00Z'\u001b[0m\u001b[1m)\u001b[0m, \u001b[1m(\u001b[0m\u001b[32m'end_time'\u001b[0m, \u001b[32m'2000-08-31T00:00:00Z'\u001b[0m\u001b[1m)\u001b[0m, \u001b[1m(\u001b[0m\u001b[32m'routing_method'\u001b[0m, \n",
       "\u001b[32m'accuTravelTime'\u001b[0m\u001b[1m)\u001b[0m, \u001b[1m(\u001b[0m\u001b[32m'max_spinups_in_years'\u001b[0m, \u001b[32m'0'\u001b[0m\u001b[1m)\u001b[0m\u001b[1m]\u001b[0m\u001b[1m)\u001b[0m\n"
      ]
     },
     "metadata": {},
     "output_type": "display_data"
    },
    {
     "data": {
      "text/html": [
       "<pre style=\"white-space:pre;overflow-x:auto;line-height:normal;font-family:Menlo,'DejaVu Sans Mono',consolas,'Courier New',monospace\">Number of days to model: <span style=\"color: #008080; text-decoration-color: #008080; font-weight: bold\">1126</span>\n",
       "</pre>\n"
      ],
      "text/plain": [
       "Number of days to model: \u001b[1;36m1126\u001b[0m\n"
      ]
     },
     "metadata": {},
     "output_type": "display_data"
    }
   ],
   "source": [
    "print(pcrglob.parameters)\n",
    "\n",
    "pcrglob_para = pcrglob.parameters\n",
    "\n",
    "# Convert ISO 8601 strings to datetime objects\n",
    "start_time = datetime.strptime(experiment_start_date, '%Y-%m-%dT%H:%M:%SZ')\n",
    "end_time = datetime.strptime(experiment_end_date, '%Y-%m-%dT%H:%M:%SZ')\n",
    "\n",
    "# Calculate the number of days for the progression bar\n",
    "delta = end_time - start_time\n",
    "number_of_days = delta.days\n",
    "print(f\"Number of days to model: {number_of_days}\")"
   ]
  },
  {
   "cell_type": "markdown",
   "id": "0480d34c",
   "metadata": {},
   "source": [
    "Note that the parameters have been changed. A new config file which incorporates these updated parameters has been generated as well. If you want to see or modify any additional model settings, you can acces this file directly. When you're ready, pass the path to the config file to `initialize()`."
   ]
  },
  {
   "cell_type": "code",
   "execution_count": 14,
   "id": "87144041",
   "metadata": {},
   "outputs": [],
   "source": [
    "pcrglob.initialize(cfg_file)"
   ]
  },
  {
   "cell_type": "markdown",
   "id": "f16e18c7-88b1-4019-9281-44a4a51d21d0",
   "metadata": {},
   "source": [
    "We prepare a small dataframe where we can store the discharge output from the model"
   ]
  },
  {
   "cell_type": "code",
   "execution_count": 15,
   "id": "664b32b6-2b4c-49f1-be5a-b451fceb9ecc",
   "metadata": {},
   "outputs": [
    {
     "data": {
      "text/html": [
       "<div>\n",
       "<style scoped>\n",
       "    .dataframe tbody tr th:only-of-type {\n",
       "        vertical-align: middle;\n",
       "    }\n",
       "\n",
       "    .dataframe tbody tr th {\n",
       "        vertical-align: top;\n",
       "    }\n",
       "\n",
       "    .dataframe thead th {\n",
       "        text-align: right;\n",
       "    }\n",
       "</style>\n",
       "<table border=\"1\" class=\"dataframe\">\n",
       "  <thead>\n",
       "    <tr style=\"text-align: right;\">\n",
       "      <th></th>\n",
       "      <th>PCRGlobWB: Leven</th>\n",
       "    </tr>\n",
       "    <tr>\n",
       "      <th>time</th>\n",
       "      <th></th>\n",
       "    </tr>\n",
       "  </thead>\n",
       "  <tbody>\n",
       "    <tr>\n",
       "      <th>1997-08-01 00:00:00+00:00</th>\n",
       "      <td>NaN</td>\n",
       "    </tr>\n",
       "    <tr>\n",
       "      <th>1997-08-02 00:00:00+00:00</th>\n",
       "      <td>NaN</td>\n",
       "    </tr>\n",
       "    <tr>\n",
       "      <th>1997-08-03 00:00:00+00:00</th>\n",
       "      <td>NaN</td>\n",
       "    </tr>\n",
       "    <tr>\n",
       "      <th>1997-08-04 00:00:00+00:00</th>\n",
       "      <td>NaN</td>\n",
       "    </tr>\n",
       "    <tr>\n",
       "      <th>1997-08-05 00:00:00+00:00</th>\n",
       "      <td>NaN</td>\n",
       "    </tr>\n",
       "  </tbody>\n",
       "</table>\n",
       "</div>"
      ],
      "text/plain": [
       "                          PCRGlobWB: Leven\n",
       "time                                      \n",
       "1997-08-01 00:00:00+00:00              NaN\n",
       "1997-08-02 00:00:00+00:00              NaN\n",
       "1997-08-03 00:00:00+00:00              NaN\n",
       "1997-08-04 00:00:00+00:00              NaN\n",
       "1997-08-05 00:00:00+00:00              NaN"
      ]
     },
     "execution_count": 15,
     "metadata": {},
     "output_type": "execute_result"
    }
   ],
   "source": [
    "time = pd.date_range(pcrglob.start_time_as_isostr, pcrglob.end_time_as_isostr)\n",
    "timeseries = pd.DataFrame(\n",
    "    index=pd.Index(time, name=\"time\"), columns=[\"PCRGlobWB: Leven\"]\n",
    ")\n",
    "\n",
    "timeseries.head()"
   ]
  },
  {
   "cell_type": "markdown",
   "id": "f0f4987f",
   "metadata": {},
   "source": [
    "## Running the model\n",
    "\n",
    "Simply running the model from start to end is straightforward. At each time step we can retrieve information from the model."
   ]
  },
  {
   "cell_type": "code",
   "execution_count": 16,
   "id": "403d55e6",
   "metadata": {
    "scrolled": true
   },
   "outputs": [
    {
     "data": {
      "application/vnd.jupyter.widget-view+json": {
       "model_id": "be6303fe9dc045f39827edd5c3537a41",
       "version_major": 2,
       "version_minor": 0
      },
      "text/plain": [
       "IntProgress(value=0, max=1126)"
      ]
     },
     "metadata": {},
     "output_type": "display_data"
    },
    {
     "data": {
      "text/html": [
       "<pre style=\"white-space:pre;overflow-x:auto;line-height:normal;font-family:Menlo,'DejaVu Sans Mono',consolas,'Courier New',monospace\">Model run finished!\n",
       "</pre>\n"
      ],
      "text/plain": [
       "Model run finished!\n"
      ]
     },
     "metadata": {},
     "output_type": "display_data"
    }
   ],
   "source": [
    "# Progress bar, since this can take a while\n",
    "f = IntProgress(min=0, max=number_of_days) # instantiate the bar\n",
    "display(f) # display the bar\n",
    "\n",
    "while pcrglob.time < pcrglob.end_time:\n",
    "    pcrglob.update()\n",
    "\n",
    "    # Track discharge at station location\n",
    "    discharge_at_station = pcrglob.get_value_at_coords(\n",
    "        \"discharge\", lat=[station_latitude], lon=[station_longitude]\n",
    "    )\n",
    "    time = pcrglob.time_as_isostr\n",
    "    timeseries.loc[time, \"PCRGlobWB: Leven\"] = discharge_at_station[0]\n",
    "\n",
    "    # Update progress bar\n",
    "    f.value += 1\n",
    "\n",
    "print(\"Model run finished!\")"
   ]
  },
  {
   "cell_type": "markdown",
   "id": "53a937e8",
   "metadata": {},
   "source": [
    "## Interacting with the model"
   ]
  },
  {
   "cell_type": "markdown",
   "id": "3ce583fa",
   "metadata": {},
   "source": [
    "PCRGlobWB exposes many variables."
   ]
  },
  {
   "cell_type": "code",
   "execution_count": 17,
   "id": "23d55863",
   "metadata": {},
   "outputs": [
    {
     "data": {
      "text/plain": [
       "['groundwater_recharge',\n",
       " 'lake_and_reservoir_storage',\n",
       " 'domesticWaterConsumptionVolume',\n",
       " 'land_surface_actual_evaporation',\n",
       " 'groundwater_storage',\n",
       " 'snow_melt',\n",
       " 'totalPotentialMaximumGrossDemand',\n",
       " 'interception_evaporation',\n",
       " 'flood_innundation_depth',\n",
       " 'total_groundwater_abstraction',\n",
       " 'water_body_actual_evaporation',\n",
       " 'interflow',\n",
       " 'consumptive_water_use_for_irrigation_demand',\n",
       " 'non_irrigation_gross_demand_volume',\n",
       " 'accumulated_total_surface_runoff',\n",
       " 'livestock_water_withdrawal',\n",
       " 'land_surface_potential_evaporation',\n",
       " 'total_groundwater_storage',\n",
       " 'bare_soil_evaporation',\n",
       " 'top_water_layer_evaporation',\n",
       " 'transpiration_from_irrigation',\n",
       " 'total_thickness_of_active_water_storage',\n",
       " 'domestic_water_withdrawal',\n",
       " 'netLqWaterToSoil_at_irrigation_volume',\n",
       " 'interception_storage',\n",
       " 'non_irrigation_gross_demand',\n",
       " 'livestockWaterConsumptionVolume',\n",
       " 'groundwater_depth_for_top_layer',\n",
       " 'surface_water_storage',\n",
       " 'irrigation_gross_demand_volume',\n",
       " 'return_flow_from_irrigation_demand_withdrawal',\n",
       " 'upper_soil_storage',\n",
       " 'desalination_source_abstraction_volume',\n",
       " 'snow_free_water_evaporation',\n",
       " 'surface_water_abstraction',\n",
       " 'industryWaterConsumptionVolume',\n",
       " 'fossil_groundwater_storage',\n",
       " 'evaporation_from_irrigation_volume',\n",
       " 'total_evaporation_fraction',\n",
       " 'evaporation_from_irrigation',\n",
       " 'direct_runoff',\n",
       " 'accumulated_land_surface_baseflow',\n",
       " 'snow_free_water',\n",
       " 'total_thickness_of_water_storage',\n",
       " 'precipitation',\n",
       " 'industryWaterWithdrawalVolume',\n",
       " 'net_liquid_water_to_soil',\n",
       " 'baseflow',\n",
       " 'return_flow_from_groundwater_abstraction',\n",
       " 'bottom_elevation_of_lowermost_layer',\n",
       " 'groundwater_head_for_layer_1',\n",
       " 'return_flow_from_non_irrigation_demand_withdrawal',\n",
       " 'domesticWaterWithdrawalVolume',\n",
       " 'top_water_layer',\n",
       " 'transpiration_from_irrigation_volume',\n",
       " 'total_gross_demand_volume',\n",
       " 'top_elevation_of_uppermost_layer',\n",
       " 'fraction_of_surface_water_allocation',\n",
       " 'total_groundwater_abstraction_volume',\n",
       " 'total_transpiration',\n",
       " 'precipitation_at_irrigation_volume',\n",
       " 'lower_soil_storage',\n",
       " 'land_surface_water_balance',\n",
       " 'water_body_potential_evaporation',\n",
       " 'netLqWaterToSoil_at_irrigation',\n",
       " 'groundwater_head_for_top_layer',\n",
       " 'fraction_of_other_water_source_allocation',\n",
       " 'infiltration',\n",
       " 'consumptive_water_use_for_non_irrigation_demand',\n",
       " 'irrigation_withdrawal',\n",
       " 'lower_soil_saturation_degree',\n",
       " 'fraction_of_desalinated_water_allocation',\n",
       " 'water_body_evaporation_fraction',\n",
       " 'non_paddy_irrigation_withdrawal',\n",
       " 'total_gross_demand',\n",
       " 'groundwater_capillary_rise',\n",
       " 'non_fossil_groundwater_abstraction',\n",
       " 'land_surface_evaporation_fraction',\n",
       " 'fraction_of_non_fossil_groundwater_allocation',\n",
       " 'groundwater_head_for_layer_2',\n",
       " 'flood_innundation_volume',\n",
       " 'paddy_irrigation_withdrawal',\n",
       " 'total_evaporation',\n",
       " 'local_water_body_flux',\n",
       " 'land_surface_evaporation',\n",
       " 'channel_storage',\n",
       " 'surface_water_level',\n",
       " 'accumulated_land_surface_runoff',\n",
       " 'lower_soil_transpiration',\n",
       " 'total_volume_of_water_storage',\n",
       " 'precipitation_at_irrigation',\n",
       " 'reference_potential_evaporation',\n",
       " 'upper_soil_saturation_degree',\n",
       " 'fossil_groundwater_abstraction',\n",
       " 'land_surface_runoff',\n",
       " 'total_abstraction',\n",
       " 'test',\n",
       " 'livestockWaterWithdrawalVolume',\n",
       " 'desalination_source_abstraction',\n",
       " 'discharge',\n",
       " 'groundwater_thickness_estimate',\n",
       " 'temperature',\n",
       " 'upper_soil_transpiration',\n",
       " 'snow_water_equivalent',\n",
       " 'total_runoff',\n",
       " 'transpiration_from_irrigation',\n",
       " 'fraction_of_surface_water',\n",
       " 'bottom_elevation_of_uppermost_layer',\n",
       " 'industry_water_withdrawal',\n",
       " 'relativeGroundwaterHead',\n",
       " 'total_fraction_water_allocation',\n",
       " 'groundwater_volume_estimate',\n",
       " 'groundwater_depth_for_layer_2',\n",
       " 'irrigation_gross_demand',\n",
       " 'groundwater_depth_for_layer_1',\n",
       " 'irrigationWaterWithdrawalVolume',\n",
       " 'surface_water_abstraction_volume']"
      ]
     },
     "execution_count": 17,
     "metadata": {},
     "output_type": "execute_result"
    }
   ],
   "source": [
    "list(pcrglob.output_var_names)"
   ]
  },
  {
   "cell_type": "markdown",
   "id": "bc3037d6",
   "metadata": {},
   "source": [
    "Model fields can be fetched as xarray objects (or as flat numpy arrays using `get_value()`):"
   ]
  },
  {
   "cell_type": "code",
   "execution_count": 18,
   "id": "b37943a9",
   "metadata": {},
   "outputs": [
    {
     "data": {
      "text/html": [
       "<div><svg style=\"position: absolute; width: 0; height: 0; overflow: hidden\">\n",
       "<defs>\n",
       "<symbol id=\"icon-database\" viewBox=\"0 0 32 32\">\n",
       "<path d=\"M16 0c-8.837 0-16 2.239-16 5v4c0 2.761 7.163 5 16 5s16-2.239 16-5v-4c0-2.761-7.163-5-16-5z\"></path>\n",
       "<path d=\"M16 17c-8.837 0-16-2.239-16-5v6c0 2.761 7.163 5 16 5s16-2.239 16-5v-6c0 2.761-7.163 5-16 5z\"></path>\n",
       "<path d=\"M16 26c-8.837 0-16-2.239-16-5v6c0 2.761 7.163 5 16 5s16-2.239 16-5v-6c0 2.761-7.163 5-16 5z\"></path>\n",
       "</symbol>\n",
       "<symbol id=\"icon-file-text2\" viewBox=\"0 0 32 32\">\n",
       "<path d=\"M28.681 7.159c-0.694-0.947-1.662-2.053-2.724-3.116s-2.169-2.030-3.116-2.724c-1.612-1.182-2.393-1.319-2.841-1.319h-15.5c-1.378 0-2.5 1.121-2.5 2.5v27c0 1.378 1.122 2.5 2.5 2.5h23c1.378 0 2.5-1.122 2.5-2.5v-19.5c0-0.448-0.137-1.23-1.319-2.841zM24.543 5.457c0.959 0.959 1.712 1.825 2.268 2.543h-4.811v-4.811c0.718 0.556 1.584 1.309 2.543 2.268zM28 29.5c0 0.271-0.229 0.5-0.5 0.5h-23c-0.271 0-0.5-0.229-0.5-0.5v-27c0-0.271 0.229-0.5 0.5-0.5 0 0 15.499-0 15.5 0v7c0 0.552 0.448 1 1 1h7v19.5z\"></path>\n",
       "<path d=\"M23 26h-14c-0.552 0-1-0.448-1-1s0.448-1 1-1h14c0.552 0 1 0.448 1 1s-0.448 1-1 1z\"></path>\n",
       "<path d=\"M23 22h-14c-0.552 0-1-0.448-1-1s0.448-1 1-1h14c0.552 0 1 0.448 1 1s-0.448 1-1 1z\"></path>\n",
       "<path d=\"M23 18h-14c-0.552 0-1-0.448-1-1s0.448-1 1-1h14c0.552 0 1 0.448 1 1s-0.448 1-1 1z\"></path>\n",
       "</symbol>\n",
       "</defs>\n",
       "</svg>\n",
       "<style>/* CSS stylesheet for displaying xarray objects in jupyterlab.\n",
       " *\n",
       " */\n",
       "\n",
       ":root {\n",
       "  --xr-font-color0: var(--jp-content-font-color0, rgba(0, 0, 0, 1));\n",
       "  --xr-font-color2: var(--jp-content-font-color2, rgba(0, 0, 0, 0.54));\n",
       "  --xr-font-color3: var(--jp-content-font-color3, rgba(0, 0, 0, 0.38));\n",
       "  --xr-border-color: var(--jp-border-color2, #e0e0e0);\n",
       "  --xr-disabled-color: var(--jp-layout-color3, #bdbdbd);\n",
       "  --xr-background-color: var(--jp-layout-color0, white);\n",
       "  --xr-background-color-row-even: var(--jp-layout-color1, white);\n",
       "  --xr-background-color-row-odd: var(--jp-layout-color2, #eeeeee);\n",
       "}\n",
       "\n",
       "html[theme=\"dark\"],\n",
       "html[data-theme=\"dark\"],\n",
       "body[data-theme=\"dark\"],\n",
       "body.vscode-dark {\n",
       "  --xr-font-color0: rgba(255, 255, 255, 1);\n",
       "  --xr-font-color2: rgba(255, 255, 255, 0.54);\n",
       "  --xr-font-color3: rgba(255, 255, 255, 0.38);\n",
       "  --xr-border-color: #1f1f1f;\n",
       "  --xr-disabled-color: #515151;\n",
       "  --xr-background-color: #111111;\n",
       "  --xr-background-color-row-even: #111111;\n",
       "  --xr-background-color-row-odd: #313131;\n",
       "}\n",
       "\n",
       ".xr-wrap {\n",
       "  display: block !important;\n",
       "  min-width: 300px;\n",
       "  max-width: 700px;\n",
       "}\n",
       "\n",
       ".xr-text-repr-fallback {\n",
       "  /* fallback to plain text repr when CSS is not injected (untrusted notebook) */\n",
       "  display: none;\n",
       "}\n",
       "\n",
       ".xr-header {\n",
       "  padding-top: 6px;\n",
       "  padding-bottom: 6px;\n",
       "  margin-bottom: 4px;\n",
       "  border-bottom: solid 1px var(--xr-border-color);\n",
       "}\n",
       "\n",
       ".xr-header > div,\n",
       ".xr-header > ul {\n",
       "  display: inline;\n",
       "  margin-top: 0;\n",
       "  margin-bottom: 0;\n",
       "}\n",
       "\n",
       ".xr-obj-type,\n",
       ".xr-array-name {\n",
       "  margin-left: 2px;\n",
       "  margin-right: 10px;\n",
       "}\n",
       "\n",
       ".xr-obj-type {\n",
       "  color: var(--xr-font-color2);\n",
       "}\n",
       "\n",
       ".xr-sections {\n",
       "  padding-left: 0 !important;\n",
       "  display: grid;\n",
       "  grid-template-columns: 150px auto auto 1fr 0 20px 0 20px;\n",
       "}\n",
       "\n",
       ".xr-section-item {\n",
       "  display: contents;\n",
       "}\n",
       "\n",
       ".xr-section-item input {\n",
       "  display: inline-block;\n",
       "  opacity: 0;\n",
       "  height: 0;\n",
       "}\n",
       "\n",
       ".xr-section-item input + label {\n",
       "  color: var(--xr-disabled-color);\n",
       "}\n",
       "\n",
       ".xr-section-item input:enabled + label {\n",
       "  cursor: pointer;\n",
       "  color: var(--xr-font-color2);\n",
       "}\n",
       "\n",
       ".xr-section-item input:focus + label {\n",
       "  border: 2px solid var(--xr-font-color0);\n",
       "}\n",
       "\n",
       ".xr-section-item input:enabled + label:hover {\n",
       "  color: var(--xr-font-color0);\n",
       "}\n",
       "\n",
       ".xr-section-summary {\n",
       "  grid-column: 1;\n",
       "  color: var(--xr-font-color2);\n",
       "  font-weight: 500;\n",
       "}\n",
       "\n",
       ".xr-section-summary > span {\n",
       "  display: inline-block;\n",
       "  padding-left: 0.5em;\n",
       "}\n",
       "\n",
       ".xr-section-summary-in:disabled + label {\n",
       "  color: var(--xr-font-color2);\n",
       "}\n",
       "\n",
       ".xr-section-summary-in + label:before {\n",
       "  display: inline-block;\n",
       "  content: \"►\";\n",
       "  font-size: 11px;\n",
       "  width: 15px;\n",
       "  text-align: center;\n",
       "}\n",
       "\n",
       ".xr-section-summary-in:disabled + label:before {\n",
       "  color: var(--xr-disabled-color);\n",
       "}\n",
       "\n",
       ".xr-section-summary-in:checked + label:before {\n",
       "  content: \"▼\";\n",
       "}\n",
       "\n",
       ".xr-section-summary-in:checked + label > span {\n",
       "  display: none;\n",
       "}\n",
       "\n",
       ".xr-section-summary,\n",
       ".xr-section-inline-details {\n",
       "  padding-top: 4px;\n",
       "  padding-bottom: 4px;\n",
       "}\n",
       "\n",
       ".xr-section-inline-details {\n",
       "  grid-column: 2 / -1;\n",
       "}\n",
       "\n",
       ".xr-section-details {\n",
       "  display: none;\n",
       "  grid-column: 1 / -1;\n",
       "  margin-bottom: 5px;\n",
       "}\n",
       "\n",
       ".xr-section-summary-in:checked ~ .xr-section-details {\n",
       "  display: contents;\n",
       "}\n",
       "\n",
       ".xr-array-wrap {\n",
       "  grid-column: 1 / -1;\n",
       "  display: grid;\n",
       "  grid-template-columns: 20px auto;\n",
       "}\n",
       "\n",
       ".xr-array-wrap > label {\n",
       "  grid-column: 1;\n",
       "  vertical-align: top;\n",
       "}\n",
       "\n",
       ".xr-preview {\n",
       "  color: var(--xr-font-color3);\n",
       "}\n",
       "\n",
       ".xr-array-preview,\n",
       ".xr-array-data {\n",
       "  padding: 0 5px !important;\n",
       "  grid-column: 2;\n",
       "}\n",
       "\n",
       ".xr-array-data,\n",
       ".xr-array-in:checked ~ .xr-array-preview {\n",
       "  display: none;\n",
       "}\n",
       "\n",
       ".xr-array-in:checked ~ .xr-array-data,\n",
       ".xr-array-preview {\n",
       "  display: inline-block;\n",
       "}\n",
       "\n",
       ".xr-dim-list {\n",
       "  display: inline-block !important;\n",
       "  list-style: none;\n",
       "  padding: 0 !important;\n",
       "  margin: 0;\n",
       "}\n",
       "\n",
       ".xr-dim-list li {\n",
       "  display: inline-block;\n",
       "  padding: 0;\n",
       "  margin: 0;\n",
       "}\n",
       "\n",
       ".xr-dim-list:before {\n",
       "  content: \"(\";\n",
       "}\n",
       "\n",
       ".xr-dim-list:after {\n",
       "  content: \")\";\n",
       "}\n",
       "\n",
       ".xr-dim-list li:not(:last-child):after {\n",
       "  content: \",\";\n",
       "  padding-right: 5px;\n",
       "}\n",
       "\n",
       ".xr-has-index {\n",
       "  font-weight: bold;\n",
       "}\n",
       "\n",
       ".xr-var-list,\n",
       ".xr-var-item {\n",
       "  display: contents;\n",
       "}\n",
       "\n",
       ".xr-var-item > div,\n",
       ".xr-var-item label,\n",
       ".xr-var-item > .xr-var-name span {\n",
       "  background-color: var(--xr-background-color-row-even);\n",
       "  margin-bottom: 0;\n",
       "}\n",
       "\n",
       ".xr-var-item > .xr-var-name:hover span {\n",
       "  padding-right: 5px;\n",
       "}\n",
       "\n",
       ".xr-var-list > li:nth-child(odd) > div,\n",
       ".xr-var-list > li:nth-child(odd) > label,\n",
       ".xr-var-list > li:nth-child(odd) > .xr-var-name span {\n",
       "  background-color: var(--xr-background-color-row-odd);\n",
       "}\n",
       "\n",
       ".xr-var-name {\n",
       "  grid-column: 1;\n",
       "}\n",
       "\n",
       ".xr-var-dims {\n",
       "  grid-column: 2;\n",
       "}\n",
       "\n",
       ".xr-var-dtype {\n",
       "  grid-column: 3;\n",
       "  text-align: right;\n",
       "  color: var(--xr-font-color2);\n",
       "}\n",
       "\n",
       ".xr-var-preview {\n",
       "  grid-column: 4;\n",
       "}\n",
       "\n",
       ".xr-index-preview {\n",
       "  grid-column: 2 / 5;\n",
       "  color: var(--xr-font-color2);\n",
       "}\n",
       "\n",
       ".xr-var-name,\n",
       ".xr-var-dims,\n",
       ".xr-var-dtype,\n",
       ".xr-preview,\n",
       ".xr-attrs dt {\n",
       "  white-space: nowrap;\n",
       "  overflow: hidden;\n",
       "  text-overflow: ellipsis;\n",
       "  padding-right: 10px;\n",
       "}\n",
       "\n",
       ".xr-var-name:hover,\n",
       ".xr-var-dims:hover,\n",
       ".xr-var-dtype:hover,\n",
       ".xr-attrs dt:hover {\n",
       "  overflow: visible;\n",
       "  width: auto;\n",
       "  z-index: 1;\n",
       "}\n",
       "\n",
       ".xr-var-attrs,\n",
       ".xr-var-data,\n",
       ".xr-index-data {\n",
       "  display: none;\n",
       "  background-color: var(--xr-background-color) !important;\n",
       "  padding-bottom: 5px !important;\n",
       "}\n",
       "\n",
       ".xr-var-attrs-in:checked ~ .xr-var-attrs,\n",
       ".xr-var-data-in:checked ~ .xr-var-data,\n",
       ".xr-index-data-in:checked ~ .xr-index-data {\n",
       "  display: block;\n",
       "}\n",
       "\n",
       ".xr-var-data > table {\n",
       "  float: right;\n",
       "}\n",
       "\n",
       ".xr-var-name span,\n",
       ".xr-var-data,\n",
       ".xr-index-name div,\n",
       ".xr-index-data,\n",
       ".xr-attrs {\n",
       "  padding-left: 25px !important;\n",
       "}\n",
       "\n",
       ".xr-attrs,\n",
       ".xr-var-attrs,\n",
       ".xr-var-data,\n",
       ".xr-index-data {\n",
       "  grid-column: 1 / -1;\n",
       "}\n",
       "\n",
       "dl.xr-attrs {\n",
       "  padding: 0;\n",
       "  margin: 0;\n",
       "  display: grid;\n",
       "  grid-template-columns: 125px auto;\n",
       "}\n",
       "\n",
       ".xr-attrs dt,\n",
       ".xr-attrs dd {\n",
       "  padding: 0;\n",
       "  margin: 0;\n",
       "  float: left;\n",
       "  padding-right: 10px;\n",
       "  width: auto;\n",
       "}\n",
       "\n",
       ".xr-attrs dt {\n",
       "  font-weight: normal;\n",
       "  grid-column: 1;\n",
       "}\n",
       "\n",
       ".xr-attrs dt:hover span {\n",
       "  display: inline-block;\n",
       "  background: var(--xr-background-color);\n",
       "  padding-right: 10px;\n",
       "}\n",
       "\n",
       ".xr-attrs dd {\n",
       "  grid-column: 2;\n",
       "  white-space: pre-wrap;\n",
       "  word-break: break-all;\n",
       "}\n",
       "\n",
       ".xr-icon-database,\n",
       ".xr-icon-file-text2,\n",
       ".xr-no-icon {\n",
       "  display: inline-block;\n",
       "  vertical-align: middle;\n",
       "  width: 1em;\n",
       "  height: 1.5em !important;\n",
       "  stroke-width: 0;\n",
       "  stroke: currentColor;\n",
       "  fill: currentColor;\n",
       "}\n",
       "</style><pre class='xr-text-repr-fallback'>&lt;xarray.DataArray (longitude: 29, latitude: 22)&gt; Size: 5kB\n",
       "array([[0.00000000e+00, 0.00000000e+00, 0.00000000e+00, 0.00000000e+00,\n",
       "        0.00000000e+00, 0.00000000e+00, 0.00000000e+00, 0.00000000e+00,\n",
       "        0.00000000e+00, 0.00000000e+00, 0.00000000e+00, 1.36099541e+00,\n",
       "        1.14954865e+00, 1.63362265e+00, 5.81284702e-01, 1.03070605e+00,\n",
       "        7.93194473e-01, 1.05944443e+00, 1.03646994e+00, 5.14641225e-01,\n",
       "        5.14155090e-01, 1.09502316e-01],\n",
       "       [0.00000000e+00, 0.00000000e+00, 0.00000000e+00, 0.00000000e+00,\n",
       "        0.00000000e+00, 0.00000000e+00, 0.00000000e+00, 0.00000000e+00,\n",
       "        1.22899306e+00, 0.00000000e+00, 9.28414345e-01, 1.26675928e+00,\n",
       "        0.00000000e+00, 0.00000000e+00, 0.00000000e+00, 1.72627318e+00,\n",
       "        5.43769693e+00, 4.03241968e+00, 1.58971059e+00, 1.55043983e+00,\n",
       "        1.14820147e+00, 6.18921757e-01],\n",
       "       [0.00000000e+00, 0.00000000e+00, 0.00000000e+00, 0.00000000e+00,\n",
       "        0.00000000e+00, 0.00000000e+00, 0.00000000e+00, 0.00000000e+00,\n",
       "        0.00000000e+00, 0.00000000e+00, 0.00000000e+00, 0.00000000e+00,\n",
       "        0.00000000e+00, 0.00000000e+00, 0.00000000e+00, 0.00000000e+00,\n",
       "        2.72685178e-02, 9.35214138e+00, 3.50451380e-01, 1.46504626e-01,\n",
       "        8.38614559e+00, 2.71886587e-01],\n",
       "       [0.00000000e+00, 0.00000000e+00, 6.52777791e-01, 0.00000000e+00,\n",
       "        0.00000000e+00, 1.04513891e-01, 0.00000000e+00, 0.00000000e+00,\n",
       "...\n",
       "        0.00000000e+00, 0.00000000e+00, 0.00000000e+00, 0.00000000e+00,\n",
       "        0.00000000e+00, 0.00000000e+00],\n",
       "       [0.00000000e+00, 0.00000000e+00, 0.00000000e+00, 0.00000000e+00,\n",
       "        0.00000000e+00, 0.00000000e+00, 0.00000000e+00, 0.00000000e+00,\n",
       "        0.00000000e+00, 0.00000000e+00, 0.00000000e+00, 0.00000000e+00,\n",
       "        0.00000000e+00, 0.00000000e+00, 0.00000000e+00, 0.00000000e+00,\n",
       "        0.00000000e+00, 0.00000000e+00, 0.00000000e+00, 0.00000000e+00,\n",
       "        0.00000000e+00, 0.00000000e+00],\n",
       "       [0.00000000e+00, 0.00000000e+00, 0.00000000e+00, 0.00000000e+00,\n",
       "        0.00000000e+00, 0.00000000e+00, 0.00000000e+00, 0.00000000e+00,\n",
       "        0.00000000e+00, 0.00000000e+00, 0.00000000e+00, 0.00000000e+00,\n",
       "        0.00000000e+00, 0.00000000e+00, 0.00000000e+00, 0.00000000e+00,\n",
       "        0.00000000e+00, 0.00000000e+00, 0.00000000e+00, 0.00000000e+00,\n",
       "        0.00000000e+00, 0.00000000e+00],\n",
       "       [0.00000000e+00, 0.00000000e+00, 0.00000000e+00, 0.00000000e+00,\n",
       "        0.00000000e+00, 0.00000000e+00, 0.00000000e+00, 0.00000000e+00,\n",
       "        0.00000000e+00, 0.00000000e+00, 0.00000000e+00, 0.00000000e+00,\n",
       "        1.59323442e+00, 0.00000000e+00, 0.00000000e+00, 0.00000000e+00,\n",
       "        0.00000000e+00, 0.00000000e+00, 0.00000000e+00, 0.00000000e+00,\n",
       "        0.00000000e+00, 0.00000000e+00]])\n",
       "Coordinates:\n",
       "  * latitude   (latitude) float64 176B -5.958 -5.542 -5.125 ... 2.375 2.792\n",
       "  * longitude  (longitude) float64 232B 49.04 49.46 49.88 ... 59.88 60.29 60.71</pre><div class='xr-wrap' style='display:none'><div class='xr-header'><div class='xr-obj-type'>xarray.DataArray</div><div class='xr-array-name'></div><ul class='xr-dim-list'><li><span class='xr-has-index'>longitude</span>: 29</li><li><span class='xr-has-index'>latitude</span>: 22</li></ul></div><ul class='xr-sections'><li class='xr-section-item'><div class='xr-array-wrap'><input id='section-a55f504b-5611-4578-baf1-069d286757a5' class='xr-array-in' type='checkbox' checked><label for='section-a55f504b-5611-4578-baf1-069d286757a5' title='Show/hide data repr'><svg class='icon xr-icon-database'><use xlink:href='#icon-database'></use></svg></label><div class='xr-array-preview xr-preview'><span>0.0 0.0 0.0 0.0 0.0 0.0 0.0 0.0 ... 0.0 0.0 0.0 0.0 0.0 0.0 0.0 0.0</span></div><div class='xr-array-data'><pre>array([[0.00000000e+00, 0.00000000e+00, 0.00000000e+00, 0.00000000e+00,\n",
       "        0.00000000e+00, 0.00000000e+00, 0.00000000e+00, 0.00000000e+00,\n",
       "        0.00000000e+00, 0.00000000e+00, 0.00000000e+00, 1.36099541e+00,\n",
       "        1.14954865e+00, 1.63362265e+00, 5.81284702e-01, 1.03070605e+00,\n",
       "        7.93194473e-01, 1.05944443e+00, 1.03646994e+00, 5.14641225e-01,\n",
       "        5.14155090e-01, 1.09502316e-01],\n",
       "       [0.00000000e+00, 0.00000000e+00, 0.00000000e+00, 0.00000000e+00,\n",
       "        0.00000000e+00, 0.00000000e+00, 0.00000000e+00, 0.00000000e+00,\n",
       "        1.22899306e+00, 0.00000000e+00, 9.28414345e-01, 1.26675928e+00,\n",
       "        0.00000000e+00, 0.00000000e+00, 0.00000000e+00, 1.72627318e+00,\n",
       "        5.43769693e+00, 4.03241968e+00, 1.58971059e+00, 1.55043983e+00,\n",
       "        1.14820147e+00, 6.18921757e-01],\n",
       "       [0.00000000e+00, 0.00000000e+00, 0.00000000e+00, 0.00000000e+00,\n",
       "        0.00000000e+00, 0.00000000e+00, 0.00000000e+00, 0.00000000e+00,\n",
       "        0.00000000e+00, 0.00000000e+00, 0.00000000e+00, 0.00000000e+00,\n",
       "        0.00000000e+00, 0.00000000e+00, 0.00000000e+00, 0.00000000e+00,\n",
       "        2.72685178e-02, 9.35214138e+00, 3.50451380e-01, 1.46504626e-01,\n",
       "        8.38614559e+00, 2.71886587e-01],\n",
       "       [0.00000000e+00, 0.00000000e+00, 6.52777791e-01, 0.00000000e+00,\n",
       "        0.00000000e+00, 1.04513891e-01, 0.00000000e+00, 0.00000000e+00,\n",
       "...\n",
       "        0.00000000e+00, 0.00000000e+00, 0.00000000e+00, 0.00000000e+00,\n",
       "        0.00000000e+00, 0.00000000e+00],\n",
       "       [0.00000000e+00, 0.00000000e+00, 0.00000000e+00, 0.00000000e+00,\n",
       "        0.00000000e+00, 0.00000000e+00, 0.00000000e+00, 0.00000000e+00,\n",
       "        0.00000000e+00, 0.00000000e+00, 0.00000000e+00, 0.00000000e+00,\n",
       "        0.00000000e+00, 0.00000000e+00, 0.00000000e+00, 0.00000000e+00,\n",
       "        0.00000000e+00, 0.00000000e+00, 0.00000000e+00, 0.00000000e+00,\n",
       "        0.00000000e+00, 0.00000000e+00],\n",
       "       [0.00000000e+00, 0.00000000e+00, 0.00000000e+00, 0.00000000e+00,\n",
       "        0.00000000e+00, 0.00000000e+00, 0.00000000e+00, 0.00000000e+00,\n",
       "        0.00000000e+00, 0.00000000e+00, 0.00000000e+00, 0.00000000e+00,\n",
       "        0.00000000e+00, 0.00000000e+00, 0.00000000e+00, 0.00000000e+00,\n",
       "        0.00000000e+00, 0.00000000e+00, 0.00000000e+00, 0.00000000e+00,\n",
       "        0.00000000e+00, 0.00000000e+00],\n",
       "       [0.00000000e+00, 0.00000000e+00, 0.00000000e+00, 0.00000000e+00,\n",
       "        0.00000000e+00, 0.00000000e+00, 0.00000000e+00, 0.00000000e+00,\n",
       "        0.00000000e+00, 0.00000000e+00, 0.00000000e+00, 0.00000000e+00,\n",
       "        1.59323442e+00, 0.00000000e+00, 0.00000000e+00, 0.00000000e+00,\n",
       "        0.00000000e+00, 0.00000000e+00, 0.00000000e+00, 0.00000000e+00,\n",
       "        0.00000000e+00, 0.00000000e+00]])</pre></div></div></li><li class='xr-section-item'><input id='section-8d772c14-b5bc-4021-a6b6-0352b7b08672' class='xr-section-summary-in' type='checkbox'  checked><label for='section-8d772c14-b5bc-4021-a6b6-0352b7b08672' class='xr-section-summary' >Coordinates: <span>(2)</span></label><div class='xr-section-inline-details'></div><div class='xr-section-details'><ul class='xr-var-list'><li class='xr-var-item'><div class='xr-var-name'><span class='xr-has-index'>latitude</span></div><div class='xr-var-dims'>(latitude)</div><div class='xr-var-dtype'>float64</div><div class='xr-var-preview xr-preview'>-5.958 -5.542 ... 2.375 2.792</div><input id='attrs-e0e4c8af-08c1-4fe0-a95b-e7218e7b9acf' class='xr-var-attrs-in' type='checkbox' disabled><label for='attrs-e0e4c8af-08c1-4fe0-a95b-e7218e7b9acf' title='Show/Hide attributes'><svg class='icon xr-icon-file-text2'><use xlink:href='#icon-file-text2'></use></svg></label><input id='data-5b53fc78-6283-4940-bd21-e72442a4fc5d' class='xr-var-data-in' type='checkbox'><label for='data-5b53fc78-6283-4940-bd21-e72442a4fc5d' title='Show/Hide data repr'><svg class='icon xr-icon-database'><use xlink:href='#icon-database'></use></svg></label><div class='xr-var-attrs'><dl class='xr-attrs'></dl></div><div class='xr-var-data'><pre>array([-5.958333, -5.541667, -5.125   , -4.708333, -4.291667, -3.875   ,\n",
       "       -3.458333, -3.041667, -2.625   , -2.208333, -1.791667, -1.375   ,\n",
       "       -0.958333, -0.541667, -0.125   ,  0.291667,  0.708333,  1.125   ,\n",
       "        1.541667,  1.958333,  2.375   ,  2.791667])</pre></div></li><li class='xr-var-item'><div class='xr-var-name'><span class='xr-has-index'>longitude</span></div><div class='xr-var-dims'>(longitude)</div><div class='xr-var-dtype'>float64</div><div class='xr-var-preview xr-preview'>49.04 49.46 49.88 ... 60.29 60.71</div><input id='attrs-1704d8ef-59af-4938-805b-4519cb24739f' class='xr-var-attrs-in' type='checkbox' disabled><label for='attrs-1704d8ef-59af-4938-805b-4519cb24739f' title='Show/Hide attributes'><svg class='icon xr-icon-file-text2'><use xlink:href='#icon-file-text2'></use></svg></label><input id='data-52ad9043-8748-44cd-86fe-7790fea23967' class='xr-var-data-in' type='checkbox'><label for='data-52ad9043-8748-44cd-86fe-7790fea23967' title='Show/Hide data repr'><svg class='icon xr-icon-database'><use xlink:href='#icon-database'></use></svg></label><div class='xr-var-attrs'><dl class='xr-attrs'></dl></div><div class='xr-var-data'><pre>array([49.041667, 49.458333, 49.875   , 50.291667, 50.708333, 51.125   ,\n",
       "       51.541667, 51.958333, 52.375   , 52.791667, 53.208333, 53.625   ,\n",
       "       54.041667, 54.458333, 54.875   , 55.291667, 55.708333, 56.125   ,\n",
       "       56.541667, 56.958333, 57.375   , 57.791667, 58.208333, 58.625   ,\n",
       "       59.041667, 59.458333, 59.875   , 60.291667, 60.708333])</pre></div></li></ul></div></li><li class='xr-section-item'><input id='section-608b9980-62c0-4172-836f-bc32f6296cd8' class='xr-section-summary-in' type='checkbox'  ><label for='section-608b9980-62c0-4172-836f-bc32f6296cd8' class='xr-section-summary' >Indexes: <span>(2)</span></label><div class='xr-section-inline-details'></div><div class='xr-section-details'><ul class='xr-var-list'><li class='xr-var-item'><div class='xr-index-name'><div>latitude</div></div><div class='xr-index-preview'>PandasIndex</div><input type='checkbox' disabled/><label></label><input id='index-9590cfa7-ff13-47f8-8055-c9cf29bec39b' class='xr-index-data-in' type='checkbox'/><label for='index-9590cfa7-ff13-47f8-8055-c9cf29bec39b' title='Show/Hide index repr'><svg class='icon xr-icon-database'><use xlink:href='#icon-database'></use></svg></label><div class='xr-index-data'><pre>PandasIndex(Index([ -5.958333333402955,  -5.541666666736455,  -5.125000000069955,\n",
       "        -4.708333333403455,  -4.291666666736955, -3.8750000000704548,\n",
       "       -3.4583333334039548,  -3.041666666737455,  -2.625000000070955,\n",
       "        -2.208333333404455, -1.7916666667379548, -1.3750000000714548,\n",
       "       -0.9583333334049549, -0.5416666667384549, -0.1250000000719549,\n",
       "        0.2916666665945451,  0.7083333332610451,   1.124999999927545,\n",
       "         1.541666666594045,   1.958333333260545,   2.374999999927045,\n",
       "         2.791666666593544],\n",
       "      dtype=&#x27;float64&#x27;, name=&#x27;latitude&#x27;))</pre></div></li><li class='xr-var-item'><div class='xr-index-name'><div>longitude</div></div><div class='xr-index-preview'>PandasIndex</div><input type='checkbox' disabled/><label></label><input id='index-8a6277a5-845d-41c4-89b2-6db44eb9efb7' class='xr-index-data-in' type='checkbox'/><label for='index-8a6277a5-845d-41c4-89b2-6db44eb9efb7' title='Show/Hide index repr'><svg class='icon xr-icon-database'><use xlink:href='#icon-database'></use></svg></label><div class='xr-index-data'><pre>PandasIndex(Index([ 49.04166666668306,  49.45833333334956,  49.87500000001606,\n",
       "        50.29166666668256,  50.70833333334905, 51.125000000015554,\n",
       "       51.541666666682055, 51.958333333348556, 52.375000000015056,\n",
       "        52.79166666668156,  53.20833333334806,  53.62500000001456,\n",
       "        54.04166666668105, 54.458333333347554, 54.875000000014055,\n",
       "       55.291666666680555, 55.708333333347056,  56.12500000001356,\n",
       "        56.54166666668006,  56.95833333334656,  57.37500000001306,\n",
       "        57.79166666667955, 58.208333333346054, 58.625000000012555,\n",
       "       59.041666666679056,  59.45833333334556,  59.87500000001206,\n",
       "        60.29166666667855,  60.70833333334505],\n",
       "      dtype=&#x27;float64&#x27;, name=&#x27;longitude&#x27;))</pre></div></li></ul></div></li><li class='xr-section-item'><input id='section-6b6df1ed-94a1-4def-809f-d5c938d8e842' class='xr-section-summary-in' type='checkbox' disabled ><label for='section-6b6df1ed-94a1-4def-809f-d5c938d8e842' class='xr-section-summary'  title='Expand/collapse section'>Attributes: <span>(0)</span></label><div class='xr-section-inline-details'></div><div class='xr-section-details'><dl class='xr-attrs'></dl></div></li></ul></div></div>"
      ],
      "text/plain": [
       "<xarray.DataArray (longitude: 29, latitude: 22)> Size: 5kB\n",
       "array([[0.00000000e+00, 0.00000000e+00, 0.00000000e+00, 0.00000000e+00,\n",
       "        0.00000000e+00, 0.00000000e+00, 0.00000000e+00, 0.00000000e+00,\n",
       "        0.00000000e+00, 0.00000000e+00, 0.00000000e+00, 1.36099541e+00,\n",
       "        1.14954865e+00, 1.63362265e+00, 5.81284702e-01, 1.03070605e+00,\n",
       "        7.93194473e-01, 1.05944443e+00, 1.03646994e+00, 5.14641225e-01,\n",
       "        5.14155090e-01, 1.09502316e-01],\n",
       "       [0.00000000e+00, 0.00000000e+00, 0.00000000e+00, 0.00000000e+00,\n",
       "        0.00000000e+00, 0.00000000e+00, 0.00000000e+00, 0.00000000e+00,\n",
       "        1.22899306e+00, 0.00000000e+00, 9.28414345e-01, 1.26675928e+00,\n",
       "        0.00000000e+00, 0.00000000e+00, 0.00000000e+00, 1.72627318e+00,\n",
       "        5.43769693e+00, 4.03241968e+00, 1.58971059e+00, 1.55043983e+00,\n",
       "        1.14820147e+00, 6.18921757e-01],\n",
       "       [0.00000000e+00, 0.00000000e+00, 0.00000000e+00, 0.00000000e+00,\n",
       "        0.00000000e+00, 0.00000000e+00, 0.00000000e+00, 0.00000000e+00,\n",
       "        0.00000000e+00, 0.00000000e+00, 0.00000000e+00, 0.00000000e+00,\n",
       "        0.00000000e+00, 0.00000000e+00, 0.00000000e+00, 0.00000000e+00,\n",
       "        2.72685178e-02, 9.35214138e+00, 3.50451380e-01, 1.46504626e-01,\n",
       "        8.38614559e+00, 2.71886587e-01],\n",
       "       [0.00000000e+00, 0.00000000e+00, 6.52777791e-01, 0.00000000e+00,\n",
       "        0.00000000e+00, 1.04513891e-01, 0.00000000e+00, 0.00000000e+00,\n",
       "...\n",
       "        0.00000000e+00, 0.00000000e+00, 0.00000000e+00, 0.00000000e+00,\n",
       "        0.00000000e+00, 0.00000000e+00],\n",
       "       [0.00000000e+00, 0.00000000e+00, 0.00000000e+00, 0.00000000e+00,\n",
       "        0.00000000e+00, 0.00000000e+00, 0.00000000e+00, 0.00000000e+00,\n",
       "        0.00000000e+00, 0.00000000e+00, 0.00000000e+00, 0.00000000e+00,\n",
       "        0.00000000e+00, 0.00000000e+00, 0.00000000e+00, 0.00000000e+00,\n",
       "        0.00000000e+00, 0.00000000e+00, 0.00000000e+00, 0.00000000e+00,\n",
       "        0.00000000e+00, 0.00000000e+00],\n",
       "       [0.00000000e+00, 0.00000000e+00, 0.00000000e+00, 0.00000000e+00,\n",
       "        0.00000000e+00, 0.00000000e+00, 0.00000000e+00, 0.00000000e+00,\n",
       "        0.00000000e+00, 0.00000000e+00, 0.00000000e+00, 0.00000000e+00,\n",
       "        0.00000000e+00, 0.00000000e+00, 0.00000000e+00, 0.00000000e+00,\n",
       "        0.00000000e+00, 0.00000000e+00, 0.00000000e+00, 0.00000000e+00,\n",
       "        0.00000000e+00, 0.00000000e+00],\n",
       "       [0.00000000e+00, 0.00000000e+00, 0.00000000e+00, 0.00000000e+00,\n",
       "        0.00000000e+00, 0.00000000e+00, 0.00000000e+00, 0.00000000e+00,\n",
       "        0.00000000e+00, 0.00000000e+00, 0.00000000e+00, 0.00000000e+00,\n",
       "        1.59323442e+00, 0.00000000e+00, 0.00000000e+00, 0.00000000e+00,\n",
       "        0.00000000e+00, 0.00000000e+00, 0.00000000e+00, 0.00000000e+00,\n",
       "        0.00000000e+00, 0.00000000e+00]])\n",
       "Coordinates:\n",
       "  * latitude   (latitude) float64 176B -5.958 -5.542 -5.125 ... 2.375 2.792\n",
       "  * longitude  (longitude) float64 232B 49.04 49.46 49.88 ... 59.88 60.29 60.71"
      ]
     },
     "execution_count": 18,
     "metadata": {},
     "output_type": "execute_result"
    }
   ],
   "source": [
    "da = pcrglob.get_value_as_xarray(\"discharge\")\n",
    "da.thin(5)  # only show every 5th value in each dim"
   ]
  },
  {
   "cell_type": "markdown",
   "id": "b68de73f",
   "metadata": {},
   "source": [
    "Xarray makes it very easy to plot the data. In the figure below, we add a cross at the location where we collected the discharge every timestep: Leven at Newby bridge."
   ]
  },
  {
   "cell_type": "code",
   "execution_count": 19,
   "id": "f30ab9b3",
   "metadata": {},
   "outputs": [
    {
     "data": {
      "text/plain": [
       "<matplotlib.collections.PathCollection at 0x7fdd8a4a5490>"
      ]
     },
     "execution_count": 19,
     "metadata": {},
     "output_type": "execute_result"
    },
    {
     "name": "stderr",
     "output_type": "stream",
     "text": [
      "/opt/conda/envs/ewatercycle2/lib/python3.12/site-packages/cartopy/io/__init__.py:241: DownloadWarning: Downloading: https://naturalearth.s3.amazonaws.com/10m_physical/ne_10m_ocean.zip\n",
      "/opt/conda/envs/ewatercycle2/lib/python3.12/site-packages/cartopy/io/__init__.py:241: DownloadWarning: Downloading: https://naturalearth.s3.amazonaws.com/10m_physical/ne_10m_rivers_lake_centerlines.zip\n",
      "/opt/conda/envs/ewatercycle2/lib/python3.12/site-packages/cartopy/io/__init__.py:241: DownloadWarning: Downloading: https://naturalearth.s3.amazonaws.com/10m_physical/ne_10m_coastline.zip\n"
     ]
    },
    {
     "data": {
      "image/png": "[encoded data removed]",
      "text/plain": [
       "<Figure size 768x576 with 2 Axes>"
      ]
     },
     "metadata": {},
     "output_type": "display_data"
    }
   ],
   "source": [
    "fig = plt.figure(dpi=120)\n",
    "ax = fig.add_subplot(111, projection=crs.PlateCarree())\n",
    "da.plot(ax=ax, cmap=\"GnBu\")\n",
    "\n",
    "# Overlay ocean and coastlines\n",
    "ax.add_feature(cfeature.OCEAN)\n",
    "ax.add_feature(cfeature.RIVERS, color=\"k\")\n",
    "ax.coastlines()\n",
    "\n",
    "# Add a red cross marker at the location of the Leven River at Newby Bridge\n",
    "ax.scatter(station_longitude, station_latitude, s=250, c=\"r\", marker=\"x\", lw=2)"
   ]
  },
  {
   "cell_type": "markdown",
   "id": "418c4d74",
   "metadata": {},
   "source": [
    "We can get (or set) the values at custom points as well:"
   ]
  },
  {
   "cell_type": "code",
   "execution_count": 20,
   "id": "eb8a054b-44dc-4bdc-8179-c3796af26c2e",
   "metadata": {},
   "outputs": [
    {
     "data": {
      "text/plain": [
       "Text(0, 0.5, 'Discharge $[m^3/s]$')"
      ]
     },
     "execution_count": 20,
     "metadata": {},
     "output_type": "execute_result"
    },
    {
     "data": {
      "image/png": "[encoded data removed]",
      "text/plain": [
       "<Figure size 640x480 with 1 Axes>"
      ]
     },
     "metadata": {},
     "output_type": "display_data"
    }
   ],
   "source": [
    "# Extra\n",
    "timeseries.plot()\n",
    "plt.ylabel(\"Discharge $[m^3/s]$\")"
   ]
  },
  {
   "cell_type": "markdown",
   "id": "d357d6b6dc242852",
   "metadata": {},
   "source": [
    "### Looking at all the results\n",
    "\n",
    "We of course want to compare this both to observations as well as to the result of the HBV model."
   ]
  },
  {
   "cell_type": "code",
   "execution_count": 25,
   "id": "f62de858-940c-46d2-b5ac-5b5268609911",
   "metadata": {},
   "outputs": [
    {
     "data": {
      "text/html": [
       "<pre style=\"white-space:pre;overflow-x:auto;line-height:normal;font-family:Menlo,'DejaVu Sans Mono',consolas,'Courier New',monospace\">catchment_area_m2 = <span style=\"color: #008080; text-decoration-color: #008080; font-weight: bold\">248130958.76862004</span>\n",
       "</pre>\n"
      ],
      "text/plain": [
       "catchment_area_m2 = \u001b[1;36m248130958.76862004\u001b[0m\n"
      ]
     },
     "metadata": {},
     "output_type": "display_data"
    }
   ],
   "source": [
    "camelsgb_forcing = ewatercycle.forcing.sources['CaravanForcing'].load(directory=forcing_path_caravan)\n",
    "xr_camelsgb_forcing = xr.open_dataset(camelsgb_forcing['Q'])\n",
    "xr_hbv_model_output = xr.open_dataset('~/river_discharge_data.nc')\n",
    "\n",
    "# flux_out_Q unit conversion factor from mm/day to m3/s\n",
    "conversion_mmday2m3s = 1 / (1000 * 86400)\n",
    "shape = fiona.open(camelsgb_forcing.shape)\n",
    "poly = [shapely.geometry.shape(p[\"geometry\"]) for p in shape][0]\n",
    "geod = Geod(ellps=\"WGS84\")\n",
    "poly_area, poly_perimeter = geod.geometry_area_perimeter(poly)\n",
    "catchment_area_m2 = abs(poly_area)\n",
    "print(f\"{catchment_area_m2 = }\")\n",
    "\n",
    "xr_camelsgb_forcing[\"Q\"]  = xr_camelsgb_forcing[\"Q\"] * conversion_mmday2m3s * catchment_area_m2\n",
    "xr_hbv_model_output['Modelled_discharge'] = xr_hbv_model_output['Modelled_discharge']* conversion_mmday2m3s * catchment_area_m2"
   ]
  },
  {
   "cell_type": "code",
   "execution_count": 26,
   "id": "05522b52-eb4a-458e-a44d-cda10229e0be",
   "metadata": {},
   "outputs": [
    {
     "data": {
      "text/plain": [
       "<matplotlib.legend.Legend at 0x7fdd5f8d5310>"
      ]
     },
     "execution_count": 26,
     "metadata": {},
     "output_type": "execute_result"
    },
    {
     "data": {
      "image/png": "[encoded data removed]",
      "text/plain": [
       "<Figure size 640x480 with 1 Axes>"
      ]
     },
     "metadata": {},
     "output_type": "display_data"
    }
   ],
   "source": [
    "timeseries.plot()\n",
    "xr_camelsgb_forcing[\"Q\"].plot(label=\"Observed discharge\")\n",
    "xr_hbv_model_output['Modelled_discharge'].plot(label=\"modelled discharge HBV\")\n",
    "plt.ylabel(\"Discharge [$m^3/s$]\")\n",
    "plt.xlabel(\"Date\")\n",
    "plt.legend()"
   ]
  },
  {
   "cell_type": "markdown",
   "id": "506bc09011f9dbe8",
   "metadata": {},
   "source": [
    "Doesn't look too good for PCRGlobWB. This is because for this small area we are only looking at 10-ish pixels and most likely there is a big mismatch between the pixels that drain through the outlet in PCRGlobWB and the actual catchment. Typical areas for PCRGlobWB are more than 100x100 km."
   ]
  },
  {
   "cell_type": "markdown",
   "id": "c3479c71",
   "metadata": {},
   "source": [
    "## Cleaning up\n",
    "\n",
    "Models usually perform some \"wrap up tasks\" at the end of a model run, such as writing the last outputs to disk and releasing memory. In the case of eWaterCycle, another important teardown task is destroying the container in which the model was running. This can free up a lot of resources on your system. Therefore it is good practice to always call `finalize()` when you're done with an experiment."
   ]
  },
  {
   "cell_type": "code",
   "execution_count": 27,
   "id": "b5846be2",
   "metadata": {},
   "outputs": [],
   "source": [
    "pcrglob.finalize()"
   ]
  },
  {
   "cell_type": "code",
   "execution_count": null,
   "id": "f290bfdf-e8a7-4e53-bf75-bdf00f9f32ab",
   "metadata": {},
   "outputs": [],
   "source": []
  }
 ],
 "metadata": {
  "kernelspec": {
   "display_name": "Python 3 (ipykernel)",
   "language": "python",
   "name": "python3"
  },
  "language_info": {
   "codemirror_mode": {
    "name": "ipython",
    "version": 3
   },
   "file_extension": ".py",
   "mimetype": "text/x-python",
   "name": "python",
   "nbconvert_exporter": "python",
   "pygments_lexer": "ipython3",
   "version": "3.12.7"
  }
 },
 "nbformat": 4,
 "nbformat_minor": 5
}
