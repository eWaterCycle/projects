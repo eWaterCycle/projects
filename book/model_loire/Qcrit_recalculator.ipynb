{
 "cells": [
  {
   "cell_type": "markdown",
   "id": "2a9f5251-2f4d-4333-b248-5c16cf85f22f",
   "metadata": {},
   "source": [
    "# Defining the critical water for Blois station based on the Gien Station"
   ]
  },
  {
   "cell_type": "code",
   "execution_count": null,
   "id": "bee4cd08-2a8d-400c-a205-a6785542946e",
   "metadata": {},
   "outputs": [],
   "source": []
  }
 ],
 "metadata": {
  "kernelspec": {
   "display_name": "Python 3 (ipykernel)",
   "language": "python",
   "name": "python3"
  },
  "language_info": {
   "codemirror_mode": {
    "name": "ipython",
    "version": 3
   },
   "file_extension": ".py",
   "mimetype": "text/x-python",
   "name": "python",
   "nbconvert_exporter": "python",
   "pygments_lexer": "ipython3",
   "version": "3.12.7"
  }
 },
 "nbformat": 4,
 "nbformat_minor": 5
}
