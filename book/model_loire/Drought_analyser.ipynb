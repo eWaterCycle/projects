{
 "cells": [
  {
   "cell_type": "markdown",
   "id": "1d8d1b84-0fec-4f42-ab52-69fd9accc49d",
   "metadata": {},
   "source": [
    "# Drought analyser"
   ]
  },
  {
   "cell_type": "markdown",
   "id": "e5319c89-6e35-4536-903e-023d21ab7284",
   "metadata": {},
   "source": [
    "#### The algorithm\n",
    "This function is used to detect and analyse droughts. As input it needs discharge data (as a dataframe), a basin name (or the column name of the discharge) and a critical water flow. Then, the algorithm checks how many times the flow goes underneath the threshold, counts the amount of days of drought and the maximum amount of water that is lost during this drought. This file is used so the function does not need to be defined in every file."
   ]
  },
  {
   "cell_type": "code",
   "execution_count": 1,
   "id": "35ac8568-5613-4557-af91-37016e69336a",
   "metadata": {},
   "outputs": [],
   "source": [
    "def drought_analyser(df, basin_name, q_crit):\n",
    "    droughts = []\n",
    "    drought_counter = 0\n",
    "    i = 0\n",
    "    \n",
    "    while i < len(df):\n",
    "        if df.iloc[i] <= q_crit:\n",
    "            drought_counter += 1\n",
    "            days_counter = 0\n",
    "            deficit_list = []\n",
    "            cum_def_list = []\n",
    "            accum_deficit = 0\n",
    "            max_cumulative_deficit = 0\n",
    "            start_date = df.index[i]\n",
    "            \n",
    "            while i < len(df):\n",
    "                deficit = df.iloc[i] - q_crit\n",
    "                deficit_list.append(deficit)\n",
    "                accum_deficit += deficit\n",
    "                cum_def_list.append(accum_deficit)\n",
    "                max_cumulative_deficit = min(max_cumulative_deficit, accum_deficit)\n",
    "                days_counter += 1\n",
    "                i += 1\n",
    "                \n",
    "                if accum_deficit > 0:\n",
    "                    break\n",
    "            \n",
    "            if max_cumulative_deficit < 0:\n",
    "                droughts.append({\n",
    "                    \"Drought Number\": drought_counter,\n",
    "                    \"Start Date\": start_date,\n",
    "                    \"Duration (days)\": days_counter,\n",
    "                    \"Max Cumulative Deficit (m3/s)\": max_cumulative_deficit,\n",
    "                    \"Cum Deficit List\": cum_def_list\n",
    "                })\n",
    "        else:\n",
    "            i += 1\n",
    "    if drought_counter < 1:\n",
    "        droughts.append({\n",
    "                \"Drought Number\": 0,\n",
    "                \"Start Date\": df.index[0],\n",
    "                \"Duration (days)\": 0,\n",
    "                \"Max Cumulative Deficit (m3/s)\": 0,\n",
    "                \"Cum Deficit List\": 0\n",
    "            })\n",
    "        \n",
    "    return pd.DataFrame(droughts)"
   ]
  },
  {
   "cell_type": "markdown",
   "id": "a83a99e5-5f29-4181-9f87-1a46648622f4",
   "metadata": {},
   "source": [
    "#### Other re-occuring functions"
   ]
  },
  {
   "cell_type": "code",
   "execution_count": 2,
   "id": "27247658-8b4b-457d-b218-9e21c0f24c7b",
   "metadata": {},
   "outputs": [],
   "source": [
    "def convert_Qsim_mmday_to_m3s(Q_sim_mmday, area_km2):\n",
    "    return (Q_sim_mmday * area_km2) / 86.4"
   ]
  },
  {
   "cell_type": "code",
   "execution_count": 3,
   "id": "d61b6c76-9f16-4e56-a676-6fc02f397d42",
   "metadata": {},
   "outputs": [],
   "source": [
    "def earth_movers_distance(x_obs, y_obs, x_model, y_model):\n",
    "    duration_emd = wasserstein_distance(x_obs, x_model)\n",
    "    deficit_emd = wasserstein_distance(y_obs, y_model)\n",
    "    total_distance = duration_emd * 0.5 + deficit_emd * 0.5\n",
    "\n",
    "    return duration_emd * 0.5, deficit_emd * 0.5"
   ]
  }
 ],
 "metadata": {
  "kernelspec": {
   "display_name": "Python 3 (ipykernel)",
   "language": "python",
   "name": "python3"
  },
  "language_info": {
   "codemirror_mode": {
    "name": "ipython",
    "version": 3
   },
   "file_extension": ".py",
   "mimetype": "text/x-python",
   "name": "python",
   "nbconvert_exporter": "python",
   "pygments_lexer": "ipython3",
   "version": "3.12.7"
  }
 },
 "nbformat": 4,
 "nbformat_minor": 5
}
