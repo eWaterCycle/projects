{
 "cells": [
  {
   "cell_type": "markdown",
   "id": "a8f886dd-2d0d-410f-bdba-8b29ffe957e0",
   "metadata": {},
   "source": [
    "# Combine ERA5 dataset\n",
    "\n",
    "This notebook shows how different periods of ERA5 data are merged as one forcing file."
   ]
  },
  {
   "cell_type": "markdown",
   "id": "0cf57816-b1e3-4c54-9e47-f35194840e62",
   "metadata": {},
   "source": [
    "### 1. Imports"
   ]
  },
  {
   "cell_type": "code",
   "execution_count": 1,
   "id": "54a100d8-1423-4afb-99ad-0c1a02a9c857",
   "metadata": {},
   "outputs": [],
   "source": [
    "# general python\n",
    "import warnings\n",
    "warnings.filterwarnings(\"ignore\", category=UserWarning)\n",
    "\n",
    "import numpy as np\n",
    "from pathlib import Path\n",
    "import pandas as pd\n",
    "import matplotlib.pyplot as plt\n",
    "import xarray as xr\n",
    "import geopandas as gpd\n",
    "import pandas as pd\n",
    "\n",
    "#niceties\n",
    "from rich import print\n",
    "\n",
    "# Needed\n",
    "from ipywidgets import IntProgress\n",
    "from IPython.display import display\n",
    "from scipy.stats import qmc\n",
    "import yaml"
   ]
  },
  {
   "cell_type": "code",
   "execution_count": 2,
   "id": "88fd5378-4b7b-4a54-a9cc-d91e818a8b52",
   "metadata": {},
   "outputs": [],
   "source": [
    "# general eWaterCycle\n",
    "import ewatercycle\n",
    "import ewatercycle.models\n",
    "import ewatercycle.forcing"
   ]
  },
  {
   "cell_type": "markdown",
   "id": "a133328d-e894-4b65-8a6c-7fb28b05e2a7",
   "metadata": {},
   "source": [
    "### 2. Load the datasets\n",
    "\n",
    "The ERA5 is already generated using Historical_data_analysis.ipynb and loaded into this notebook."
   ]
  },
  {
   "cell_type": "code",
   "execution_count": 3,
   "id": "8b967ab2-3cfe-4ed2-81f8-c04fd420c683",
   "metadata": {},
   "outputs": [],
   "source": [
    "# Load 1990 - 1994\n",
    "forcing_path_ERA5_90_94 = Path.home() / \"forcing\" / \"loire_river\" / \"ERA5-90-94\" / \"work\" / \"diagnostic\" / \"script\"\n",
    "ERA5_forcing_9094 = ewatercycle.forcing.sources[\"LumpedMakkinkForcing\"].load(directory=forcing_path_ERA5_90_94)\n",
    "\n",
    "# Load 1995 - 2004\n",
    "forcing_path_ERA5_95_04 = Path.home() / \"forcing\" / \"loire_river\" / \"ERA5-95-04\" / \"work\" / \"diagnostic\" / \"script\" \n",
    "ERA5_forcing_9504 = ewatercycle.forcing.sources[\"LumpedMakkinkForcing\"].load(directory=forcing_path_ERA5_95_04)\n",
    "\n",
    "# Load 2005 - 2012\n",
    "forcing_path_ERA5_05_12 = Path.home() / \"forcing\" / \"loire_river\" / \"ERA5-5-12\" / \"work\" / \"diagnostic\" / \"script\"\n",
    "ERA5_forcing_0512 = ewatercycle.forcing.sources[\"LumpedMakkinkForcing\"].load(directory=forcing_path_ERA5_05_12)\n",
    "\n",
    "#Load 2013 - 2019\n",
    "forcing_path_ERA5_13_19 = Path.home() / \"forcing\" / \"loire_river\" / \"ERA5-13-19\" / \"work\" / \"diagnostic\" / \"script\"\n",
    "ERA5_forcing_1319 = ewatercycle.forcing.sources[\"LumpedMakkinkForcing\"].load(directory=forcing_path_ERA5_13_19)"
   ]
  },
  {
   "cell_type": "markdown",
   "id": "3c1bdae9-71cd-4848-a34f-201ae8f22d38",
   "metadata": {},
   "source": [
    "### 3. Merge the data\n",
    "\n",
    "Each forcing (pr, tas, rsds and evspsblpot) is loaded in the combine_variable function and combined using the xarray method 'concat'."
   ]
  },
  {
   "cell_type": "code",
   "execution_count": 4,
   "id": "06808055-81a9-42e0-8386-88e589a318a8",
   "metadata": {},
   "outputs": [],
   "source": [
    "# List of periods and corresponding filenames\n",
    "folders = [\n",
    "    \"ERA5-90-94\",\n",
    "    \"ERA5-95-04\",\n",
    "    \"ERA5-5-12\",\n",
    "    \"ERA5-13-19\"\n",
    "]\n",
    "\n",
    "periods = [\n",
    "    \"1990-1994\",\n",
    "    \"1995-2004\",\n",
    "    \"2005-2012\",\n",
    "    \"2013-2019\"\n",
    "]\n",
    "\n",
    "# Combine function\n",
    "def combine_variable(var_name, file):\n",
    "    datasets = []\n",
    "    for i, period in enumerate(periods):\n",
    "        if var_name == 'evspsblpot':\n",
    "            file_path = Path.home() / \"forcing\" / \"loire_river\" / folders[i] / \"work\" / \"diagnostic\" / \"script\" / file\n",
    "        else:    \n",
    "            file_name = 'OBS6_ERA5_reanaly_1_day_'+var_name+'_'+period+\".nc\"\n",
    "            file_path = Path.home() / \"forcing\" / \"loire_river\" / folders[i] / \"work\" / \"diagnostic\" / \"script\" / file_name\n",
    "        datasets.append(xr.open_dataset(file_path))\n",
    "    \n",
    "    combined = xr.concat(datasets, dim='time')\n",
    "    return combined"
   ]
  },
  {
   "cell_type": "markdown",
   "id": "0c64d331-f6be-4578-9e59-6829a2684c85",
   "metadata": {},
   "source": [
    "### 4. Save the data\n",
    "\n",
    "The combine_variable function from Chapter 3 is used and stored in a new file directory. The combined forcings are again stored as netcdf files."
   ]
  },
  {
   "cell_type": "code",
   "execution_count": 5,
   "id": "cb14862e-5a11-4703-8465-82015a9f9114",
   "metadata": {},
   "outputs": [],
   "source": [
    "# Combine each variable\n",
    "combined_pr = combine_variable('pr', '_')\n",
    "combined_tas = combine_variable('tas', '_')\n",
    "combined_rsds = combine_variable('rsds', '_')\n",
    "combined_evspsblpot = combine_variable('evspsblpot', 'Derived_Makkink_evspsblpot.nc')\n",
    "\n",
    "# Save combined datasets\n",
    "output_path = Path.home() / \"forcing\" / \"loire_river\" / \"ERA5-90-19\"\n",
    "output_path.mkdir(parents=True, exist_ok=True)\n",
    "\n",
    "combined_pr.to_netcdf(output_path / \"combined_ERA5_1990_2019_pr.nc\")\n",
    "combined_tas.to_netcdf(output_path / \"combined_ERA5_1990_2019_tas.nc\")\n",
    "combined_rsds.to_netcdf(output_path / \"combined_ERA5_1990_2019_rsds.nc\")\n",
    "combined_evspsblpot.to_netcdf(output_path / \"combined_ERA5_1990_2019_evspsblpot.nc\")"
   ]
  },
  {
   "cell_type": "markdown",
   "id": "82c97506-25b3-426b-9e2c-45884f1d9111",
   "metadata": {},
   "source": [
    "### 5. Create new yaml file \n",
    "\n",
    "A new yaml file needs to be added to the new directory in order make it readable by the eWaterCycle methods."
   ]
  },
  {
   "cell_type": "code",
   "execution_count": 6,
   "id": "149f8c1b-9981-4a68-85f7-72e603274b84",
   "metadata": {},
   "outputs": [],
   "source": [
    "# Create yaml \n",
    "forcing_yaml = {\n",
    "    'start_time': '1990-01-01T00:00:00Z',\n",
    "    'end_time': '2019-12-31T23:59:59Z',\n",
    "    'shape': 'estreams_cb_FR003882.shp',\n",
    "    'filenames': {\n",
    "        'pr': 'combined_ERA5_1990_2019_pr.nc',\n",
    "        'tas': 'combined_ERA5_1990_2019_tas.nc',\n",
    "        'rsds': 'combined_ERA5_1990_2019_rsds.nc',\n",
    "        'evspsblpot': 'combined_ERA5_1990_2019_evspsblpot.nc'\n",
    "    }\n",
    "}\n",
    "\n",
    "# Save the YAML file\n",
    "yaml_file_path = output_path / \"ewatercycle_forcing.yaml\"\n",
    "with open(yaml_file_path, 'w') as yaml_file:\n",
    "    yaml.dump(forcing_yaml, yaml_file, default_flow_style=False)"
   ]
  },
  {
   "cell_type": "markdown",
   "id": "a0aa73af-539e-457c-bdef-948a63338c48",
   "metadata": {},
   "source": [
    "### 6. Check if it works"
   ]
  },
  {
   "cell_type": "code",
   "execution_count": 7,
   "id": "36cb51d8-30db-4fd9-81c8-0cb3f9443a4e",
   "metadata": {},
   "outputs": [
    {
     "data": {
      "text/html": [
       "<pre style=\"white-space:pre;overflow-x:auto;line-height:normal;font-family:Menlo,'DejaVu Sans Mono',consolas,'Courier New',monospace\"><span style=\"color: #800080; text-decoration-color: #800080; font-weight: bold\">LumpedMakkinkForcing</span><span style=\"font-weight: bold\">(</span>\n",
       "    <span style=\"color: #808000; text-decoration-color: #808000\">start_time</span>=<span style=\"color: #008000; text-decoration-color: #008000\">'1990-01-01T00:00:00Z'</span>,\n",
       "    <span style=\"color: #808000; text-decoration-color: #808000\">end_time</span>=<span style=\"color: #008000; text-decoration-color: #008000\">'2019-12-31T23:59:59Z'</span>,\n",
       "    <span style=\"color: #808000; text-decoration-color: #808000\">directory</span>=<span style=\"color: #800080; text-decoration-color: #800080; font-weight: bold\">PosixPath</span><span style=\"font-weight: bold\">(</span><span style=\"color: #008000; text-decoration-color: #008000\">'/home/ischa/forcing/loire_river/ERA5-90-19'</span><span style=\"font-weight: bold\">)</span>,\n",
       "    <span style=\"color: #808000; text-decoration-color: #808000\">shape</span>=<span style=\"color: #800080; text-decoration-color: #800080; font-weight: bold\">PosixPath</span><span style=\"font-weight: bold\">(</span><span style=\"color: #008000; text-decoration-color: #008000\">'/home/ischa/forcing/loire_river/ERA5-90-19/estreams_cb_FR003882.shp'</span><span style=\"font-weight: bold\">)</span>,\n",
       "    <span style=\"color: #808000; text-decoration-color: #808000\">filenames</span>=<span style=\"font-weight: bold\">{</span>\n",
       "        <span style=\"color: #008000; text-decoration-color: #008000\">'evspsblpot'</span>: <span style=\"color: #008000; text-decoration-color: #008000\">'combined_ERA5_1990_2019_evspsblpot.nc'</span>,\n",
       "        <span style=\"color: #008000; text-decoration-color: #008000\">'pr'</span>: <span style=\"color: #008000; text-decoration-color: #008000\">'combined_ERA5_1990_2019_pr.nc'</span>,\n",
       "        <span style=\"color: #008000; text-decoration-color: #008000\">'rsds'</span>: <span style=\"color: #008000; text-decoration-color: #008000\">'combined_ERA5_1990_2019_rsds.nc'</span>,\n",
       "        <span style=\"color: #008000; text-decoration-color: #008000\">'tas'</span>: <span style=\"color: #008000; text-decoration-color: #008000\">'combined_ERA5_1990_2019_tas.nc'</span>\n",
       "    <span style=\"font-weight: bold\">}</span>\n",
       "<span style=\"font-weight: bold\">)</span>\n",
       "</pre>\n"
      ],
      "text/plain": [
       "\u001b[1;35mLumpedMakkinkForcing\u001b[0m\u001b[1m(\u001b[0m\n",
       "    \u001b[33mstart_time\u001b[0m=\u001b[32m'1990-01-01T00:00:00Z'\u001b[0m,\n",
       "    \u001b[33mend_time\u001b[0m=\u001b[32m'2019-12-31T23:59:59Z'\u001b[0m,\n",
       "    \u001b[33mdirectory\u001b[0m=\u001b[1;35mPosixPath\u001b[0m\u001b[1m(\u001b[0m\u001b[32m'/home/ischa/forcing/loire_river/ERA5-90-19'\u001b[0m\u001b[1m)\u001b[0m,\n",
       "    \u001b[33mshape\u001b[0m=\u001b[1;35mPosixPath\u001b[0m\u001b[1m(\u001b[0m\u001b[32m'/home/ischa/forcing/loire_river/ERA5-90-19/estreams_cb_FR003882.shp'\u001b[0m\u001b[1m)\u001b[0m,\n",
       "    \u001b[33mfilenames\u001b[0m=\u001b[1m{\u001b[0m\n",
       "        \u001b[32m'evspsblpot'\u001b[0m: \u001b[32m'combined_ERA5_1990_2019_evspsblpot.nc'\u001b[0m,\n",
       "        \u001b[32m'pr'\u001b[0m: \u001b[32m'combined_ERA5_1990_2019_pr.nc'\u001b[0m,\n",
       "        \u001b[32m'rsds'\u001b[0m: \u001b[32m'combined_ERA5_1990_2019_rsds.nc'\u001b[0m,\n",
       "        \u001b[32m'tas'\u001b[0m: \u001b[32m'combined_ERA5_1990_2019_tas.nc'\u001b[0m\n",
       "    \u001b[1m}\u001b[0m\n",
       "\u001b[1m)\u001b[0m\n"
      ]
     },
     "metadata": {},
     "output_type": "display_data"
    }
   ],
   "source": [
    "forcing_combined = ewatercycle.forcing.sources[\"LumpedMakkinkForcing\"].load(directory=output_path)\n",
    "print(forcing_combined)"
   ]
  }
 ],
 "metadata": {
  "kernelspec": {
   "display_name": "Python 3 (ipykernel)",
   "language": "python",
   "name": "python3"
  },
  "language_info": {
   "codemirror_mode": {
    "name": "ipython",
    "version": 3
   },
   "file_extension": ".py",
   "mimetype": "text/x-python",
   "name": "python",
   "nbconvert_exporter": "python",
   "pygments_lexer": "ipython3",
   "version": "3.12.7"
  }
 },
 "nbformat": 4,
 "nbformat_minor": 5
}
