{
 "cells": [
  {
   "cell_type": "markdown",
   "id": "184b5c58-9a17-43e8-86a9-a9297e82ee85",
   "metadata": {},
   "source": [
    "# Chapter 4: Future frequency of threshold exceedance under different climate change scenarios"
   ]
  },
  {
   "cell_type": "markdown",
   "id": "cb4c818a-f39e-47eb-8fda-5d92d07dc6f5",
   "metadata": {},
   "source": [
    "In this chapter the future frequency of threshold exceendance is determined. This is done using different climate change scenarios, which are implemented in the HBV model. The HBV model is calibrated in Chapter 3"
   ]
  },
  {
   "cell_type": "code",
   "execution_count": null,
   "id": "2dcd7cdf-a671-4b44-b28a-85d0a6362f3b",
   "metadata": {},
   "outputs": [],
   "source": []
  }
 ],
 "metadata": {
  "kernelspec": {
   "display_name": "Python 3 (ipykernel)",
   "language": "python",
   "name": "python3"
  },
  "language_info": {
   "codemirror_mode": {
    "name": "ipython",
    "version": 3
   },
   "file_extension": ".py",
   "mimetype": "text/x-python",
   "name": "python",
   "nbconvert_exporter": "python",
   "pygments_lexer": "ipython3",
   "version": "3.12.7"
  }
 },
 "nbformat": 4,
 "nbformat_minor": 5
}
