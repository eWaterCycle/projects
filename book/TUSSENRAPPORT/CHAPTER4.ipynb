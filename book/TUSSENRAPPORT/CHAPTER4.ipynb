{
 "cells": [
  {
   "cell_type": "markdown",
   "id": "184b5c58-9a17-43e8-86a9-a9297e82ee85",
   "metadata": {},
   "source": [
    "# Chapter 4: Future frequency of threshold exceedance under different climate change scenarios"
   ]
  },
  {
   "cell_type": "code",
   "execution_count": null,
   "id": "aabe009e-ebd8-4963-9a53-6ea7bdd6b7cc",
   "metadata": {},
   "outputs": [],
   "source": []
  }
 ],
 "metadata": {
  "kernelspec": {
   "display_name": "Python 3 (ipykernel)",
   "language": "python",
   "name": "python3"
  },
  "language_info": {
   "codemirror_mode": {
    "name": "ipython",
    "version": 3
   },
   "file_extension": ".py",
   "mimetype": "text/x-python",
   "name": "python",
   "nbconvert_exporter": "python",
   "pygments_lexer": "ipython3",
   "version": "3.12.7"
  }
 },
 "nbformat": 4,
 "nbformat_minor": 5
}
