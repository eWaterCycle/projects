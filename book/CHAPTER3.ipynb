{
 "cells": [
  {
   "cell_type": "markdown",
   "id": "fbd28f89-010c-4e84-823c-4c64ec8e363c",
   "metadata": {},
   "source": [
    "# Chapter 3: Current frequency of threshold exceedance"
   ]
  },
  {
   "cell_type": "markdown",
   "id": "b180b301-bf29-4d43-bff0-6ad88ecd3e26",
   "metadata": {},
   "source": [
    "In this chapter the current frequency of the threshold, determined in chapter 2, wil be analysed. This is done using the HBV model through eWaterCycle. The HBV model "
   ]
  },
  {
   "cell_type": "code",
   "execution_count": null,
   "id": "5360a4d1-42f7-465c-8335-48944ca41f25",
   "metadata": {},
   "outputs": [],
   "source": []
  }
 ],
 "metadata": {
  "kernelspec": {
   "display_name": "Python 3 (ipykernel)",
   "language": "python",
   "name": "python3"
  },
  "language_info": {
   "codemirror_mode": {
    "name": "ipython",
    "version": 3
   },
   "file_extension": ".py",
   "mimetype": "text/x-python",
   "name": "python",
   "nbconvert_exporter": "python",
   "pygments_lexer": "ipython3",
   "version": "3.12.7"
  }
 },
 "nbformat": 4,
 "nbformat_minor": 5
}
