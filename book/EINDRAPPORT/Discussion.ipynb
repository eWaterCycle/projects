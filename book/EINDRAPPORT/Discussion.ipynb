{
 "cells": [
  {
   "cell_type": "markdown",
   "id": "ccc72e8f-a59d-4fb9-8c48-b50cd87aa24f",
   "metadata": {},
   "source": [
    "\\newpage"
   ]
  },
  {
   "cell_type": "markdown",
   "id": "f0cfd98f-34db-4833-b8a8-bdd3c46c75aa",
   "metadata": {},
   "source": [
    "# Discussion"
   ]
  },
  {
   "cell_type": "markdown",
   "id": "7f7a3274-0153-4f42-8c1d-330afec50d54",
   "metadata": {},
   "source": [
    "## Key Findings"
   ]
  },
  {
   "cell_type": "markdown",
   "id": "c6bc540d-1799-4227-80c2-f3cd12978b68",
   "metadata": {},
   "source": [
    "This research aimed to investigate the impact of predicted climate change on the hydrology fo the Wien River and implications for flooding of the adjacent U4 subway line. The analysis focussed on determining the flooding threshold, estimating the current frequency of threshold exceedance, and projecting future frequency of exceedance under different climate change scenarios. "
   ]
  },
  {
   "cell_type": "markdown",
   "id": "a3fcfd9c-b71a-4b73-b857-7969ee0b56d5",
   "metadata": {},
   "source": [
    "### Current Threshold for Flooding"
   ]
  },
  {
   "cell_type": "markdown",
   "id": "2e33f8b7-1174-400a-9362-f3473dc3878c",
   "metadata": {},
   "source": [
    "In Chapter 2, the critical discharge at which the U4 subway line is expected to flood is determined to be at a mean value of 530 or 534 m3/s. These thresholds are based on studies by Faber (2006) and Compton et al. (2009), who determined that overtopping is the primary mechanism leading to flooding, rather than stuctural failure of the floodwall. Given that the threshold values are normally distributed, overtopping could happen with a probability of 5 % at discharge values of 510 and 511 m3/s, or with a 95% probability of actually causing overtopping at discharge values of 557 and 550 m3/s. "
   ]
  },
  {
   "cell_type": "markdown",
   "id": "75ea7651-89cb-454e-ade0-1eedb6bdd868",
   "metadata": {},
   "source": [
    "### Current Frequency of Threshold Exceedance"
   ]
  },
  {
   "cell_type": "markdown",
   "id": "7b584263-56b3-48e9-8c64-76991f7b829d",
   "metadata": {},
   "source": [
    "The observation data used in Chapter 3 shows that the Wien River has not exceeded the threshold value in the period of 1981 to 2018. The return period of the threshold value is estimated using extrapolation. The return periods of the key discharges from the normal distributions are as followed: \n",
    "\n",
    "- 510 m3/s: 597 years with a 5% probability of actually causing flooding\n",
    "- 511 m3/s: 599 years with a 5% probability of actually causing flooding\n",
    "- 530 m3/s: 641 years with a 50% probability of actually causing flooding\n",
    "- 534 m3/s: 650 years with a 50% probability of actually causing flooding\n",
    "- 550 m3/s: 686 years with a 95% probability of actually causing flooding\n",
    "- 557 m3/s: 702 years with a 95% probability of actually causing flooding\n",
    "\n",
    "These return periods imply that under current climate conditions, the return period of the discharge severe enough to cause flooding of the U4 subway line is already more frequent than the 1000 year return period the Wien River was designed for. "
   ]
  },
  {
   "cell_type": "markdown",
   "id": "c39360bb-efa2-4d60-8809-ad21cd5fa958",
   "metadata": {},
   "source": [
    "### Future Frequency of Threshold Exceedance under Climate Change Scenarios"
   ]
  },
  {
   "cell_type": "markdown",
   "id": "de3e11c9-af2c-4d46-b325-e5bfbc0c5786",
   "metadata": {},
   "source": [
    "Use of the HBV model with CMIP data as input, shows that climate change scenarios have significant impact on the return periods of the discharge threshold value. The return periods for differenct climate change scenarios for a threshold value of 530 m3/s are determined:\n",
    "\n",
    "- **SSP119 (sustainability):** 697 years, with a model uncertainty ranging from 504 to 890 years\n",
    "- **SSP126 (sustainability):** 238 years, with a model uncertainty ranging from 172 to 292 years\n",
    "- **SSP2459 (middle of the road):** 191 years, with a model uncertainty ranging from 138 to 234 years\n",
    "- **SSP370 (regional rivalry):** 272 years, with a model uncertainty ranging from 197 to 334 years\n",
    "- **SSP585 (fossil-fueled development):** 235 years, with a model uncertainty ranging from 170 to 288 years\n",
    "\n"
   ]
  },
  {
   "cell_type": "markdown",
   "id": "f7746052-d11e-46a3-97c5-3e8b0e0a8206",
   "metadata": {},
   "source": [
    "## Interpretation of Results"
   ]
  },
  {
   "cell_type": "markdown",
   "id": "2d2cf302-d4fc-40ca-aa52-3b6614a8208e",
   "metadata": {},
   "source": [
    "If the return periods under the different climate change scenarios are compared to the current return period of the threshold value, it can be seen that only SSP119 results in a higher return period. The rest of the climate change scenarios all result in a lower return period and thus a higher frequency of flooding of the U4 subway line. "
   ]
  },
  {
   "cell_type": "markdown",
   "id": "d6bb4348-e2b9-4180-a136-5da953b51e8c",
   "metadata": {},
   "source": [
    "## Implications of Findings"
   ]
  },
  {
   "cell_type": "markdown",
   "id": "84051362-d110-4859-97a5-0b4beb4d4736",
   "metadata": {},
   "source": []
  },
  {
   "cell_type": "markdown",
   "id": "99778706-aa0c-468d-aed8-aaa4c365a47c",
   "metadata": {},
   "source": [
    "## Limitations"
   ]
  },
  {
   "cell_type": "markdown",
   "id": "8d5f7b6d-56d9-4871-9711-8204d40e2c92",
   "metadata": {},
   "source": [
    "- threshold values normal distributed, so flooding might happen at a lower discharge, but with a lower probability. or other way around\n",
    "- overestimating of peaks due to parameters and calibration and validation set\n",
    "- "
   ]
  },
  {
   "cell_type": "markdown",
   "id": "5a5eaa63-e916-4f02-8a12-21d175394dea",
   "metadata": {},
   "source": [
    "## Recommendations"
   ]
  },
  {
   "cell_type": "markdown",
   "id": "1eea2f5e-12bf-4a84-8efc-eafb774c1dc3",
   "metadata": {},
   "source": []
  },
  {
   "cell_type": "markdown",
   "id": "d34aface-f919-449e-8727-93dd6090a9c4",
   "metadata": {},
   "source": []
  }
 ],
 "metadata": {
  "kernelspec": {
   "display_name": "Python 3 (ipykernel)",
   "language": "python",
   "name": "python3"
  },
  "language_info": {
   "codemirror_mode": {
    "name": "ipython",
    "version": 3
   },
   "file_extension": ".py",
   "mimetype": "text/x-python",
   "name": "python",
   "nbconvert_exporter": "python",
   "pygments_lexer": "ipython3",
   "version": "3.12.7"
  }
 },
 "nbformat": 4,
 "nbformat_minor": 5
}
