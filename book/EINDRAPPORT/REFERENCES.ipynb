{
 "cells": [
  {
   "cell_type": "markdown",
   "id": "daeffc9d-ca4d-4f70-8d7a-925b2f9bf2fe",
   "metadata": {},
   "source": [
    "\\newpage"
   ]
  },
  {
   "cell_type": "markdown",
   "id": "69ca4158-1ec3-447a-996d-9edfed7299d5",
   "metadata": {},
   "source": [
    "# References\n",
    "Azote. (2025, 26 februari). CMIP - Coupled Model Intercomparison Project. Coupled Model Intercomparison Project. https://wcrp-cmip.org/ \n",
    "\n",
    "Bergström, S. (1992). THE HBV MODEL - its structure and applications. In SMHI REPORIS HYDROLOGY (p. 32). SMHI. \n",
    "\n",
    "Chen, E. (2023, 9 april). The Simplex Approach of the Nelder-Mead Algorithm - Ethan Chen - Medium. Medium. https://medium.com/%40ethanwchen/the-simplex-approach-of-the-nelder-mead-algorithm-c582556d8d84 \n",
    "\n",
    "ClimateData.ca. (2025, 28 februari). Understanding Shared Socio-economic Pathways (SSPs) — ClimateData.ca. https://climatedata.ca/resource/understanding-shared-socio-economic-pathways-ssps/#:~:text=Shared%20Socioeconomic%20Pathways%20are%20a,which%20drive%20fossil%20fuel%20use. \n",
    "\n",
    "Compton, K. L., Faber, R., Ermolieva, T. Y., Linnerooth-Bayer, J., & Nachtnebel, H.-P. (2009). Uncertainty and Disaster Risk Management Modeling the Flash Flood Risk to Vienna and Its Subway System (RR-09-002). International Institute for Applied Systems Analysis. \n",
    "\n",
    "Dore, M. H. I. (2005). Climate change and changes in global precipitation patterns: What do we know? Environment International, 31, 1167–1181. https://www.elsevier.com/locate/envint \n",
    "\n",
    "Faber, R. (2006). FLOOD RISK ANALYSIS: RESIDUAL RISKS AND UNCERTAINTIES IN AN AUSTRIAN CONTEXT (Door University of Natural Resources and Applied Life Sciences, Vienna). \n",
    "\n",
    "Faber, R., & Nachtnebel, H. P. (2002). Flood Risk Assessment in Urban Areas: Development and application of a stochastic hydraulic analysis method considering multiple failure types. In J. Linnerooth-Bayer (Ed.), Proceedings Second Annual IIASA-DPRI Meeting, Integrated Disaster Risk Management, Held On 29–31 July 2002, Laxenburg, Austria. \n",
    "\n",
    "Hrachowitz, M. (z.d.). TU Delft Course ENVM1502 - “River Basin Hydrology”. \n",
    "\n",
    "Krone.At. (2024a, september 15). “Landfall” in the city - Dramatic pictures: Vienna in the grip of the floods. Kronen. https://www.krone.at/3526665 \n",
    "\n",
    "Krone.At. (2024b, september 19). Vienna public transport balance sheet - Flood had “unprecedented impact on public transport”. Kronen. https://www.krone.at/3531234 \n",
    "\n",
    "Meinshausen, M., Nicholss, Z. R. J., Lewis, J., Gidden, M. J., Vogel, E., Freund, M., Beyerle, U., Gessner, C., Nauels, A., Bauer, N., Canadell, J. G., Daniel, J. S., John, A., Krummel, P. B., Luderer, G., Meinshausen, N., Montzka, S. A., Rayner, P. J., Reimann, S., . . . Wang, R. H. J. (2020). The SSP greenhouse gas concentrations and their extensions to 2500. In Geosci. Model Dev. (Vols. 13–13, pp. 3571–3605). https://doi.org/10.5194/gmd-13-3571-2020 Pollack, G., Gierlinger, S., Haidvogl, G., & Winiwarter, V. (2016). Using and abusing a torrential urban river: the Wien River before and during industrialization. Water History, 8(3), 329–355. https://doi.org/10.1007/s12685-016-0177-7 \n",
    "\n",
    "Wawrzyniak, T., Osuch, M., Nawrot, A., & Napiorkowski, J. J. (2017). Run-off modelling in an Arctic unglaciated catchment (Fuglebekken, Spitsbergen). Annals Of Glaciology, 58(75pt1), 36–46. https://doi.org/10.1017/aog.2017.8\n"
   ]
  },
  {
   "cell_type": "code",
   "execution_count": null,
   "id": "f3bafd90-09ee-41a5-9cf2-e99051c4413d",
   "metadata": {},
   "outputs": [],
   "source": []
  }
 ],
 "metadata": {
  "kernelspec": {
   "display_name": "Python 3 (ipykernel)",
   "language": "python",
   "name": "python3"
  },
  "language_info": {
   "codemirror_mode": {
    "name": "ipython",
    "version": 3
   },
   "file_extension": ".py",
   "mimetype": "text/x-python",
   "name": "python",
   "nbconvert_exporter": "python",
   "pygments_lexer": "ipython3",
   "version": "3.12.7"
  }
 },
 "nbformat": 4,
 "nbformat_minor": 5
}
