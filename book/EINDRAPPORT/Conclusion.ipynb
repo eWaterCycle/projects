{
 "cells": [
  {
   "cell_type": "markdown",
   "id": "8bd7b976-dab0-4408-a011-c18f6ac7efd8",
   "metadata": {},
   "source": [
    "\\newpage"
   ]
  },
  {
   "cell_type": "markdown",
   "id": "2a471a27-e82d-4875-811c-10022d4502f5",
   "metadata": {},
   "source": [
    "# Conclusion"
   ]
  },
  {
   "cell_type": "markdown",
   "id": "9b1ef1de-4bfd-4ae3-bdc2-76e825858d86",
   "metadata": {},
   "source": [
    "current return period is ...\n",
    "future return period is...\n",
    "it will flood more often\n",
    "advice to Wiener linien to ..."
   ]
  },
  {
   "cell_type": "code",
   "execution_count": null,
   "id": "2c5f43d4-771b-4e48-8cd9-f15057428661",
   "metadata": {},
   "outputs": [],
   "source": []
  }
 ],
 "metadata": {
  "kernelspec": {
   "display_name": "Python 3 (ipykernel)",
   "language": "python",
   "name": "python3"
  },
  "language_info": {
   "codemirror_mode": {
    "name": "ipython",
    "version": 3
   },
   "file_extension": ".py",
   "mimetype": "text/x-python",
   "name": "python",
   "nbconvert_exporter": "python",
   "pygments_lexer": "ipython3",
   "version": "3.12.7"
  }
 },
 "nbformat": 4,
 "nbformat_minor": 5
}
