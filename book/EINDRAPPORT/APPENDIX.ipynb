{
 "cells": [
  {
   "cell_type": "markdown",
   "id": "824e7e0e-08e3-49f4-9bc5-9aa127c84ac4",
   "metadata": {},
   "source": [
    "\\newpage"
   ]
  },
  {
   "cell_type": "markdown",
   "id": "283bb807-bcec-4995-a9bb-94000fe8acdc",
   "metadata": {},
   "source": [
    "# Appendix I: AI Prompts"
   ]
  },
  {
   "cell_type": "markdown",
   "id": "bf6f8f8f-a28a-408a-9af5-093ffa504dcd",
   "metadata": {},
   "source": []
  }
 ],
 "metadata": {
  "kernelspec": {
   "display_name": "Python 3 (ipykernel)",
   "language": "python",
   "name": "python3"
  },
  "language_info": {
   "codemirror_mode": {
    "name": "ipython",
    "version": 3
   },
   "file_extension": ".py",
   "mimetype": "text/x-python",
   "name": "python",
   "nbconvert_exporter": "python",
   "pygments_lexer": "ipython3",
   "version": "3.12.7"
  }
 },
 "nbformat": 4,
 "nbformat_minor": 5
}
