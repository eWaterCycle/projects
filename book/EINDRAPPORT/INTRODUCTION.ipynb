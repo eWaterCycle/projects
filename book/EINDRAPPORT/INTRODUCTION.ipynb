{
 "cells": [
  {
   "cell_type": "markdown",
   "id": "4cb626ca-44d5-4031-a1fe-7c9adf3d57a6",
   "metadata": {},
   "source": [
    "# Introduction"
   ]
  },
  {
   "cell_type": "markdown",
   "id": "7da6d82a-9b82-4bcd-8c63-a703ce4bd749",
   "metadata": {},
   "source": [
    "## Motivation"
   ]
  },
  {
   "cell_type": "markdown",
   "id": "ef43f6bd-2f37-479b-a93c-5bbfdf0ac8dd",
   "metadata": {},
   "source": [
    "Last September, the Wien River, normally a small trickle, swelled into a raging torrent, having a serious impact on public transport. Damage to the public transport was kept to a minimum thanks to the flood alarm plan, but still almost one-million litres of water had to be pumped out of the subway lines (Krone.At, 2024b). \\\n",
    "The Wien River is one of the largest rivers of Vienna and has a catchment area of 230 km2. Along a reach of over 8 km, the subway line U4 follows the river in an open section on the right bank. Flooding on the Wien River is critical due to its rapid onset and potential for severe damage. The large area of impervious surfaces in the catchment area make Wien River floodings typically flash floodings. The threat regarding flooding in Vienna is caused by large channel slopes and flow velocities, rapid increase of discharge and the absence of natural retention areas. Furthermore, the low hills and mountains in the area intensify storm events compared to plain areas through intensified convective air movement (Compton et al., 2009, pp. 13–14).\\\n",
    "Dore (2005) states in his article about climate change and changes in global precipitation patterns that due to climate change, precipitation is expected to increase in the Northern Hemisphere. The wet areas will get wetter, and the rainfall will get more intense. Changes in precipitation due to climate change may affect the water level and discharge of the Wien River, posing potential risks to the operation and safety of the adjacent U4 subway line."
   ]
  },
  {
   "cell_type": "markdown",
   "id": "03839f8e-63a2-4d2c-a635-1768943d662c",
   "metadata": {},
   "source": [
    "## Problem Analysis"
   ]
  },
  {
   "cell_type": "markdown",
   "id": "95faac33-51d3-4d1a-b49c-c3774bf42b52",
   "metadata": {},
   "source": [
    "Flood risk management is critical for urban resilience, especially in places where natural waters are closely linked to infrastructure. Compton et al. (2009) highlight in their study on uncertainty and disaster risk management how an approach based on catastrophe modelling can provide a useful framework for comparing different mitigation strategies as well as integrate the risk perspectives of different technical disciplines. For their study they use hydraulic models to obtain probability of failure for different storm return periods and states of the flood control reservoirs. \\\n",
    "This report will focus on flood risk as well but shifts the focus towards how the discharge and water levels in the Wien River will change due to climate change, influencing the flood risk for the U4 subway line. A Hydrological model forced with different climate change scenarios will be implemented to simulate the future discharge scenarios of the Wien River. The report will focus solely on changes in flood frequency due to climate change and excludes the current flood protection infrastructures and adaption measures these might require.\\\n",
    "This research will contribute to Vienna’s flood risk management and is relevant for the transportation authorities, policymakers and urban developers in Vienna who are seeking to make the city future-proof for increasing threats due to climate change.\n"
   ]
  },
  {
   "cell_type": "markdown",
   "id": "1476e99e-ab75-49dc-a7dd-546b62174942",
   "metadata": {},
   "source": [
    "## Objective"
   ]
  },
  {
   "cell_type": "markdown",
   "id": "4b2ac66a-a7ed-4bb8-ac8a-35c5da61de7f",
   "metadata": {},
   "source": [
    "In this report the following research question will be answered: “What is the impact of predicted climate change on the hydrology of the Wien River and what are the implications for flooding of the adjacent U4 subway line?” This is done using the following sub-questions:\\\n",
    "•\tWhat is the current maximum discharge (m3/s) in the Wien above which the U4 subway line will flood?\\\n",
    "•\tHow often does the discharge currently exceed the maximum?\\\n",
    "•\tHow often will the discharge exceed this maximum in the future under different climate change scenarios?\n"
   ]
  },
  {
   "cell_type": "markdown",
   "id": "85523614-973d-4b54-ab08-dea8e18d9d54",
   "metadata": {},
   "source": [
    "## Approach"
   ]
  },
  {
   "cell_type": "markdown",
   "id": "200dbcea-bb2f-4238-80b5-f85a3f437e1f",
   "metadata": {},
   "source": [
    "To determine the maximum discharge threshold for flooding of the U4, literature study needs to be done. Historical events, flood risk maps, research papers and monitoring stations need to be analysed. \\\n",
    "The current frequency at which the discharge exceeds this maximum can be determined using eWaterCycle. Past streamflow can be simulated with a hydrological model. The simulated discharge data then can be compared to the flood threshold determined before. The model should be calibrated using real-world data. The frequency of flooding of the U4 with current discharge data can be conducted with return period calculations. \\\n",
    "The future discharge can be simulated with the use of future climate projections. Climate models provided by CMIP6 will be used. Different IPCC scenarios give different projected climate variables which can be used in hydrological models using eWaterCycle to simulate future discharge. These modelled future discharge scenarios should be compared to the flood threshold to estimate the future frequency of exceedance for different climate change scenarios.  \n",
    "\n",
    "For this research I will use a model through the eWaterCycle platform. The eWaterCycle platform provides the hydrological community with models that can all be accessed in a similar manner, through the Jupyter notebook environment in eWaterCycle.\n"
   ]
  },
  {
   "cell_type": "markdown",
   "id": "620205e5-6c87-40ea-bb7b-0ad142280ac6",
   "metadata": {},
   "source": [
    "## Reading Guide"
   ]
  },
  {
   "cell_type": "markdown",
   "id": "32cc4248-e57f-444d-b857-84d4ff45253b",
   "metadata": {},
   "source": [
    "In Chapter 2 the current maximum discharge (m3/s) is determined above which the U4 subway line will flood. Chapter 3 determines how often the discharge currently exceeds this maximum using the observation data from eWaterCycle. In Chapter 4 the hydrological model is chosen and calibrated. In Chapter 5 different climate change scenarios are projected in hydrological models to simulate future discharge. These future discharge scenarios are compared to the flood threshold to estimate the future flooding frequency of the U4 subway line. The conclusion and discussion can be found in Chapter 6 and Chapter 7. "
   ]
  }
 ],
 "metadata": {
  "kernelspec": {
   "display_name": "Python 3 (ipykernel)",
   "language": "python",
   "name": "python3"
  },
  "language_info": {
   "codemirror_mode": {
    "name": "ipython",
    "version": 3
   },
   "file_extension": ".py",
   "mimetype": "text/x-python",
   "name": "python",
   "nbconvert_exporter": "python",
   "pygments_lexer": "ipython3",
   "version": "3.12.7"
  }
 },
 "nbformat": 4,
 "nbformat_minor": 5
}
