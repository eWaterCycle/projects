{
 "cells": [
  {
   "cell_type": "markdown",
   "id": "6439e7f4-4fc2-446a-a996-f664d114009d",
   "metadata": {},
   "source": [
    "\\newpage"
   ]
  },
  {
   "cell_type": "markdown",
   "id": "97fe0b23-0c45-4605-be3e-0e56a46a9638",
   "metadata": {},
   "source": [
    "\\section*{Abstract}\n",
    "Hier komt de abstracttekst...\n",
    "\\newpage"
   ]
  },
  {
   "cell_type": "markdown",
   "id": "705f6663-92a6-4a1c-93a7-ab5ce1010218",
   "metadata": {},
   "source": [
    "\\tableofcontents\n",
    "\\newpage"
   ]
  },
  {
   "cell_type": "markdown",
   "id": "54fbe879-b274-4ff7-9b13-59ad8cd93f81",
   "metadata": {},
   "source": [
    "\\pagenumbering{arabic}"
   ]
  },
  {
   "cell_type": "code",
   "execution_count": null,
   "id": "0c96f726-2678-4360-a8bf-927b0d9d726a",
   "metadata": {},
   "outputs": [],
   "source": []
  }
 ],
 "metadata": {
  "kernelspec": {
   "display_name": "Python 3 (ipykernel)",
   "language": "python",
   "name": "python3"
  },
  "language_info": {
   "codemirror_mode": {
    "name": "ipython",
    "version": 3
   },
   "file_extension": ".py",
   "mimetype": "text/x-python",
   "name": "python",
   "nbconvert_exporter": "python",
   "pygments_lexer": "ipython3",
   "version": "3.12.7"
  }
 },
 "nbformat": 4,
 "nbformat_minor": 5
}
