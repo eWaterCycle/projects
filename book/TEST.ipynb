{
 "cells": [
  {
   "cell_type": "code",
   "execution_count": 1,
   "id": "673cc46d-625f-434a-9447-deb281713b1d",
   "metadata": {},
   "outputs": [],
   "source": [
    "# hoi"
   ]
  },
  {
   "cell_type": "code",
   "execution_count": null,
   "id": "5ff0aabd-1f15-499d-bd4f-fd16004cf573",
   "metadata": {},
   "outputs": [],
   "source": []
  }
 ],
 "metadata": {
  "kernelspec": {
   "display_name": "Python 3 (ipykernel)",
   "language": "python",
   "name": "python3"
  },
  "language_info": {
   "codemirror_mode": {
    "name": "ipython",
    "version": 3
   },
   "file_extension": ".py",
   "mimetype": "text/x-python",
   "name": "python",
   "nbconvert_exporter": "python",
   "pygments_lexer": "ipython3",
   "version": "3.12.7"
  }
 },
 "nbformat": 4,
 "nbformat_minor": 5
}
